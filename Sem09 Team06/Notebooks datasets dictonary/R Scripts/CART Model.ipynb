{
 "cells": [
  {
   "cell_type": "markdown",
   "id": "03211824",
   "metadata": {},
   "source": [
    "# CART with original cleaned dataset"
   ]
  },
  {
   "cell_type": "code",
   "execution_count": null,
   "id": "21bc1cff",
   "metadata": {},
   "outputs": [],
   "source": [
    "install.packages('Metrics') \n",
    "install.packages('rpart.plot')\n",
    "install.packages(\"caTools\")\n",
    "install.packages(\"data.table\")\n",
    "install.packages('bit64')"
   ]
  },
  {
   "cell_type": "code",
   "execution_count": 96,
   "id": "2a1edcb3",
   "metadata": {},
   "outputs": [],
   "source": [
    "library(data.table)\n",
    "library(rpart)\n",
    "library(rpart.plot) \n",
    "library(caTools)\n",
    "library('Metrics')"
   ]
  },
  {
   "cell_type": "code",
   "execution_count": 97,
   "id": "2caebc10",
   "metadata": {},
   "outputs": [],
   "source": [
    "setwd('C:\\\\Users\\\\YI XUAN\\\\Desktop\\\\NTU\\\\AY2021-2022 SEM 1\\\\BC2406 Analytics I - Visual & Predictive Techniques\\\\AY21 Team Assignment and Project\\\\Sem09 Team06\\\\Notebooks datasets dictonary\\\\Noteb datasets dict')\n",
    "asia_dataset_cleaned <- fread('final_asia_dataset_cleaned.csv')"
   ]
  },
  {
   "cell_type": "code",
   "execution_count": 98,
   "id": "a9dca9f9",
   "metadata": {},
   "outputs": [
    {
     "data": {
      "text/plain": [
       "  Countries              Year        GDP_Growth       Market_Size    \n",
       " Length:150         Min.   :2010   Min.   :-0.1154   Min.   :  2439  \n",
       " Class :character   1st Qu.:2012   1st Qu.: 3.3457   1st Qu.:  5313  \n",
       " Mode  :character   Median :2014   Median : 5.2443   Median : 11227  \n",
       "                    Mean   :2014   Mean   : 5.0493   Mean   : 21163  \n",
       "                    3rd Qu.:2017   3rd Qu.: 6.7503   3rd Qu.: 32917  \n",
       "                    Max.   :2019   Max.   :14.5256   Max.   :102573  \n",
       "                                                                     \n",
       "    Life_Exp     Mean_Years_of_Schooling Internet_Penetration Gov_Indicator    \n",
       " Min.   :63.52   Min.   : 4.100          Min.   : 0.25        Min.   :-1.6733  \n",
       " 1st Qu.:70.20   1st Qu.: 6.500          1st Qu.:14.90        1st Qu.:-0.5788  \n",
       " Median :75.09   Median : 8.100          Median :41.00        Median :-0.3735  \n",
       " Mean   :74.71   Mean   : 8.752          Mean   :45.26        Mean   : 0.1507  \n",
       " 3rd Qu.:81.09   3rd Qu.:11.100          3rd Qu.:79.00        3rd Qu.: 1.5105  \n",
       " Max.   :84.36   Max.   :12.800          Max.   :93.18        Max.   : 2.3416  \n",
       "                                         NA's   :17                            \n",
       " Trade_Openness       Labour_Force   Domestic_credit_to_private_sector\n",
       " Min.   :  0.09946   Min.   :49.34   Min.   :  4.767                  \n",
       " 1st Qu.: 19.54148   1st Qu.:58.90   1st Qu.: 38.751                  \n",
       " Median : 24.01728   Median :64.92   Median : 98.552                  \n",
       " Mean   : 43.14824   Mean   :63.59   Mean   : 86.606                  \n",
       " 3rd Qu.: 65.12959   3rd Qu.:68.80   3rd Qu.:134.023                  \n",
       " Max.   :203.32770   Max.   :77.95   Max.   :176.828                  \n",
       "                                     NA's   :4                        \n",
       "   inflation            GNI             BoT           Child_Mortality \n",
       " Min.   :-0.9004   Min.   : 2640   Min.   :-12.0800   Min.   : 2.500  \n",
       " 1st Qu.: 1.6204   1st Qu.: 5175   1st Qu.: -5.3725   1st Qu.: 5.925  \n",
       " Median : 3.1772   Median :11085   Median : -0.0600   Median :12.750  \n",
       " Mean   : 3.9057   Mean   :20574   Mean   :  0.7383   Mean   :23.318  \n",
       " 3rd Qu.: 5.5513   3rd Qu.:31520   3rd Qu.:  2.6800   3rd Qu.:33.900  \n",
       " Max.   :18.6777   Max.   :90320   Max.   : 28.7800   Max.   :87.100  \n",
       "                                                                      \n",
       "      HDI         Pol_Stability          CPI         Urban_pop     \n",
       " Min.   :0.5120   Min.   :-2.8100   Min.   :15.0   Min.   :0.1820  \n",
       " 1st Qu.:0.6405   1st Qu.:-1.0869   1st Qu.:33.0   1st Qu.:0.3365  \n",
       " Median :0.7275   Median :-0.5093   Median :38.0   Median :0.4742  \n",
       " Mean   :0.7401   Mean   :-0.2935   Mean   :47.6   Mean   :0.5484  \n",
       " 3rd Qu.:0.8958   3rd Qu.: 0.8879   3rd Qu.:73.0   3rd Qu.:0.8538  \n",
       " Max.   :0.9440   Max.   : 1.6157   Max.   :91.0   Max.   :1.0000  \n",
       "                                    NA's   :30                     \n",
       "  Renew_Energy       CO2_emissions          ind_val_add    unemployment_rate\n",
       " Min.   :   0.7958   Min.   :   11891872   Min.   :17.80   Min.   :0.00210  \n",
       " 1st Qu.:  12.8458   1st Qu.:   54366432   1st Qu.:25.36   1st Qu.:0.02438  \n",
       " Median :  30.4842   Median :  211774129   Median :29.28   Median :0.03915  \n",
       " Mean   : 141.8047   Mean   : 1008787555   Mean   :30.52   Mean   :0.03546  \n",
       " 3rd Qu.:  57.4513   3rd Qu.:  428174280   3rd Qu.:36.32   3rd Qu.:0.04520  \n",
       " Max.   :2043.2580   Max.   :10200000000   Max.   :46.53   Max.   :0.06930  \n",
       " NA's   :10                                NA's   :2                        "
      ]
     },
     "metadata": {},
     "output_type": "display_data"
    }
   ],
   "source": [
    "summary(asia_dataset_cleaned)"
   ]
  },
  {
   "cell_type": "code",
   "execution_count": 99,
   "id": "af043406",
   "metadata": {},
   "outputs": [],
   "source": [
    "# Train-Test split\n",
    "\n",
    "set.seed(2014)\n",
    "\n",
    "trainasia <- sample.split(Y = asia_dataset_cleaned$GDP_Growth, SplitRatio = 0.70)\n",
    "\n",
    "trainsetasia <- subset(asia_dataset_cleaned, trainasia == T)\n",
    "\n",
    "testsetasia <- subset(asia_dataset_cleaned, trainasia == F)"
   ]
  },
  {
   "cell_type": "code",
   "execution_count": 100,
   "id": "3b264e56",
   "metadata": {},
   "outputs": [
    {
     "name": "stderr",
     "output_type": "stream",
     "text": [
      "Warning message:\n",
      "\"labs do not fit even at cex 0.15, there may be some overplotting\""
     ]
    },
    {
     "data": {
      "image/png": "[encoded data removed]",
      "text/plain": [
       "Plot with title \"Maximal Tree\""
      ]
     },
     "metadata": {},
     "output_type": "display_data"
    }
   ],
   "source": [
    "# Training the model\n",
    "cartmaxasia <- rpart(GDP_Growth ~ .-Countries - Year, data = trainsetasia, method = 'anova',\n",
    "                     control = rpart.control(minsplit = 2, cp = 0))\n",
    "\n",
    "# Grow to max tree\n",
    "rpart.plot(cartmaxasia, nn= T, main = \"Maximal Tree\")"
   ]
  },
  {
   "cell_type": "code",
   "execution_count": 101,
   "id": "4a951d3c",
   "metadata": {},
   "outputs": [
    {
     "name": "stdout",
     "output_type": "stream",
     "text": [
      "\n",
      "Regression tree:\n",
      "rpart(formula = GDP_Growth ~ . - Countries - Year, data = trainsetasia, \n",
      "    method = \"anova\", control = rpart.control(minsplit = 2, cp = 0))\n",
      "\n",
      "Variables actually used in tree construction:\n",
      " [1] Child_Mortality                   CO2_emissions                    \n",
      " [3] CPI                               Domestic_credit_to_private_sector\n",
      " [5] Gov_Indicator                     HDI                              \n",
      " [7] ind_val_add                       inflation                        \n",
      " [9] Internet_Penetration              Labour_Force                     \n",
      "[11] Life_Exp                          Market_Size                      \n",
      "[13] Mean_Years_of_Schooling           Pol_Stability                    \n",
      "[15] Renew_Energy                      Trade_Openness                   \n",
      "[17] unemployment_rate                \n",
      "\n",
      "Root node error: 598.52/105 = 5.7002\n",
      "\n",
      "n= 105 \n",
      "\n",
      "            CP nsplit  rel error  xerror    xstd\n",
      "1   3.5700e-01      0 1.0000e+00 1.01050 0.16958\n",
      "2   1.6039e-01      1 6.4300e-01 0.67832 0.15220\n",
      "3   1.2001e-01      2 4.8262e-01 0.63868 0.14390\n",
      "4   6.9140e-02      3 3.6261e-01 0.52323 0.13407\n",
      "5   2.4029e-02      5 2.2433e-01 0.41822 0.16074\n",
      "6   2.3788e-02      7 1.7627e-01 0.42023 0.16093\n",
      "7   2.0530e-02      8 1.5248e-01 0.43276 0.16106\n",
      "8   1.8301e-02      9 1.3196e-01 0.40279 0.13257\n",
      "9   1.0858e-02     10 1.1365e-01 0.35834 0.13140\n",
      "10  8.9392e-03     11 1.0280e-01 0.35984 0.13237\n",
      "11  8.6870e-03     12 9.3857e-02 0.36840 0.13297\n",
      "12  8.2934e-03     13 8.5170e-02 0.36993 0.13293\n",
      "13  7.6126e-03     14 7.6876e-02 0.37373 0.13314\n",
      "14  7.2038e-03     15 6.9264e-02 0.38209 0.13330\n",
      "15  5.6914e-03     16 6.2060e-02 0.35004 0.10391\n",
      "16  5.5765e-03     17 5.6368e-02 0.36202 0.10464\n",
      "17  3.8270e-03     18 5.0792e-02 0.35546 0.10468\n",
      "18  3.5882e-03     20 4.3138e-02 0.37942 0.10738\n",
      "19  3.3774e-03     21 3.9550e-02 0.38643 0.10987\n",
      "20  3.3373e-03     22 3.6172e-02 0.38641 0.10994\n",
      "21  2.5349e-03     23 3.2835e-02 0.38124 0.10998\n",
      "22  2.3251e-03     24 3.0300e-02 0.38142 0.11008\n",
      "23  2.3002e-03     25 2.7975e-02 0.38118 0.11008\n",
      "24  1.9020e-03     26 2.5675e-02 0.37329 0.10997\n",
      "25  1.6802e-03     27 2.3773e-02 0.37629 0.10990\n",
      "26  1.6687e-03     28 2.2093e-02 0.37514 0.10974\n",
      "27  1.4539e-03     30 1.8755e-02 0.37472 0.10975\n",
      "28  1.2607e-03     31 1.7301e-02 0.37017 0.10986\n",
      "29  1.1481e-03     32 1.6041e-02 0.36365 0.10963\n",
      "30  1.1299e-03     33 1.4892e-02 0.36124 0.10960\n",
      "31  1.0558e-03     34 1.3763e-02 0.36535 0.10965\n",
      "32  9.8703e-04     35 1.2707e-02 0.37407 0.12207\n",
      "33  9.8629e-04     36 1.1720e-02 0.37699 0.12213\n",
      "34  9.7879e-04     37 1.0733e-02 0.37699 0.12213\n",
      "35  9.4867e-04     38 9.7547e-03 0.37584 0.12211\n",
      "36  9.1062e-04     39 8.8060e-03 0.37602 0.12210\n",
      "37  8.1094e-04     40 7.8954e-03 0.37289 0.12205\n",
      "38  7.1211e-04     41 7.0844e-03 0.37196 0.12208\n",
      "39  6.0773e-04     42 6.3723e-03 0.36852 0.12207\n",
      "40  5.9802e-04     43 5.7646e-03 0.36985 0.12208\n",
      "41  5.6757e-04     44 5.1666e-03 0.36936 0.12210\n",
      "42  4.5804e-04     45 4.5990e-03 0.37131 0.12206\n",
      "43  4.4881e-04     46 4.1410e-03 0.36894 0.12212\n",
      "44  4.3054e-04     47 3.6922e-03 0.37309 0.12245\n",
      "45  3.6115e-04     48 3.2616e-03 0.37562 0.12256\n",
      "46  3.0890e-04     49 2.9005e-03 0.37772 0.12253\n",
      "47  2.7238e-04     50 2.5916e-03 0.37500 0.12233\n",
      "48  2.0503e-04     51 2.3192e-03 0.37289 0.12170\n",
      "49  1.9416e-04     52 2.1142e-03 0.37355 0.12171\n",
      "50  1.7768e-04     53 1.9200e-03 0.37413 0.12172\n",
      "51  1.7577e-04     54 1.7423e-03 0.37413 0.12172\n",
      "52  1.5170e-04     55 1.5666e-03 0.37465 0.12171\n",
      "53  1.5122e-04     56 1.4148e-03 0.37441 0.12171\n",
      "54  1.4975e-04     57 1.2636e-03 0.37441 0.12171\n",
      "55  1.0209e-04     58 1.1139e-03 0.37291 0.12165\n",
      "56  8.6405e-05     59 1.0118e-03 0.37225 0.12166\n",
      "57  7.5743e-05     60 9.2538e-04 0.37255 0.12165\n",
      "58  6.9745e-05     61 8.4964e-04 0.37255 0.12165\n",
      "59  6.8816e-05     62 7.7989e-04 0.37210 0.12166\n",
      "60  6.7228e-05     63 7.1107e-04 0.37185 0.12166\n",
      "61  6.3939e-05     64 6.4385e-04 0.37193 0.12166\n",
      "62  6.1883e-05     65 5.7991e-04 0.37189 0.12166\n",
      "63  4.4434e-05     66 5.1802e-04 0.37239 0.12160\n",
      "64  4.3601e-05     67 4.7359e-04 0.37352 0.12163\n",
      "65  3.5826e-05     68 4.2999e-04 0.37330 0.12163\n",
      "66  3.4382e-05     69 3.9416e-04 0.37387 0.12165\n",
      "67  3.3456e-05     70 3.5978e-04 0.37387 0.12165\n",
      "68  3.0103e-05     71 3.2632e-04 0.37387 0.12165\n",
      "69  2.8441e-05     72 2.9622e-04 0.37515 0.12166\n",
      "70  2.7805e-05     73 2.6778e-04 0.37540 0.12166\n",
      "71  2.6929e-05     74 2.3998e-04 0.37540 0.12166\n",
      "72  2.6658e-05     75 2.1305e-04 0.37540 0.12166\n",
      "73  2.4341e-05     76 1.8639e-04 0.37553 0.12165\n",
      "74  2.3168e-05     77 1.6205e-04 0.37548 0.12165\n",
      "75  1.8107e-05     78 1.3888e-04 0.37561 0.12165\n",
      "76  1.7404e-05     79 1.2077e-04 0.37439 0.12160\n",
      "77  1.7074e-05     80 1.0337e-04 0.37439 0.12160\n",
      "78  1.4768e-05     81 8.6295e-05 0.37447 0.12160\n",
      "79  1.2389e-05     82 7.1527e-05 0.37451 0.12159\n",
      "80  1.1642e-05     83 5.9138e-05 0.37449 0.12159\n",
      "81  9.4134e-06     84 4.7496e-05 0.37439 0.12159\n",
      "82  7.9555e-06     85 3.8083e-05 0.37439 0.12159\n",
      "83  6.4304e-06     86 3.0128e-05 0.37439 0.12159\n",
      "84  5.5833e-06     87 2.3697e-05 0.37433 0.12159\n",
      "85  4.1355e-06     88 1.8114e-05 0.37429 0.12159\n",
      "86  3.5461e-06     89 1.3978e-05 0.37425 0.12158\n",
      "87  2.8447e-06     90 1.0432e-05 0.37419 0.12158\n",
      "88  1.8811e-06     91 7.5876e-06 0.37411 0.12158\n",
      "89  1.7378e-06     92 5.7065e-06 0.37409 0.12158\n",
      "90  9.7814e-07     93 3.9687e-06 0.37397 0.12158\n",
      "91  8.3900e-07     94 2.9906e-06 0.37388 0.12158\n",
      "92  6.3365e-07     95 2.1516e-06 0.37388 0.12158\n",
      "93  4.7521e-07     96 1.5179e-06 0.37369 0.12152\n",
      "94  3.7787e-07     97 1.0427e-06 0.37369 0.12152\n",
      "95  2.1959e-07     98 6.6482e-07 0.37367 0.12152\n",
      "96  2.1644e-07     99 4.4523e-07 0.37369 0.12152\n",
      "97  1.1838e-07    100 2.2879e-07 0.37369 0.12152\n",
      "98  1.1033e-07    101 1.1041e-07 0.37369 0.12152\n",
      "99  8.7156e-11    102 8.7156e-11 0.37369 0.12152\n",
      "100 0.0000e+00    103 0.0000e+00 0.37369 0.12152\n"
     ]
    }
   ],
   "source": [
    "# View how the tree performs \n",
    "printcp(cartmaxasia)"
   ]
  },
  {
   "cell_type": "code",
   "execution_count": 102,
   "id": "ae8b3a86",
   "metadata": {},
   "outputs": [
    {
     "data": {
      "image/png": "[encoded data removed]",
      "text/plain": [
       "plot without title"
      ]
     },
     "metadata": {},
     "output_type": "display_data"
    }
   ],
   "source": [
    "# Visual representation of cross-validated error summary\n",
    "plotcp(cartmaxasia)"
   ]
  },
  {
   "cell_type": "code",
   "execution_count": 103,
   "id": "bcca0a8a",
   "metadata": {},
   "outputs": [
    {
     "data": {
      "text/html": [
       "0.0407595644265438"
      ],
      "text/latex": [
       "0.0407595644265438"
      ],
      "text/markdown": [
       "0.0407595644265438"
      ],
      "text/plain": [
       "[1] 0.04075956"
      ]
     },
     "metadata": {},
     "output_type": "display_data"
    }
   ],
   "source": [
    "# Automatic method to find optimal CP \n",
    "CVerror.cap <- cartmaxasia$cptable[which.min(cartmaxasia$cptable[,\"xerror\"]), \"xerror\"] + cartmaxasia$cptable[which.min(cartmaxasia$cptable[,\"xerror\"]), \"xstd\"]\n",
    "\n",
    "# Find the optimal CP region whose CV error is just below CVerror.cap in maximal tree m1.\n",
    "i <- 1; j<- 4\n",
    "while (cartmaxasia$cptable[i,j] > CVerror.cap) {\n",
    "  i <- i + 1\n",
    "}\n",
    "\n",
    "# Get geometric mean of the two identified CP values in the optimal region if optimal tree has at least one split.\n",
    "cp.opt = ifelse(i > 1, sqrt(cartmaxasia$cptable[i,1] * cartmaxasia$cptable[i-1,1]), 1)\n",
    "cp.opt"
   ]
  },
  {
   "cell_type": "code",
   "execution_count": 104,
   "id": "e6df04af",
   "metadata": {},
   "outputs": [
    {
     "data": {
      "image/png": "[encoded data removed]",
      "text/plain": [
       "Plot with title \"Optimal Tree\""
      ]
     },
     "metadata": {},
     "output_type": "display_data"
    }
   ],
   "source": [
    "# Prune the tree to optimal\n",
    "optcartasia <- prune(cartmaxasia, cp = cp.opt)\n",
    "rpart.plot(optcartasia, nn= T, main = \"Optimal Tree\")"
   ]
  },
  {
   "cell_type": "code",
   "execution_count": 105,
   "id": "f795ca37",
   "metadata": {},
   "outputs": [
    {
     "data": {
      "text/html": [
       "<dl class=dl-horizontal>\n",
       "\t<dt>Gov_Indicator</dt>\n",
       "\t\t<dd>251.308982771519</dd>\n",
       "\t<dt>Mean_Years_of_Schooling</dt>\n",
       "\t\t<dd>246.259525848374</dd>\n",
       "\t<dt>Child_Mortality</dt>\n",
       "\t\t<dd>245.86876952283</dd>\n",
       "\t<dt>GNI</dt>\n",
       "\t\t<dd>209.109702756369</dd>\n",
       "\t<dt>Market_Size</dt>\n",
       "\t\t<dd>209.109702756369</dd>\n",
       "\t<dt>Life_Exp</dt>\n",
       "\t\t<dd>179.482057444071</dd>\n",
       "\t<dt>unemployment_rate</dt>\n",
       "\t\t<dd>95.9938587162484</dd>\n",
       "\t<dt>HDI</dt>\n",
       "\t\t<dd>58.3768545548328</dd>\n",
       "\t<dt>ind_val_add</dt>\n",
       "\t\t<dd>38.3223131125624</dd>\n",
       "\t<dt>inflation</dt>\n",
       "\t\t<dd>31.997952905416</dd>\n",
       "\t<dt>Pol_Stability</dt>\n",
       "\t\t<dd>27.8707731727726</dd>\n",
       "\t<dt>BoT</dt>\n",
       "\t\t<dd>26.6648807810679</dd>\n",
       "\t<dt>Trade_Openness</dt>\n",
       "\t\t<dd>20.9030798795795</dd>\n",
       "\t<dt>Domestic_credit_to_private_sector</dt>\n",
       "\t\t<dd>10.4515399397897</dd>\n",
       "</dl>\n"
      ],
      "text/latex": [
       "\\begin{description*}\n",
       "\\item[Gov\\textbackslash{}\\_Indicator] 251.308982771519\n",
       "\\item[Mean\\textbackslash{}\\_Years\\textbackslash{}\\_of\\textbackslash{}\\_Schooling] 246.259525848374\n",
       "\\item[Child\\textbackslash{}\\_Mortality] 245.86876952283\n",
       "\\item[GNI] 209.109702756369\n",
       "\\item[Market\\textbackslash{}\\_Size] 209.109702756369\n",
       "\\item[Life\\textbackslash{}\\_Exp] 179.482057444071\n",
       "\\item[unemployment\\textbackslash{}\\_rate] 95.9938587162484\n",
       "\\item[HDI] 58.3768545548328\n",
       "\\item[ind\\textbackslash{}\\_val\\textbackslash{}\\_add] 38.3223131125624\n",
       "\\item[inflation] 31.997952905416\n",
       "\\item[Pol\\textbackslash{}\\_Stability] 27.8707731727726\n",
       "\\item[BoT] 26.6648807810679\n",
       "\\item[Trade\\textbackslash{}\\_Openness] 20.9030798795795\n",
       "\\item[Domestic\\textbackslash{}\\_credit\\textbackslash{}\\_to\\textbackslash{}\\_private\\textbackslash{}\\_sector] 10.4515399397897\n",
       "\\end{description*}\n"
      ],
      "text/markdown": [
       "Gov_Indicator\n",
       ":   251.308982771519Mean_Years_of_Schooling\n",
       ":   246.259525848374Child_Mortality\n",
       ":   245.86876952283GNI\n",
       ":   209.109702756369Market_Size\n",
       ":   209.109702756369Life_Exp\n",
       ":   179.482057444071unemployment_rate\n",
       ":   95.9938587162484HDI\n",
       ":   58.3768545548328ind_val_add\n",
       ":   38.3223131125624inflation\n",
       ":   31.997952905416Pol_Stability\n",
       ":   27.8707731727726BoT\n",
       ":   26.6648807810679Trade_Openness\n",
       ":   20.9030798795795Domestic_credit_to_private_sector\n",
       ":   10.4515399397897\n",
       "\n"
      ],
      "text/plain": [
       "                    Gov_Indicator           Mean_Years_of_Schooling \n",
       "                        251.30898                         246.25953 \n",
       "                  Child_Mortality                               GNI \n",
       "                        245.86877                         209.10970 \n",
       "                      Market_Size                          Life_Exp \n",
       "                        209.10970                         179.48206 \n",
       "                unemployment_rate                               HDI \n",
       "                         95.99386                          58.37685 \n",
       "                      ind_val_add                         inflation \n",
       "                         38.32231                          31.99795 \n",
       "                    Pol_Stability                               BoT \n",
       "                         27.87077                          26.66488 \n",
       "                   Trade_Openness Domestic_credit_to_private_sector \n",
       "                         20.90308                          10.45154 "
      ]
     },
     "metadata": {},
     "output_type": "display_data"
    },
    {
     "data": {
      "text/html": [
       "<dl class=dl-horizontal>\n",
       "\t<dt>Gov_Indicator</dt>\n",
       "\t\t<dd>15</dd>\n",
       "\t<dt>Mean_Years_of_Schooling</dt>\n",
       "\t\t<dd>15</dd>\n",
       "\t<dt>Child_Mortality</dt>\n",
       "\t\t<dd>15</dd>\n",
       "\t<dt>GNI</dt>\n",
       "\t\t<dd>13</dd>\n",
       "\t<dt>Market_Size</dt>\n",
       "\t\t<dd>13</dd>\n",
       "\t<dt>Life_Exp</dt>\n",
       "\t\t<dd>11</dd>\n",
       "\t<dt>unemployment_rate</dt>\n",
       "\t\t<dd>6</dd>\n",
       "\t<dt>HDI</dt>\n",
       "\t\t<dd>4</dd>\n",
       "\t<dt>ind_val_add</dt>\n",
       "\t\t<dd>2</dd>\n",
       "\t<dt>inflation</dt>\n",
       "\t\t<dd>2</dd>\n",
       "\t<dt>Pol_Stability</dt>\n",
       "\t\t<dd>2</dd>\n",
       "\t<dt>BoT</dt>\n",
       "\t\t<dd>2</dd>\n",
       "\t<dt>Trade_Openness</dt>\n",
       "\t\t<dd>1</dd>\n",
       "\t<dt>Domestic_credit_to_private_sector</dt>\n",
       "\t\t<dd>1</dd>\n",
       "</dl>\n"
      ],
      "text/latex": [
       "\\begin{description*}\n",
       "\\item[Gov\\textbackslash{}\\_Indicator] 15\n",
       "\\item[Mean\\textbackslash{}\\_Years\\textbackslash{}\\_of\\textbackslash{}\\_Schooling] 15\n",
       "\\item[Child\\textbackslash{}\\_Mortality] 15\n",
       "\\item[GNI] 13\n",
       "\\item[Market\\textbackslash{}\\_Size] 13\n",
       "\\item[Life\\textbackslash{}\\_Exp] 11\n",
       "\\item[unemployment\\textbackslash{}\\_rate] 6\n",
       "\\item[HDI] 4\n",
       "\\item[ind\\textbackslash{}\\_val\\textbackslash{}\\_add] 2\n",
       "\\item[inflation] 2\n",
       "\\item[Pol\\textbackslash{}\\_Stability] 2\n",
       "\\item[BoT] 2\n",
       "\\item[Trade\\textbackslash{}\\_Openness] 1\n",
       "\\item[Domestic\\textbackslash{}\\_credit\\textbackslash{}\\_to\\textbackslash{}\\_private\\textbackslash{}\\_sector] 1\n",
       "\\end{description*}\n"
      ],
      "text/markdown": [
       "Gov_Indicator\n",
       ":   15Mean_Years_of_Schooling\n",
       ":   15Child_Mortality\n",
       ":   15GNI\n",
       ":   13Market_Size\n",
       ":   13Life_Exp\n",
       ":   11unemployment_rate\n",
       ":   6HDI\n",
       ":   4ind_val_add\n",
       ":   2inflation\n",
       ":   2Pol_Stability\n",
       ":   2BoT\n",
       ":   2Trade_Openness\n",
       ":   1Domestic_credit_to_private_sector\n",
       ":   1\n",
       "\n"
      ],
      "text/plain": [
       "                    Gov_Indicator           Mean_Years_of_Schooling \n",
       "                               15                                15 \n",
       "                  Child_Mortality                               GNI \n",
       "                               15                                13 \n",
       "                      Market_Size                          Life_Exp \n",
       "                               13                                11 \n",
       "                unemployment_rate                               HDI \n",
       "                                6                                 4 \n",
       "                      ind_val_add                         inflation \n",
       "                                2                                 2 \n",
       "                    Pol_Stability                               BoT \n",
       "                                2                                 2 \n",
       "                   Trade_Openness Domestic_credit_to_private_sector \n",
       "                                1                                 1 "
      ]
     },
     "metadata": {},
     "output_type": "display_data"
    }
   ],
   "source": [
    "# Variable Importance\n",
    "optcartasia$variable.importance\n",
    "scaled_variable_importance = round((100*optcartasia$variable.importance/sum(optcartasia$variable.importance)))\n",
    "scaled_variable_importance"
   ]
  },
  {
   "cell_type": "code",
   "execution_count": 106,
   "id": "94d742bb",
   "metadata": {},
   "outputs": [
    {
     "data": {
      "text/html": [
       "1.13080479394047"
      ],
      "text/latex": [
       "1.13080479394047"
      ],
      "text/markdown": [
       "1.13080479394047"
      ],
      "text/plain": [
       "[1] 1.130805"
      ]
     },
     "metadata": {},
     "output_type": "display_data"
    },
    {
     "data": {
      "text/html": [
       "1.83891754935356"
      ],
      "text/latex": [
       "1.83891754935356"
      ],
      "text/markdown": [
       "1.83891754935356"
      ],
      "text/plain": [
       "[1] 1.838918"
      ]
     },
     "metadata": {},
     "output_type": "display_data"
    }
   ],
   "source": [
    "# Checking Accuracy \n",
    "cart.predicttest <- predict(optcartasia, newdata = testsetasia)\n",
    "cart.predicttrain <- predict(optcartasia, newdata = trainsetasia)\n",
    "\n",
    "rmse(cart.predicttrain, trainsetasia$GDP_Growth) #1.130805\n",
    "rmse(cart.predicttest, testsetasia$GDP_Growth) #1.838918"
   ]
  },
  {
   "cell_type": "markdown",
   "id": "24bb592d",
   "metadata": {},
   "source": [
    "# CART with no NA values"
   ]
  },
  {
   "cell_type": "code",
   "execution_count": 107,
   "id": "1a515900",
   "metadata": {},
   "outputs": [
    {
     "data": {
      "text/plain": [
       "  Countries              Year        GDP_Growth       Market_Size    \n",
       " Length:150         Min.   :2010   Min.   :-0.1154   Min.   :  2439  \n",
       " Class :character   1st Qu.:2012   1st Qu.: 3.3457   1st Qu.:  5313  \n",
       " Mode  :character   Median :2014   Median : 5.2443   Median : 11227  \n",
       "                    Mean   :2014   Mean   : 5.0493   Mean   : 21163  \n",
       "                    3rd Qu.:2017   3rd Qu.: 6.7503   3rd Qu.: 32917  \n",
       "                    Max.   :2019   Max.   :14.5256   Max.   :102573  \n",
       "                                                                     \n",
       "    Life_Exp     Mean_Years_of_Schooling Internet_Penetration Gov_Indicator    \n",
       " Min.   :63.52   Min.   : 4.100          Min.   : 0.25        Min.   :-1.6733  \n",
       " 1st Qu.:70.20   1st Qu.: 6.500          1st Qu.:14.90        1st Qu.:-0.5788  \n",
       " Median :75.09   Median : 8.100          Median :41.00        Median :-0.3735  \n",
       " Mean   :74.71   Mean   : 8.752          Mean   :45.26        Mean   : 0.1507  \n",
       " 3rd Qu.:81.09   3rd Qu.:11.100          3rd Qu.:79.00        3rd Qu.: 1.5105  \n",
       " Max.   :84.36   Max.   :12.800          Max.   :93.18        Max.   : 2.3416  \n",
       "                                         NA's   :17                            \n",
       " Trade_Openness       Labour_Force   Domestic_credit_to_private_sector\n",
       " Min.   :  0.09946   Min.   :49.34   Min.   :  4.767                  \n",
       " 1st Qu.: 19.54148   1st Qu.:58.90   1st Qu.: 38.751                  \n",
       " Median : 24.01728   Median :64.92   Median : 98.552                  \n",
       " Mean   : 43.14824   Mean   :63.59   Mean   : 86.606                  \n",
       " 3rd Qu.: 65.12959   3rd Qu.:68.80   3rd Qu.:134.023                  \n",
       " Max.   :203.32770   Max.   :77.95   Max.   :176.828                  \n",
       "                                     NA's   :4                        \n",
       "   inflation            GNI             BoT           Child_Mortality \n",
       " Min.   :-0.9004   Min.   : 2640   Min.   :-12.0800   Min.   : 2.500  \n",
       " 1st Qu.: 1.6204   1st Qu.: 5175   1st Qu.: -5.3725   1st Qu.: 5.925  \n",
       " Median : 3.1772   Median :11085   Median : -0.0600   Median :12.750  \n",
       " Mean   : 3.9057   Mean   :20574   Mean   :  0.7383   Mean   :23.318  \n",
       " 3rd Qu.: 5.5513   3rd Qu.:31520   3rd Qu.:  2.6800   3rd Qu.:33.900  \n",
       " Max.   :18.6777   Max.   :90320   Max.   : 28.7800   Max.   :87.100  \n",
       "                                                                      \n",
       "      HDI         Pol_Stability          CPI         Urban_pop     \n",
       " Min.   :0.5120   Min.   :-2.8100   Min.   :15.0   Min.   :0.1820  \n",
       " 1st Qu.:0.6405   1st Qu.:-1.0869   1st Qu.:33.0   1st Qu.:0.3365  \n",
       " Median :0.7275   Median :-0.5093   Median :38.0   Median :0.4742  \n",
       " Mean   :0.7401   Mean   :-0.2935   Mean   :47.6   Mean   :0.5484  \n",
       " 3rd Qu.:0.8958   3rd Qu.: 0.8879   3rd Qu.:73.0   3rd Qu.:0.8538  \n",
       " Max.   :0.9440   Max.   : 1.6157   Max.   :91.0   Max.   :1.0000  \n",
       "                                    NA's   :30                     \n",
       "  Renew_Energy       CO2_emissions          ind_val_add    unemployment_rate\n",
       " Min.   :   0.7958   Min.   :   11891872   Min.   :17.80   Min.   :0.00210  \n",
       " 1st Qu.:  12.8458   1st Qu.:   54366432   1st Qu.:25.36   1st Qu.:0.02438  \n",
       " Median :  30.4842   Median :  211774129   Median :29.28   Median :0.03915  \n",
       " Mean   : 141.8047   Mean   : 1008787555   Mean   :30.52   Mean   :0.03546  \n",
       " 3rd Qu.:  57.4513   3rd Qu.:  428174280   3rd Qu.:36.32   3rd Qu.:0.04520  \n",
       " Max.   :2043.2580   Max.   :10200000000   Max.   :46.53   Max.   :0.06930  \n",
       " NA's   :10                                NA's   :2                        "
      ]
     },
     "metadata": {},
     "output_type": "display_data"
    }
   ],
   "source": [
    "asia_dataset_cleaned_na <- fread('final_asia_dataset_cleaned.csv')\n",
    "\n",
    "summary(asia_dataset_cleaned_na)"
   ]
  },
  {
   "cell_type": "code",
   "execution_count": 108,
   "id": "14006cdf",
   "metadata": {},
   "outputs": [
    {
     "data": {
      "text/html": [
       "<table>\n",
       "<thead><tr><th scope=col>Countries</th><th scope=col>Year</th><th scope=col>GDP_Growth</th><th scope=col>Market_Size</th><th scope=col>Life_Exp</th><th scope=col>Mean_Years_of_Schooling</th><th scope=col>Internet_Penetration</th><th scope=col>Gov_Indicator</th><th scope=col>Trade_Openness</th><th scope=col>Labour_Force</th><th scope=col>...</th><th scope=col>BoT</th><th scope=col>Child_Mortality</th><th scope=col>HDI</th><th scope=col>Pol_Stability</th><th scope=col>CPI</th><th scope=col>Urban_pop</th><th scope=col>Renew_Energy</th><th scope=col>CO2_emissions</th><th scope=col>ind_val_add</th><th scope=col>unemployment_rate</th></tr></thead>\n",
       "<tbody>\n",
       "\t<tr><td>Australia  </td><td>2019       </td><td> 2.160956  </td><td>52203.130  </td><td>82.90000   </td><td>12.7       </td><td>      NA   </td><td> 1.825413  </td><td> 24.110970 </td><td>65.93      </td><td>...        </td><td>  2.51     </td><td> 3.6       </td><td>0.944      </td><td> 0.9117457 </td><td>77         </td><td>0.86124    </td><td> 54.399850 </td><td> 411015667 </td><td>25.38245   </td><td>0.0516     </td></tr>\n",
       "\t<tr><td>Australia  </td><td>2018       </td><td> 2.949286  </td><td>50252.840  </td><td>82.74878   </td><td>12.7       </td><td>      NA   </td><td> 1.805214  </td><td> 21.821900 </td><td>65.65      </td><td>...        </td><td>  0.38     </td><td> 3.7       </td><td>0.943      </td><td> 0.9896040 </td><td>77         </td><td>0.86012    </td><td> 44.443000 </td><td> 415953947 </td><td>24.15897   </td><td>0.0530     </td></tr>\n",
       "\t<tr><td>Australia  </td><td>2011       </td><td> 2.462756  </td><td>41965.360  </td><td>81.89512   </td><td>12.7       </td><td>79.48770   </td><td> 2.044710  </td><td> 21.436420 </td><td>65.63      </td><td>...        </td><td>  0.97     </td><td> 4.5       </td><td>0.932      </td><td> 0.9357101 </td><td>NA         </td><td>0.85300    </td><td> 26.273000 </td><td> 404172757 </td><td>26.43613   </td><td>0.0508     </td></tr>\n",
       "\t<tr><td>Australia  </td><td>2010       </td><td> 2.067417  </td><td>39301.340  </td><td>81.69512   </td><td>12.6       </td><td>76.00000   </td><td> 2.032045  </td><td> 19.810010 </td><td>65.60      </td><td>...        </td><td> -1.03     </td><td> 4.8       </td><td>0.930      </td><td> 0.8888599 </td><td>NA         </td><td>0.85182    </td><td> 21.720000 </td><td> 405502799 </td><td>25.15142   </td><td>0.0521     </td></tr>\n",
       "\t<tr><td>Bangladesh </td><td>2011       </td><td> 6.464379  </td><td> 2620.834  </td><td>70.25600   </td><td> 5.7       </td><td> 4.50000   </td><td>-1.087300  </td><td> 19.922070 </td><td>56.85      </td><td>...        </td><td> -6.54     </td><td>46.1       </td><td>0.566      </td><td>-1.4047370 </td><td>NA         </td><td>0.31225    </td><td>  0.979676 </td><td>  56556344 </td><td>25.04530   </td><td>0.0371     </td></tr>\n",
       "\t<tr><td>Bangladesh </td><td>2010       </td><td> 5.571788  </td><td> 2439.070  </td><td>69.88100   </td><td> 5.3       </td><td> 3.70000   </td><td>-1.057410  </td><td> 16.024110 </td><td>56.92      </td><td>...        </td><td> -5.84     </td><td>48.7       </td><td>0.557      </td><td>-1.4257890 </td><td>NA         </td><td>0.30462    </td><td>  0.836591 </td><td>  53991553 </td><td>24.95648   </td><td>0.0338     </td></tr>\n",
       "\t<tr><td>China      </td><td>2011       </td><td> 9.550832  </td><td>10299.870  </td><td>74.70800   </td><td> 7.4       </td><td>38.30000   </td><td>-0.507090  </td><td> 26.568190 </td><td>71.06      </td><td>...        </td><td>  3.85     </td><td>14.6       </td><td>0.707      </td><td>-0.6020548 </td><td>NA         </td><td>0.50511    </td><td>766.200000 </td><td>9388199234 </td><td>46.52929   </td><td>0.0450     </td></tr>\n",
       "\t<tr><td>China      </td><td>2010       </td><td>10.635870  </td><td> 9253.765  </td><td>74.40900   </td><td> 7.3       </td><td>34.30000   </td><td>-0.561790  </td><td> 27.185330 </td><td>71.26      </td><td>...        </td><td>  5.03     </td><td>15.8       </td><td>0.699      </td><td>-0.6570607 </td><td>NA         </td><td>0.49226    </td><td>752.445000 </td><td>8500542695 </td><td>46.49783   </td><td>0.0450     </td></tr>\n",
       "\t<tr><td>India      </td><td>2011       </td><td> 5.241315  </td><td> 4493.669  </td><td>67.13000   </td><td> 5.3       </td><td>10.07000   </td><td>-0.536260  </td><td> 24.540410 </td><td>53.29      </td><td>...        </td><td> -5.42     </td><td>55.1       </td><td>0.588      </td><td>-1.3267950 </td><td>NA         </td><td>0.31276    </td><td>174.620800 </td><td>1766065040 </td><td>30.16168   </td><td>0.0565     </td></tr>\n",
       "\t<tr><td>India      </td><td>2010       </td><td> 8.497585  </td><td> 4236.744  </td><td>66.69300   </td><td> 5.4       </td><td> 7.50000   </td><td>-0.468240  </td><td> 22.400930 </td><td>54.21      </td><td>...        </td><td> -5.75     </td><td>58.2       </td><td>0.579      </td><td>-1.2779840 </td><td>NA         </td><td>0.30930    </td><td>145.823900 </td><td>1678478677 </td><td>30.72508   </td><td>0.0565     </td></tr>\n",
       "\t<tr><td>Indonesia  </td><td>2011       </td><td> 6.169784  </td><td> 9095.742  </td><td>69.54200   </td><td> 7.6       </td><td>12.28000   </td><td>-0.701850  </td><td> 26.327350 </td><td>67.27      </td><td>...        </td><td> -0.54     </td><td>32.6       </td><td>0.673      </td><td>-0.7701142 </td><td>NA         </td><td>0.50595    </td><td> 21.888000 </td><td> 508073307 </td><td>43.91342   </td><td>0.0515     </td></tr>\n",
       "\t<tr><td>Indonesia  </td><td>2010       </td><td> 6.223854  </td><td> 8505.748  </td><td>69.20500   </td><td> 7.4       </td><td>10.92000   </td><td>-0.751560  </td><td> 24.299030 </td><td>67.19      </td><td>...        </td><td> -0.35     </td><td>33.9       </td><td>0.665      </td><td>-0.8539162 </td><td>NA         </td><td>0.49914    </td><td> 26.738000 </td><td> 428174280 </td><td>42.77587   </td><td>0.0561     </td></tr>\n",
       "\t<tr><td>Japan      </td><td>2019       </td><td> 0.270309  </td><td>42197.250  </td><td>84.35634   </td><td>12.8       </td><td>92.73040   </td><td> 1.467200  </td><td> 17.550110 </td><td>62.36      </td><td>...        </td><td>  0.17     </td><td> 2.5       </td><td>0.919      </td><td> 1.0318470 </td><td>73         </td><td>0.91698    </td><td>225.537700 </td><td>1106664426 </td><td>      NA   </td><td>0.0240     </td></tr>\n",
       "\t<tr><td>Japan      </td><td>2011       </td><td>-0.115420  </td><td>35774.700  </td><td>82.59122   </td><td>11.8       </td><td>79.05411   </td><td> 1.561326  </td><td> 14.925000 </td><td>59.59      </td><td>...        </td><td> -2.58     </td><td> 3.2       </td><td>0.892      </td><td> 0.9950920 </td><td>NA         </td><td>0.91069    </td><td>146.116000 </td><td>1264155127 </td><td>26.88171   </td><td>0.0452     </td></tr>\n",
       "\t<tr><td>Japan      </td><td>2010       </td><td> 4.191739  </td><td>34986.990  </td><td>82.84268   </td><td>11.5       </td><td>78.21000   </td><td> 1.560917  </td><td> 15.036760 </td><td>60.08      </td><td>...        </td><td> -4.45     </td><td> 3.2       </td><td>0.887      </td><td> 0.8793532 </td><td>NA         </td><td>0.90812    </td><td>142.587000 </td><td>1214068556 </td><td>28.44461   </td><td>0.0510     </td></tr>\n",
       "\t<tr><td>Malaysia   </td><td>2011       </td><td> 5.293913  </td><td>21704.740  </td><td>74.68300   </td><td>10.1       </td><td>61.00000   </td><td> 0.029523  </td><td> 85.255440 </td><td>61.58      </td><td>...        </td><td> 15.57     </td><td> 8.0       </td><td>0.778      </td><td> 0.0774098 </td><td>NA         </td><td>0.71609    </td><td>  8.631000 </td><td> 217427462 </td><td>39.82427   </td><td>0.0305     </td></tr>\n",
       "\t<tr><td>Malaysia   </td><td>2010       </td><td> 7.424847  </td><td>20508.760  </td><td>74.49300   </td><td> 9.8       </td><td>56.30000   </td><td> 0.089305  </td><td> 86.930300 </td><td>60.37      </td><td>...        </td><td>  8.17     </td><td> 8.1       </td><td>0.772      </td><td> 0.1433521 </td><td>NA         </td><td>0.70912    </td><td>  7.427000 </td><td> 216537318 </td><td>40.49893   </td><td>0.0325     </td></tr>\n",
       "\t<tr><td>Myanmar    </td><td>2019       </td><td> 1.694424  </td><td> 5297.442  </td><td>67.13400   </td><td> 5.0       </td><td>      NA   </td><td>-0.614940  </td><td> 28.041560 </td><td>60.41      </td><td>...        </td><td>  4.04     </td><td>44.7       </td><td>0.583      </td><td>-1.3280670 </td><td>29         </td><td>0.30852    </td><td>        NA </td><td>  26231575 </td><td>35.89711   </td><td>0.0050     </td></tr>\n",
       "\t<tr><td>Myanmar    </td><td>2018       </td><td> 6.750460  </td><td> 5149.938  </td><td>66.86700   </td><td> 5.0       </td><td>      NA   </td><td>-0.580750  </td><td> 30.389750 </td><td>62.44      </td><td>...        </td><td>  0.09     </td><td>46.4       </td><td>0.579      </td><td>-1.2688530 </td><td>29         </td><td>0.30579    </td><td>        NA </td><td>  26095603 </td><td>37.96077   </td><td>0.0087     </td></tr>\n",
       "\t<tr><td>Myanmar    </td><td>2017       </td><td> 6.404977  </td><td> 4739.915  </td><td>66.55800   </td><td> 5.0       </td><td>23.62108   </td><td>-0.565290  </td><td> 28.359710 </td><td>62.19      </td><td>...        </td><td> -5.73     </td><td>48.1       </td><td>0.572      </td><td>-1.0848390 </td><td>30         </td><td>0.30322    </td><td>        NA </td><td>  23669759 </td><td>36.74277   </td><td>0.0156     </td></tr>\n",
       "\t<tr><td>Myanmar    </td><td>2016       </td><td> 5.750065  </td><td> 4492.021  </td><td>66.20500   </td><td> 4.9       </td><td>      NA   </td><td>-0.621010  </td><td> 25.942730 </td><td>63.85      </td><td>...        </td><td> -9.14     </td><td>49.9       </td><td>0.563      </td><td>-0.8046199 </td><td>28         </td><td>0.30082    </td><td>        NA </td><td>  25468783 </td><td>35.46916   </td><td>0.0114     </td></tr>\n",
       "\t<tr><td>Myanmar    </td><td>2015       </td><td> 6.992840  </td><td> 4416.547  </td><td>65.81000   </td><td> 4.9       </td><td>      NA   </td><td>-0.836280  </td><td> 22.975170 </td><td>65.55      </td><td>...        </td><td> -7.96     </td><td>51.8       </td><td>0.557      </td><td>-1.1650670 </td><td>22         </td><td>0.29858    </td><td>        NA </td><td>  22076366 </td><td>33.91247   </td><td>0.0077     </td></tr>\n",
       "\t<tr><td>Myanmar    </td><td>2014       </td><td> 7.990916  </td><td> 4245.806  </td><td>65.37800   </td><td> 4.8       </td><td>11.52000   </td><td>-0.882170  </td><td> 20.090400 </td><td>65.93      </td><td>...        </td><td> -2.08     </td><td>53.7       </td><td>0.550      </td><td>-1.0875810 </td><td>21         </td><td>0.29650    </td><td>        NA </td><td>  16169507 </td><td>34.48971   </td><td>0.0078     </td></tr>\n",
       "\t<tr><td>Myanmar    </td><td>2013       </td><td> 8.426001  </td><td> 4016.316  </td><td>64.92100   </td><td> 4.7       </td><td> 8.00000   </td><td>-0.999890  </td><td> 19.635100 </td><td>66.34      </td><td>...        </td><td>  0.69     </td><td>55.8       </td><td>0.543      </td><td>-1.1403720 </td><td>21         </td><td>0.29457    </td><td>        NA </td><td>  12936196 </td><td>32.36222   </td><td>0.0080     </td></tr>\n",
       "\t<tr><td>Myanmar    </td><td>2012       </td><td> 7.332670  </td><td> 3727.142  </td><td>64.45300   </td><td> 4.5       </td><td> 4.00000   </td><td>-1.063260  </td><td> 11.498360 </td><td>66.75      </td><td>...        </td><td>  0.61     </td><td>58.2       </td><td>0.533      </td><td>-0.9436750 </td><td>15         </td><td>0.29266    </td><td>        NA </td><td>  11891872 </td><td>32.37302   </td><td>0.0079     </td></tr>\n",
       "\t<tr><td>Myanmar    </td><td>2011       </td><td> 5.591482  </td><td> 3469.139  </td><td>63.98300   </td><td> 4.3       </td><td> 0.98000   </td><td>-1.586770  </td><td>  0.099465 </td><td>67.12      </td><td>...        </td><td>  1.11     </td><td>60.7       </td><td>0.526      </td><td>-1.1110980 </td><td>NA         </td><td>0.29075    </td><td>        NA </td><td>  15067867 </td><td>31.29165   </td><td>0.0079     </td></tr>\n",
       "\t<tr><td>Myanmar    </td><td>2010       </td><td> 9.634439  </td><td> 3243.000  </td><td>63.52500   </td><td> 4.1       </td><td> 0.25000   </td><td>-1.673340  </td><td> 19.588650 </td><td>67.42      </td><td>...        </td><td>  1.90     </td><td>63.4       </td><td>0.515      </td><td>-1.2859280 </td><td>NA         </td><td>0.28885    </td><td>        NA </td><td>  13083825 </td><td>26.46806   </td><td>0.0079     </td></tr>\n",
       "\t<tr><td>New Zealand</td><td>2019       </td><td> 1.633933  </td><td>45073.200  </td><td>81.70732   </td><td>12.8       </td><td>      NA   </td><td> 2.170174  </td><td> 26.986900 </td><td>69.60      </td><td>...        </td><td> -0.12     </td><td> 4.7       </td><td>0.931      </td><td> 1.4113020 </td><td>87         </td><td>0.86615    </td><td> 35.769240 </td><td>  36540963 </td><td>      NA   </td><td>0.0407     </td></tr>\n",
       "\t<tr><td>New Zealand</td><td>2018       </td><td> 3.205748  </td><td>43930.880  </td><td>81.85854   </td><td>12.7       </td><td>      NA   </td><td> 2.174655  </td><td> 27.592500 </td><td>70.01      </td><td>...        </td><td> -0.31     </td><td> 4.9       </td><td>0.928      </td><td> 1.5339050 </td><td>87         </td><td>0.86538    </td><td> 36.319000 </td><td>  35080341 </td><td>20.41986   </td><td>0.0430     </td></tr>\n",
       "\t<tr><td>New Zealand</td><td>2013       </td><td> 2.695784  </td><td>36242.620  </td><td>81.40732   </td><td>12.1       </td><td>82.78000   </td><td> 2.341601  </td><td> 28.813580 </td><td>67.57      </td><td>...        </td><td>  1.61     </td><td> 5.8       </td><td>0.914      </td><td> 1.4539270 </td><td>91         </td><td>0.86221    </td><td> 31.530000 </td><td>  35240937 </td><td>20.28755   </td><td>0.0577     </td></tr>\n",
       "\t<tr><td>New Zealand</td><td>2012       </td><td> 2.240641  </td><td>32988.610  </td><td>81.15610   </td><td>12.1       </td><td>81.64447   </td><td> 2.315760  </td><td> 28.859390 </td><td>67.33      </td><td>...        </td><td>  0.70     </td><td> 5.9       </td><td>0.911      </td><td> 1.3613660 </td><td>90         </td><td>0.86161    </td><td> 31.223000 </td><td>  36000433 </td><td>20.92336   </td><td>0.0693     </td></tr>\n",
       "\t<tr><td>New Zealand</td><td>2011       </td><td> 2.256737  </td><td>32701.380  </td><td>80.90488   </td><td>12.0       </td><td>81.23000   </td><td> 2.297591  </td><td> 30.395020 </td><td>67.52      </td><td>...        </td><td>  1.55     </td><td> 6.0       </td><td>0.909      </td><td> 1.3767310 </td><td>NA         </td><td>0.86100    </td><td> 33.233000 </td><td>  34249571 </td><td>20.99472   </td><td>0.0649     </td></tr>\n",
       "\t<tr><td>New Zealand</td><td>2010       </td><td> 1.527994  </td><td>31239.190  </td><td>80.70244   </td><td>12.0       </td><td>80.46000   </td><td> 2.338579  </td><td> 30.273630 </td><td>67.21      </td><td>...        </td><td>  2.30     </td><td> 6.1       </td><td>0.906      </td><td> 1.2364890 </td><td>NA         </td><td>0.86160    </td><td> 32.285000 </td><td>  34957784 </td><td>21.17565   </td><td>0.0656     </td></tr>\n",
       "\t<tr><td>Pakistan   </td><td>2011       </td><td> 2.748406  </td><td> 3993.559  </td><td>65.56200   </td><td> 4.8       </td><td> 8.00000   </td><td>-1.076280  </td><td> 13.966670 </td><td>51.53      </td><td>...        </td><td> -7.58     </td><td>85.0       </td><td>0.516      </td><td>-2.8100350 </td><td>NA         </td><td>0.35202    </td><td> 29.678000 </td><td> 154658545 </td><td>20.50179   </td><td>0.0080     </td></tr>\n",
       "\t<tr><td>Pakistan   </td><td>2010       </td><td> 1.606689  </td><td> 3890.291  </td><td>65.26400   </td><td> 4.7       </td><td> 8.00000   </td><td>-1.087690  </td><td> 13.516270 </td><td>51.55      </td><td>...        </td><td> -7.26     </td><td>87.1       </td><td>0.512      </td><td>-2.6759330 </td><td>NA         </td><td>0.34997    </td><td> 32.769000 </td><td> 154144709 </td><td>19.71948   </td><td>0.0065     </td></tr>\n",
       "\t<tr><td>Philippines</td><td>2018       </td><td> 6.341486  </td><td> 8720.607  </td><td>71.09500   </td><td> 9.4       </td><td>      NA   </td><td>-0.542230  </td><td> 30.213610 </td><td>59.58      </td><td>...        </td><td>-11.74     </td><td>28.0       </td><td>0.711      </td><td>-1.0920620 </td><td>36         </td><td>0.46907    </td><td> 22.660000 </td><td> 138924391 </td><td>30.56374   </td><td>0.0234     </td></tr>\n",
       "\t<tr><td>Philippines</td><td>2017       </td><td> 6.930988  </td><td> 8120.869  </td><td>70.95200   </td><td> 9.4       </td><td>      NA   </td><td>-0.476550  </td><td> 29.552290 </td><td>59.67      </td><td>...        </td><td> -9.06     </td><td>28.7       </td><td>0.708      </td><td>-1.1850800 </td><td>34         </td><td>0.46682    </td><td> 23.092000 </td><td> 134518537 </td><td>30.12655   </td><td>0.0255     </td></tr>\n",
       "\t<tr><td>Philippines</td><td>2016       </td><td> 7.149457  </td><td> 7703.762  </td><td>70.80200   </td><td> 9.3       </td><td>      NA   </td><td>-0.488120  </td><td> 26.673000 </td><td>62.23      </td><td>...        </td><td> -8.43     </td><td>29.3       </td><td>0.704      </td><td>-1.3798190 </td><td>35         </td><td>0.46475    </td><td> 21.898000 </td><td> 122236809 </td><td>30.28592   </td><td>0.0269     </td></tr>\n",
       "\t<tr><td>Philippines</td><td>2015       </td><td> 6.348310  </td><td> 7186.769  </td><td>70.64400   </td><td> 9.3       </td><td>      NA   </td><td>-0.453470  </td><td> 27.208060 </td><td>62.21      </td><td>...        </td><td> -4.73     </td><td>29.8       </td><td>0.701      </td><td>-0.8556625 </td><td>35         </td><td>0.46284    </td><td> 20.874000 </td><td> 112142487 </td><td>30.48195   </td><td>0.0307     </td></tr>\n",
       "\t<tr><td>Philippines</td><td>2014       </td><td> 6.347987  </td><td> 6960.901  </td><td>70.48100   </td><td> 9.2       </td><td>      NA   </td><td>-0.437020  </td><td> 27.354500 </td><td>62.81      </td><td>...        </td><td> -2.76     </td><td>30.2       </td><td>0.696      </td><td>-0.7138209 </td><td>38         </td><td>0.46093    </td><td> 19.719000 </td><td> 101182148 </td><td>31.04744   </td><td>0.0360     </td></tr>\n",
       "\t<tr><td>Philippines</td><td>2011       </td><td> 3.858233  </td><td> 5865.344  </td><td>69.98400   </td><td> 9.0       </td><td>29.00000   </td><td>-0.667100  </td><td> 29.105430 </td><td>62.90      </td><td>...        </td><td> -4.13     </td><td>31.3       </td><td>0.676      </td><td>-1.3921820 </td><td>NA         </td><td>0.45522    </td><td> 19.750000 </td><td>  83743662 </td><td>31.33868   </td><td>0.0359     </td></tr>\n",
       "\t<tr><td>Philippines</td><td>2010       </td><td> 7.334500  </td><td> 5626.281  </td><td>69.82300   </td><td> 8.9       </td><td>25.00000   </td><td>-0.760690  </td><td> 32.874830 </td><td>62.19      </td><td>...        </td><td> -5.05     </td><td>31.7       </td><td>0.671      </td><td>-1.6507600 </td><td>NA         </td><td>0.45332    </td><td> 17.744000 </td><td>  82951250 </td><td>32.33956   </td><td>0.0361     </td></tr>\n",
       "\t<tr><td>Singapore  </td><td>2011       </td><td> 6.337871  </td><td>80052.390  </td><td>81.74390   </td><td>11.1       </td><td>71.00000   </td><td> 2.109778  </td><td>203.327700 </td><td>69.12      </td><td>...        </td><td> 26.55     </td><td> 2.8       </td><td>0.913      </td><td> 1.1914220 </td><td>NA         </td><td>1.00000    </td><td>  1.213000 </td><td>  30271968 </td><td>25.26045   </td><td>0.0389     </td></tr>\n",
       "\t<tr><td>Singapore  </td><td>2010       </td><td>14.525640  </td><td>75294.360  </td><td>81.54146   </td><td>11.0       </td><td>71.00000   </td><td> 2.180155  </td><td>197.999000 </td><td>68.83      </td><td>...        </td><td> 18.60     </td><td> 2.8       </td><td>0.909      </td><td> 1.1694150 </td><td>NA         </td><td>1.00000    </td><td>  1.179000 </td><td>  56619792 </td><td>26.63664   </td><td>0.0412     </td></tr>\n",
       "\t<tr><td>Sri Lanka  </td><td>2013       </td><td> 3.395733  </td><td>10852.060  </td><td>75.97400   </td><td>10.9       </td><td>      NA   </td><td>-0.214750  </td><td> 20.320400 </td><td>54.85      </td><td>...        </td><td> -8.62     </td><td>10.0       </td><td>0.769      </td><td>-0.6128954 </td><td>37         </td><td>0.18198    </td><td>  7.130000 </td><td>  14678050 </td><td>29.16276   </td><td>0.0424     </td></tr>\n",
       "\t<tr><td>Sri Lanka  </td><td>2012       </td><td> 9.144572  </td><td>10315.180  </td><td>75.79600   </td><td>10.9       </td><td>      NA   </td><td>-0.236880  </td><td> 19.816480 </td><td>53.44      </td><td>...        </td><td>-11.86     </td><td>10.6       </td><td>0.766      </td><td>-0.7170792 </td><td>40         </td><td>0.18196    </td><td>  3.444000 </td><td>  15797950 </td><td>30.12628   </td><td>0.0388     </td></tr>\n",
       "\t<tr><td>Sri Lanka  </td><td>2011       </td><td> 8.404733  </td><td> 9007.734  </td><td>75.61400   </td><td>10.8       </td><td>      NA   </td><td>-0.393240  </td><td> 20.896840 </td><td>54.25      </td><td>...        </td><td>-11.01     </td><td>11.2       </td><td>0.760      </td><td>-0.7247714 </td><td>NA         </td><td>0.18211    </td><td>  4.714000 </td><td>  14886602 </td><td>27.99567   </td><td>0.0412     </td></tr>\n",
       "\t<tr><td>Sri Lanka  </td><td>2010       </td><td> 8.015967  </td><td> 8194.269  </td><td>75.43900   </td><td>10.8       </td><td>      NA   </td><td>-0.421460  </td><td> 19.552320 </td><td>54.64      </td><td>...        </td><td> -8.21     </td><td>11.6       </td><td>0.754      </td><td>-0.9429469 </td><td>NA         </td><td>0.18226    </td><td>  5.681000 </td><td>  13050301 </td><td>26.64415   </td><td>0.0478     </td></tr>\n",
       "\t<tr><td>Thailand   </td><td>2011       </td><td> 0.840132  </td><td>13519.130  </td><td>74.59300   </td><td> 7.5       </td><td>23.66993   </td><td>-0.323440  </td><td> 70.854910 </td><td>73.24      </td><td>...        </td><td>  0.00     </td><td>13.0       </td><td>0.733      </td><td>-1.1335340 </td><td>NA         </td><td>0.44698    </td><td> 12.473000 </td><td> 253800670 </td><td>37.98140   </td><td>0.0066     </td></tr>\n",
       "\t<tr><td>Thailand   </td><td>2010       </td><td> 7.513391  </td><td>13195.370  </td><td>74.18400   </td><td> 7.3       </td><td>22.40000   </td><td>-0.333950  </td><td> 66.486170 </td><td>71.71      </td><td>...        </td><td>  1.90     </td><td>13.6       </td><td>0.724      </td><td>-1.4427880 </td><td>NA         </td><td>0.43856    </td><td>  8.895000 </td><td> 256422255 </td><td>39.92173   </td><td>0.0062     </td></tr>\n",
       "\t<tr><td>Vietnam    </td><td>2011       </td><td> 6.240303  </td><td> 4523.253  </td><td>74.90400   </td><td> 7.6       </td><td>35.07000   </td><td>-0.607290  </td><td> 79.390870 </td><td>76.52      </td><td>...        </td><td>  8.07     </td><td>22.6       </td><td>0.671      </td><td> 0.1890884 </td><td>NA         </td><td>0.31080    </td><td> 40.664000 </td><td> 145047830 </td><td>32.24441   </td><td>0.0100     </td></tr>\n",
       "\t<tr><td>Vietnam    </td><td>2010       </td><td> 6.423238  </td><td> 4213.296  </td><td>74.83700   </td><td> 7.5       </td><td>30.65000   </td><td>-0.623740  </td><td> 72.002360 </td><td>76.29      </td><td>...        </td><td>  5.72     </td><td>22.9       </td><td>0.661      </td><td> 0.1484079 </td><td>NA         </td><td>0.30417    </td><td> 27.386000 </td><td> 136113090 </td><td>32.13189   </td><td>0.0111     </td></tr>\n",
       "</tbody>\n",
       "</table>\n"
      ],
      "text/latex": [
       "\\begin{tabular}{r|lllllllllllllllllllllll}\n",
       " Countries & Year & GDP\\_Growth & Market\\_Size & Life\\_Exp & Mean\\_Years\\_of\\_Schooling & Internet\\_Penetration & Gov\\_Indicator & Trade\\_Openness & Labour\\_Force & ... & BoT & Child\\_Mortality & HDI & Pol\\_Stability & CPI & Urban\\_pop & Renew\\_Energy & CO2\\_emissions & ind\\_val\\_add & unemployment\\_rate\\\\\n",
       "\\hline\n",
       "\t Australia   & 2019        &  2.160956   & 52203.130   & 82.90000    & 12.7        &       NA    &  1.825413   &  24.110970  & 65.93       & ...         &   2.51      &  3.6        & 0.944       &  0.9117457  & 77          & 0.86124     &  54.399850  &  411015667  & 25.38245    & 0.0516     \\\\\n",
       "\t Australia   & 2018        &  2.949286   & 50252.840   & 82.74878    & 12.7        &       NA    &  1.805214   &  21.821900  & 65.65       & ...         &   0.38      &  3.7        & 0.943       &  0.9896040  & 77          & 0.86012     &  44.443000  &  415953947  & 24.15897    & 0.0530     \\\\\n",
       "\t Australia   & 2011        &  2.462756   & 41965.360   & 81.89512    & 12.7        & 79.48770    &  2.044710   &  21.436420  & 65.63       & ...         &   0.97      &  4.5        & 0.932       &  0.9357101  & NA          & 0.85300     &  26.273000  &  404172757  & 26.43613    & 0.0508     \\\\\n",
       "\t Australia   & 2010        &  2.067417   & 39301.340   & 81.69512    & 12.6        & 76.00000    &  2.032045   &  19.810010  & 65.60       & ...         &  -1.03      &  4.8        & 0.930       &  0.8888599  & NA          & 0.85182     &  21.720000  &  405502799  & 25.15142    & 0.0521     \\\\\n",
       "\t Bangladesh  & 2011        &  6.464379   &  2620.834   & 70.25600    &  5.7        &  4.50000    & -1.087300   &  19.922070  & 56.85       & ...         &  -6.54      & 46.1        & 0.566       & -1.4047370  & NA          & 0.31225     &   0.979676  &   56556344  & 25.04530    & 0.0371     \\\\\n",
       "\t Bangladesh  & 2010        &  5.571788   &  2439.070   & 69.88100    &  5.3        &  3.70000    & -1.057410   &  16.024110  & 56.92       & ...         &  -5.84      & 48.7        & 0.557       & -1.4257890  & NA          & 0.30462     &   0.836591  &   53991553  & 24.95648    & 0.0338     \\\\\n",
       "\t China       & 2011        &  9.550832   & 10299.870   & 74.70800    &  7.4        & 38.30000    & -0.507090   &  26.568190  & 71.06       & ...         &   3.85      & 14.6        & 0.707       & -0.6020548  & NA          & 0.50511     & 766.200000  & 9388199234  & 46.52929    & 0.0450     \\\\\n",
       "\t China       & 2010        & 10.635870   &  9253.765   & 74.40900    &  7.3        & 34.30000    & -0.561790   &  27.185330  & 71.26       & ...         &   5.03      & 15.8        & 0.699       & -0.6570607  & NA          & 0.49226     & 752.445000  & 8500542695  & 46.49783    & 0.0450     \\\\\n",
       "\t India       & 2011        &  5.241315   &  4493.669   & 67.13000    &  5.3        & 10.07000    & -0.536260   &  24.540410  & 53.29       & ...         &  -5.42      & 55.1        & 0.588       & -1.3267950  & NA          & 0.31276     & 174.620800  & 1766065040  & 30.16168    & 0.0565     \\\\\n",
       "\t India       & 2010        &  8.497585   &  4236.744   & 66.69300    &  5.4        &  7.50000    & -0.468240   &  22.400930  & 54.21       & ...         &  -5.75      & 58.2        & 0.579       & -1.2779840  & NA          & 0.30930     & 145.823900  & 1678478677  & 30.72508    & 0.0565     \\\\\n",
       "\t Indonesia   & 2011        &  6.169784   &  9095.742   & 69.54200    &  7.6        & 12.28000    & -0.701850   &  26.327350  & 67.27       & ...         &  -0.54      & 32.6        & 0.673       & -0.7701142  & NA          & 0.50595     &  21.888000  &  508073307  & 43.91342    & 0.0515     \\\\\n",
       "\t Indonesia   & 2010        &  6.223854   &  8505.748   & 69.20500    &  7.4        & 10.92000    & -0.751560   &  24.299030  & 67.19       & ...         &  -0.35      & 33.9        & 0.665       & -0.8539162  & NA          & 0.49914     &  26.738000  &  428174280  & 42.77587    & 0.0561     \\\\\n",
       "\t Japan       & 2019        &  0.270309   & 42197.250   & 84.35634    & 12.8        & 92.73040    &  1.467200   &  17.550110  & 62.36       & ...         &   0.17      &  2.5        & 0.919       &  1.0318470  & 73          & 0.91698     & 225.537700  & 1106664426  &       NA    & 0.0240     \\\\\n",
       "\t Japan       & 2011        & -0.115420   & 35774.700   & 82.59122    & 11.8        & 79.05411    &  1.561326   &  14.925000  & 59.59       & ...         &  -2.58      &  3.2        & 0.892       &  0.9950920  & NA          & 0.91069     & 146.116000  & 1264155127  & 26.88171    & 0.0452     \\\\\n",
       "\t Japan       & 2010        &  4.191739   & 34986.990   & 82.84268    & 11.5        & 78.21000    &  1.560917   &  15.036760  & 60.08       & ...         &  -4.45      &  3.2        & 0.887       &  0.8793532  & NA          & 0.90812     & 142.587000  & 1214068556  & 28.44461    & 0.0510     \\\\\n",
       "\t Malaysia    & 2011        &  5.293913   & 21704.740   & 74.68300    & 10.1        & 61.00000    &  0.029523   &  85.255440  & 61.58       & ...         &  15.57      &  8.0        & 0.778       &  0.0774098  & NA          & 0.71609     &   8.631000  &  217427462  & 39.82427    & 0.0305     \\\\\n",
       "\t Malaysia    & 2010        &  7.424847   & 20508.760   & 74.49300    &  9.8        & 56.30000    &  0.089305   &  86.930300  & 60.37       & ...         &   8.17      &  8.1        & 0.772       &  0.1433521  & NA          & 0.70912     &   7.427000  &  216537318  & 40.49893    & 0.0325     \\\\\n",
       "\t Myanmar     & 2019        &  1.694424   &  5297.442   & 67.13400    &  5.0        &       NA    & -0.614940   &  28.041560  & 60.41       & ...         &   4.04      & 44.7        & 0.583       & -1.3280670  & 29          & 0.30852     &         NA  &   26231575  & 35.89711    & 0.0050     \\\\\n",
       "\t Myanmar     & 2018        &  6.750460   &  5149.938   & 66.86700    &  5.0        &       NA    & -0.580750   &  30.389750  & 62.44       & ...         &   0.09      & 46.4        & 0.579       & -1.2688530  & 29          & 0.30579     &         NA  &   26095603  & 37.96077    & 0.0087     \\\\\n",
       "\t Myanmar     & 2017        &  6.404977   &  4739.915   & 66.55800    &  5.0        & 23.62108    & -0.565290   &  28.359710  & 62.19       & ...         &  -5.73      & 48.1        & 0.572       & -1.0848390  & 30          & 0.30322     &         NA  &   23669759  & 36.74277    & 0.0156     \\\\\n",
       "\t Myanmar     & 2016        &  5.750065   &  4492.021   & 66.20500    &  4.9        &       NA    & -0.621010   &  25.942730  & 63.85       & ...         &  -9.14      & 49.9        & 0.563       & -0.8046199  & 28          & 0.30082     &         NA  &   25468783  & 35.46916    & 0.0114     \\\\\n",
       "\t Myanmar     & 2015        &  6.992840   &  4416.547   & 65.81000    &  4.9        &       NA    & -0.836280   &  22.975170  & 65.55       & ...         &  -7.96      & 51.8        & 0.557       & -1.1650670  & 22          & 0.29858     &         NA  &   22076366  & 33.91247    & 0.0077     \\\\\n",
       "\t Myanmar     & 2014        &  7.990916   &  4245.806   & 65.37800    &  4.8        & 11.52000    & -0.882170   &  20.090400  & 65.93       & ...         &  -2.08      & 53.7        & 0.550       & -1.0875810  & 21          & 0.29650     &         NA  &   16169507  & 34.48971    & 0.0078     \\\\\n",
       "\t Myanmar     & 2013        &  8.426001   &  4016.316   & 64.92100    &  4.7        &  8.00000    & -0.999890   &  19.635100  & 66.34       & ...         &   0.69      & 55.8        & 0.543       & -1.1403720  & 21          & 0.29457     &         NA  &   12936196  & 32.36222    & 0.0080     \\\\\n",
       "\t Myanmar     & 2012        &  7.332670   &  3727.142   & 64.45300    &  4.5        &  4.00000    & -1.063260   &  11.498360  & 66.75       & ...         &   0.61      & 58.2        & 0.533       & -0.9436750  & 15          & 0.29266     &         NA  &   11891872  & 32.37302    & 0.0079     \\\\\n",
       "\t Myanmar     & 2011        &  5.591482   &  3469.139   & 63.98300    &  4.3        &  0.98000    & -1.586770   &   0.099465  & 67.12       & ...         &   1.11      & 60.7        & 0.526       & -1.1110980  & NA          & 0.29075     &         NA  &   15067867  & 31.29165    & 0.0079     \\\\\n",
       "\t Myanmar     & 2010        &  9.634439   &  3243.000   & 63.52500    &  4.1        &  0.25000    & -1.673340   &  19.588650  & 67.42       & ...         &   1.90      & 63.4        & 0.515       & -1.2859280  & NA          & 0.28885     &         NA  &   13083825  & 26.46806    & 0.0079     \\\\\n",
       "\t New Zealand & 2019        &  1.633933   & 45073.200   & 81.70732    & 12.8        &       NA    &  2.170174   &  26.986900  & 69.60       & ...         &  -0.12      &  4.7        & 0.931       &  1.4113020  & 87          & 0.86615     &  35.769240  &   36540963  &       NA    & 0.0407     \\\\\n",
       "\t New Zealand & 2018        &  3.205748   & 43930.880   & 81.85854    & 12.7        &       NA    &  2.174655   &  27.592500  & 70.01       & ...         &  -0.31      &  4.9        & 0.928       &  1.5339050  & 87          & 0.86538     &  36.319000  &   35080341  & 20.41986    & 0.0430     \\\\\n",
       "\t New Zealand & 2013        &  2.695784   & 36242.620   & 81.40732    & 12.1        & 82.78000    &  2.341601   &  28.813580  & 67.57       & ...         &   1.61      &  5.8        & 0.914       &  1.4539270  & 91          & 0.86221     &  31.530000  &   35240937  & 20.28755    & 0.0577     \\\\\n",
       "\t New Zealand & 2012        &  2.240641   & 32988.610   & 81.15610    & 12.1        & 81.64447    &  2.315760   &  28.859390  & 67.33       & ...         &   0.70      &  5.9        & 0.911       &  1.3613660  & 90          & 0.86161     &  31.223000  &   36000433  & 20.92336    & 0.0693     \\\\\n",
       "\t New Zealand & 2011        &  2.256737   & 32701.380   & 80.90488    & 12.0        & 81.23000    &  2.297591   &  30.395020  & 67.52       & ...         &   1.55      &  6.0        & 0.909       &  1.3767310  & NA          & 0.86100     &  33.233000  &   34249571  & 20.99472    & 0.0649     \\\\\n",
       "\t New Zealand & 2010        &  1.527994   & 31239.190   & 80.70244    & 12.0        & 80.46000    &  2.338579   &  30.273630  & 67.21       & ...         &   2.30      &  6.1        & 0.906       &  1.2364890  & NA          & 0.86160     &  32.285000  &   34957784  & 21.17565    & 0.0656     \\\\\n",
       "\t Pakistan    & 2011        &  2.748406   &  3993.559   & 65.56200    &  4.8        &  8.00000    & -1.076280   &  13.966670  & 51.53       & ...         &  -7.58      & 85.0        & 0.516       & -2.8100350  & NA          & 0.35202     &  29.678000  &  154658545  & 20.50179    & 0.0080     \\\\\n",
       "\t Pakistan    & 2010        &  1.606689   &  3890.291   & 65.26400    &  4.7        &  8.00000    & -1.087690   &  13.516270  & 51.55       & ...         &  -7.26      & 87.1        & 0.512       & -2.6759330  & NA          & 0.34997     &  32.769000  &  154144709  & 19.71948    & 0.0065     \\\\\n",
       "\t Philippines & 2018        &  6.341486   &  8720.607   & 71.09500    &  9.4        &       NA    & -0.542230   &  30.213610  & 59.58       & ...         & -11.74      & 28.0        & 0.711       & -1.0920620  & 36          & 0.46907     &  22.660000  &  138924391  & 30.56374    & 0.0234     \\\\\n",
       "\t Philippines & 2017        &  6.930988   &  8120.869   & 70.95200    &  9.4        &       NA    & -0.476550   &  29.552290  & 59.67       & ...         &  -9.06      & 28.7        & 0.708       & -1.1850800  & 34          & 0.46682     &  23.092000  &  134518537  & 30.12655    & 0.0255     \\\\\n",
       "\t Philippines & 2016        &  7.149457   &  7703.762   & 70.80200    &  9.3        &       NA    & -0.488120   &  26.673000  & 62.23       & ...         &  -8.43      & 29.3        & 0.704       & -1.3798190  & 35          & 0.46475     &  21.898000  &  122236809  & 30.28592    & 0.0269     \\\\\n",
       "\t Philippines & 2015        &  6.348310   &  7186.769   & 70.64400    &  9.3        &       NA    & -0.453470   &  27.208060  & 62.21       & ...         &  -4.73      & 29.8        & 0.701       & -0.8556625  & 35          & 0.46284     &  20.874000  &  112142487  & 30.48195    & 0.0307     \\\\\n",
       "\t Philippines & 2014        &  6.347987   &  6960.901   & 70.48100    &  9.2        &       NA    & -0.437020   &  27.354500  & 62.81       & ...         &  -2.76      & 30.2        & 0.696       & -0.7138209  & 38          & 0.46093     &  19.719000  &  101182148  & 31.04744    & 0.0360     \\\\\n",
       "\t Philippines & 2011        &  3.858233   &  5865.344   & 69.98400    &  9.0        & 29.00000    & -0.667100   &  29.105430  & 62.90       & ...         &  -4.13      & 31.3        & 0.676       & -1.3921820  & NA          & 0.45522     &  19.750000  &   83743662  & 31.33868    & 0.0359     \\\\\n",
       "\t Philippines & 2010        &  7.334500   &  5626.281   & 69.82300    &  8.9        & 25.00000    & -0.760690   &  32.874830  & 62.19       & ...         &  -5.05      & 31.7        & 0.671       & -1.6507600  & NA          & 0.45332     &  17.744000  &   82951250  & 32.33956    & 0.0361     \\\\\n",
       "\t Singapore   & 2011        &  6.337871   & 80052.390   & 81.74390    & 11.1        & 71.00000    &  2.109778   & 203.327700  & 69.12       & ...         &  26.55      &  2.8        & 0.913       &  1.1914220  & NA          & 1.00000     &   1.213000  &   30271968  & 25.26045    & 0.0389     \\\\\n",
       "\t Singapore   & 2010        & 14.525640   & 75294.360   & 81.54146    & 11.0        & 71.00000    &  2.180155   & 197.999000  & 68.83       & ...         &  18.60      &  2.8        & 0.909       &  1.1694150  & NA          & 1.00000     &   1.179000  &   56619792  & 26.63664    & 0.0412     \\\\\n",
       "\t Sri Lanka   & 2013        &  3.395733   & 10852.060   & 75.97400    & 10.9        &       NA    & -0.214750   &  20.320400  & 54.85       & ...         &  -8.62      & 10.0        & 0.769       & -0.6128954  & 37          & 0.18198     &   7.130000  &   14678050  & 29.16276    & 0.0424     \\\\\n",
       "\t Sri Lanka   & 2012        &  9.144572   & 10315.180   & 75.79600    & 10.9        &       NA    & -0.236880   &  19.816480  & 53.44       & ...         & -11.86      & 10.6        & 0.766       & -0.7170792  & 40          & 0.18196     &   3.444000  &   15797950  & 30.12628    & 0.0388     \\\\\n",
       "\t Sri Lanka   & 2011        &  8.404733   &  9007.734   & 75.61400    & 10.8        &       NA    & -0.393240   &  20.896840  & 54.25       & ...         & -11.01      & 11.2        & 0.760       & -0.7247714  & NA          & 0.18211     &   4.714000  &   14886602  & 27.99567    & 0.0412     \\\\\n",
       "\t Sri Lanka   & 2010        &  8.015967   &  8194.269   & 75.43900    & 10.8        &       NA    & -0.421460   &  19.552320  & 54.64       & ...         &  -8.21      & 11.6        & 0.754       & -0.9429469  & NA          & 0.18226     &   5.681000  &   13050301  & 26.64415    & 0.0478     \\\\\n",
       "\t Thailand    & 2011        &  0.840132   & 13519.130   & 74.59300    &  7.5        & 23.66993    & -0.323440   &  70.854910  & 73.24       & ...         &   0.00      & 13.0        & 0.733       & -1.1335340  & NA          & 0.44698     &  12.473000  &  253800670  & 37.98140    & 0.0066     \\\\\n",
       "\t Thailand    & 2010        &  7.513391   & 13195.370   & 74.18400    &  7.3        & 22.40000    & -0.333950   &  66.486170  & 71.71       & ...         &   1.90      & 13.6        & 0.724       & -1.4427880  & NA          & 0.43856     &   8.895000  &  256422255  & 39.92173    & 0.0062     \\\\\n",
       "\t Vietnam     & 2011        &  6.240303   &  4523.253   & 74.90400    &  7.6        & 35.07000    & -0.607290   &  79.390870  & 76.52       & ...         &   8.07      & 22.6        & 0.671       &  0.1890884  & NA          & 0.31080     &  40.664000  &  145047830  & 32.24441    & 0.0100     \\\\\n",
       "\t Vietnam     & 2010        &  6.423238   &  4213.296   & 74.83700    &  7.5        & 30.65000    & -0.623740   &  72.002360  & 76.29       & ...         &   5.72      & 22.9        & 0.661       &  0.1484079  & NA          & 0.30417     &  27.386000  &  136113090  & 32.13189    & 0.0111     \\\\\n",
       "\\end{tabular}\n"
      ],
      "text/markdown": [
       "\n",
       "| Countries | Year | GDP_Growth | Market_Size | Life_Exp | Mean_Years_of_Schooling | Internet_Penetration | Gov_Indicator | Trade_Openness | Labour_Force | ... | BoT | Child_Mortality | HDI | Pol_Stability | CPI | Urban_pop | Renew_Energy | CO2_emissions | ind_val_add | unemployment_rate |\n",
       "|---|---|---|---|---|---|---|---|---|---|---|---|---|---|---|---|---|---|---|---|---|\n",
       "| Australia   | 2019        |  2.160956   | 52203.130   | 82.90000    | 12.7        |       NA    |  1.825413   |  24.110970  | 65.93       | ...         |   2.51      |  3.6        | 0.944       |  0.9117457  | 77          | 0.86124     |  54.399850  |  411015667  | 25.38245    | 0.0516      |\n",
       "| Australia   | 2018        |  2.949286   | 50252.840   | 82.74878    | 12.7        |       NA    |  1.805214   |  21.821900  | 65.65       | ...         |   0.38      |  3.7        | 0.943       |  0.9896040  | 77          | 0.86012     |  44.443000  |  415953947  | 24.15897    | 0.0530      |\n",
       "| Australia   | 2011        |  2.462756   | 41965.360   | 81.89512    | 12.7        | 79.48770    |  2.044710   |  21.436420  | 65.63       | ...         |   0.97      |  4.5        | 0.932       |  0.9357101  | NA          | 0.85300     |  26.273000  |  404172757  | 26.43613    | 0.0508      |\n",
       "| Australia   | 2010        |  2.067417   | 39301.340   | 81.69512    | 12.6        | 76.00000    |  2.032045   |  19.810010  | 65.60       | ...         |  -1.03      |  4.8        | 0.930       |  0.8888599  | NA          | 0.85182     |  21.720000  |  405502799  | 25.15142    | 0.0521      |\n",
       "| Bangladesh  | 2011        |  6.464379   |  2620.834   | 70.25600    |  5.7        |  4.50000    | -1.087300   |  19.922070  | 56.85       | ...         |  -6.54      | 46.1        | 0.566       | -1.4047370  | NA          | 0.31225     |   0.979676  |   56556344  | 25.04530    | 0.0371      |\n",
       "| Bangladesh  | 2010        |  5.571788   |  2439.070   | 69.88100    |  5.3        |  3.70000    | -1.057410   |  16.024110  | 56.92       | ...         |  -5.84      | 48.7        | 0.557       | -1.4257890  | NA          | 0.30462     |   0.836591  |   53991553  | 24.95648    | 0.0338      |\n",
       "| China       | 2011        |  9.550832   | 10299.870   | 74.70800    |  7.4        | 38.30000    | -0.507090   |  26.568190  | 71.06       | ...         |   3.85      | 14.6        | 0.707       | -0.6020548  | NA          | 0.50511     | 766.200000  | 9388199234  | 46.52929    | 0.0450      |\n",
       "| China       | 2010        | 10.635870   |  9253.765   | 74.40900    |  7.3        | 34.30000    | -0.561790   |  27.185330  | 71.26       | ...         |   5.03      | 15.8        | 0.699       | -0.6570607  | NA          | 0.49226     | 752.445000  | 8500542695  | 46.49783    | 0.0450      |\n",
       "| India       | 2011        |  5.241315   |  4493.669   | 67.13000    |  5.3        | 10.07000    | -0.536260   |  24.540410  | 53.29       | ...         |  -5.42      | 55.1        | 0.588       | -1.3267950  | NA          | 0.31276     | 174.620800  | 1766065040  | 30.16168    | 0.0565      |\n",
       "| India       | 2010        |  8.497585   |  4236.744   | 66.69300    |  5.4        |  7.50000    | -0.468240   |  22.400930  | 54.21       | ...         |  -5.75      | 58.2        | 0.579       | -1.2779840  | NA          | 0.30930     | 145.823900  | 1678478677  | 30.72508    | 0.0565      |\n",
       "| Indonesia   | 2011        |  6.169784   |  9095.742   | 69.54200    |  7.6        | 12.28000    | -0.701850   |  26.327350  | 67.27       | ...         |  -0.54      | 32.6        | 0.673       | -0.7701142  | NA          | 0.50595     |  21.888000  |  508073307  | 43.91342    | 0.0515      |\n",
       "| Indonesia   | 2010        |  6.223854   |  8505.748   | 69.20500    |  7.4        | 10.92000    | -0.751560   |  24.299030  | 67.19       | ...         |  -0.35      | 33.9        | 0.665       | -0.8539162  | NA          | 0.49914     |  26.738000  |  428174280  | 42.77587    | 0.0561      |\n",
       "| Japan       | 2019        |  0.270309   | 42197.250   | 84.35634    | 12.8        | 92.73040    |  1.467200   |  17.550110  | 62.36       | ...         |   0.17      |  2.5        | 0.919       |  1.0318470  | 73          | 0.91698     | 225.537700  | 1106664426  |       NA    | 0.0240      |\n",
       "| Japan       | 2011        | -0.115420   | 35774.700   | 82.59122    | 11.8        | 79.05411    |  1.561326   |  14.925000  | 59.59       | ...         |  -2.58      |  3.2        | 0.892       |  0.9950920  | NA          | 0.91069     | 146.116000  | 1264155127  | 26.88171    | 0.0452      |\n",
       "| Japan       | 2010        |  4.191739   | 34986.990   | 82.84268    | 11.5        | 78.21000    |  1.560917   |  15.036760  | 60.08       | ...         |  -4.45      |  3.2        | 0.887       |  0.8793532  | NA          | 0.90812     | 142.587000  | 1214068556  | 28.44461    | 0.0510      |\n",
       "| Malaysia    | 2011        |  5.293913   | 21704.740   | 74.68300    | 10.1        | 61.00000    |  0.029523   |  85.255440  | 61.58       | ...         |  15.57      |  8.0        | 0.778       |  0.0774098  | NA          | 0.71609     |   8.631000  |  217427462  | 39.82427    | 0.0305      |\n",
       "| Malaysia    | 2010        |  7.424847   | 20508.760   | 74.49300    |  9.8        | 56.30000    |  0.089305   |  86.930300  | 60.37       | ...         |   8.17      |  8.1        | 0.772       |  0.1433521  | NA          | 0.70912     |   7.427000  |  216537318  | 40.49893    | 0.0325      |\n",
       "| Myanmar     | 2019        |  1.694424   |  5297.442   | 67.13400    |  5.0        |       NA    | -0.614940   |  28.041560  | 60.41       | ...         |   4.04      | 44.7        | 0.583       | -1.3280670  | 29          | 0.30852     |         NA  |   26231575  | 35.89711    | 0.0050      |\n",
       "| Myanmar     | 2018        |  6.750460   |  5149.938   | 66.86700    |  5.0        |       NA    | -0.580750   |  30.389750  | 62.44       | ...         |   0.09      | 46.4        | 0.579       | -1.2688530  | 29          | 0.30579     |         NA  |   26095603  | 37.96077    | 0.0087      |\n",
       "| Myanmar     | 2017        |  6.404977   |  4739.915   | 66.55800    |  5.0        | 23.62108    | -0.565290   |  28.359710  | 62.19       | ...         |  -5.73      | 48.1        | 0.572       | -1.0848390  | 30          | 0.30322     |         NA  |   23669759  | 36.74277    | 0.0156      |\n",
       "| Myanmar     | 2016        |  5.750065   |  4492.021   | 66.20500    |  4.9        |       NA    | -0.621010   |  25.942730  | 63.85       | ...         |  -9.14      | 49.9        | 0.563       | -0.8046199  | 28          | 0.30082     |         NA  |   25468783  | 35.46916    | 0.0114      |\n",
       "| Myanmar     | 2015        |  6.992840   |  4416.547   | 65.81000    |  4.9        |       NA    | -0.836280   |  22.975170  | 65.55       | ...         |  -7.96      | 51.8        | 0.557       | -1.1650670  | 22          | 0.29858     |         NA  |   22076366  | 33.91247    | 0.0077      |\n",
       "| Myanmar     | 2014        |  7.990916   |  4245.806   | 65.37800    |  4.8        | 11.52000    | -0.882170   |  20.090400  | 65.93       | ...         |  -2.08      | 53.7        | 0.550       | -1.0875810  | 21          | 0.29650     |         NA  |   16169507  | 34.48971    | 0.0078      |\n",
       "| Myanmar     | 2013        |  8.426001   |  4016.316   | 64.92100    |  4.7        |  8.00000    | -0.999890   |  19.635100  | 66.34       | ...         |   0.69      | 55.8        | 0.543       | -1.1403720  | 21          | 0.29457     |         NA  |   12936196  | 32.36222    | 0.0080      |\n",
       "| Myanmar     | 2012        |  7.332670   |  3727.142   | 64.45300    |  4.5        |  4.00000    | -1.063260   |  11.498360  | 66.75       | ...         |   0.61      | 58.2        | 0.533       | -0.9436750  | 15          | 0.29266     |         NA  |   11891872  | 32.37302    | 0.0079      |\n",
       "| Myanmar     | 2011        |  5.591482   |  3469.139   | 63.98300    |  4.3        |  0.98000    | -1.586770   |   0.099465  | 67.12       | ...         |   1.11      | 60.7        | 0.526       | -1.1110980  | NA          | 0.29075     |         NA  |   15067867  | 31.29165    | 0.0079      |\n",
       "| Myanmar     | 2010        |  9.634439   |  3243.000   | 63.52500    |  4.1        |  0.25000    | -1.673340   |  19.588650  | 67.42       | ...         |   1.90      | 63.4        | 0.515       | -1.2859280  | NA          | 0.28885     |         NA  |   13083825  | 26.46806    | 0.0079      |\n",
       "| New Zealand | 2019        |  1.633933   | 45073.200   | 81.70732    | 12.8        |       NA    |  2.170174   |  26.986900  | 69.60       | ...         |  -0.12      |  4.7        | 0.931       |  1.4113020  | 87          | 0.86615     |  35.769240  |   36540963  |       NA    | 0.0407      |\n",
       "| New Zealand | 2018        |  3.205748   | 43930.880   | 81.85854    | 12.7        |       NA    |  2.174655   |  27.592500  | 70.01       | ...         |  -0.31      |  4.9        | 0.928       |  1.5339050  | 87          | 0.86538     |  36.319000  |   35080341  | 20.41986    | 0.0430      |\n",
       "| New Zealand | 2013        |  2.695784   | 36242.620   | 81.40732    | 12.1        | 82.78000    |  2.341601   |  28.813580  | 67.57       | ...         |   1.61      |  5.8        | 0.914       |  1.4539270  | 91          | 0.86221     |  31.530000  |   35240937  | 20.28755    | 0.0577      |\n",
       "| New Zealand | 2012        |  2.240641   | 32988.610   | 81.15610    | 12.1        | 81.64447    |  2.315760   |  28.859390  | 67.33       | ...         |   0.70      |  5.9        | 0.911       |  1.3613660  | 90          | 0.86161     |  31.223000  |   36000433  | 20.92336    | 0.0693      |\n",
       "| New Zealand | 2011        |  2.256737   | 32701.380   | 80.90488    | 12.0        | 81.23000    |  2.297591   |  30.395020  | 67.52       | ...         |   1.55      |  6.0        | 0.909       |  1.3767310  | NA          | 0.86100     |  33.233000  |   34249571  | 20.99472    | 0.0649      |\n",
       "| New Zealand | 2010        |  1.527994   | 31239.190   | 80.70244    | 12.0        | 80.46000    |  2.338579   |  30.273630  | 67.21       | ...         |   2.30      |  6.1        | 0.906       |  1.2364890  | NA          | 0.86160     |  32.285000  |   34957784  | 21.17565    | 0.0656      |\n",
       "| Pakistan    | 2011        |  2.748406   |  3993.559   | 65.56200    |  4.8        |  8.00000    | -1.076280   |  13.966670  | 51.53       | ...         |  -7.58      | 85.0        | 0.516       | -2.8100350  | NA          | 0.35202     |  29.678000  |  154658545  | 20.50179    | 0.0080      |\n",
       "| Pakistan    | 2010        |  1.606689   |  3890.291   | 65.26400    |  4.7        |  8.00000    | -1.087690   |  13.516270  | 51.55       | ...         |  -7.26      | 87.1        | 0.512       | -2.6759330  | NA          | 0.34997     |  32.769000  |  154144709  | 19.71948    | 0.0065      |\n",
       "| Philippines | 2018        |  6.341486   |  8720.607   | 71.09500    |  9.4        |       NA    | -0.542230   |  30.213610  | 59.58       | ...         | -11.74      | 28.0        | 0.711       | -1.0920620  | 36          | 0.46907     |  22.660000  |  138924391  | 30.56374    | 0.0234      |\n",
       "| Philippines | 2017        |  6.930988   |  8120.869   | 70.95200    |  9.4        |       NA    | -0.476550   |  29.552290  | 59.67       | ...         |  -9.06      | 28.7        | 0.708       | -1.1850800  | 34          | 0.46682     |  23.092000  |  134518537  | 30.12655    | 0.0255      |\n",
       "| Philippines | 2016        |  7.149457   |  7703.762   | 70.80200    |  9.3        |       NA    | -0.488120   |  26.673000  | 62.23       | ...         |  -8.43      | 29.3        | 0.704       | -1.3798190  | 35          | 0.46475     |  21.898000  |  122236809  | 30.28592    | 0.0269      |\n",
       "| Philippines | 2015        |  6.348310   |  7186.769   | 70.64400    |  9.3        |       NA    | -0.453470   |  27.208060  | 62.21       | ...         |  -4.73      | 29.8        | 0.701       | -0.8556625  | 35          | 0.46284     |  20.874000  |  112142487  | 30.48195    | 0.0307      |\n",
       "| Philippines | 2014        |  6.347987   |  6960.901   | 70.48100    |  9.2        |       NA    | -0.437020   |  27.354500  | 62.81       | ...         |  -2.76      | 30.2        | 0.696       | -0.7138209  | 38          | 0.46093     |  19.719000  |  101182148  | 31.04744    | 0.0360      |\n",
       "| Philippines | 2011        |  3.858233   |  5865.344   | 69.98400    |  9.0        | 29.00000    | -0.667100   |  29.105430  | 62.90       | ...         |  -4.13      | 31.3        | 0.676       | -1.3921820  | NA          | 0.45522     |  19.750000  |   83743662  | 31.33868    | 0.0359      |\n",
       "| Philippines | 2010        |  7.334500   |  5626.281   | 69.82300    |  8.9        | 25.00000    | -0.760690   |  32.874830  | 62.19       | ...         |  -5.05      | 31.7        | 0.671       | -1.6507600  | NA          | 0.45332     |  17.744000  |   82951250  | 32.33956    | 0.0361      |\n",
       "| Singapore   | 2011        |  6.337871   | 80052.390   | 81.74390    | 11.1        | 71.00000    |  2.109778   | 203.327700  | 69.12       | ...         |  26.55      |  2.8        | 0.913       |  1.1914220  | NA          | 1.00000     |   1.213000  |   30271968  | 25.26045    | 0.0389      |\n",
       "| Singapore   | 2010        | 14.525640   | 75294.360   | 81.54146    | 11.0        | 71.00000    |  2.180155   | 197.999000  | 68.83       | ...         |  18.60      |  2.8        | 0.909       |  1.1694150  | NA          | 1.00000     |   1.179000  |   56619792  | 26.63664    | 0.0412      |\n",
       "| Sri Lanka   | 2013        |  3.395733   | 10852.060   | 75.97400    | 10.9        |       NA    | -0.214750   |  20.320400  | 54.85       | ...         |  -8.62      | 10.0        | 0.769       | -0.6128954  | 37          | 0.18198     |   7.130000  |   14678050  | 29.16276    | 0.0424      |\n",
       "| Sri Lanka   | 2012        |  9.144572   | 10315.180   | 75.79600    | 10.9        |       NA    | -0.236880   |  19.816480  | 53.44       | ...         | -11.86      | 10.6        | 0.766       | -0.7170792  | 40          | 0.18196     |   3.444000  |   15797950  | 30.12628    | 0.0388      |\n",
       "| Sri Lanka   | 2011        |  8.404733   |  9007.734   | 75.61400    | 10.8        |       NA    | -0.393240   |  20.896840  | 54.25       | ...         | -11.01      | 11.2        | 0.760       | -0.7247714  | NA          | 0.18211     |   4.714000  |   14886602  | 27.99567    | 0.0412      |\n",
       "| Sri Lanka   | 2010        |  8.015967   |  8194.269   | 75.43900    | 10.8        |       NA    | -0.421460   |  19.552320  | 54.64       | ...         |  -8.21      | 11.6        | 0.754       | -0.9429469  | NA          | 0.18226     |   5.681000  |   13050301  | 26.64415    | 0.0478      |\n",
       "| Thailand    | 2011        |  0.840132   | 13519.130   | 74.59300    |  7.5        | 23.66993    | -0.323440   |  70.854910  | 73.24       | ...         |   0.00      | 13.0        | 0.733       | -1.1335340  | NA          | 0.44698     |  12.473000  |  253800670  | 37.98140    | 0.0066      |\n",
       "| Thailand    | 2010        |  7.513391   | 13195.370   | 74.18400    |  7.3        | 22.40000    | -0.333950   |  66.486170  | 71.71       | ...         |   1.90      | 13.6        | 0.724       | -1.4427880  | NA          | 0.43856     |   8.895000  |  256422255  | 39.92173    | 0.0062      |\n",
       "| Vietnam     | 2011        |  6.240303   |  4523.253   | 74.90400    |  7.6        | 35.07000    | -0.607290   |  79.390870  | 76.52       | ...         |   8.07      | 22.6        | 0.671       |  0.1890884  | NA          | 0.31080     |  40.664000  |  145047830  | 32.24441    | 0.0100      |\n",
       "| Vietnam     | 2010        |  6.423238   |  4213.296   | 74.83700    |  7.5        | 30.65000    | -0.623740   |  72.002360  | 76.29       | ...         |   5.72      | 22.9        | 0.661       |  0.1484079  | NA          | 0.30417     |  27.386000  |  136113090  | 32.13189    | 0.0111      |\n",
       "\n"
      ],
      "text/plain": [
       "   Countries   Year GDP_Growth Market_Size Life_Exp Mean_Years_of_Schooling\n",
       "1  Australia   2019  2.160956  52203.130   82.90000 12.7                   \n",
       "2  Australia   2018  2.949286  50252.840   82.74878 12.7                   \n",
       "3  Australia   2011  2.462756  41965.360   81.89512 12.7                   \n",
       "4  Australia   2010  2.067417  39301.340   81.69512 12.6                   \n",
       "5  Bangladesh  2011  6.464379   2620.834   70.25600  5.7                   \n",
       "6  Bangladesh  2010  5.571788   2439.070   69.88100  5.3                   \n",
       "7  China       2011  9.550832  10299.870   74.70800  7.4                   \n",
       "8  China       2010 10.635870   9253.765   74.40900  7.3                   \n",
       "9  India       2011  5.241315   4493.669   67.13000  5.3                   \n",
       "10 India       2010  8.497585   4236.744   66.69300  5.4                   \n",
       "11 Indonesia   2011  6.169784   9095.742   69.54200  7.6                   \n",
       "12 Indonesia   2010  6.223854   8505.748   69.20500  7.4                   \n",
       "13 Japan       2019  0.270309  42197.250   84.35634 12.8                   \n",
       "14 Japan       2011 -0.115420  35774.700   82.59122 11.8                   \n",
       "15 Japan       2010  4.191739  34986.990   82.84268 11.5                   \n",
       "16 Malaysia    2011  5.293913  21704.740   74.68300 10.1                   \n",
       "17 Malaysia    2010  7.424847  20508.760   74.49300  9.8                   \n",
       "18 Myanmar     2019  1.694424   5297.442   67.13400  5.0                   \n",
       "19 Myanmar     2018  6.750460   5149.938   66.86700  5.0                   \n",
       "20 Myanmar     2017  6.404977   4739.915   66.55800  5.0                   \n",
       "21 Myanmar     2016  5.750065   4492.021   66.20500  4.9                   \n",
       "22 Myanmar     2015  6.992840   4416.547   65.81000  4.9                   \n",
       "23 Myanmar     2014  7.990916   4245.806   65.37800  4.8                   \n",
       "24 Myanmar     2013  8.426001   4016.316   64.92100  4.7                   \n",
       "25 Myanmar     2012  7.332670   3727.142   64.45300  4.5                   \n",
       "26 Myanmar     2011  5.591482   3469.139   63.98300  4.3                   \n",
       "27 Myanmar     2010  9.634439   3243.000   63.52500  4.1                   \n",
       "28 New Zealand 2019  1.633933  45073.200   81.70732 12.8                   \n",
       "29 New Zealand 2018  3.205748  43930.880   81.85854 12.7                   \n",
       "30 New Zealand 2013  2.695784  36242.620   81.40732 12.1                   \n",
       "31 New Zealand 2012  2.240641  32988.610   81.15610 12.1                   \n",
       "32 New Zealand 2011  2.256737  32701.380   80.90488 12.0                   \n",
       "33 New Zealand 2010  1.527994  31239.190   80.70244 12.0                   \n",
       "34 Pakistan    2011  2.748406   3993.559   65.56200  4.8                   \n",
       "35 Pakistan    2010  1.606689   3890.291   65.26400  4.7                   \n",
       "36 Philippines 2018  6.341486   8720.607   71.09500  9.4                   \n",
       "37 Philippines 2017  6.930988   8120.869   70.95200  9.4                   \n",
       "38 Philippines 2016  7.149457   7703.762   70.80200  9.3                   \n",
       "39 Philippines 2015  6.348310   7186.769   70.64400  9.3                   \n",
       "40 Philippines 2014  6.347987   6960.901   70.48100  9.2                   \n",
       "41 Philippines 2011  3.858233   5865.344   69.98400  9.0                   \n",
       "42 Philippines 2010  7.334500   5626.281   69.82300  8.9                   \n",
       "43 Singapore   2011  6.337871  80052.390   81.74390 11.1                   \n",
       "44 Singapore   2010 14.525640  75294.360   81.54146 11.0                   \n",
       "45 Sri Lanka   2013  3.395733  10852.060   75.97400 10.9                   \n",
       "46 Sri Lanka   2012  9.144572  10315.180   75.79600 10.9                   \n",
       "47 Sri Lanka   2011  8.404733   9007.734   75.61400 10.8                   \n",
       "48 Sri Lanka   2010  8.015967   8194.269   75.43900 10.8                   \n",
       "49 Thailand    2011  0.840132  13519.130   74.59300  7.5                   \n",
       "50 Thailand    2010  7.513391  13195.370   74.18400  7.3                   \n",
       "51 Vietnam     2011  6.240303   4523.253   74.90400  7.6                   \n",
       "52 Vietnam     2010  6.423238   4213.296   74.83700  7.5                   \n",
       "   Internet_Penetration Gov_Indicator Trade_Openness Labour_Force ... BoT   \n",
       "1        NA              1.825413      24.110970     65.93        ...   2.51\n",
       "2        NA              1.805214      21.821900     65.65        ...   0.38\n",
       "3  79.48770              2.044710      21.436420     65.63        ...   0.97\n",
       "4  76.00000              2.032045      19.810010     65.60        ...  -1.03\n",
       "5   4.50000             -1.087300      19.922070     56.85        ...  -6.54\n",
       "6   3.70000             -1.057410      16.024110     56.92        ...  -5.84\n",
       "7  38.30000             -0.507090      26.568190     71.06        ...   3.85\n",
       "8  34.30000             -0.561790      27.185330     71.26        ...   5.03\n",
       "9  10.07000             -0.536260      24.540410     53.29        ...  -5.42\n",
       "10  7.50000             -0.468240      22.400930     54.21        ...  -5.75\n",
       "11 12.28000             -0.701850      26.327350     67.27        ...  -0.54\n",
       "12 10.92000             -0.751560      24.299030     67.19        ...  -0.35\n",
       "13 92.73040              1.467200      17.550110     62.36        ...   0.17\n",
       "14 79.05411              1.561326      14.925000     59.59        ...  -2.58\n",
       "15 78.21000              1.560917      15.036760     60.08        ...  -4.45\n",
       "16 61.00000              0.029523      85.255440     61.58        ...  15.57\n",
       "17 56.30000              0.089305      86.930300     60.37        ...   8.17\n",
       "18       NA             -0.614940      28.041560     60.41        ...   4.04\n",
       "19       NA             -0.580750      30.389750     62.44        ...   0.09\n",
       "20 23.62108             -0.565290      28.359710     62.19        ...  -5.73\n",
       "21       NA             -0.621010      25.942730     63.85        ...  -9.14\n",
       "22       NA             -0.836280      22.975170     65.55        ...  -7.96\n",
       "23 11.52000             -0.882170      20.090400     65.93        ...  -2.08\n",
       "24  8.00000             -0.999890      19.635100     66.34        ...   0.69\n",
       "25  4.00000             -1.063260      11.498360     66.75        ...   0.61\n",
       "26  0.98000             -1.586770       0.099465     67.12        ...   1.11\n",
       "27  0.25000             -1.673340      19.588650     67.42        ...   1.90\n",
       "28       NA              2.170174      26.986900     69.60        ...  -0.12\n",
       "29       NA              2.174655      27.592500     70.01        ...  -0.31\n",
       "30 82.78000              2.341601      28.813580     67.57        ...   1.61\n",
       "31 81.64447              2.315760      28.859390     67.33        ...   0.70\n",
       "32 81.23000              2.297591      30.395020     67.52        ...   1.55\n",
       "33 80.46000              2.338579      30.273630     67.21        ...   2.30\n",
       "34  8.00000             -1.076280      13.966670     51.53        ...  -7.58\n",
       "35  8.00000             -1.087690      13.516270     51.55        ...  -7.26\n",
       "36       NA             -0.542230      30.213610     59.58        ... -11.74\n",
       "37       NA             -0.476550      29.552290     59.67        ...  -9.06\n",
       "38       NA             -0.488120      26.673000     62.23        ...  -8.43\n",
       "39       NA             -0.453470      27.208060     62.21        ...  -4.73\n",
       "40       NA             -0.437020      27.354500     62.81        ...  -2.76\n",
       "41 29.00000             -0.667100      29.105430     62.90        ...  -4.13\n",
       "42 25.00000             -0.760690      32.874830     62.19        ...  -5.05\n",
       "43 71.00000              2.109778     203.327700     69.12        ...  26.55\n",
       "44 71.00000              2.180155     197.999000     68.83        ...  18.60\n",
       "45       NA             -0.214750      20.320400     54.85        ...  -8.62\n",
       "46       NA             -0.236880      19.816480     53.44        ... -11.86\n",
       "47       NA             -0.393240      20.896840     54.25        ... -11.01\n",
       "48       NA             -0.421460      19.552320     54.64        ...  -8.21\n",
       "49 23.66993             -0.323440      70.854910     73.24        ...   0.00\n",
       "50 22.40000             -0.333950      66.486170     71.71        ...   1.90\n",
       "51 35.07000             -0.607290      79.390870     76.52        ...   8.07\n",
       "52 30.65000             -0.623740      72.002360     76.29        ...   5.72\n",
       "   Child_Mortality HDI   Pol_Stability CPI Urban_pop Renew_Energy CO2_emissions\n",
       "1   3.6            0.944  0.9117457    77  0.86124    54.399850    411015667   \n",
       "2   3.7            0.943  0.9896040    77  0.86012    44.443000    415953947   \n",
       "3   4.5            0.932  0.9357101    NA  0.85300    26.273000    404172757   \n",
       "4   4.8            0.930  0.8888599    NA  0.85182    21.720000    405502799   \n",
       "5  46.1            0.566 -1.4047370    NA  0.31225     0.979676     56556344   \n",
       "6  48.7            0.557 -1.4257890    NA  0.30462     0.836591     53991553   \n",
       "7  14.6            0.707 -0.6020548    NA  0.50511   766.200000   9388199234   \n",
       "8  15.8            0.699 -0.6570607    NA  0.49226   752.445000   8500542695   \n",
       "9  55.1            0.588 -1.3267950    NA  0.31276   174.620800   1766065040   \n",
       "10 58.2            0.579 -1.2779840    NA  0.30930   145.823900   1678478677   \n",
       "11 32.6            0.673 -0.7701142    NA  0.50595    21.888000    508073307   \n",
       "12 33.9            0.665 -0.8539162    NA  0.49914    26.738000    428174280   \n",
       "13  2.5            0.919  1.0318470    73  0.91698   225.537700   1106664426   \n",
       "14  3.2            0.892  0.9950920    NA  0.91069   146.116000   1264155127   \n",
       "15  3.2            0.887  0.8793532    NA  0.90812   142.587000   1214068556   \n",
       "16  8.0            0.778  0.0774098    NA  0.71609     8.631000    217427462   \n",
       "17  8.1            0.772  0.1433521    NA  0.70912     7.427000    216537318   \n",
       "18 44.7            0.583 -1.3280670    29  0.30852           NA     26231575   \n",
       "19 46.4            0.579 -1.2688530    29  0.30579           NA     26095603   \n",
       "20 48.1            0.572 -1.0848390    30  0.30322           NA     23669759   \n",
       "21 49.9            0.563 -0.8046199    28  0.30082           NA     25468783   \n",
       "22 51.8            0.557 -1.1650670    22  0.29858           NA     22076366   \n",
       "23 53.7            0.550 -1.0875810    21  0.29650           NA     16169507   \n",
       "24 55.8            0.543 -1.1403720    21  0.29457           NA     12936196   \n",
       "25 58.2            0.533 -0.9436750    15  0.29266           NA     11891872   \n",
       "26 60.7            0.526 -1.1110980    NA  0.29075           NA     15067867   \n",
       "27 63.4            0.515 -1.2859280    NA  0.28885           NA     13083825   \n",
       "28  4.7            0.931  1.4113020    87  0.86615    35.769240     36540963   \n",
       "29  4.9            0.928  1.5339050    87  0.86538    36.319000     35080341   \n",
       "30  5.8            0.914  1.4539270    91  0.86221    31.530000     35240937   \n",
       "31  5.9            0.911  1.3613660    90  0.86161    31.223000     36000433   \n",
       "32  6.0            0.909  1.3767310    NA  0.86100    33.233000     34249571   \n",
       "33  6.1            0.906  1.2364890    NA  0.86160    32.285000     34957784   \n",
       "34 85.0            0.516 -2.8100350    NA  0.35202    29.678000    154658545   \n",
       "35 87.1            0.512 -2.6759330    NA  0.34997    32.769000    154144709   \n",
       "36 28.0            0.711 -1.0920620    36  0.46907    22.660000    138924391   \n",
       "37 28.7            0.708 -1.1850800    34  0.46682    23.092000    134518537   \n",
       "38 29.3            0.704 -1.3798190    35  0.46475    21.898000    122236809   \n",
       "39 29.8            0.701 -0.8556625    35  0.46284    20.874000    112142487   \n",
       "40 30.2            0.696 -0.7138209    38  0.46093    19.719000    101182148   \n",
       "41 31.3            0.676 -1.3921820    NA  0.45522    19.750000     83743662   \n",
       "42 31.7            0.671 -1.6507600    NA  0.45332    17.744000     82951250   \n",
       "43  2.8            0.913  1.1914220    NA  1.00000     1.213000     30271968   \n",
       "44  2.8            0.909  1.1694150    NA  1.00000     1.179000     56619792   \n",
       "45 10.0            0.769 -0.6128954    37  0.18198     7.130000     14678050   \n",
       "46 10.6            0.766 -0.7170792    40  0.18196     3.444000     15797950   \n",
       "47 11.2            0.760 -0.7247714    NA  0.18211     4.714000     14886602   \n",
       "48 11.6            0.754 -0.9429469    NA  0.18226     5.681000     13050301   \n",
       "49 13.0            0.733 -1.1335340    NA  0.44698    12.473000    253800670   \n",
       "50 13.6            0.724 -1.4427880    NA  0.43856     8.895000    256422255   \n",
       "51 22.6            0.671  0.1890884    NA  0.31080    40.664000    145047830   \n",
       "52 22.9            0.661  0.1484079    NA  0.30417    27.386000    136113090   \n",
       "   ind_val_add unemployment_rate\n",
       "1  25.38245    0.0516           \n",
       "2  24.15897    0.0530           \n",
       "3  26.43613    0.0508           \n",
       "4  25.15142    0.0521           \n",
       "5  25.04530    0.0371           \n",
       "6  24.95648    0.0338           \n",
       "7  46.52929    0.0450           \n",
       "8  46.49783    0.0450           \n",
       "9  30.16168    0.0565           \n",
       "10 30.72508    0.0565           \n",
       "11 43.91342    0.0515           \n",
       "12 42.77587    0.0561           \n",
       "13       NA    0.0240           \n",
       "14 26.88171    0.0452           \n",
       "15 28.44461    0.0510           \n",
       "16 39.82427    0.0305           \n",
       "17 40.49893    0.0325           \n",
       "18 35.89711    0.0050           \n",
       "19 37.96077    0.0087           \n",
       "20 36.74277    0.0156           \n",
       "21 35.46916    0.0114           \n",
       "22 33.91247    0.0077           \n",
       "23 34.48971    0.0078           \n",
       "24 32.36222    0.0080           \n",
       "25 32.37302    0.0079           \n",
       "26 31.29165    0.0079           \n",
       "27 26.46806    0.0079           \n",
       "28       NA    0.0407           \n",
       "29 20.41986    0.0430           \n",
       "30 20.28755    0.0577           \n",
       "31 20.92336    0.0693           \n",
       "32 20.99472    0.0649           \n",
       "33 21.17565    0.0656           \n",
       "34 20.50179    0.0080           \n",
       "35 19.71948    0.0065           \n",
       "36 30.56374    0.0234           \n",
       "37 30.12655    0.0255           \n",
       "38 30.28592    0.0269           \n",
       "39 30.48195    0.0307           \n",
       "40 31.04744    0.0360           \n",
       "41 31.33868    0.0359           \n",
       "42 32.33956    0.0361           \n",
       "43 25.26045    0.0389           \n",
       "44 26.63664    0.0412           \n",
       "45 29.16276    0.0424           \n",
       "46 30.12628    0.0388           \n",
       "47 27.99567    0.0412           \n",
       "48 26.64415    0.0478           \n",
       "49 37.98140    0.0066           \n",
       "50 39.92173    0.0062           \n",
       "51 32.24441    0.0100           \n",
       "52 32.13189    0.0111           "
      ]
     },
     "metadata": {},
     "output_type": "display_data"
    },
    {
     "data": {
      "text/html": [
       "<table>\n",
       "<thead><tr><th scope=col>Countries</th><th scope=col>Year</th><th scope=col>GDP_Growth</th><th scope=col>Market_Size</th><th scope=col>Life_Exp</th><th scope=col>Mean_Years_of_Schooling</th><th scope=col>Internet_Penetration</th><th scope=col>Gov_Indicator</th><th scope=col>Trade_Openness</th><th scope=col>Labour_Force</th><th scope=col>...</th><th scope=col>BoT</th><th scope=col>Child_Mortality</th><th scope=col>HDI</th><th scope=col>Pol_Stability</th><th scope=col>CPI</th><th scope=col>Urban_pop</th><th scope=col>Renew_Energy</th><th scope=col>CO2_emissions</th><th scope=col>ind_val_add</th><th scope=col>unemployment_rate</th></tr></thead>\n",
       "<tbody>\n",
       "\t<tr><td>Australia  </td><td>2011       </td><td> 2.462756  </td><td>41965.360  </td><td>81.89512   </td><td>12.7       </td><td>79.48770   </td><td> 2.044710  </td><td> 21.436420 </td><td>65.63      </td><td>...        </td><td>  0.97     </td><td> 4.5       </td><td>0.932      </td><td> 0.9357101 </td><td>NA         </td><td>0.85300    </td><td> 26.273000 </td><td> 404172757 </td><td>26.43613   </td><td>0.0508     </td></tr>\n",
       "\t<tr><td>Australia  </td><td>2010       </td><td> 2.067417  </td><td>39301.340  </td><td>81.69512   </td><td>12.6       </td><td>76.00000   </td><td> 2.032045  </td><td> 19.810010 </td><td>65.60      </td><td>...        </td><td> -1.03     </td><td> 4.8       </td><td>0.930      </td><td> 0.8888599 </td><td>NA         </td><td>0.85182    </td><td> 21.720000 </td><td> 405502799 </td><td>25.15142   </td><td>0.0521     </td></tr>\n",
       "\t<tr><td>Bangladesh </td><td>2011       </td><td> 6.464379  </td><td> 2620.834  </td><td>70.25600   </td><td> 5.7       </td><td> 4.50000   </td><td>-1.087300  </td><td> 19.922070 </td><td>56.85      </td><td>...        </td><td> -6.54     </td><td>46.1       </td><td>0.566      </td><td>-1.4047370 </td><td>NA         </td><td>0.31225    </td><td>  0.979676 </td><td>  56556344 </td><td>25.04530   </td><td>0.0371     </td></tr>\n",
       "\t<tr><td>Bangladesh </td><td>2010       </td><td> 5.571788  </td><td> 2439.070  </td><td>69.88100   </td><td> 5.3       </td><td> 3.70000   </td><td>-1.057410  </td><td> 16.024110 </td><td>56.92      </td><td>...        </td><td> -5.84     </td><td>48.7       </td><td>0.557      </td><td>-1.4257890 </td><td>NA         </td><td>0.30462    </td><td>  0.836591 </td><td>  53991553 </td><td>24.95648   </td><td>0.0338     </td></tr>\n",
       "\t<tr><td>China      </td><td>2011       </td><td> 9.550832  </td><td>10299.870  </td><td>74.70800   </td><td> 7.4       </td><td>38.30000   </td><td>-0.507090  </td><td> 26.568190 </td><td>71.06      </td><td>...        </td><td>  3.85     </td><td>14.6       </td><td>0.707      </td><td>-0.6020548 </td><td>NA         </td><td>0.50511    </td><td>766.200000 </td><td>9388199234 </td><td>46.52929   </td><td>0.0450     </td></tr>\n",
       "\t<tr><td>China      </td><td>2010       </td><td>10.635870  </td><td> 9253.765  </td><td>74.40900   </td><td> 7.3       </td><td>34.30000   </td><td>-0.561790  </td><td> 27.185330 </td><td>71.26      </td><td>...        </td><td>  5.03     </td><td>15.8       </td><td>0.699      </td><td>-0.6570607 </td><td>NA         </td><td>0.49226    </td><td>752.445000 </td><td>8500542695 </td><td>46.49783   </td><td>0.0450     </td></tr>\n",
       "\t<tr><td>India      </td><td>2011       </td><td> 5.241315  </td><td> 4493.669  </td><td>67.13000   </td><td> 5.3       </td><td>10.07000   </td><td>-0.536260  </td><td> 24.540410 </td><td>53.29      </td><td>...        </td><td> -5.42     </td><td>55.1       </td><td>0.588      </td><td>-1.3267950 </td><td>NA         </td><td>0.31276    </td><td>174.620800 </td><td>1766065040 </td><td>30.16168   </td><td>0.0565     </td></tr>\n",
       "\t<tr><td>India      </td><td>2010       </td><td> 8.497585  </td><td> 4236.744  </td><td>66.69300   </td><td> 5.4       </td><td> 7.50000   </td><td>-0.468240  </td><td> 22.400930 </td><td>54.21      </td><td>...        </td><td> -5.75     </td><td>58.2       </td><td>0.579      </td><td>-1.2779840 </td><td>NA         </td><td>0.30930    </td><td>145.823900 </td><td>1678478677 </td><td>30.72508   </td><td>0.0565     </td></tr>\n",
       "\t<tr><td>Indonesia  </td><td>2011       </td><td> 6.169784  </td><td> 9095.742  </td><td>69.54200   </td><td> 7.6       </td><td>12.28000   </td><td>-0.701850  </td><td> 26.327350 </td><td>67.27      </td><td>...        </td><td> -0.54     </td><td>32.6       </td><td>0.673      </td><td>-0.7701142 </td><td>NA         </td><td>0.50595    </td><td> 21.888000 </td><td> 508073307 </td><td>43.91342   </td><td>0.0515     </td></tr>\n",
       "\t<tr><td>Indonesia  </td><td>2010       </td><td> 6.223854  </td><td> 8505.748  </td><td>69.20500   </td><td> 7.4       </td><td>10.92000   </td><td>-0.751560  </td><td> 24.299030 </td><td>67.19      </td><td>...        </td><td> -0.35     </td><td>33.9       </td><td>0.665      </td><td>-0.8539162 </td><td>NA         </td><td>0.49914    </td><td> 26.738000 </td><td> 428174280 </td><td>42.77587   </td><td>0.0561     </td></tr>\n",
       "\t<tr><td>Japan      </td><td>2011       </td><td>-0.115420  </td><td>35774.700  </td><td>82.59122   </td><td>11.8       </td><td>79.05411   </td><td> 1.561326  </td><td> 14.925000 </td><td>59.59      </td><td>...        </td><td> -2.58     </td><td> 3.2       </td><td>0.892      </td><td> 0.9950920 </td><td>NA         </td><td>0.91069    </td><td>146.116000 </td><td>1264155127 </td><td>26.88171   </td><td>0.0452     </td></tr>\n",
       "\t<tr><td>Japan      </td><td>2010       </td><td> 4.191739  </td><td>34986.990  </td><td>82.84268   </td><td>11.5       </td><td>78.21000   </td><td> 1.560917  </td><td> 15.036760 </td><td>60.08      </td><td>...        </td><td> -4.45     </td><td> 3.2       </td><td>0.887      </td><td> 0.8793532 </td><td>NA         </td><td>0.90812    </td><td>142.587000 </td><td>1214068556 </td><td>28.44461   </td><td>0.0510     </td></tr>\n",
       "\t<tr><td>Malaysia   </td><td>2011       </td><td> 5.293913  </td><td>21704.740  </td><td>74.68300   </td><td>10.1       </td><td>61.00000   </td><td> 0.029523  </td><td> 85.255440 </td><td>61.58      </td><td>...        </td><td> 15.57     </td><td> 8.0       </td><td>0.778      </td><td> 0.0774098 </td><td>NA         </td><td>0.71609    </td><td>  8.631000 </td><td> 217427462 </td><td>39.82427   </td><td>0.0305     </td></tr>\n",
       "\t<tr><td>Malaysia   </td><td>2010       </td><td> 7.424847  </td><td>20508.760  </td><td>74.49300   </td><td> 9.8       </td><td>56.30000   </td><td> 0.089305  </td><td> 86.930300 </td><td>60.37      </td><td>...        </td><td>  8.17     </td><td> 8.1       </td><td>0.772      </td><td> 0.1433521 </td><td>NA         </td><td>0.70912    </td><td>  7.427000 </td><td> 216537318 </td><td>40.49893   </td><td>0.0325     </td></tr>\n",
       "\t<tr><td>Myanmar    </td><td>2011       </td><td> 5.591482  </td><td> 3469.139  </td><td>63.98300   </td><td> 4.3       </td><td> 0.98000   </td><td>-1.586770  </td><td>  0.099465 </td><td>67.12      </td><td>...        </td><td>  1.11     </td><td>60.7       </td><td>0.526      </td><td>-1.1110980 </td><td>NA         </td><td>0.29075    </td><td>        NA </td><td>  15067867 </td><td>31.29165   </td><td>0.0079     </td></tr>\n",
       "\t<tr><td>Myanmar    </td><td>2010       </td><td> 9.634439  </td><td> 3243.000  </td><td>63.52500   </td><td> 4.1       </td><td> 0.25000   </td><td>-1.673340  </td><td> 19.588650 </td><td>67.42      </td><td>...        </td><td>  1.90     </td><td>63.4       </td><td>0.515      </td><td>-1.2859280 </td><td>NA         </td><td>0.28885    </td><td>        NA </td><td>  13083825 </td><td>26.46806   </td><td>0.0079     </td></tr>\n",
       "\t<tr><td>New Zealand</td><td>2011       </td><td> 2.256737  </td><td>32701.380  </td><td>80.90488   </td><td>12.0       </td><td>81.23000   </td><td> 2.297591  </td><td> 30.395020 </td><td>67.52      </td><td>...        </td><td>  1.55     </td><td> 6.0       </td><td>0.909      </td><td> 1.3767310 </td><td>NA         </td><td>0.86100    </td><td> 33.233000 </td><td>  34249571 </td><td>20.99472   </td><td>0.0649     </td></tr>\n",
       "\t<tr><td>New Zealand</td><td>2010       </td><td> 1.527994  </td><td>31239.190  </td><td>80.70244   </td><td>12.0       </td><td>80.46000   </td><td> 2.338579  </td><td> 30.273630 </td><td>67.21      </td><td>...        </td><td>  2.30     </td><td> 6.1       </td><td>0.906      </td><td> 1.2364890 </td><td>NA         </td><td>0.86160    </td><td> 32.285000 </td><td>  34957784 </td><td>21.17565   </td><td>0.0656     </td></tr>\n",
       "\t<tr><td>Pakistan   </td><td>2011       </td><td> 2.748406  </td><td> 3993.559  </td><td>65.56200   </td><td> 4.8       </td><td> 8.00000   </td><td>-1.076280  </td><td> 13.966670 </td><td>51.53      </td><td>...        </td><td> -7.58     </td><td>85.0       </td><td>0.516      </td><td>-2.8100350 </td><td>NA         </td><td>0.35202    </td><td> 29.678000 </td><td> 154658545 </td><td>20.50179   </td><td>0.0080     </td></tr>\n",
       "\t<tr><td>Pakistan   </td><td>2010       </td><td> 1.606689  </td><td> 3890.291  </td><td>65.26400   </td><td> 4.7       </td><td> 8.00000   </td><td>-1.087690  </td><td> 13.516270 </td><td>51.55      </td><td>...        </td><td> -7.26     </td><td>87.1       </td><td>0.512      </td><td>-2.6759330 </td><td>NA         </td><td>0.34997    </td><td> 32.769000 </td><td> 154144709 </td><td>19.71948   </td><td>0.0065     </td></tr>\n",
       "\t<tr><td>Philippines</td><td>2011       </td><td> 3.858233  </td><td> 5865.344  </td><td>69.98400   </td><td> 9.0       </td><td>29.00000   </td><td>-0.667100  </td><td> 29.105430 </td><td>62.90      </td><td>...        </td><td> -4.13     </td><td>31.3       </td><td>0.676      </td><td>-1.3921820 </td><td>NA         </td><td>0.45522    </td><td> 19.750000 </td><td>  83743662 </td><td>31.33868   </td><td>0.0359     </td></tr>\n",
       "\t<tr><td>Philippines</td><td>2010       </td><td> 7.334500  </td><td> 5626.281  </td><td>69.82300   </td><td> 8.9       </td><td>25.00000   </td><td>-0.760690  </td><td> 32.874830 </td><td>62.19      </td><td>...        </td><td> -5.05     </td><td>31.7       </td><td>0.671      </td><td>-1.6507600 </td><td>NA         </td><td>0.45332    </td><td> 17.744000 </td><td>  82951250 </td><td>32.33956   </td><td>0.0361     </td></tr>\n",
       "\t<tr><td>Singapore  </td><td>2011       </td><td> 6.337871  </td><td>80052.390  </td><td>81.74390   </td><td>11.1       </td><td>71.00000   </td><td> 2.109778  </td><td>203.327700 </td><td>69.12      </td><td>...        </td><td> 26.55     </td><td> 2.8       </td><td>0.913      </td><td> 1.1914220 </td><td>NA         </td><td>1.00000    </td><td>  1.213000 </td><td>  30271968 </td><td>25.26045   </td><td>0.0389     </td></tr>\n",
       "\t<tr><td>Singapore  </td><td>2010       </td><td>14.525640  </td><td>75294.360  </td><td>81.54146   </td><td>11.0       </td><td>71.00000   </td><td> 2.180155  </td><td>197.999000 </td><td>68.83      </td><td>...        </td><td> 18.60     </td><td> 2.8       </td><td>0.909      </td><td> 1.1694150 </td><td>NA         </td><td>1.00000    </td><td>  1.179000 </td><td>  56619792 </td><td>26.63664   </td><td>0.0412     </td></tr>\n",
       "\t<tr><td>Sri Lanka  </td><td>2011       </td><td> 8.404733  </td><td> 9007.734  </td><td>75.61400   </td><td>10.8       </td><td>      NA   </td><td>-0.393240  </td><td> 20.896840 </td><td>54.25      </td><td>...        </td><td>-11.01     </td><td>11.2       </td><td>0.760      </td><td>-0.7247714 </td><td>NA         </td><td>0.18211    </td><td>  4.714000 </td><td>  14886602 </td><td>27.99567   </td><td>0.0412     </td></tr>\n",
       "\t<tr><td>Sri Lanka  </td><td>2010       </td><td> 8.015967  </td><td> 8194.269  </td><td>75.43900   </td><td>10.8       </td><td>      NA   </td><td>-0.421460  </td><td> 19.552320 </td><td>54.64      </td><td>...        </td><td> -8.21     </td><td>11.6       </td><td>0.754      </td><td>-0.9429469 </td><td>NA         </td><td>0.18226    </td><td>  5.681000 </td><td>  13050301 </td><td>26.64415   </td><td>0.0478     </td></tr>\n",
       "\t<tr><td>Thailand   </td><td>2011       </td><td> 0.840132  </td><td>13519.130  </td><td>74.59300   </td><td> 7.5       </td><td>23.66993   </td><td>-0.323440  </td><td> 70.854910 </td><td>73.24      </td><td>...        </td><td>  0.00     </td><td>13.0       </td><td>0.733      </td><td>-1.1335340 </td><td>NA         </td><td>0.44698    </td><td> 12.473000 </td><td> 253800670 </td><td>37.98140   </td><td>0.0066     </td></tr>\n",
       "\t<tr><td>Thailand   </td><td>2010       </td><td> 7.513391  </td><td>13195.370  </td><td>74.18400   </td><td> 7.3       </td><td>22.40000   </td><td>-0.333950  </td><td> 66.486170 </td><td>71.71      </td><td>...        </td><td>  1.90     </td><td>13.6       </td><td>0.724      </td><td>-1.4427880 </td><td>NA         </td><td>0.43856    </td><td>  8.895000 </td><td> 256422255 </td><td>39.92173   </td><td>0.0062     </td></tr>\n",
       "\t<tr><td>Vietnam    </td><td>2011       </td><td> 6.240303  </td><td> 4523.253  </td><td>74.90400   </td><td> 7.6       </td><td>35.07000   </td><td>-0.607290  </td><td> 79.390870 </td><td>76.52      </td><td>...        </td><td>  8.07     </td><td>22.6       </td><td>0.671      </td><td> 0.1890884 </td><td>NA         </td><td>0.31080    </td><td> 40.664000 </td><td> 145047830 </td><td>32.24441   </td><td>0.0100     </td></tr>\n",
       "\t<tr><td>Vietnam    </td><td>2010       </td><td> 6.423238  </td><td> 4213.296  </td><td>74.83700   </td><td> 7.5       </td><td>30.65000   </td><td>-0.623740  </td><td> 72.002360 </td><td>76.29      </td><td>...        </td><td>  5.72     </td><td>22.9       </td><td>0.661      </td><td> 0.1484079 </td><td>NA         </td><td>0.30417    </td><td> 27.386000 </td><td> 136113090 </td><td>32.13189   </td><td>0.0111     </td></tr>\n",
       "</tbody>\n",
       "</table>\n"
      ],
      "text/latex": [
       "\\begin{tabular}{r|lllllllllllllllllllllll}\n",
       " Countries & Year & GDP\\_Growth & Market\\_Size & Life\\_Exp & Mean\\_Years\\_of\\_Schooling & Internet\\_Penetration & Gov\\_Indicator & Trade\\_Openness & Labour\\_Force & ... & BoT & Child\\_Mortality & HDI & Pol\\_Stability & CPI & Urban\\_pop & Renew\\_Energy & CO2\\_emissions & ind\\_val\\_add & unemployment\\_rate\\\\\n",
       "\\hline\n",
       "\t Australia   & 2011        &  2.462756   & 41965.360   & 81.89512    & 12.7        & 79.48770    &  2.044710   &  21.436420  & 65.63       & ...         &   0.97      &  4.5        & 0.932       &  0.9357101  & NA          & 0.85300     &  26.273000  &  404172757  & 26.43613    & 0.0508     \\\\\n",
       "\t Australia   & 2010        &  2.067417   & 39301.340   & 81.69512    & 12.6        & 76.00000    &  2.032045   &  19.810010  & 65.60       & ...         &  -1.03      &  4.8        & 0.930       &  0.8888599  & NA          & 0.85182     &  21.720000  &  405502799  & 25.15142    & 0.0521     \\\\\n",
       "\t Bangladesh  & 2011        &  6.464379   &  2620.834   & 70.25600    &  5.7        &  4.50000    & -1.087300   &  19.922070  & 56.85       & ...         &  -6.54      & 46.1        & 0.566       & -1.4047370  & NA          & 0.31225     &   0.979676  &   56556344  & 25.04530    & 0.0371     \\\\\n",
       "\t Bangladesh  & 2010        &  5.571788   &  2439.070   & 69.88100    &  5.3        &  3.70000    & -1.057410   &  16.024110  & 56.92       & ...         &  -5.84      & 48.7        & 0.557       & -1.4257890  & NA          & 0.30462     &   0.836591  &   53991553  & 24.95648    & 0.0338     \\\\\n",
       "\t China       & 2011        &  9.550832   & 10299.870   & 74.70800    &  7.4        & 38.30000    & -0.507090   &  26.568190  & 71.06       & ...         &   3.85      & 14.6        & 0.707       & -0.6020548  & NA          & 0.50511     & 766.200000  & 9388199234  & 46.52929    & 0.0450     \\\\\n",
       "\t China       & 2010        & 10.635870   &  9253.765   & 74.40900    &  7.3        & 34.30000    & -0.561790   &  27.185330  & 71.26       & ...         &   5.03      & 15.8        & 0.699       & -0.6570607  & NA          & 0.49226     & 752.445000  & 8500542695  & 46.49783    & 0.0450     \\\\\n",
       "\t India       & 2011        &  5.241315   &  4493.669   & 67.13000    &  5.3        & 10.07000    & -0.536260   &  24.540410  & 53.29       & ...         &  -5.42      & 55.1        & 0.588       & -1.3267950  & NA          & 0.31276     & 174.620800  & 1766065040  & 30.16168    & 0.0565     \\\\\n",
       "\t India       & 2010        &  8.497585   &  4236.744   & 66.69300    &  5.4        &  7.50000    & -0.468240   &  22.400930  & 54.21       & ...         &  -5.75      & 58.2        & 0.579       & -1.2779840  & NA          & 0.30930     & 145.823900  & 1678478677  & 30.72508    & 0.0565     \\\\\n",
       "\t Indonesia   & 2011        &  6.169784   &  9095.742   & 69.54200    &  7.6        & 12.28000    & -0.701850   &  26.327350  & 67.27       & ...         &  -0.54      & 32.6        & 0.673       & -0.7701142  & NA          & 0.50595     &  21.888000  &  508073307  & 43.91342    & 0.0515     \\\\\n",
       "\t Indonesia   & 2010        &  6.223854   &  8505.748   & 69.20500    &  7.4        & 10.92000    & -0.751560   &  24.299030  & 67.19       & ...         &  -0.35      & 33.9        & 0.665       & -0.8539162  & NA          & 0.49914     &  26.738000  &  428174280  & 42.77587    & 0.0561     \\\\\n",
       "\t Japan       & 2011        & -0.115420   & 35774.700   & 82.59122    & 11.8        & 79.05411    &  1.561326   &  14.925000  & 59.59       & ...         &  -2.58      &  3.2        & 0.892       &  0.9950920  & NA          & 0.91069     & 146.116000  & 1264155127  & 26.88171    & 0.0452     \\\\\n",
       "\t Japan       & 2010        &  4.191739   & 34986.990   & 82.84268    & 11.5        & 78.21000    &  1.560917   &  15.036760  & 60.08       & ...         &  -4.45      &  3.2        & 0.887       &  0.8793532  & NA          & 0.90812     & 142.587000  & 1214068556  & 28.44461    & 0.0510     \\\\\n",
       "\t Malaysia    & 2011        &  5.293913   & 21704.740   & 74.68300    & 10.1        & 61.00000    &  0.029523   &  85.255440  & 61.58       & ...         &  15.57      &  8.0        & 0.778       &  0.0774098  & NA          & 0.71609     &   8.631000  &  217427462  & 39.82427    & 0.0305     \\\\\n",
       "\t Malaysia    & 2010        &  7.424847   & 20508.760   & 74.49300    &  9.8        & 56.30000    &  0.089305   &  86.930300  & 60.37       & ...         &   8.17      &  8.1        & 0.772       &  0.1433521  & NA          & 0.70912     &   7.427000  &  216537318  & 40.49893    & 0.0325     \\\\\n",
       "\t Myanmar     & 2011        &  5.591482   &  3469.139   & 63.98300    &  4.3        &  0.98000    & -1.586770   &   0.099465  & 67.12       & ...         &   1.11      & 60.7        & 0.526       & -1.1110980  & NA          & 0.29075     &         NA  &   15067867  & 31.29165    & 0.0079     \\\\\n",
       "\t Myanmar     & 2010        &  9.634439   &  3243.000   & 63.52500    &  4.1        &  0.25000    & -1.673340   &  19.588650  & 67.42       & ...         &   1.90      & 63.4        & 0.515       & -1.2859280  & NA          & 0.28885     &         NA  &   13083825  & 26.46806    & 0.0079     \\\\\n",
       "\t New Zealand & 2011        &  2.256737   & 32701.380   & 80.90488    & 12.0        & 81.23000    &  2.297591   &  30.395020  & 67.52       & ...         &   1.55      &  6.0        & 0.909       &  1.3767310  & NA          & 0.86100     &  33.233000  &   34249571  & 20.99472    & 0.0649     \\\\\n",
       "\t New Zealand & 2010        &  1.527994   & 31239.190   & 80.70244    & 12.0        & 80.46000    &  2.338579   &  30.273630  & 67.21       & ...         &   2.30      &  6.1        & 0.906       &  1.2364890  & NA          & 0.86160     &  32.285000  &   34957784  & 21.17565    & 0.0656     \\\\\n",
       "\t Pakistan    & 2011        &  2.748406   &  3993.559   & 65.56200    &  4.8        &  8.00000    & -1.076280   &  13.966670  & 51.53       & ...         &  -7.58      & 85.0        & 0.516       & -2.8100350  & NA          & 0.35202     &  29.678000  &  154658545  & 20.50179    & 0.0080     \\\\\n",
       "\t Pakistan    & 2010        &  1.606689   &  3890.291   & 65.26400    &  4.7        &  8.00000    & -1.087690   &  13.516270  & 51.55       & ...         &  -7.26      & 87.1        & 0.512       & -2.6759330  & NA          & 0.34997     &  32.769000  &  154144709  & 19.71948    & 0.0065     \\\\\n",
       "\t Philippines & 2011        &  3.858233   &  5865.344   & 69.98400    &  9.0        & 29.00000    & -0.667100   &  29.105430  & 62.90       & ...         &  -4.13      & 31.3        & 0.676       & -1.3921820  & NA          & 0.45522     &  19.750000  &   83743662  & 31.33868    & 0.0359     \\\\\n",
       "\t Philippines & 2010        &  7.334500   &  5626.281   & 69.82300    &  8.9        & 25.00000    & -0.760690   &  32.874830  & 62.19       & ...         &  -5.05      & 31.7        & 0.671       & -1.6507600  & NA          & 0.45332     &  17.744000  &   82951250  & 32.33956    & 0.0361     \\\\\n",
       "\t Singapore   & 2011        &  6.337871   & 80052.390   & 81.74390    & 11.1        & 71.00000    &  2.109778   & 203.327700  & 69.12       & ...         &  26.55      &  2.8        & 0.913       &  1.1914220  & NA          & 1.00000     &   1.213000  &   30271968  & 25.26045    & 0.0389     \\\\\n",
       "\t Singapore   & 2010        & 14.525640   & 75294.360   & 81.54146    & 11.0        & 71.00000    &  2.180155   & 197.999000  & 68.83       & ...         &  18.60      &  2.8        & 0.909       &  1.1694150  & NA          & 1.00000     &   1.179000  &   56619792  & 26.63664    & 0.0412     \\\\\n",
       "\t Sri Lanka   & 2011        &  8.404733   &  9007.734   & 75.61400    & 10.8        &       NA    & -0.393240   &  20.896840  & 54.25       & ...         & -11.01      & 11.2        & 0.760       & -0.7247714  & NA          & 0.18211     &   4.714000  &   14886602  & 27.99567    & 0.0412     \\\\\n",
       "\t Sri Lanka   & 2010        &  8.015967   &  8194.269   & 75.43900    & 10.8        &       NA    & -0.421460   &  19.552320  & 54.64       & ...         &  -8.21      & 11.6        & 0.754       & -0.9429469  & NA          & 0.18226     &   5.681000  &   13050301  & 26.64415    & 0.0478     \\\\\n",
       "\t Thailand    & 2011        &  0.840132   & 13519.130   & 74.59300    &  7.5        & 23.66993    & -0.323440   &  70.854910  & 73.24       & ...         &   0.00      & 13.0        & 0.733       & -1.1335340  & NA          & 0.44698     &  12.473000  &  253800670  & 37.98140    & 0.0066     \\\\\n",
       "\t Thailand    & 2010        &  7.513391   & 13195.370   & 74.18400    &  7.3        & 22.40000    & -0.333950   &  66.486170  & 71.71       & ...         &   1.90      & 13.6        & 0.724       & -1.4427880  & NA          & 0.43856     &   8.895000  &  256422255  & 39.92173    & 0.0062     \\\\\n",
       "\t Vietnam     & 2011        &  6.240303   &  4523.253   & 74.90400    &  7.6        & 35.07000    & -0.607290   &  79.390870  & 76.52       & ...         &   8.07      & 22.6        & 0.671       &  0.1890884  & NA          & 0.31080     &  40.664000  &  145047830  & 32.24441    & 0.0100     \\\\\n",
       "\t Vietnam     & 2010        &  6.423238   &  4213.296   & 74.83700    &  7.5        & 30.65000    & -0.623740   &  72.002360  & 76.29       & ...         &   5.72      & 22.9        & 0.661       &  0.1484079  & NA          & 0.30417     &  27.386000  &  136113090  & 32.13189    & 0.0111     \\\\\n",
       "\\end{tabular}\n"
      ],
      "text/markdown": [
       "\n",
       "| Countries | Year | GDP_Growth | Market_Size | Life_Exp | Mean_Years_of_Schooling | Internet_Penetration | Gov_Indicator | Trade_Openness | Labour_Force | ... | BoT | Child_Mortality | HDI | Pol_Stability | CPI | Urban_pop | Renew_Energy | CO2_emissions | ind_val_add | unemployment_rate |\n",
       "|---|---|---|---|---|---|---|---|---|---|---|---|---|---|---|---|---|---|---|---|---|\n",
       "| Australia   | 2011        |  2.462756   | 41965.360   | 81.89512    | 12.7        | 79.48770    |  2.044710   |  21.436420  | 65.63       | ...         |   0.97      |  4.5        | 0.932       |  0.9357101  | NA          | 0.85300     |  26.273000  |  404172757  | 26.43613    | 0.0508      |\n",
       "| Australia   | 2010        |  2.067417   | 39301.340   | 81.69512    | 12.6        | 76.00000    |  2.032045   |  19.810010  | 65.60       | ...         |  -1.03      |  4.8        | 0.930       |  0.8888599  | NA          | 0.85182     |  21.720000  |  405502799  | 25.15142    | 0.0521      |\n",
       "| Bangladesh  | 2011        |  6.464379   |  2620.834   | 70.25600    |  5.7        |  4.50000    | -1.087300   |  19.922070  | 56.85       | ...         |  -6.54      | 46.1        | 0.566       | -1.4047370  | NA          | 0.31225     |   0.979676  |   56556344  | 25.04530    | 0.0371      |\n",
       "| Bangladesh  | 2010        |  5.571788   |  2439.070   | 69.88100    |  5.3        |  3.70000    | -1.057410   |  16.024110  | 56.92       | ...         |  -5.84      | 48.7        | 0.557       | -1.4257890  | NA          | 0.30462     |   0.836591  |   53991553  | 24.95648    | 0.0338      |\n",
       "| China       | 2011        |  9.550832   | 10299.870   | 74.70800    |  7.4        | 38.30000    | -0.507090   |  26.568190  | 71.06       | ...         |   3.85      | 14.6        | 0.707       | -0.6020548  | NA          | 0.50511     | 766.200000  | 9388199234  | 46.52929    | 0.0450      |\n",
       "| China       | 2010        | 10.635870   |  9253.765   | 74.40900    |  7.3        | 34.30000    | -0.561790   |  27.185330  | 71.26       | ...         |   5.03      | 15.8        | 0.699       | -0.6570607  | NA          | 0.49226     | 752.445000  | 8500542695  | 46.49783    | 0.0450      |\n",
       "| India       | 2011        |  5.241315   |  4493.669   | 67.13000    |  5.3        | 10.07000    | -0.536260   |  24.540410  | 53.29       | ...         |  -5.42      | 55.1        | 0.588       | -1.3267950  | NA          | 0.31276     | 174.620800  | 1766065040  | 30.16168    | 0.0565      |\n",
       "| India       | 2010        |  8.497585   |  4236.744   | 66.69300    |  5.4        |  7.50000    | -0.468240   |  22.400930  | 54.21       | ...         |  -5.75      | 58.2        | 0.579       | -1.2779840  | NA          | 0.30930     | 145.823900  | 1678478677  | 30.72508    | 0.0565      |\n",
       "| Indonesia   | 2011        |  6.169784   |  9095.742   | 69.54200    |  7.6        | 12.28000    | -0.701850   |  26.327350  | 67.27       | ...         |  -0.54      | 32.6        | 0.673       | -0.7701142  | NA          | 0.50595     |  21.888000  |  508073307  | 43.91342    | 0.0515      |\n",
       "| Indonesia   | 2010        |  6.223854   |  8505.748   | 69.20500    |  7.4        | 10.92000    | -0.751560   |  24.299030  | 67.19       | ...         |  -0.35      | 33.9        | 0.665       | -0.8539162  | NA          | 0.49914     |  26.738000  |  428174280  | 42.77587    | 0.0561      |\n",
       "| Japan       | 2011        | -0.115420   | 35774.700   | 82.59122    | 11.8        | 79.05411    |  1.561326   |  14.925000  | 59.59       | ...         |  -2.58      |  3.2        | 0.892       |  0.9950920  | NA          | 0.91069     | 146.116000  | 1264155127  | 26.88171    | 0.0452      |\n",
       "| Japan       | 2010        |  4.191739   | 34986.990   | 82.84268    | 11.5        | 78.21000    |  1.560917   |  15.036760  | 60.08       | ...         |  -4.45      |  3.2        | 0.887       |  0.8793532  | NA          | 0.90812     | 142.587000  | 1214068556  | 28.44461    | 0.0510      |\n",
       "| Malaysia    | 2011        |  5.293913   | 21704.740   | 74.68300    | 10.1        | 61.00000    |  0.029523   |  85.255440  | 61.58       | ...         |  15.57      |  8.0        | 0.778       |  0.0774098  | NA          | 0.71609     |   8.631000  |  217427462  | 39.82427    | 0.0305      |\n",
       "| Malaysia    | 2010        |  7.424847   | 20508.760   | 74.49300    |  9.8        | 56.30000    |  0.089305   |  86.930300  | 60.37       | ...         |   8.17      |  8.1        | 0.772       |  0.1433521  | NA          | 0.70912     |   7.427000  |  216537318  | 40.49893    | 0.0325      |\n",
       "| Myanmar     | 2011        |  5.591482   |  3469.139   | 63.98300    |  4.3        |  0.98000    | -1.586770   |   0.099465  | 67.12       | ...         |   1.11      | 60.7        | 0.526       | -1.1110980  | NA          | 0.29075     |         NA  |   15067867  | 31.29165    | 0.0079      |\n",
       "| Myanmar     | 2010        |  9.634439   |  3243.000   | 63.52500    |  4.1        |  0.25000    | -1.673340   |  19.588650  | 67.42       | ...         |   1.90      | 63.4        | 0.515       | -1.2859280  | NA          | 0.28885     |         NA  |   13083825  | 26.46806    | 0.0079      |\n",
       "| New Zealand | 2011        |  2.256737   | 32701.380   | 80.90488    | 12.0        | 81.23000    |  2.297591   |  30.395020  | 67.52       | ...         |   1.55      |  6.0        | 0.909       |  1.3767310  | NA          | 0.86100     |  33.233000  |   34249571  | 20.99472    | 0.0649      |\n",
       "| New Zealand | 2010        |  1.527994   | 31239.190   | 80.70244    | 12.0        | 80.46000    |  2.338579   |  30.273630  | 67.21       | ...         |   2.30      |  6.1        | 0.906       |  1.2364890  | NA          | 0.86160     |  32.285000  |   34957784  | 21.17565    | 0.0656      |\n",
       "| Pakistan    | 2011        |  2.748406   |  3993.559   | 65.56200    |  4.8        |  8.00000    | -1.076280   |  13.966670  | 51.53       | ...         |  -7.58      | 85.0        | 0.516       | -2.8100350  | NA          | 0.35202     |  29.678000  |  154658545  | 20.50179    | 0.0080      |\n",
       "| Pakistan    | 2010        |  1.606689   |  3890.291   | 65.26400    |  4.7        |  8.00000    | -1.087690   |  13.516270  | 51.55       | ...         |  -7.26      | 87.1        | 0.512       | -2.6759330  | NA          | 0.34997     |  32.769000  |  154144709  | 19.71948    | 0.0065      |\n",
       "| Philippines | 2011        |  3.858233   |  5865.344   | 69.98400    |  9.0        | 29.00000    | -0.667100   |  29.105430  | 62.90       | ...         |  -4.13      | 31.3        | 0.676       | -1.3921820  | NA          | 0.45522     |  19.750000  |   83743662  | 31.33868    | 0.0359      |\n",
       "| Philippines | 2010        |  7.334500   |  5626.281   | 69.82300    |  8.9        | 25.00000    | -0.760690   |  32.874830  | 62.19       | ...         |  -5.05      | 31.7        | 0.671       | -1.6507600  | NA          | 0.45332     |  17.744000  |   82951250  | 32.33956    | 0.0361      |\n",
       "| Singapore   | 2011        |  6.337871   | 80052.390   | 81.74390    | 11.1        | 71.00000    |  2.109778   | 203.327700  | 69.12       | ...         |  26.55      |  2.8        | 0.913       |  1.1914220  | NA          | 1.00000     |   1.213000  |   30271968  | 25.26045    | 0.0389      |\n",
       "| Singapore   | 2010        | 14.525640   | 75294.360   | 81.54146    | 11.0        | 71.00000    |  2.180155   | 197.999000  | 68.83       | ...         |  18.60      |  2.8        | 0.909       |  1.1694150  | NA          | 1.00000     |   1.179000  |   56619792  | 26.63664    | 0.0412      |\n",
       "| Sri Lanka   | 2011        |  8.404733   |  9007.734   | 75.61400    | 10.8        |       NA    | -0.393240   |  20.896840  | 54.25       | ...         | -11.01      | 11.2        | 0.760       | -0.7247714  | NA          | 0.18211     |   4.714000  |   14886602  | 27.99567    | 0.0412      |\n",
       "| Sri Lanka   | 2010        |  8.015967   |  8194.269   | 75.43900    | 10.8        |       NA    | -0.421460   |  19.552320  | 54.64       | ...         |  -8.21      | 11.6        | 0.754       | -0.9429469  | NA          | 0.18226     |   5.681000  |   13050301  | 26.64415    | 0.0478      |\n",
       "| Thailand    | 2011        |  0.840132   | 13519.130   | 74.59300    |  7.5        | 23.66993    | -0.323440   |  70.854910  | 73.24       | ...         |   0.00      | 13.0        | 0.733       | -1.1335340  | NA          | 0.44698     |  12.473000  |  253800670  | 37.98140    | 0.0066      |\n",
       "| Thailand    | 2010        |  7.513391   | 13195.370   | 74.18400    |  7.3        | 22.40000    | -0.333950   |  66.486170  | 71.71       | ...         |   1.90      | 13.6        | 0.724       | -1.4427880  | NA          | 0.43856     |   8.895000  |  256422255  | 39.92173    | 0.0062      |\n",
       "| Vietnam     | 2011        |  6.240303   |  4523.253   | 74.90400    |  7.6        | 35.07000    | -0.607290   |  79.390870  | 76.52       | ...         |   8.07      | 22.6        | 0.671       |  0.1890884  | NA          | 0.31080     |  40.664000  |  145047830  | 32.24441    | 0.0100      |\n",
       "| Vietnam     | 2010        |  6.423238   |  4213.296   | 74.83700    |  7.5        | 30.65000    | -0.623740   |  72.002360  | 76.29       | ...         |   5.72      | 22.9        | 0.661       |  0.1484079  | NA          | 0.30417     |  27.386000  |  136113090  | 32.13189    | 0.0111      |\n",
       "\n"
      ],
      "text/plain": [
       "   Countries   Year GDP_Growth Market_Size Life_Exp Mean_Years_of_Schooling\n",
       "1  Australia   2011  2.462756  41965.360   81.89512 12.7                   \n",
       "2  Australia   2010  2.067417  39301.340   81.69512 12.6                   \n",
       "3  Bangladesh  2011  6.464379   2620.834   70.25600  5.7                   \n",
       "4  Bangladesh  2010  5.571788   2439.070   69.88100  5.3                   \n",
       "5  China       2011  9.550832  10299.870   74.70800  7.4                   \n",
       "6  China       2010 10.635870   9253.765   74.40900  7.3                   \n",
       "7  India       2011  5.241315   4493.669   67.13000  5.3                   \n",
       "8  India       2010  8.497585   4236.744   66.69300  5.4                   \n",
       "9  Indonesia   2011  6.169784   9095.742   69.54200  7.6                   \n",
       "10 Indonesia   2010  6.223854   8505.748   69.20500  7.4                   \n",
       "11 Japan       2011 -0.115420  35774.700   82.59122 11.8                   \n",
       "12 Japan       2010  4.191739  34986.990   82.84268 11.5                   \n",
       "13 Malaysia    2011  5.293913  21704.740   74.68300 10.1                   \n",
       "14 Malaysia    2010  7.424847  20508.760   74.49300  9.8                   \n",
       "15 Myanmar     2011  5.591482   3469.139   63.98300  4.3                   \n",
       "16 Myanmar     2010  9.634439   3243.000   63.52500  4.1                   \n",
       "17 New Zealand 2011  2.256737  32701.380   80.90488 12.0                   \n",
       "18 New Zealand 2010  1.527994  31239.190   80.70244 12.0                   \n",
       "19 Pakistan    2011  2.748406   3993.559   65.56200  4.8                   \n",
       "20 Pakistan    2010  1.606689   3890.291   65.26400  4.7                   \n",
       "21 Philippines 2011  3.858233   5865.344   69.98400  9.0                   \n",
       "22 Philippines 2010  7.334500   5626.281   69.82300  8.9                   \n",
       "23 Singapore   2011  6.337871  80052.390   81.74390 11.1                   \n",
       "24 Singapore   2010 14.525640  75294.360   81.54146 11.0                   \n",
       "25 Sri Lanka   2011  8.404733   9007.734   75.61400 10.8                   \n",
       "26 Sri Lanka   2010  8.015967   8194.269   75.43900 10.8                   \n",
       "27 Thailand    2011  0.840132  13519.130   74.59300  7.5                   \n",
       "28 Thailand    2010  7.513391  13195.370   74.18400  7.3                   \n",
       "29 Vietnam     2011  6.240303   4523.253   74.90400  7.6                   \n",
       "30 Vietnam     2010  6.423238   4213.296   74.83700  7.5                   \n",
       "   Internet_Penetration Gov_Indicator Trade_Openness Labour_Force ... BoT   \n",
       "1  79.48770              2.044710      21.436420     65.63        ...   0.97\n",
       "2  76.00000              2.032045      19.810010     65.60        ...  -1.03\n",
       "3   4.50000             -1.087300      19.922070     56.85        ...  -6.54\n",
       "4   3.70000             -1.057410      16.024110     56.92        ...  -5.84\n",
       "5  38.30000             -0.507090      26.568190     71.06        ...   3.85\n",
       "6  34.30000             -0.561790      27.185330     71.26        ...   5.03\n",
       "7  10.07000             -0.536260      24.540410     53.29        ...  -5.42\n",
       "8   7.50000             -0.468240      22.400930     54.21        ...  -5.75\n",
       "9  12.28000             -0.701850      26.327350     67.27        ...  -0.54\n",
       "10 10.92000             -0.751560      24.299030     67.19        ...  -0.35\n",
       "11 79.05411              1.561326      14.925000     59.59        ...  -2.58\n",
       "12 78.21000              1.560917      15.036760     60.08        ...  -4.45\n",
       "13 61.00000              0.029523      85.255440     61.58        ...  15.57\n",
       "14 56.30000              0.089305      86.930300     60.37        ...   8.17\n",
       "15  0.98000             -1.586770       0.099465     67.12        ...   1.11\n",
       "16  0.25000             -1.673340      19.588650     67.42        ...   1.90\n",
       "17 81.23000              2.297591      30.395020     67.52        ...   1.55\n",
       "18 80.46000              2.338579      30.273630     67.21        ...   2.30\n",
       "19  8.00000             -1.076280      13.966670     51.53        ...  -7.58\n",
       "20  8.00000             -1.087690      13.516270     51.55        ...  -7.26\n",
       "21 29.00000             -0.667100      29.105430     62.90        ...  -4.13\n",
       "22 25.00000             -0.760690      32.874830     62.19        ...  -5.05\n",
       "23 71.00000              2.109778     203.327700     69.12        ...  26.55\n",
       "24 71.00000              2.180155     197.999000     68.83        ...  18.60\n",
       "25       NA             -0.393240      20.896840     54.25        ... -11.01\n",
       "26       NA             -0.421460      19.552320     54.64        ...  -8.21\n",
       "27 23.66993             -0.323440      70.854910     73.24        ...   0.00\n",
       "28 22.40000             -0.333950      66.486170     71.71        ...   1.90\n",
       "29 35.07000             -0.607290      79.390870     76.52        ...   8.07\n",
       "30 30.65000             -0.623740      72.002360     76.29        ...   5.72\n",
       "   Child_Mortality HDI   Pol_Stability CPI Urban_pop Renew_Energy CO2_emissions\n",
       "1   4.5            0.932  0.9357101    NA  0.85300    26.273000    404172757   \n",
       "2   4.8            0.930  0.8888599    NA  0.85182    21.720000    405502799   \n",
       "3  46.1            0.566 -1.4047370    NA  0.31225     0.979676     56556344   \n",
       "4  48.7            0.557 -1.4257890    NA  0.30462     0.836591     53991553   \n",
       "5  14.6            0.707 -0.6020548    NA  0.50511   766.200000   9388199234   \n",
       "6  15.8            0.699 -0.6570607    NA  0.49226   752.445000   8500542695   \n",
       "7  55.1            0.588 -1.3267950    NA  0.31276   174.620800   1766065040   \n",
       "8  58.2            0.579 -1.2779840    NA  0.30930   145.823900   1678478677   \n",
       "9  32.6            0.673 -0.7701142    NA  0.50595    21.888000    508073307   \n",
       "10 33.9            0.665 -0.8539162    NA  0.49914    26.738000    428174280   \n",
       "11  3.2            0.892  0.9950920    NA  0.91069   146.116000   1264155127   \n",
       "12  3.2            0.887  0.8793532    NA  0.90812   142.587000   1214068556   \n",
       "13  8.0            0.778  0.0774098    NA  0.71609     8.631000    217427462   \n",
       "14  8.1            0.772  0.1433521    NA  0.70912     7.427000    216537318   \n",
       "15 60.7            0.526 -1.1110980    NA  0.29075           NA     15067867   \n",
       "16 63.4            0.515 -1.2859280    NA  0.28885           NA     13083825   \n",
       "17  6.0            0.909  1.3767310    NA  0.86100    33.233000     34249571   \n",
       "18  6.1            0.906  1.2364890    NA  0.86160    32.285000     34957784   \n",
       "19 85.0            0.516 -2.8100350    NA  0.35202    29.678000    154658545   \n",
       "20 87.1            0.512 -2.6759330    NA  0.34997    32.769000    154144709   \n",
       "21 31.3            0.676 -1.3921820    NA  0.45522    19.750000     83743662   \n",
       "22 31.7            0.671 -1.6507600    NA  0.45332    17.744000     82951250   \n",
       "23  2.8            0.913  1.1914220    NA  1.00000     1.213000     30271968   \n",
       "24  2.8            0.909  1.1694150    NA  1.00000     1.179000     56619792   \n",
       "25 11.2            0.760 -0.7247714    NA  0.18211     4.714000     14886602   \n",
       "26 11.6            0.754 -0.9429469    NA  0.18226     5.681000     13050301   \n",
       "27 13.0            0.733 -1.1335340    NA  0.44698    12.473000    253800670   \n",
       "28 13.6            0.724 -1.4427880    NA  0.43856     8.895000    256422255   \n",
       "29 22.6            0.671  0.1890884    NA  0.31080    40.664000    145047830   \n",
       "30 22.9            0.661  0.1484079    NA  0.30417    27.386000    136113090   \n",
       "   ind_val_add unemployment_rate\n",
       "1  26.43613    0.0508           \n",
       "2  25.15142    0.0521           \n",
       "3  25.04530    0.0371           \n",
       "4  24.95648    0.0338           \n",
       "5  46.52929    0.0450           \n",
       "6  46.49783    0.0450           \n",
       "7  30.16168    0.0565           \n",
       "8  30.72508    0.0565           \n",
       "9  43.91342    0.0515           \n",
       "10 42.77587    0.0561           \n",
       "11 26.88171    0.0452           \n",
       "12 28.44461    0.0510           \n",
       "13 39.82427    0.0305           \n",
       "14 40.49893    0.0325           \n",
       "15 31.29165    0.0079           \n",
       "16 26.46806    0.0079           \n",
       "17 20.99472    0.0649           \n",
       "18 21.17565    0.0656           \n",
       "19 20.50179    0.0080           \n",
       "20 19.71948    0.0065           \n",
       "21 31.33868    0.0359           \n",
       "22 32.33956    0.0361           \n",
       "23 25.26045    0.0389           \n",
       "24 26.63664    0.0412           \n",
       "25 27.99567    0.0412           \n",
       "26 26.64415    0.0478           \n",
       "27 37.98140    0.0066           \n",
       "28 39.92173    0.0062           \n",
       "29 32.24441    0.0100           \n",
       "30 32.13189    0.0111           "
      ]
     },
     "metadata": {},
     "output_type": "display_data"
    },
    {
     "data": {
      "text/html": [
       "<table>\n",
       "<thead><tr><th scope=col>Countries</th><th scope=col>Year</th><th scope=col>GDP_Growth</th><th scope=col>Market_Size</th><th scope=col>Life_Exp</th><th scope=col>Mean_Years_of_Schooling</th><th scope=col>Internet_Penetration</th><th scope=col>Gov_Indicator</th><th scope=col>Trade_Openness</th><th scope=col>Labour_Force</th><th scope=col>...</th><th scope=col>GNI</th><th scope=col>BoT</th><th scope=col>Child_Mortality</th><th scope=col>HDI</th><th scope=col>Pol_Stability</th><th scope=col>Urban_pop</th><th scope=col>Renew_Energy</th><th scope=col>CO2_emissions</th><th scope=col>ind_val_add</th><th scope=col>unemployment_rate</th></tr></thead>\n",
       "<tbody>\n",
       "\t<tr><td>Australia  </td><td>2019       </td><td>2.160956   </td><td>52203.130  </td><td>82.90000   </td><td>12.7       </td><td>NA         </td><td> 1.825413  </td><td>24.11097   </td><td>65.93      </td><td>...        </td><td>50540      </td><td>  2.51     </td><td> 3.6       </td><td>0.944      </td><td> 0.9117457 </td><td>0.86124    </td><td>54.39985   </td><td>411015667  </td><td>25.38245   </td><td>0.0516     </td></tr>\n",
       "\t<tr><td>Australia  </td><td>2018       </td><td>2.949286   </td><td>50252.840  </td><td>82.74878   </td><td>12.7       </td><td>NA         </td><td> 1.805214  </td><td>21.82190   </td><td>65.65      </td><td>...        </td><td>48660      </td><td>  0.38     </td><td> 3.7       </td><td>0.943      </td><td> 0.9896040 </td><td>0.86012    </td><td>44.44300   </td><td>415953947  </td><td>24.15897   </td><td>0.0530     </td></tr>\n",
       "\t<tr><td>Myanmar    </td><td>2019       </td><td>1.694424   </td><td> 5297.442  </td><td>67.13400   </td><td> 5.0       </td><td>NA         </td><td>-0.614940  </td><td>28.04156   </td><td>60.41      </td><td>...        </td><td> 5150      </td><td>  4.04     </td><td>44.7       </td><td>0.583      </td><td>-1.3280670 </td><td>0.30852    </td><td>      NA   </td><td> 26231575  </td><td>35.89711   </td><td>0.0050     </td></tr>\n",
       "\t<tr><td>Myanmar    </td><td>2018       </td><td>6.750460   </td><td> 5149.938  </td><td>66.86700   </td><td> 5.0       </td><td>NA         </td><td>-0.580750  </td><td>30.38975   </td><td>62.44      </td><td>...        </td><td> 5000      </td><td>  0.09     </td><td>46.4       </td><td>0.579      </td><td>-1.2688530 </td><td>0.30579    </td><td>      NA   </td><td> 26095603  </td><td>37.96077   </td><td>0.0087     </td></tr>\n",
       "\t<tr><td>Myanmar    </td><td>2016       </td><td>5.750065   </td><td> 4492.021  </td><td>66.20500   </td><td> 4.9       </td><td>NA         </td><td>-0.621010  </td><td>25.94273   </td><td>63.85      </td><td>...        </td><td> 4370      </td><td> -9.14     </td><td>49.9       </td><td>0.563      </td><td>-0.8046199 </td><td>0.30082    </td><td>      NA   </td><td> 25468783  </td><td>35.46916   </td><td>0.0114     </td></tr>\n",
       "\t<tr><td>Myanmar    </td><td>2015       </td><td>6.992840   </td><td> 4416.547  </td><td>65.81000   </td><td> 4.9       </td><td>NA         </td><td>-0.836280  </td><td>22.97517   </td><td>65.55      </td><td>...        </td><td> 4280      </td><td> -7.96     </td><td>51.8       </td><td>0.557      </td><td>-1.1650670 </td><td>0.29858    </td><td>      NA   </td><td> 22076366  </td><td>33.91247   </td><td>0.0077     </td></tr>\n",
       "\t<tr><td>New Zealand</td><td>2019       </td><td>1.633933   </td><td>45073.200  </td><td>81.70732   </td><td>12.8       </td><td>NA         </td><td> 2.170174  </td><td>26.98690   </td><td>69.60      </td><td>...        </td><td>43950      </td><td> -0.12     </td><td> 4.7       </td><td>0.931      </td><td> 1.4113020 </td><td>0.86615    </td><td>35.76924   </td><td> 36540963  </td><td>      NA   </td><td>0.0407     </td></tr>\n",
       "\t<tr><td>New Zealand</td><td>2018       </td><td>3.205748   </td><td>43930.880  </td><td>81.85854   </td><td>12.7       </td><td>NA         </td><td> 2.174655  </td><td>27.59250   </td><td>70.01      </td><td>...        </td><td>42360      </td><td> -0.31     </td><td> 4.9       </td><td>0.928      </td><td> 1.5339050 </td><td>0.86538    </td><td>36.31900   </td><td> 35080341  </td><td>20.41986   </td><td>0.0430     </td></tr>\n",
       "\t<tr><td>Philippines</td><td>2018       </td><td>6.341486   </td><td> 8720.607  </td><td>71.09500   </td><td> 9.4       </td><td>NA         </td><td>-0.542230  </td><td>30.21361   </td><td>59.58      </td><td>...        </td><td> 9650      </td><td>-11.74     </td><td>28.0       </td><td>0.711      </td><td>-1.0920620 </td><td>0.46907    </td><td>22.66000   </td><td>138924391  </td><td>30.56374   </td><td>0.0234     </td></tr>\n",
       "\t<tr><td>Philippines</td><td>2017       </td><td>6.930988   </td><td> 8120.869  </td><td>70.95200   </td><td> 9.4       </td><td>NA         </td><td>-0.476550  </td><td>29.55229   </td><td>59.67      </td><td>...        </td><td> 9020      </td><td> -9.06     </td><td>28.7       </td><td>0.708      </td><td>-1.1850800 </td><td>0.46682    </td><td>23.09200   </td><td>134518537  </td><td>30.12655   </td><td>0.0255     </td></tr>\n",
       "\t<tr><td>Philippines</td><td>2016       </td><td>7.149457   </td><td> 7703.762  </td><td>70.80200   </td><td> 9.3       </td><td>NA         </td><td>-0.488120  </td><td>26.67300   </td><td>62.23      </td><td>...        </td><td> 8560      </td><td> -8.43     </td><td>29.3       </td><td>0.704      </td><td>-1.3798190 </td><td>0.46475    </td><td>21.89800   </td><td>122236809  </td><td>30.28592   </td><td>0.0269     </td></tr>\n",
       "\t<tr><td>Philippines</td><td>2015       </td><td>6.348310   </td><td> 7186.769  </td><td>70.64400   </td><td> 9.3       </td><td>NA         </td><td>-0.453470  </td><td>27.20806   </td><td>62.21      </td><td>...        </td><td> 8010      </td><td> -4.73     </td><td>29.8       </td><td>0.701      </td><td>-0.8556625 </td><td>0.46284    </td><td>20.87400   </td><td>112142487  </td><td>30.48195   </td><td>0.0307     </td></tr>\n",
       "\t<tr><td>Philippines</td><td>2014       </td><td>6.347987   </td><td> 6960.901  </td><td>70.48100   </td><td> 9.2       </td><td>NA         </td><td>-0.437020  </td><td>27.35450   </td><td>62.81      </td><td>...        </td><td> 7760      </td><td> -2.76     </td><td>30.2       </td><td>0.696      </td><td>-0.7138209 </td><td>0.46093    </td><td>19.71900   </td><td>101182148  </td><td>31.04744   </td><td>0.0360     </td></tr>\n",
       "\t<tr><td>Sri Lanka  </td><td>2013       </td><td>3.395733   </td><td>10852.060  </td><td>75.97400   </td><td>10.9       </td><td>NA         </td><td>-0.214750  </td><td>20.32040   </td><td>54.85      </td><td>...        </td><td>10600      </td><td> -8.62     </td><td>10.0       </td><td>0.769      </td><td>-0.6128954 </td><td>0.18198    </td><td> 7.13000   </td><td> 14678050  </td><td>29.16276   </td><td>0.0424     </td></tr>\n",
       "\t<tr><td>Sri Lanka  </td><td>2012       </td><td>9.144572   </td><td>10315.180  </td><td>75.79600   </td><td>10.9       </td><td>NA         </td><td>-0.236880  </td><td>19.81648   </td><td>53.44      </td><td>...        </td><td>10130      </td><td>-11.86     </td><td>10.6       </td><td>0.766      </td><td>-0.7170792 </td><td>0.18196    </td><td> 3.44400   </td><td> 15797950  </td><td>30.12628   </td><td>0.0388     </td></tr>\n",
       "\t<tr><td>Sri Lanka  </td><td>2011       </td><td>8.404733   </td><td> 9007.734  </td><td>75.61400   </td><td>10.8       </td><td>NA         </td><td>-0.393240  </td><td>20.89684   </td><td>54.25      </td><td>...        </td><td> 8920      </td><td>-11.01     </td><td>11.2       </td><td>0.760      </td><td>-0.7247714 </td><td>0.18211    </td><td> 4.71400   </td><td> 14886602  </td><td>27.99567   </td><td>0.0412     </td></tr>\n",
       "\t<tr><td>Sri Lanka  </td><td>2010       </td><td>8.015967   </td><td> 8194.269  </td><td>75.43900   </td><td>10.8       </td><td>NA         </td><td>-0.421460  </td><td>19.55232   </td><td>54.64      </td><td>...        </td><td> 8110      </td><td> -8.21     </td><td>11.6       </td><td>0.754      </td><td>-0.9429469 </td><td>0.18226    </td><td> 5.68100   </td><td> 13050301  </td><td>26.64415   </td><td>0.0478     </td></tr>\n",
       "</tbody>\n",
       "</table>\n"
      ],
      "text/latex": [
       "\\begin{tabular}{r|llllllllllllllllllllll}\n",
       " Countries & Year & GDP\\_Growth & Market\\_Size & Life\\_Exp & Mean\\_Years\\_of\\_Schooling & Internet\\_Penetration & Gov\\_Indicator & Trade\\_Openness & Labour\\_Force & ... & GNI & BoT & Child\\_Mortality & HDI & Pol\\_Stability & Urban\\_pop & Renew\\_Energy & CO2\\_emissions & ind\\_val\\_add & unemployment\\_rate\\\\\n",
       "\\hline\n",
       "\t Australia   & 2019        & 2.160956    & 52203.130   & 82.90000    & 12.7        & NA          &  1.825413   & 24.11097    & 65.93       & ...         & 50540       &   2.51      &  3.6        & 0.944       &  0.9117457  & 0.86124     & 54.39985    & 411015667   & 25.38245    & 0.0516     \\\\\n",
       "\t Australia   & 2018        & 2.949286    & 50252.840   & 82.74878    & 12.7        & NA          &  1.805214   & 21.82190    & 65.65       & ...         & 48660       &   0.38      &  3.7        & 0.943       &  0.9896040  & 0.86012     & 44.44300    & 415953947   & 24.15897    & 0.0530     \\\\\n",
       "\t Myanmar     & 2019        & 1.694424    &  5297.442   & 67.13400    &  5.0        & NA          & -0.614940   & 28.04156    & 60.41       & ...         &  5150       &   4.04      & 44.7        & 0.583       & -1.3280670  & 0.30852     &       NA    &  26231575   & 35.89711    & 0.0050     \\\\\n",
       "\t Myanmar     & 2018        & 6.750460    &  5149.938   & 66.86700    &  5.0        & NA          & -0.580750   & 30.38975    & 62.44       & ...         &  5000       &   0.09      & 46.4        & 0.579       & -1.2688530  & 0.30579     &       NA    &  26095603   & 37.96077    & 0.0087     \\\\\n",
       "\t Myanmar     & 2016        & 5.750065    &  4492.021   & 66.20500    &  4.9        & NA          & -0.621010   & 25.94273    & 63.85       & ...         &  4370       &  -9.14      & 49.9        & 0.563       & -0.8046199  & 0.30082     &       NA    &  25468783   & 35.46916    & 0.0114     \\\\\n",
       "\t Myanmar     & 2015        & 6.992840    &  4416.547   & 65.81000    &  4.9        & NA          & -0.836280   & 22.97517    & 65.55       & ...         &  4280       &  -7.96      & 51.8        & 0.557       & -1.1650670  & 0.29858     &       NA    &  22076366   & 33.91247    & 0.0077     \\\\\n",
       "\t New Zealand & 2019        & 1.633933    & 45073.200   & 81.70732    & 12.8        & NA          &  2.170174   & 26.98690    & 69.60       & ...         & 43950       &  -0.12      &  4.7        & 0.931       &  1.4113020  & 0.86615     & 35.76924    &  36540963   &       NA    & 0.0407     \\\\\n",
       "\t New Zealand & 2018        & 3.205748    & 43930.880   & 81.85854    & 12.7        & NA          &  2.174655   & 27.59250    & 70.01       & ...         & 42360       &  -0.31      &  4.9        & 0.928       &  1.5339050  & 0.86538     & 36.31900    &  35080341   & 20.41986    & 0.0430     \\\\\n",
       "\t Philippines & 2018        & 6.341486    &  8720.607   & 71.09500    &  9.4        & NA          & -0.542230   & 30.21361    & 59.58       & ...         &  9650       & -11.74      & 28.0        & 0.711       & -1.0920620  & 0.46907     & 22.66000    & 138924391   & 30.56374    & 0.0234     \\\\\n",
       "\t Philippines & 2017        & 6.930988    &  8120.869   & 70.95200    &  9.4        & NA          & -0.476550   & 29.55229    & 59.67       & ...         &  9020       &  -9.06      & 28.7        & 0.708       & -1.1850800  & 0.46682     & 23.09200    & 134518537   & 30.12655    & 0.0255     \\\\\n",
       "\t Philippines & 2016        & 7.149457    &  7703.762   & 70.80200    &  9.3        & NA          & -0.488120   & 26.67300    & 62.23       & ...         &  8560       &  -8.43      & 29.3        & 0.704       & -1.3798190  & 0.46475     & 21.89800    & 122236809   & 30.28592    & 0.0269     \\\\\n",
       "\t Philippines & 2015        & 6.348310    &  7186.769   & 70.64400    &  9.3        & NA          & -0.453470   & 27.20806    & 62.21       & ...         &  8010       &  -4.73      & 29.8        & 0.701       & -0.8556625  & 0.46284     & 20.87400    & 112142487   & 30.48195    & 0.0307     \\\\\n",
       "\t Philippines & 2014        & 6.347987    &  6960.901   & 70.48100    &  9.2        & NA          & -0.437020   & 27.35450    & 62.81       & ...         &  7760       &  -2.76      & 30.2        & 0.696       & -0.7138209  & 0.46093     & 19.71900    & 101182148   & 31.04744    & 0.0360     \\\\\n",
       "\t Sri Lanka   & 2013        & 3.395733    & 10852.060   & 75.97400    & 10.9        & NA          & -0.214750   & 20.32040    & 54.85       & ...         & 10600       &  -8.62      & 10.0        & 0.769       & -0.6128954  & 0.18198     &  7.13000    &  14678050   & 29.16276    & 0.0424     \\\\\n",
       "\t Sri Lanka   & 2012        & 9.144572    & 10315.180   & 75.79600    & 10.9        & NA          & -0.236880   & 19.81648    & 53.44       & ...         & 10130       & -11.86      & 10.6        & 0.766       & -0.7170792  & 0.18196     &  3.44400    &  15797950   & 30.12628    & 0.0388     \\\\\n",
       "\t Sri Lanka   & 2011        & 8.404733    &  9007.734   & 75.61400    & 10.8        & NA          & -0.393240   & 20.89684    & 54.25       & ...         &  8920       & -11.01      & 11.2        & 0.760       & -0.7247714  & 0.18211     &  4.71400    &  14886602   & 27.99567    & 0.0412     \\\\\n",
       "\t Sri Lanka   & 2010        & 8.015967    &  8194.269   & 75.43900    & 10.8        & NA          & -0.421460   & 19.55232    & 54.64       & ...         &  8110       &  -8.21      & 11.6        & 0.754       & -0.9429469  & 0.18226     &  5.68100    &  13050301   & 26.64415    & 0.0478     \\\\\n",
       "\\end{tabular}\n"
      ],
      "text/markdown": [
       "\n",
       "| Countries | Year | GDP_Growth | Market_Size | Life_Exp | Mean_Years_of_Schooling | Internet_Penetration | Gov_Indicator | Trade_Openness | Labour_Force | ... | GNI | BoT | Child_Mortality | HDI | Pol_Stability | Urban_pop | Renew_Energy | CO2_emissions | ind_val_add | unemployment_rate |\n",
       "|---|---|---|---|---|---|---|---|---|---|---|---|---|---|---|---|---|---|---|---|---|\n",
       "| Australia   | 2019        | 2.160956    | 52203.130   | 82.90000    | 12.7        | NA          |  1.825413   | 24.11097    | 65.93       | ...         | 50540       |   2.51      |  3.6        | 0.944       |  0.9117457  | 0.86124     | 54.39985    | 411015667   | 25.38245    | 0.0516      |\n",
       "| Australia   | 2018        | 2.949286    | 50252.840   | 82.74878    | 12.7        | NA          |  1.805214   | 21.82190    | 65.65       | ...         | 48660       |   0.38      |  3.7        | 0.943       |  0.9896040  | 0.86012     | 44.44300    | 415953947   | 24.15897    | 0.0530      |\n",
       "| Myanmar     | 2019        | 1.694424    |  5297.442   | 67.13400    |  5.0        | NA          | -0.614940   | 28.04156    | 60.41       | ...         |  5150       |   4.04      | 44.7        | 0.583       | -1.3280670  | 0.30852     |       NA    |  26231575   | 35.89711    | 0.0050      |\n",
       "| Myanmar     | 2018        | 6.750460    |  5149.938   | 66.86700    |  5.0        | NA          | -0.580750   | 30.38975    | 62.44       | ...         |  5000       |   0.09      | 46.4        | 0.579       | -1.2688530  | 0.30579     |       NA    |  26095603   | 37.96077    | 0.0087      |\n",
       "| Myanmar     | 2016        | 5.750065    |  4492.021   | 66.20500    |  4.9        | NA          | -0.621010   | 25.94273    | 63.85       | ...         |  4370       |  -9.14      | 49.9        | 0.563       | -0.8046199  | 0.30082     |       NA    |  25468783   | 35.46916    | 0.0114      |\n",
       "| Myanmar     | 2015        | 6.992840    |  4416.547   | 65.81000    |  4.9        | NA          | -0.836280   | 22.97517    | 65.55       | ...         |  4280       |  -7.96      | 51.8        | 0.557       | -1.1650670  | 0.29858     |       NA    |  22076366   | 33.91247    | 0.0077      |\n",
       "| New Zealand | 2019        | 1.633933    | 45073.200   | 81.70732    | 12.8        | NA          |  2.170174   | 26.98690    | 69.60       | ...         | 43950       |  -0.12      |  4.7        | 0.931       |  1.4113020  | 0.86615     | 35.76924    |  36540963   |       NA    | 0.0407      |\n",
       "| New Zealand | 2018        | 3.205748    | 43930.880   | 81.85854    | 12.7        | NA          |  2.174655   | 27.59250    | 70.01       | ...         | 42360       |  -0.31      |  4.9        | 0.928       |  1.5339050  | 0.86538     | 36.31900    |  35080341   | 20.41986    | 0.0430      |\n",
       "| Philippines | 2018        | 6.341486    |  8720.607   | 71.09500    |  9.4        | NA          | -0.542230   | 30.21361    | 59.58       | ...         |  9650       | -11.74      | 28.0        | 0.711       | -1.0920620  | 0.46907     | 22.66000    | 138924391   | 30.56374    | 0.0234      |\n",
       "| Philippines | 2017        | 6.930988    |  8120.869   | 70.95200    |  9.4        | NA          | -0.476550   | 29.55229    | 59.67       | ...         |  9020       |  -9.06      | 28.7        | 0.708       | -1.1850800  | 0.46682     | 23.09200    | 134518537   | 30.12655    | 0.0255      |\n",
       "| Philippines | 2016        | 7.149457    |  7703.762   | 70.80200    |  9.3        | NA          | -0.488120   | 26.67300    | 62.23       | ...         |  8560       |  -8.43      | 29.3        | 0.704       | -1.3798190  | 0.46475     | 21.89800    | 122236809   | 30.28592    | 0.0269      |\n",
       "| Philippines | 2015        | 6.348310    |  7186.769   | 70.64400    |  9.3        | NA          | -0.453470   | 27.20806    | 62.21       | ...         |  8010       |  -4.73      | 29.8        | 0.701       | -0.8556625  | 0.46284     | 20.87400    | 112142487   | 30.48195    | 0.0307      |\n",
       "| Philippines | 2014        | 6.347987    |  6960.901   | 70.48100    |  9.2        | NA          | -0.437020   | 27.35450    | 62.81       | ...         |  7760       |  -2.76      | 30.2        | 0.696       | -0.7138209  | 0.46093     | 19.71900    | 101182148   | 31.04744    | 0.0360      |\n",
       "| Sri Lanka   | 2013        | 3.395733    | 10852.060   | 75.97400    | 10.9        | NA          | -0.214750   | 20.32040    | 54.85       | ...         | 10600       |  -8.62      | 10.0        | 0.769       | -0.6128954  | 0.18198     |  7.13000    |  14678050   | 29.16276    | 0.0424      |\n",
       "| Sri Lanka   | 2012        | 9.144572    | 10315.180   | 75.79600    | 10.9        | NA          | -0.236880   | 19.81648    | 53.44       | ...         | 10130       | -11.86      | 10.6        | 0.766       | -0.7170792  | 0.18196     |  3.44400    |  15797950   | 30.12628    | 0.0388      |\n",
       "| Sri Lanka   | 2011        | 8.404733    |  9007.734   | 75.61400    | 10.8        | NA          | -0.393240   | 20.89684    | 54.25       | ...         |  8920       | -11.01      | 11.2        | 0.760       | -0.7247714  | 0.18211     |  4.71400    |  14886602   | 27.99567    | 0.0412      |\n",
       "| Sri Lanka   | 2010        | 8.015967    |  8194.269   | 75.43900    | 10.8        | NA          | -0.421460   | 19.55232    | 54.64       | ...         |  8110       |  -8.21      | 11.6        | 0.754       | -0.9429469  | 0.18226     |  5.68100    |  13050301   | 26.64415    | 0.0478      |\n",
       "\n"
      ],
      "text/plain": [
       "   Countries   Year GDP_Growth Market_Size Life_Exp Mean_Years_of_Schooling\n",
       "1  Australia   2019 2.160956   52203.130   82.90000 12.7                   \n",
       "2  Australia   2018 2.949286   50252.840   82.74878 12.7                   \n",
       "3  Myanmar     2019 1.694424    5297.442   67.13400  5.0                   \n",
       "4  Myanmar     2018 6.750460    5149.938   66.86700  5.0                   \n",
       "5  Myanmar     2016 5.750065    4492.021   66.20500  4.9                   \n",
       "6  Myanmar     2015 6.992840    4416.547   65.81000  4.9                   \n",
       "7  New Zealand 2019 1.633933   45073.200   81.70732 12.8                   \n",
       "8  New Zealand 2018 3.205748   43930.880   81.85854 12.7                   \n",
       "9  Philippines 2018 6.341486    8720.607   71.09500  9.4                   \n",
       "10 Philippines 2017 6.930988    8120.869   70.95200  9.4                   \n",
       "11 Philippines 2016 7.149457    7703.762   70.80200  9.3                   \n",
       "12 Philippines 2015 6.348310    7186.769   70.64400  9.3                   \n",
       "13 Philippines 2014 6.347987    6960.901   70.48100  9.2                   \n",
       "14 Sri Lanka   2013 3.395733   10852.060   75.97400 10.9                   \n",
       "15 Sri Lanka   2012 9.144572   10315.180   75.79600 10.9                   \n",
       "16 Sri Lanka   2011 8.404733    9007.734   75.61400 10.8                   \n",
       "17 Sri Lanka   2010 8.015967    8194.269   75.43900 10.8                   \n",
       "   Internet_Penetration Gov_Indicator Trade_Openness Labour_Force ... GNI  \n",
       "1  NA                    1.825413     24.11097       65.93        ... 50540\n",
       "2  NA                    1.805214     21.82190       65.65        ... 48660\n",
       "3  NA                   -0.614940     28.04156       60.41        ...  5150\n",
       "4  NA                   -0.580750     30.38975       62.44        ...  5000\n",
       "5  NA                   -0.621010     25.94273       63.85        ...  4370\n",
       "6  NA                   -0.836280     22.97517       65.55        ...  4280\n",
       "7  NA                    2.170174     26.98690       69.60        ... 43950\n",
       "8  NA                    2.174655     27.59250       70.01        ... 42360\n",
       "9  NA                   -0.542230     30.21361       59.58        ...  9650\n",
       "10 NA                   -0.476550     29.55229       59.67        ...  9020\n",
       "11 NA                   -0.488120     26.67300       62.23        ...  8560\n",
       "12 NA                   -0.453470     27.20806       62.21        ...  8010\n",
       "13 NA                   -0.437020     27.35450       62.81        ...  7760\n",
       "14 NA                   -0.214750     20.32040       54.85        ... 10600\n",
       "15 NA                   -0.236880     19.81648       53.44        ... 10130\n",
       "16 NA                   -0.393240     20.89684       54.25        ...  8920\n",
       "17 NA                   -0.421460     19.55232       54.64        ...  8110\n",
       "   BoT    Child_Mortality HDI   Pol_Stability Urban_pop Renew_Energy\n",
       "1    2.51  3.6            0.944  0.9117457    0.86124   54.39985    \n",
       "2    0.38  3.7            0.943  0.9896040    0.86012   44.44300    \n",
       "3    4.04 44.7            0.583 -1.3280670    0.30852         NA    \n",
       "4    0.09 46.4            0.579 -1.2688530    0.30579         NA    \n",
       "5   -9.14 49.9            0.563 -0.8046199    0.30082         NA    \n",
       "6   -7.96 51.8            0.557 -1.1650670    0.29858         NA    \n",
       "7   -0.12  4.7            0.931  1.4113020    0.86615   35.76924    \n",
       "8   -0.31  4.9            0.928  1.5339050    0.86538   36.31900    \n",
       "9  -11.74 28.0            0.711 -1.0920620    0.46907   22.66000    \n",
       "10  -9.06 28.7            0.708 -1.1850800    0.46682   23.09200    \n",
       "11  -8.43 29.3            0.704 -1.3798190    0.46475   21.89800    \n",
       "12  -4.73 29.8            0.701 -0.8556625    0.46284   20.87400    \n",
       "13  -2.76 30.2            0.696 -0.7138209    0.46093   19.71900    \n",
       "14  -8.62 10.0            0.769 -0.6128954    0.18198    7.13000    \n",
       "15 -11.86 10.6            0.766 -0.7170792    0.18196    3.44400    \n",
       "16 -11.01 11.2            0.760 -0.7247714    0.18211    4.71400    \n",
       "17  -8.21 11.6            0.754 -0.9429469    0.18226    5.68100    \n",
       "   CO2_emissions ind_val_add unemployment_rate\n",
       "1  411015667     25.38245    0.0516           \n",
       "2  415953947     24.15897    0.0530           \n",
       "3   26231575     35.89711    0.0050           \n",
       "4   26095603     37.96077    0.0087           \n",
       "5   25468783     35.46916    0.0114           \n",
       "6   22076366     33.91247    0.0077           \n",
       "7   36540963           NA    0.0407           \n",
       "8   35080341     20.41986    0.0430           \n",
       "9  138924391     30.56374    0.0234           \n",
       "10 134518537     30.12655    0.0255           \n",
       "11 122236809     30.28592    0.0269           \n",
       "12 112142487     30.48195    0.0307           \n",
       "13 101182148     31.04744    0.0360           \n",
       "14  14678050     29.16276    0.0424           \n",
       "15  15797950     30.12628    0.0388           \n",
       "16  14886602     27.99567    0.0412           \n",
       "17  13050301     26.64415    0.0478           "
      ]
     },
     "metadata": {},
     "output_type": "display_data"
    },
    {
     "data": {
      "text/html": [
       "<table>\n",
       "<thead><tr><th scope=col>Countries</th><th scope=col>Year</th><th scope=col>GDP_Growth</th><th scope=col>Market_Size</th><th scope=col>Life_Exp</th><th scope=col>Mean_Years_of_Schooling</th><th scope=col>Internet_Penetration</th><th scope=col>Gov_Indicator</th><th scope=col>Trade_Openness</th><th scope=col>Labour_Force</th><th scope=col>...</th><th scope=col>GNI</th><th scope=col>BoT</th><th scope=col>Child_Mortality</th><th scope=col>HDI</th><th scope=col>Pol_Stability</th><th scope=col>Urban_pop</th><th scope=col>Renew_Energy</th><th scope=col>CO2_emissions</th><th scope=col>ind_val_add</th><th scope=col>unemployment_rate</th></tr></thead>\n",
       "<tbody>\n",
       "\t<tr><td>Myanmar  </td><td>2017     </td><td>6.404977 </td><td>4739.915 </td><td>66.558   </td><td>5.0      </td><td>23.62108 </td><td>-0.56529 </td><td>28.359710</td><td>62.19    </td><td>...      </td><td>4600     </td><td>-5.73    </td><td>48.1     </td><td>0.572    </td><td>-1.084839</td><td>0.30322  </td><td>NA       </td><td>23669759 </td><td>36.74277 </td><td>0.0156   </td></tr>\n",
       "\t<tr><td>Myanmar  </td><td>2014     </td><td>7.990916 </td><td>4245.806 </td><td>65.378   </td><td>4.8      </td><td>11.52000 </td><td>-0.88217 </td><td>20.090400</td><td>65.93    </td><td>...      </td><td>4080     </td><td>-2.08    </td><td>53.7     </td><td>0.550    </td><td>-1.087581</td><td>0.29650  </td><td>NA       </td><td>16169507 </td><td>34.48971 </td><td>0.0078   </td></tr>\n",
       "\t<tr><td>Myanmar  </td><td>2013     </td><td>8.426001 </td><td>4016.316 </td><td>64.921   </td><td>4.7      </td><td> 8.00000 </td><td>-0.99989 </td><td>19.635100</td><td>66.34    </td><td>...      </td><td>3890     </td><td> 0.69    </td><td>55.8     </td><td>0.543    </td><td>-1.140372</td><td>0.29457  </td><td>NA       </td><td>12936196 </td><td>32.36222 </td><td>0.0080   </td></tr>\n",
       "\t<tr><td>Myanmar  </td><td>2012     </td><td>7.332670 </td><td>3727.142 </td><td>64.453   </td><td>4.5      </td><td> 4.00000 </td><td>-1.06326 </td><td>11.498360</td><td>66.75    </td><td>...      </td><td>3580     </td><td> 0.61    </td><td>58.2     </td><td>0.533    </td><td>-0.943675</td><td>0.29266  </td><td>NA       </td><td>11891872 </td><td>32.37302 </td><td>0.0079   </td></tr>\n",
       "\t<tr><td>Myanmar  </td><td>2011     </td><td>5.591482 </td><td>3469.139 </td><td>63.983   </td><td>4.3      </td><td> 0.98000 </td><td>-1.58677 </td><td> 0.099465</td><td>67.12    </td><td>...      </td><td>3470     </td><td> 1.11    </td><td>60.7     </td><td>0.526    </td><td>-1.111098</td><td>0.29075  </td><td>NA       </td><td>15067867 </td><td>31.29165 </td><td>0.0079   </td></tr>\n",
       "\t<tr><td>Myanmar  </td><td>2010     </td><td>9.634439 </td><td>3243.000 </td><td>63.525   </td><td>4.1      </td><td> 0.25000 </td><td>-1.67334 </td><td>19.588650</td><td>67.42    </td><td>...      </td><td>3240     </td><td> 1.90    </td><td>63.4     </td><td>0.515    </td><td>-1.285928</td><td>0.28885  </td><td>NA       </td><td>13083825 </td><td>26.46806 </td><td>0.0079   </td></tr>\n",
       "</tbody>\n",
       "</table>\n"
      ],
      "text/latex": [
       "\\begin{tabular}{r|llllllllllllllllllllll}\n",
       " Countries & Year & GDP\\_Growth & Market\\_Size & Life\\_Exp & Mean\\_Years\\_of\\_Schooling & Internet\\_Penetration & Gov\\_Indicator & Trade\\_Openness & Labour\\_Force & ... & GNI & BoT & Child\\_Mortality & HDI & Pol\\_Stability & Urban\\_pop & Renew\\_Energy & CO2\\_emissions & ind\\_val\\_add & unemployment\\_rate\\\\\n",
       "\\hline\n",
       "\t Myanmar   & 2017      & 6.404977  & 4739.915  & 66.558    & 5.0       & 23.62108  & -0.56529  & 28.359710 & 62.19     & ...       & 4600      & -5.73     & 48.1      & 0.572     & -1.084839 & 0.30322   & NA        & 23669759  & 36.74277  & 0.0156   \\\\\n",
       "\t Myanmar   & 2014      & 7.990916  & 4245.806  & 65.378    & 4.8       & 11.52000  & -0.88217  & 20.090400 & 65.93     & ...       & 4080      & -2.08     & 53.7      & 0.550     & -1.087581 & 0.29650   & NA        & 16169507  & 34.48971  & 0.0078   \\\\\n",
       "\t Myanmar   & 2013      & 8.426001  & 4016.316  & 64.921    & 4.7       &  8.00000  & -0.99989  & 19.635100 & 66.34     & ...       & 3890      &  0.69     & 55.8      & 0.543     & -1.140372 & 0.29457   & NA        & 12936196  & 32.36222  & 0.0080   \\\\\n",
       "\t Myanmar   & 2012      & 7.332670  & 3727.142  & 64.453    & 4.5       &  4.00000  & -1.06326  & 11.498360 & 66.75     & ...       & 3580      &  0.61     & 58.2      & 0.533     & -0.943675 & 0.29266   & NA        & 11891872  & 32.37302  & 0.0079   \\\\\n",
       "\t Myanmar   & 2011      & 5.591482  & 3469.139  & 63.983    & 4.3       &  0.98000  & -1.58677  &  0.099465 & 67.12     & ...       & 3470      &  1.11     & 60.7      & 0.526     & -1.111098 & 0.29075   & NA        & 15067867  & 31.29165  & 0.0079   \\\\\n",
       "\t Myanmar   & 2010      & 9.634439  & 3243.000  & 63.525    & 4.1       &  0.25000  & -1.67334  & 19.588650 & 67.42     & ...       & 3240      &  1.90     & 63.4      & 0.515     & -1.285928 & 0.28885   & NA        & 13083825  & 26.46806  & 0.0079   \\\\\n",
       "\\end{tabular}\n"
      ],
      "text/markdown": [
       "\n",
       "| Countries | Year | GDP_Growth | Market_Size | Life_Exp | Mean_Years_of_Schooling | Internet_Penetration | Gov_Indicator | Trade_Openness | Labour_Force | ... | GNI | BoT | Child_Mortality | HDI | Pol_Stability | Urban_pop | Renew_Energy | CO2_emissions | ind_val_add | unemployment_rate |\n",
       "|---|---|---|---|---|---|---|---|---|---|---|---|---|---|---|---|---|---|---|---|---|\n",
       "| Myanmar   | 2017      | 6.404977  | 4739.915  | 66.558    | 5.0       | 23.62108  | -0.56529  | 28.359710 | 62.19     | ...       | 4600      | -5.73     | 48.1      | 0.572     | -1.084839 | 0.30322   | NA        | 23669759  | 36.74277  | 0.0156    |\n",
       "| Myanmar   | 2014      | 7.990916  | 4245.806  | 65.378    | 4.8       | 11.52000  | -0.88217  | 20.090400 | 65.93     | ...       | 4080      | -2.08     | 53.7      | 0.550     | -1.087581 | 0.29650   | NA        | 16169507  | 34.48971  | 0.0078    |\n",
       "| Myanmar   | 2013      | 8.426001  | 4016.316  | 64.921    | 4.7       |  8.00000  | -0.99989  | 19.635100 | 66.34     | ...       | 3890      |  0.69     | 55.8      | 0.543     | -1.140372 | 0.29457   | NA        | 12936196  | 32.36222  | 0.0080    |\n",
       "| Myanmar   | 2012      | 7.332670  | 3727.142  | 64.453    | 4.5       |  4.00000  | -1.06326  | 11.498360 | 66.75     | ...       | 3580      |  0.61     | 58.2      | 0.533     | -0.943675 | 0.29266   | NA        | 11891872  | 32.37302  | 0.0079    |\n",
       "| Myanmar   | 2011      | 5.591482  | 3469.139  | 63.983    | 4.3       |  0.98000  | -1.58677  |  0.099465 | 67.12     | ...       | 3470      |  1.11     | 60.7      | 0.526     | -1.111098 | 0.29075   | NA        | 15067867  | 31.29165  | 0.0079    |\n",
       "| Myanmar   | 2010      | 9.634439  | 3243.000  | 63.525    | 4.1       |  0.25000  | -1.67334  | 19.588650 | 67.42     | ...       | 3240      |  1.90     | 63.4      | 0.515     | -1.285928 | 0.28885   | NA        | 13083825  | 26.46806  | 0.0079    |\n",
       "\n"
      ],
      "text/plain": [
       "  Countries Year GDP_Growth Market_Size Life_Exp Mean_Years_of_Schooling\n",
       "1 Myanmar   2017 6.404977   4739.915    66.558   5.0                    \n",
       "2 Myanmar   2014 7.990916   4245.806    65.378   4.8                    \n",
       "3 Myanmar   2013 8.426001   4016.316    64.921   4.7                    \n",
       "4 Myanmar   2012 7.332670   3727.142    64.453   4.5                    \n",
       "5 Myanmar   2011 5.591482   3469.139    63.983   4.3                    \n",
       "6 Myanmar   2010 9.634439   3243.000    63.525   4.1                    \n",
       "  Internet_Penetration Gov_Indicator Trade_Openness Labour_Force ... GNI  BoT  \n",
       "1 23.62108             -0.56529      28.359710      62.19        ... 4600 -5.73\n",
       "2 11.52000             -0.88217      20.090400      65.93        ... 4080 -2.08\n",
       "3  8.00000             -0.99989      19.635100      66.34        ... 3890  0.69\n",
       "4  4.00000             -1.06326      11.498360      66.75        ... 3580  0.61\n",
       "5  0.98000             -1.58677       0.099465      67.12        ... 3470  1.11\n",
       "6  0.25000             -1.67334      19.588650      67.42        ... 3240  1.90\n",
       "  Child_Mortality HDI   Pol_Stability Urban_pop Renew_Energy CO2_emissions\n",
       "1 48.1            0.572 -1.084839     0.30322   NA           23669759     \n",
       "2 53.7            0.550 -1.087581     0.29650   NA           16169507     \n",
       "3 55.8            0.543 -1.140372     0.29457   NA           12936196     \n",
       "4 58.2            0.533 -0.943675     0.29266   NA           11891872     \n",
       "5 60.7            0.526 -1.111098     0.29075   NA           15067867     \n",
       "6 63.4            0.515 -1.285928     0.28885   NA           13083825     \n",
       "  ind_val_add unemployment_rate\n",
       "1 36.74277    0.0156           \n",
       "2 34.48971    0.0078           \n",
       "3 32.36222    0.0080           \n",
       "4 32.37302    0.0079           \n",
       "5 31.29165    0.0079           \n",
       "6 26.46806    0.0079           "
      ]
     },
     "metadata": {},
     "output_type": "display_data"
    },
    {
     "data": {
      "text/html": [
       "<table>\n",
       "<thead><tr><th scope=col>Countries</th><th scope=col>Year</th><th scope=col>GDP_Growth</th><th scope=col>Market_Size</th><th scope=col>Life_Exp</th><th scope=col>Mean_Years_of_Schooling</th><th scope=col>Internet_Penetration</th><th scope=col>Gov_Indicator</th><th scope=col>Trade_Openness</th><th scope=col>Labour_Force</th><th scope=col>...</th><th scope=col>GNI</th><th scope=col>BoT</th><th scope=col>Child_Mortality</th><th scope=col>HDI</th><th scope=col>Pol_Stability</th><th scope=col>Urban_pop</th><th scope=col>Renew_Energy</th><th scope=col>CO2_emissions</th><th scope=col>ind_val_add</th><th scope=col>unemployment_rate</th></tr></thead>\n",
       "<tbody>\n",
       "\t<tr><td>New Zealand</td><td>2013       </td><td>2.695784   </td><td>36242.62   </td><td>81.40732   </td><td>12.1       </td><td>82.78000   </td><td>2.341601   </td><td>28.81358   </td><td>67.57      </td><td>...        </td><td>34810      </td><td>1.61       </td><td>5.8        </td><td>0.914      </td><td>1.453927   </td><td>0.86221    </td><td>31.530     </td><td>35240937   </td><td>20.28755   </td><td>0.0577     </td></tr>\n",
       "\t<tr><td>New Zealand</td><td>2012       </td><td>2.240641   </td><td>32988.61   </td><td>81.15610   </td><td>12.1       </td><td>81.64447   </td><td>2.315760   </td><td>28.85939   </td><td>67.33      </td><td>...        </td><td>31620      </td><td>0.70       </td><td>5.9        </td><td>0.911      </td><td>1.361366   </td><td>0.86161    </td><td>31.223     </td><td>36000433   </td><td>20.92336   </td><td>0.0693     </td></tr>\n",
       "\t<tr><td>New Zealand</td><td>2011       </td><td>2.256737   </td><td>32701.38   </td><td>80.90488   </td><td>12.0       </td><td>81.23000   </td><td>2.297591   </td><td>30.39502   </td><td>67.52      </td><td>...        </td><td>31220      </td><td>1.55       </td><td>6.0        </td><td>0.909      </td><td>1.376731   </td><td>0.86100    </td><td>33.233     </td><td>34249571   </td><td>20.99472   </td><td>0.0649     </td></tr>\n",
       "\t<tr><td>New Zealand</td><td>2010       </td><td>1.527994   </td><td>31239.19   </td><td>80.70244   </td><td>12.0       </td><td>80.46000   </td><td>2.338579   </td><td>30.27363   </td><td>67.21      </td><td>...        </td><td>29690      </td><td>2.30       </td><td>6.1        </td><td>0.906      </td><td>1.236489   </td><td>0.86160    </td><td>32.285     </td><td>34957784   </td><td>21.17565   </td><td>0.0656     </td></tr>\n",
       "</tbody>\n",
       "</table>\n"
      ],
      "text/latex": [
       "\\begin{tabular}{r|llllllllllllllllllllll}\n",
       " Countries & Year & GDP\\_Growth & Market\\_Size & Life\\_Exp & Mean\\_Years\\_of\\_Schooling & Internet\\_Penetration & Gov\\_Indicator & Trade\\_Openness & Labour\\_Force & ... & GNI & BoT & Child\\_Mortality & HDI & Pol\\_Stability & Urban\\_pop & Renew\\_Energy & CO2\\_emissions & ind\\_val\\_add & unemployment\\_rate\\\\\n",
       "\\hline\n",
       "\t New Zealand & 2013        & 2.695784    & 36242.62    & 81.40732    & 12.1        & 82.78000    & 2.341601    & 28.81358    & 67.57       & ...         & 34810       & 1.61        & 5.8         & 0.914       & 1.453927    & 0.86221     & 31.530      & 35240937    & 20.28755    & 0.0577     \\\\\n",
       "\t New Zealand & 2012        & 2.240641    & 32988.61    & 81.15610    & 12.1        & 81.64447    & 2.315760    & 28.85939    & 67.33       & ...         & 31620       & 0.70        & 5.9         & 0.911       & 1.361366    & 0.86161     & 31.223      & 36000433    & 20.92336    & 0.0693     \\\\\n",
       "\t New Zealand & 2011        & 2.256737    & 32701.38    & 80.90488    & 12.0        & 81.23000    & 2.297591    & 30.39502    & 67.52       & ...         & 31220       & 1.55        & 6.0         & 0.909       & 1.376731    & 0.86100     & 33.233      & 34249571    & 20.99472    & 0.0649     \\\\\n",
       "\t New Zealand & 2010        & 1.527994    & 31239.19    & 80.70244    & 12.0        & 80.46000    & 2.338579    & 30.27363    & 67.21       & ...         & 29690       & 2.30        & 6.1         & 0.906       & 1.236489    & 0.86160     & 32.285      & 34957784    & 21.17565    & 0.0656     \\\\\n",
       "\\end{tabular}\n"
      ],
      "text/markdown": [
       "\n",
       "| Countries | Year | GDP_Growth | Market_Size | Life_Exp | Mean_Years_of_Schooling | Internet_Penetration | Gov_Indicator | Trade_Openness | Labour_Force | ... | GNI | BoT | Child_Mortality | HDI | Pol_Stability | Urban_pop | Renew_Energy | CO2_emissions | ind_val_add | unemployment_rate |\n",
       "|---|---|---|---|---|---|---|---|---|---|---|---|---|---|---|---|---|---|---|---|---|\n",
       "| New Zealand | 2013        | 2.695784    | 36242.62    | 81.40732    | 12.1        | 82.78000    | 2.341601    | 28.81358    | 67.57       | ...         | 34810       | 1.61        | 5.8         | 0.914       | 1.453927    | 0.86221     | 31.530      | 35240937    | 20.28755    | 0.0577      |\n",
       "| New Zealand | 2012        | 2.240641    | 32988.61    | 81.15610    | 12.1        | 81.64447    | 2.315760    | 28.85939    | 67.33       | ...         | 31620       | 0.70        | 5.9         | 0.911       | 1.361366    | 0.86161     | 31.223      | 36000433    | 20.92336    | 0.0693      |\n",
       "| New Zealand | 2011        | 2.256737    | 32701.38    | 80.90488    | 12.0        | 81.23000    | 2.297591    | 30.39502    | 67.52       | ...         | 31220       | 1.55        | 6.0         | 0.909       | 1.376731    | 0.86100     | 33.233      | 34249571    | 20.99472    | 0.0649      |\n",
       "| New Zealand | 2010        | 1.527994    | 31239.19    | 80.70244    | 12.0        | 80.46000    | 2.338579    | 30.27363    | 67.21       | ...         | 29690       | 2.30        | 6.1         | 0.906       | 1.236489    | 0.86160     | 32.285      | 34957784    | 21.17565    | 0.0656      |\n",
       "\n"
      ],
      "text/plain": [
       "  Countries   Year GDP_Growth Market_Size Life_Exp Mean_Years_of_Schooling\n",
       "1 New Zealand 2013 2.695784   36242.62    81.40732 12.1                   \n",
       "2 New Zealand 2012 2.240641   32988.61    81.15610 12.1                   \n",
       "3 New Zealand 2011 2.256737   32701.38    80.90488 12.0                   \n",
       "4 New Zealand 2010 1.527994   31239.19    80.70244 12.0                   \n",
       "  Internet_Penetration Gov_Indicator Trade_Openness Labour_Force ... GNI   BoT \n",
       "1 82.78000             2.341601      28.81358       67.57        ... 34810 1.61\n",
       "2 81.64447             2.315760      28.85939       67.33        ... 31620 0.70\n",
       "3 81.23000             2.297591      30.39502       67.52        ... 31220 1.55\n",
       "4 80.46000             2.338579      30.27363       67.21        ... 29690 2.30\n",
       "  Child_Mortality HDI   Pol_Stability Urban_pop Renew_Energy CO2_emissions\n",
       "1 5.8             0.914 1.453927      0.86221   31.530       35240937     \n",
       "2 5.9             0.911 1.361366      0.86161   31.223       36000433     \n",
       "3 6.0             0.909 1.376731      0.86100   33.233       34249571     \n",
       "4 6.1             0.906 1.236489      0.86160   32.285       34957784     \n",
       "  ind_val_add unemployment_rate\n",
       "1 20.28755    0.0577           \n",
       "2 20.92336    0.0693           \n",
       "3 20.99472    0.0649           \n",
       "4 21.17565    0.0656           "
      ]
     },
     "metadata": {},
     "output_type": "display_data"
    },
    {
     "data": {
      "text/html": [
       "<table>\n",
       "<thead><tr><th scope=col>Countries</th><th scope=col>Year</th><th scope=col>GDP_Growth</th><th scope=col>Market_Size</th><th scope=col>Life_Exp</th><th scope=col>Mean_Years_of_Schooling</th><th scope=col>Internet_Penetration</th><th scope=col>Gov_Indicator</th><th scope=col>Trade_Openness</th><th scope=col>Labour_Force</th><th scope=col>...</th><th scope=col>GNI</th><th scope=col>BoT</th><th scope=col>Child_Mortality</th><th scope=col>HDI</th><th scope=col>Pol_Stability</th><th scope=col>Urban_pop</th><th scope=col>Renew_Energy</th><th scope=col>CO2_emissions</th><th scope=col>ind_val_add</th><th scope=col>unemployment_rate</th></tr></thead>\n",
       "<tbody>\n",
       "\t<tr><td>Japan     </td><td>2019      </td><td>0.270309  </td><td>42197.25  </td><td>84.35634  </td><td>12.8      </td><td>92.7304   </td><td>1.4672    </td><td>17.55011  </td><td>62.36     </td><td>...       </td><td>43760     </td><td>0.17      </td><td>2.5       </td><td>0.919     </td><td>1.031847  </td><td>0.91698   </td><td>225.5377  </td><td>1106664426</td><td>NA        </td><td>0.024     </td></tr>\n",
       "</tbody>\n",
       "</table>\n"
      ],
      "text/latex": [
       "\\begin{tabular}{r|llllllllllllllllllllll}\n",
       " Countries & Year & GDP\\_Growth & Market\\_Size & Life\\_Exp & Mean\\_Years\\_of\\_Schooling & Internet\\_Penetration & Gov\\_Indicator & Trade\\_Openness & Labour\\_Force & ... & GNI & BoT & Child\\_Mortality & HDI & Pol\\_Stability & Urban\\_pop & Renew\\_Energy & CO2\\_emissions & ind\\_val\\_add & unemployment\\_rate\\\\\n",
       "\\hline\n",
       "\t Japan      & 2019       & 0.270309   & 42197.25   & 84.35634   & 12.8       & 92.7304    & 1.4672     & 17.55011   & 62.36      & ...        & 43760      & 0.17       & 2.5        & 0.919      & 1.031847   & 0.91698    & 225.5377   & 1106664426 & NA         & 0.024     \\\\\n",
       "\\end{tabular}\n"
      ],
      "text/markdown": [
       "\n",
       "| Countries | Year | GDP_Growth | Market_Size | Life_Exp | Mean_Years_of_Schooling | Internet_Penetration | Gov_Indicator | Trade_Openness | Labour_Force | ... | GNI | BoT | Child_Mortality | HDI | Pol_Stability | Urban_pop | Renew_Energy | CO2_emissions | ind_val_add | unemployment_rate |\n",
       "|---|---|---|---|---|---|---|---|---|---|---|---|---|---|---|---|---|---|---|---|---|\n",
       "| Japan      | 2019       | 0.270309   | 42197.25   | 84.35634   | 12.8       | 92.7304    | 1.4672     | 17.55011   | 62.36      | ...        | 43760      | 0.17       | 2.5        | 0.919      | 1.031847   | 0.91698    | 225.5377   | 1106664426 | NA         | 0.024      |\n",
       "\n"
      ],
      "text/plain": [
       "  Countries Year GDP_Growth Market_Size Life_Exp Mean_Years_of_Schooling\n",
       "1 Japan     2019 0.270309   42197.25    84.35634 12.8                   \n",
       "  Internet_Penetration Gov_Indicator Trade_Openness Labour_Force ... GNI   BoT \n",
       "1 92.7304              1.4672        17.55011       62.36        ... 43760 0.17\n",
       "  Child_Mortality HDI   Pol_Stability Urban_pop Renew_Energy CO2_emissions\n",
       "1 2.5             0.919 1.031847      0.91698   225.5377     1106664426   \n",
       "  ind_val_add unemployment_rate\n",
       "1 NA          0.024            "
      ]
     },
     "metadata": {},
     "output_type": "display_data"
    }
   ],
   "source": [
    "#data exploration for NA values---------------\n",
    "\n",
    "asia_dataset_cleaned_na[rowSums(is.na(asia_dataset_cleaned_na)) > 0,]\n",
    "asia_dataset_cleaned_na[is.na(asia_dataset_cleaned_na$CPI)]\n",
    "asia_dataset_cleaned_na <- subset(asia_dataset_cleaned_na, select = -c(CPI))\n",
    "#drop CPI col\n",
    "\n",
    "\n",
    "asia_dataset_cleaned_na[is.na(asia_dataset_cleaned_na$Internet_Penetration)]\n",
    "asia_dataset_cleaned_na <- asia_dataset_cleaned_na[!is.na(asia_dataset_cleaned_na$Internet_Penetration)]\n",
    "#drop rows with NA in Internet_Penetration \n",
    "\n",
    "asia_dataset_cleaned_na[is.na(asia_dataset_cleaned_na$Renew_Energy)]\n",
    "asia_dataset_cleaned_na <- asia_dataset_cleaned_na[!is.na(asia_dataset_cleaned_na$Renew_Energy)]\n",
    "#drop rows with NA in Renew_Energy\n",
    "\n",
    "asia_dataset_cleaned_na[is.na(asia_dataset_cleaned_na$Domestic_credit_to_private_sector)]\n",
    "asia_dataset_cleaned_na <- asia_dataset_cleaned_na[!is.na(asia_dataset_cleaned_na$Domestic_credit_to_private_sector)]\n",
    "#drop rows with NA in Domestic_credit_to_private_sector\n",
    "\n",
    "asia_dataset_cleaned_na[is.na(asia_dataset_cleaned_na$ind_val_add)]\n",
    "asia_dataset_cleaned_na <- asia_dataset_cleaned_na[!is.na(asia_dataset_cleaned_na$ind_val_add)]\n",
    "#drop rows with NA in ind_val_add"
   ]
  },
  {
   "cell_type": "code",
   "execution_count": 109,
   "id": "fb195f54",
   "metadata": {
    "scrolled": false
   },
   "outputs": [
    {
     "data": {
      "text/plain": [
       "  Countries              Year        GDP_Growth       Market_Size    \n",
       " Length:122         Min.   :2010   Min.   :-0.1154   Min.   :  2439  \n",
       " Class :character   1st Qu.:2012   1st Qu.: 3.5248   1st Qu.:  5656  \n",
       " Mode  :character   Median :2014   Median : 5.0807   Median : 12268  \n",
       "                    Mean   :2014   Mean   : 4.9984   Mean   : 22031  \n",
       "                    3rd Qu.:2017   3rd Qu.: 6.5301   3rd Qu.: 33631  \n",
       "                    Max.   :2019   Max.   :14.5256   Max.   :102573  \n",
       "    Life_Exp     Mean_Years_of_Schooling Internet_Penetration Gov_Indicator    \n",
       " Min.   :65.26   Min.   : 4.700          Min.   : 3.70        Min.   :-1.0877  \n",
       " 1st Qu.:70.51   1st Qu.: 7.300          1st Qu.:15.16        1st Qu.:-0.5626  \n",
       " Median :75.14   Median : 7.950          Median :41.65        Median :-0.3481  \n",
       " Mean   :75.06   Mean   : 8.719          Mean   :45.51        Mean   : 0.1390  \n",
       " 3rd Qu.:80.34   3rd Qu.:10.975          3rd Qu.:77.66        3rd Qu.: 1.1718  \n",
       " Max.   :84.21   Max.   :12.800          Max.   :93.18        Max.   : 2.2839  \n",
       " Trade_Openness     Labour_Force   Domestic_credit_to_private_sector\n",
       " Min.   :  8.257   Min.   :49.34   Min.   : 15.39                   \n",
       " 1st Qu.: 19.095   1st Qu.:56.80   1st Qu.: 43.90                   \n",
       " Median : 23.588   Median :64.92   Median :113.55                   \n",
       " Mean   : 47.603   Mean   :63.63   Mean   : 93.25                   \n",
       " 3rd Qu.: 68.205   3rd Qu.:69.54   3rd Qu.:135.75                   \n",
       " Max.   :203.328   Max.   :77.95   Max.   :169.96                   \n",
       "   inflation            GNI             BoT          Child_Mortality \n",
       " Min.   :-0.9004   Min.   : 2640   Min.   :-12.080   Min.   : 2.500  \n",
       " 1st Qu.: 1.6884   1st Qu.: 5532   1st Qu.: -4.600   1st Qu.: 5.975  \n",
       " Median : 3.1587   Median :11920   Median :  0.115   Median :12.450  \n",
       " Mean   : 3.8335   Mean   :21369   Mean   :  1.597   Mean   :22.397  \n",
       " 3rd Qu.: 5.3290   3rd Qu.:34038   3rd Qu.:  3.465   3rd Qu.:32.150  \n",
       " Max.   :18.6777   Max.   :90320   Max.   : 28.780   Max.   :87.100  \n",
       "      HDI         Pol_Stability       Urban_pop       Renew_Energy      \n",
       " Min.   :0.5120   Min.   :-2.8100   Min.   :0.1822   Min.   :   0.7958  \n",
       " 1st Qu.:0.6620   1st Qu.:-0.9954   1st Qu.:0.3511   1st Qu.:  12.5973  \n",
       " Median :0.7320   Median :-0.3949   Median :0.4993   Median :  30.4842  \n",
       " Mean   :0.7428   Mean   :-0.2942   Mean   :0.5607   Mean   : 157.3664  \n",
       " 3rd Qu.:0.8678   3rd Qu.: 0.7264   3rd Qu.:0.8304   3rd Qu.:  81.4946  \n",
       " Max.   :0.9410   Max.   : 1.6157   Max.   :1.0000   Max.   :2043.2580  \n",
       " CO2_emissions          ind_val_add    unemployment_rate\n",
       " Min.   :   17689940   Min.   :17.80   Min.   :0.00210  \n",
       " 1st Qu.:   85718805   1st Qu.:25.36   1st Qu.:0.03062  \n",
       " Median :  248843938   Median :29.05   Median :0.04025  \n",
       " Mean   : 1215674759   Mean   :30.83   Mean   :0.03646  \n",
       " 3rd Qu.:  576584390   3rd Qu.:37.61   3rd Qu.:0.04520  \n",
       " Max.   :10200000000   Max.   :46.53   Max.   :0.06080  "
      ]
     },
     "metadata": {},
     "output_type": "display_data"
    }
   ],
   "source": [
    "summary(asia_dataset_cleaned_na)"
   ]
  },
  {
   "cell_type": "code",
   "execution_count": 110,
   "id": "9bdcc228",
   "metadata": {},
   "outputs": [],
   "source": [
    "# Train-Test split-----------------------------\n",
    "set.seed(2014)\n",
    "\n",
    "trainasiana <- sample.split(Y = asia_dataset_cleaned_na$GDP_Growth, SplitRatio = 0.70)\n",
    "\n",
    "trainsetasiana <- subset(asia_dataset_cleaned_na, trainasiana == T)\n",
    "\n",
    "testsetasiana <- subset(asia_dataset_cleaned_na, trainasiana == F)"
   ]
  },
  {
   "cell_type": "code",
   "execution_count": 111,
   "id": "ce784e83",
   "metadata": {},
   "outputs": [
    {
     "data": {
      "image/png": "[encoded data removed]",
      "text/plain": [
       "plot without title"
      ]
     },
     "metadata": {},
     "output_type": "display_data"
    }
   ],
   "source": [
    "cartmaxasiana <- rpart(GDP_Growth ~ .-Countries - Year, data = trainsetasiana, method = 'anova',\n",
    "                     control = rpart.control(minsplit = 2, cp = 0))\n",
    "\n",
    "plotcp(cartmaxasiana)"
   ]
  },
  {
   "cell_type": "code",
   "execution_count": 112,
   "id": "8e078251",
   "metadata": {},
   "outputs": [
    {
     "name": "stderr",
     "output_type": "stream",
     "text": [
      "Warning message:\n",
      "\"labs do not fit even at cex 0.15, there may be some overplotting\""
     ]
    },
    {
     "data": {
      "image/png": "[encoded data removed]",
      "text/plain": [
       "Plot with title \"Maximal Tree\""
      ]
     },
     "metadata": {},
     "output_type": "display_data"
    }
   ],
   "source": [
    "#Grow to max tree\n",
    "rpart.plot(cartmaxasiana, nn= T, main = \"Maximal Tree\")\n"
   ]
  },
  {
   "cell_type": "code",
   "execution_count": 113,
   "id": "ec7e8d95",
   "metadata": {},
   "outputs": [
    {
     "data": {
      "text/html": [
       "0.0647890801527366"
      ],
      "text/latex": [
       "0.0647890801527366"
      ],
      "text/markdown": [
       "0.0647890801527366"
      ],
      "text/plain": [
       "[1] 0.06478908"
      ]
     },
     "metadata": {},
     "output_type": "display_data"
    }
   ],
   "source": [
    "# Automatic method to find optimal CP \n",
    "CVerror.capna <- cartmaxasiana$cptable[which.min(cartmaxasiana$cptable[,\"xerror\"]), \"xerror\"] + cartmaxasiana$cptable[which.min(cartmaxasiana$cptable[,\"xerror\"]), \"xstd\"]\n",
    "\n",
    "# Find the optimal CP region whose CV error is just below CVerror.cap in maximal tree m1.\n",
    "i <- 1; j<- 4\n",
    "while (cartmaxasiana$cptable[i,j] > CVerror.capna) {\n",
    "  i <- i + 1\n",
    "}\n",
    "\n",
    "# Get geometric mean of the two identified CP values in the optimal region if optimal tree has at least one split.\n",
    "cp.optna = ifelse(i > 1, sqrt(cartmaxasiana$cptable[i,1] * cartmaxasiana$cptable[i-1,1]), 1)\n",
    "cp.optna"
   ]
  },
  {
   "cell_type": "code",
   "execution_count": 114,
   "id": "eb423563",
   "metadata": {},
   "outputs": [
    {
     "data": {
      "image/png": "[encoded data removed]",
      "text/plain": [
       "Plot with title \"Optimal Tree\""
      ]
     },
     "metadata": {},
     "output_type": "display_data"
    }
   ],
   "source": [
    "# Prune the tree to optimal\n",
    "optcartasiana <- prune(cartmaxasiana, cp = cp.optna)\n",
    "rpart.plot(optcartasiana, nn= T, main = \"Optimal Tree\")"
   ]
  },
  {
   "cell_type": "code",
   "execution_count": 115,
   "id": "25634522",
   "metadata": {},
   "outputs": [
    {
     "data": {
      "text/html": [
       "<dl class=dl-horizontal>\n",
       "\t<dt>Mean_Years_of_Schooling</dt>\n",
       "\t\t<dd>156.083373057716</dd>\n",
       "\t<dt>HDI</dt>\n",
       "\t\t<dd>129.589783977541</dd>\n",
       "\t<dt>Life_Exp</dt>\n",
       "\t\t<dd>121.982410555129</dd>\n",
       "\t<dt>Internet_Penetration</dt>\n",
       "\t\t<dd>106.50322791377</dd>\n",
       "\t<dt>Market_Size</dt>\n",
       "\t\t<dd>106.50322791377</dd>\n",
       "\t<dt>Pol_Stability</dt>\n",
       "\t\t<dd>106.50322791377</dd>\n",
       "\t<dt>Gov_Indicator</dt>\n",
       "\t\t<dd>91.3265866554773</dd>\n",
       "\t<dt>unemployment_rate</dt>\n",
       "\t\t<dd>84.442366433692</dd>\n",
       "\t<dt>CO2_emissions</dt>\n",
       "\t\t<dd>37.956745605949</dd>\n",
       "\t<dt>Renew_Energy</dt>\n",
       "\t\t<dd>37.956745605949</dd>\n",
       "\t<dt>Child_Mortality</dt>\n",
       "\t\t<dd>23.0865560637708</dd>\n",
       "\t<dt>Labour_Force</dt>\n",
       "\t\t<dd>15.1826982423796</dd>\n",
       "\t<dt>ind_val_add</dt>\n",
       "\t\t<dd>11.3870236817847</dd>\n",
       "\t<dt>Domestic_credit_to_private_sector</dt>\n",
       "\t\t<dd>7.59134912118981</dd>\n",
       "</dl>\n"
      ],
      "text/latex": [
       "\\begin{description*}\n",
       "\\item[Mean\\textbackslash{}\\_Years\\textbackslash{}\\_of\\textbackslash{}\\_Schooling] 156.083373057716\n",
       "\\item[HDI] 129.589783977541\n",
       "\\item[Life\\textbackslash{}\\_Exp] 121.982410555129\n",
       "\\item[Internet\\textbackslash{}\\_Penetration] 106.50322791377\n",
       "\\item[Market\\textbackslash{}\\_Size] 106.50322791377\n",
       "\\item[Pol\\textbackslash{}\\_Stability] 106.50322791377\n",
       "\\item[Gov\\textbackslash{}\\_Indicator] 91.3265866554773\n",
       "\\item[unemployment\\textbackslash{}\\_rate] 84.442366433692\n",
       "\\item[CO2\\textbackslash{}\\_emissions] 37.956745605949\n",
       "\\item[Renew\\textbackslash{}\\_Energy] 37.956745605949\n",
       "\\item[Child\\textbackslash{}\\_Mortality] 23.0865560637708\n",
       "\\item[Labour\\textbackslash{}\\_Force] 15.1826982423796\n",
       "\\item[ind\\textbackslash{}\\_val\\textbackslash{}\\_add] 11.3870236817847\n",
       "\\item[Domestic\\textbackslash{}\\_credit\\textbackslash{}\\_to\\textbackslash{}\\_private\\textbackslash{}\\_sector] 7.59134912118981\n",
       "\\end{description*}\n"
      ],
      "text/markdown": [
       "Mean_Years_of_Schooling\n",
       ":   156.083373057716HDI\n",
       ":   129.589783977541Life_Exp\n",
       ":   121.982410555129Internet_Penetration\n",
       ":   106.50322791377Market_Size\n",
       ":   106.50322791377Pol_Stability\n",
       ":   106.50322791377Gov_Indicator\n",
       ":   91.3265866554773unemployment_rate\n",
       ":   84.442366433692CO2_emissions\n",
       ":   37.956745605949Renew_Energy\n",
       ":   37.956745605949Child_Mortality\n",
       ":   23.0865560637708Labour_Force\n",
       ":   15.1826982423796ind_val_add\n",
       ":   11.3870236817847Domestic_credit_to_private_sector\n",
       ":   7.59134912118981\n",
       "\n"
      ],
      "text/plain": [
       "          Mean_Years_of_Schooling                               HDI \n",
       "                       156.083373                        129.589784 \n",
       "                         Life_Exp              Internet_Penetration \n",
       "                       121.982411                        106.503228 \n",
       "                      Market_Size                     Pol_Stability \n",
       "                       106.503228                        106.503228 \n",
       "                    Gov_Indicator                 unemployment_rate \n",
       "                        91.326587                         84.442366 \n",
       "                    CO2_emissions                      Renew_Energy \n",
       "                        37.956746                         37.956746 \n",
       "                  Child_Mortality                      Labour_Force \n",
       "                        23.086556                         15.182698 \n",
       "                      ind_val_add Domestic_credit_to_private_sector \n",
       "                        11.387024                          7.591349 "
      ]
     },
     "metadata": {},
     "output_type": "display_data"
    },
    {
     "data": {
      "text/html": [
       "<dl class=dl-horizontal>\n",
       "\t<dt>Mean_Years_of_Schooling</dt>\n",
       "\t\t<dd>15</dd>\n",
       "\t<dt>HDI</dt>\n",
       "\t\t<dd>13</dd>\n",
       "\t<dt>Life_Exp</dt>\n",
       "\t\t<dd>12</dd>\n",
       "\t<dt>Internet_Penetration</dt>\n",
       "\t\t<dd>10</dd>\n",
       "\t<dt>Market_Size</dt>\n",
       "\t\t<dd>10</dd>\n",
       "\t<dt>Pol_Stability</dt>\n",
       "\t\t<dd>10</dd>\n",
       "\t<dt>Gov_Indicator</dt>\n",
       "\t\t<dd>9</dd>\n",
       "\t<dt>unemployment_rate</dt>\n",
       "\t\t<dd>8</dd>\n",
       "\t<dt>CO2_emissions</dt>\n",
       "\t\t<dd>4</dd>\n",
       "\t<dt>Renew_Energy</dt>\n",
       "\t\t<dd>4</dd>\n",
       "\t<dt>Child_Mortality</dt>\n",
       "\t\t<dd>2</dd>\n",
       "\t<dt>Labour_Force</dt>\n",
       "\t\t<dd>1</dd>\n",
       "\t<dt>ind_val_add</dt>\n",
       "\t\t<dd>1</dd>\n",
       "\t<dt>Domestic_credit_to_private_sector</dt>\n",
       "\t\t<dd>1</dd>\n",
       "</dl>\n"
      ],
      "text/latex": [
       "\\begin{description*}\n",
       "\\item[Mean\\textbackslash{}\\_Years\\textbackslash{}\\_of\\textbackslash{}\\_Schooling] 15\n",
       "\\item[HDI] 13\n",
       "\\item[Life\\textbackslash{}\\_Exp] 12\n",
       "\\item[Internet\\textbackslash{}\\_Penetration] 10\n",
       "\\item[Market\\textbackslash{}\\_Size] 10\n",
       "\\item[Pol\\textbackslash{}\\_Stability] 10\n",
       "\\item[Gov\\textbackslash{}\\_Indicator] 9\n",
       "\\item[unemployment\\textbackslash{}\\_rate] 8\n",
       "\\item[CO2\\textbackslash{}\\_emissions] 4\n",
       "\\item[Renew\\textbackslash{}\\_Energy] 4\n",
       "\\item[Child\\textbackslash{}\\_Mortality] 2\n",
       "\\item[Labour\\textbackslash{}\\_Force] 1\n",
       "\\item[ind\\textbackslash{}\\_val\\textbackslash{}\\_add] 1\n",
       "\\item[Domestic\\textbackslash{}\\_credit\\textbackslash{}\\_to\\textbackslash{}\\_private\\textbackslash{}\\_sector] 1\n",
       "\\end{description*}\n"
      ],
      "text/markdown": [
       "Mean_Years_of_Schooling\n",
       ":   15HDI\n",
       ":   13Life_Exp\n",
       ":   12Internet_Penetration\n",
       ":   10Market_Size\n",
       ":   10Pol_Stability\n",
       ":   10Gov_Indicator\n",
       ":   9unemployment_rate\n",
       ":   8CO2_emissions\n",
       ":   4Renew_Energy\n",
       ":   4Child_Mortality\n",
       ":   2Labour_Force\n",
       ":   1ind_val_add\n",
       ":   1Domestic_credit_to_private_sector\n",
       ":   1\n",
       "\n"
      ],
      "text/plain": [
       "          Mean_Years_of_Schooling                               HDI \n",
       "                               15                                13 \n",
       "                         Life_Exp              Internet_Penetration \n",
       "                               12                                10 \n",
       "                      Market_Size                     Pol_Stability \n",
       "                               10                                10 \n",
       "                    Gov_Indicator                 unemployment_rate \n",
       "                                9                                 8 \n",
       "                    CO2_emissions                      Renew_Energy \n",
       "                                4                                 4 \n",
       "                  Child_Mortality                      Labour_Force \n",
       "                                2                                 1 \n",
       "                      ind_val_add Domestic_credit_to_private_sector \n",
       "                                1                                 1 "
      ]
     },
     "metadata": {},
     "output_type": "display_data"
    }
   ],
   "source": [
    "# Variable Importance\n",
    "optcartasiana$variable.importance\n",
    "scaled_variable_importance = round((100*optcartasiana$variable.importance/sum(optcartasiana$variable.importance)))\n",
    "scaled_variable_importance"
   ]
  },
  {
   "cell_type": "code",
   "execution_count": 116,
   "id": "39ba919c",
   "metadata": {},
   "outputs": [
    {
     "data": {
      "text/html": [
       "1.23737688722519"
      ],
      "text/latex": [
       "1.23737688722519"
      ],
      "text/markdown": [
       "1.23737688722519"
      ],
      "text/plain": [
       "[1] 1.237377"
      ]
     },
     "metadata": {},
     "output_type": "display_data"
    },
    {
     "data": {
      "text/html": [
       "1.80302774175118"
      ],
      "text/latex": [
       "1.80302774175118"
      ],
      "text/markdown": [
       "1.80302774175118"
      ],
      "text/plain": [
       "[1] 1.803028"
      ]
     },
     "metadata": {},
     "output_type": "display_data"
    }
   ],
   "source": [
    "# Checking Accuracy \n",
    "cart.predicttestna <- predict(optcartasiana, newdata = testsetasiana)\n",
    "cart.predicttrainna <- predict(optcartasiana, newdata = trainsetasiana)\n",
    "\n",
    "rmse(cart.predicttrainna, trainsetasiana$GDP_Growth)#1.237377\n",
    "rmse(cart.predicttestna, testsetasiana$GDP_Growth)#1.803028"
   ]
  },
  {
   "cell_type": "markdown",
   "id": "b38e5331",
   "metadata": {},
   "source": [
    "# CART with variables < 10 NA Values"
   ]
  },
  {
   "cell_type": "code",
   "execution_count": 117,
   "id": "f4612dd6",
   "metadata": {},
   "outputs": [
    {
     "data": {
      "text/plain": [
       "  Countries              Year        GDP_Growth       Market_Size    \n",
       " Length:150         Min.   :2010   Min.   :-0.1154   Min.   :  2439  \n",
       " Class :character   1st Qu.:2012   1st Qu.: 3.3457   1st Qu.:  5313  \n",
       " Mode  :character   Median :2014   Median : 5.2443   Median : 11227  \n",
       "                    Mean   :2014   Mean   : 5.0493   Mean   : 21163  \n",
       "                    3rd Qu.:2017   3rd Qu.: 6.7503   3rd Qu.: 32917  \n",
       "                    Max.   :2019   Max.   :14.5256   Max.   :102573  \n",
       "                                                                     \n",
       "    Life_Exp     Mean_Years_of_Schooling Internet_Penetration Gov_Indicator    \n",
       " Min.   :63.52   Min.   : 4.100          Min.   : 0.25        Min.   :-1.6733  \n",
       " 1st Qu.:70.20   1st Qu.: 6.500          1st Qu.:14.90        1st Qu.:-0.5788  \n",
       " Median :75.09   Median : 8.100          Median :41.00        Median :-0.3735  \n",
       " Mean   :74.71   Mean   : 8.752          Mean   :45.26        Mean   : 0.1507  \n",
       " 3rd Qu.:81.09   3rd Qu.:11.100          3rd Qu.:79.00        3rd Qu.: 1.5105  \n",
       " Max.   :84.36   Max.   :12.800          Max.   :93.18        Max.   : 2.3416  \n",
       "                                         NA's   :17                            \n",
       " Trade_Openness       Labour_Force   Domestic_credit_to_private_sector\n",
       " Min.   :  0.09946   Min.   :49.34   Min.   :  4.767                  \n",
       " 1st Qu.: 19.54148   1st Qu.:58.90   1st Qu.: 38.751                  \n",
       " Median : 24.01728   Median :64.92   Median : 98.552                  \n",
       " Mean   : 43.14824   Mean   :63.59   Mean   : 86.606                  \n",
       " 3rd Qu.: 65.12959   3rd Qu.:68.80   3rd Qu.:134.023                  \n",
       " Max.   :203.32770   Max.   :77.95   Max.   :176.828                  \n",
       "                                     NA's   :4                        \n",
       "   inflation            GNI             BoT           Child_Mortality \n",
       " Min.   :-0.9004   Min.   : 2640   Min.   :-12.0800   Min.   : 2.500  \n",
       " 1st Qu.: 1.6204   1st Qu.: 5175   1st Qu.: -5.3725   1st Qu.: 5.925  \n",
       " Median : 3.1772   Median :11085   Median : -0.0600   Median :12.750  \n",
       " Mean   : 3.9057   Mean   :20574   Mean   :  0.7383   Mean   :23.318  \n",
       " 3rd Qu.: 5.5513   3rd Qu.:31520   3rd Qu.:  2.6800   3rd Qu.:33.900  \n",
       " Max.   :18.6777   Max.   :90320   Max.   : 28.7800   Max.   :87.100  \n",
       "                                                                      \n",
       "      HDI         Pol_Stability          CPI         Urban_pop     \n",
       " Min.   :0.5120   Min.   :-2.8100   Min.   :15.0   Min.   :0.1820  \n",
       " 1st Qu.:0.6405   1st Qu.:-1.0869   1st Qu.:33.0   1st Qu.:0.3365  \n",
       " Median :0.7275   Median :-0.5093   Median :38.0   Median :0.4742  \n",
       " Mean   :0.7401   Mean   :-0.2935   Mean   :47.6   Mean   :0.5484  \n",
       " 3rd Qu.:0.8958   3rd Qu.: 0.8879   3rd Qu.:73.0   3rd Qu.:0.8538  \n",
       " Max.   :0.9440   Max.   : 1.6157   Max.   :91.0   Max.   :1.0000  \n",
       "                                    NA's   :30                     \n",
       "  Renew_Energy       CO2_emissions          ind_val_add    unemployment_rate\n",
       " Min.   :   0.7958   Min.   :   11891872   Min.   :17.80   Min.   :0.00210  \n",
       " 1st Qu.:  12.8458   1st Qu.:   54366432   1st Qu.:25.36   1st Qu.:0.02438  \n",
       " Median :  30.4842   Median :  211774129   Median :29.28   Median :0.03915  \n",
       " Mean   : 141.8047   Mean   : 1008787555   Mean   :30.52   Mean   :0.03546  \n",
       " 3rd Qu.:  57.4513   3rd Qu.:  428174280   3rd Qu.:36.32   3rd Qu.:0.04520  \n",
       " Max.   :2043.2580   Max.   :10200000000   Max.   :46.53   Max.   :0.06930  \n",
       " NA's   :10                                NA's   :2                        "
      ]
     },
     "metadata": {},
     "output_type": "display_data"
    }
   ],
   "source": [
    "asia_dataset_cleaned10 <- fread('final_asia_dataset_cleaned.csv')\n",
    "\n",
    "summary(asia_dataset_cleaned10)"
   ]
  },
  {
   "cell_type": "code",
   "execution_count": 118,
   "id": "3404518c",
   "metadata": {},
   "outputs": [
    {
     "data": {
      "text/html": [
       "<table>\n",
       "<thead><tr><th scope=col>Countries</th><th scope=col>Year</th><th scope=col>GDP_Growth</th><th scope=col>Market_Size</th><th scope=col>Life_Exp</th><th scope=col>Mean_Years_of_Schooling</th><th scope=col>Internet_Penetration</th><th scope=col>Gov_Indicator</th><th scope=col>Trade_Openness</th><th scope=col>Labour_Force</th><th scope=col>...</th><th scope=col>BoT</th><th scope=col>Child_Mortality</th><th scope=col>HDI</th><th scope=col>Pol_Stability</th><th scope=col>CPI</th><th scope=col>Urban_pop</th><th scope=col>Renew_Energy</th><th scope=col>CO2_emissions</th><th scope=col>ind_val_add</th><th scope=col>unemployment_rate</th></tr></thead>\n",
       "<tbody>\n",
       "\t<tr><td>Australia  </td><td>2019       </td><td> 2.160956  </td><td>52203.130  </td><td>82.90000   </td><td>12.7       </td><td>      NA   </td><td> 1.825413  </td><td> 24.110970 </td><td>65.93      </td><td>...        </td><td>  2.51     </td><td> 3.6       </td><td>0.944      </td><td> 0.9117457 </td><td>77         </td><td>0.86124    </td><td> 54.399850 </td><td> 411015667 </td><td>25.38245   </td><td>0.0516     </td></tr>\n",
       "\t<tr><td>Australia  </td><td>2018       </td><td> 2.949286  </td><td>50252.840  </td><td>82.74878   </td><td>12.7       </td><td>      NA   </td><td> 1.805214  </td><td> 21.821900 </td><td>65.65      </td><td>...        </td><td>  0.38     </td><td> 3.7       </td><td>0.943      </td><td> 0.9896040 </td><td>77         </td><td>0.86012    </td><td> 44.443000 </td><td> 415953947 </td><td>24.15897   </td><td>0.0530     </td></tr>\n",
       "\t<tr><td>Australia  </td><td>2011       </td><td> 2.462756  </td><td>41965.360  </td><td>81.89512   </td><td>12.7       </td><td>79.48770   </td><td> 2.044710  </td><td> 21.436420 </td><td>65.63      </td><td>...        </td><td>  0.97     </td><td> 4.5       </td><td>0.932      </td><td> 0.9357101 </td><td>NA         </td><td>0.85300    </td><td> 26.273000 </td><td> 404172757 </td><td>26.43613   </td><td>0.0508     </td></tr>\n",
       "\t<tr><td>Australia  </td><td>2010       </td><td> 2.067417  </td><td>39301.340  </td><td>81.69512   </td><td>12.6       </td><td>76.00000   </td><td> 2.032045  </td><td> 19.810010 </td><td>65.60      </td><td>...        </td><td> -1.03     </td><td> 4.8       </td><td>0.930      </td><td> 0.8888599 </td><td>NA         </td><td>0.85182    </td><td> 21.720000 </td><td> 405502799 </td><td>25.15142   </td><td>0.0521     </td></tr>\n",
       "\t<tr><td>Bangladesh </td><td>2011       </td><td> 6.464379  </td><td> 2620.834  </td><td>70.25600   </td><td> 5.7       </td><td> 4.50000   </td><td>-1.087300  </td><td> 19.922070 </td><td>56.85      </td><td>...        </td><td> -6.54     </td><td>46.1       </td><td>0.566      </td><td>-1.4047370 </td><td>NA         </td><td>0.31225    </td><td>  0.979676 </td><td>  56556344 </td><td>25.04530   </td><td>0.0371     </td></tr>\n",
       "\t<tr><td>Bangladesh </td><td>2010       </td><td> 5.571788  </td><td> 2439.070  </td><td>69.88100   </td><td> 5.3       </td><td> 3.70000   </td><td>-1.057410  </td><td> 16.024110 </td><td>56.92      </td><td>...        </td><td> -5.84     </td><td>48.7       </td><td>0.557      </td><td>-1.4257890 </td><td>NA         </td><td>0.30462    </td><td>  0.836591 </td><td>  53991553 </td><td>24.95648   </td><td>0.0338     </td></tr>\n",
       "\t<tr><td>China      </td><td>2011       </td><td> 9.550832  </td><td>10299.870  </td><td>74.70800   </td><td> 7.4       </td><td>38.30000   </td><td>-0.507090  </td><td> 26.568190 </td><td>71.06      </td><td>...        </td><td>  3.85     </td><td>14.6       </td><td>0.707      </td><td>-0.6020548 </td><td>NA         </td><td>0.50511    </td><td>766.200000 </td><td>9388199234 </td><td>46.52929   </td><td>0.0450     </td></tr>\n",
       "\t<tr><td>China      </td><td>2010       </td><td>10.635870  </td><td> 9253.765  </td><td>74.40900   </td><td> 7.3       </td><td>34.30000   </td><td>-0.561790  </td><td> 27.185330 </td><td>71.26      </td><td>...        </td><td>  5.03     </td><td>15.8       </td><td>0.699      </td><td>-0.6570607 </td><td>NA         </td><td>0.49226    </td><td>752.445000 </td><td>8500542695 </td><td>46.49783   </td><td>0.0450     </td></tr>\n",
       "\t<tr><td>India      </td><td>2011       </td><td> 5.241315  </td><td> 4493.669  </td><td>67.13000   </td><td> 5.3       </td><td>10.07000   </td><td>-0.536260  </td><td> 24.540410 </td><td>53.29      </td><td>...        </td><td> -5.42     </td><td>55.1       </td><td>0.588      </td><td>-1.3267950 </td><td>NA         </td><td>0.31276    </td><td>174.620800 </td><td>1766065040 </td><td>30.16168   </td><td>0.0565     </td></tr>\n",
       "\t<tr><td>India      </td><td>2010       </td><td> 8.497585  </td><td> 4236.744  </td><td>66.69300   </td><td> 5.4       </td><td> 7.50000   </td><td>-0.468240  </td><td> 22.400930 </td><td>54.21      </td><td>...        </td><td> -5.75     </td><td>58.2       </td><td>0.579      </td><td>-1.2779840 </td><td>NA         </td><td>0.30930    </td><td>145.823900 </td><td>1678478677 </td><td>30.72508   </td><td>0.0565     </td></tr>\n",
       "\t<tr><td>Indonesia  </td><td>2011       </td><td> 6.169784  </td><td> 9095.742  </td><td>69.54200   </td><td> 7.6       </td><td>12.28000   </td><td>-0.701850  </td><td> 26.327350 </td><td>67.27      </td><td>...        </td><td> -0.54     </td><td>32.6       </td><td>0.673      </td><td>-0.7701142 </td><td>NA         </td><td>0.50595    </td><td> 21.888000 </td><td> 508073307 </td><td>43.91342   </td><td>0.0515     </td></tr>\n",
       "\t<tr><td>Indonesia  </td><td>2010       </td><td> 6.223854  </td><td> 8505.748  </td><td>69.20500   </td><td> 7.4       </td><td>10.92000   </td><td>-0.751560  </td><td> 24.299030 </td><td>67.19      </td><td>...        </td><td> -0.35     </td><td>33.9       </td><td>0.665      </td><td>-0.8539162 </td><td>NA         </td><td>0.49914    </td><td> 26.738000 </td><td> 428174280 </td><td>42.77587   </td><td>0.0561     </td></tr>\n",
       "\t<tr><td>Japan      </td><td>2019       </td><td> 0.270309  </td><td>42197.250  </td><td>84.35634   </td><td>12.8       </td><td>92.73040   </td><td> 1.467200  </td><td> 17.550110 </td><td>62.36      </td><td>...        </td><td>  0.17     </td><td> 2.5       </td><td>0.919      </td><td> 1.0318470 </td><td>73         </td><td>0.91698    </td><td>225.537700 </td><td>1106664426 </td><td>      NA   </td><td>0.0240     </td></tr>\n",
       "\t<tr><td>Japan      </td><td>2011       </td><td>-0.115420  </td><td>35774.700  </td><td>82.59122   </td><td>11.8       </td><td>79.05411   </td><td> 1.561326  </td><td> 14.925000 </td><td>59.59      </td><td>...        </td><td> -2.58     </td><td> 3.2       </td><td>0.892      </td><td> 0.9950920 </td><td>NA         </td><td>0.91069    </td><td>146.116000 </td><td>1264155127 </td><td>26.88171   </td><td>0.0452     </td></tr>\n",
       "\t<tr><td>Japan      </td><td>2010       </td><td> 4.191739  </td><td>34986.990  </td><td>82.84268   </td><td>11.5       </td><td>78.21000   </td><td> 1.560917  </td><td> 15.036760 </td><td>60.08      </td><td>...        </td><td> -4.45     </td><td> 3.2       </td><td>0.887      </td><td> 0.8793532 </td><td>NA         </td><td>0.90812    </td><td>142.587000 </td><td>1214068556 </td><td>28.44461   </td><td>0.0510     </td></tr>\n",
       "\t<tr><td>Malaysia   </td><td>2011       </td><td> 5.293913  </td><td>21704.740  </td><td>74.68300   </td><td>10.1       </td><td>61.00000   </td><td> 0.029523  </td><td> 85.255440 </td><td>61.58      </td><td>...        </td><td> 15.57     </td><td> 8.0       </td><td>0.778      </td><td> 0.0774098 </td><td>NA         </td><td>0.71609    </td><td>  8.631000 </td><td> 217427462 </td><td>39.82427   </td><td>0.0305     </td></tr>\n",
       "\t<tr><td>Malaysia   </td><td>2010       </td><td> 7.424847  </td><td>20508.760  </td><td>74.49300   </td><td> 9.8       </td><td>56.30000   </td><td> 0.089305  </td><td> 86.930300 </td><td>60.37      </td><td>...        </td><td>  8.17     </td><td> 8.1       </td><td>0.772      </td><td> 0.1433521 </td><td>NA         </td><td>0.70912    </td><td>  7.427000 </td><td> 216537318 </td><td>40.49893   </td><td>0.0325     </td></tr>\n",
       "\t<tr><td>Myanmar    </td><td>2019       </td><td> 1.694424  </td><td> 5297.442  </td><td>67.13400   </td><td> 5.0       </td><td>      NA   </td><td>-0.614940  </td><td> 28.041560 </td><td>60.41      </td><td>...        </td><td>  4.04     </td><td>44.7       </td><td>0.583      </td><td>-1.3280670 </td><td>29         </td><td>0.30852    </td><td>        NA </td><td>  26231575 </td><td>35.89711   </td><td>0.0050     </td></tr>\n",
       "\t<tr><td>Myanmar    </td><td>2018       </td><td> 6.750460  </td><td> 5149.938  </td><td>66.86700   </td><td> 5.0       </td><td>      NA   </td><td>-0.580750  </td><td> 30.389750 </td><td>62.44      </td><td>...        </td><td>  0.09     </td><td>46.4       </td><td>0.579      </td><td>-1.2688530 </td><td>29         </td><td>0.30579    </td><td>        NA </td><td>  26095603 </td><td>37.96077   </td><td>0.0087     </td></tr>\n",
       "\t<tr><td>Myanmar    </td><td>2017       </td><td> 6.404977  </td><td> 4739.915  </td><td>66.55800   </td><td> 5.0       </td><td>23.62108   </td><td>-0.565290  </td><td> 28.359710 </td><td>62.19      </td><td>...        </td><td> -5.73     </td><td>48.1       </td><td>0.572      </td><td>-1.0848390 </td><td>30         </td><td>0.30322    </td><td>        NA </td><td>  23669759 </td><td>36.74277   </td><td>0.0156     </td></tr>\n",
       "\t<tr><td>Myanmar    </td><td>2016       </td><td> 5.750065  </td><td> 4492.021  </td><td>66.20500   </td><td> 4.9       </td><td>      NA   </td><td>-0.621010  </td><td> 25.942730 </td><td>63.85      </td><td>...        </td><td> -9.14     </td><td>49.9       </td><td>0.563      </td><td>-0.8046199 </td><td>28         </td><td>0.30082    </td><td>        NA </td><td>  25468783 </td><td>35.46916   </td><td>0.0114     </td></tr>\n",
       "\t<tr><td>Myanmar    </td><td>2015       </td><td> 6.992840  </td><td> 4416.547  </td><td>65.81000   </td><td> 4.9       </td><td>      NA   </td><td>-0.836280  </td><td> 22.975170 </td><td>65.55      </td><td>...        </td><td> -7.96     </td><td>51.8       </td><td>0.557      </td><td>-1.1650670 </td><td>22         </td><td>0.29858    </td><td>        NA </td><td>  22076366 </td><td>33.91247   </td><td>0.0077     </td></tr>\n",
       "\t<tr><td>Myanmar    </td><td>2014       </td><td> 7.990916  </td><td> 4245.806  </td><td>65.37800   </td><td> 4.8       </td><td>11.52000   </td><td>-0.882170  </td><td> 20.090400 </td><td>65.93      </td><td>...        </td><td> -2.08     </td><td>53.7       </td><td>0.550      </td><td>-1.0875810 </td><td>21         </td><td>0.29650    </td><td>        NA </td><td>  16169507 </td><td>34.48971   </td><td>0.0078     </td></tr>\n",
       "\t<tr><td>Myanmar    </td><td>2013       </td><td> 8.426001  </td><td> 4016.316  </td><td>64.92100   </td><td> 4.7       </td><td> 8.00000   </td><td>-0.999890  </td><td> 19.635100 </td><td>66.34      </td><td>...        </td><td>  0.69     </td><td>55.8       </td><td>0.543      </td><td>-1.1403720 </td><td>21         </td><td>0.29457    </td><td>        NA </td><td>  12936196 </td><td>32.36222   </td><td>0.0080     </td></tr>\n",
       "\t<tr><td>Myanmar    </td><td>2012       </td><td> 7.332670  </td><td> 3727.142  </td><td>64.45300   </td><td> 4.5       </td><td> 4.00000   </td><td>-1.063260  </td><td> 11.498360 </td><td>66.75      </td><td>...        </td><td>  0.61     </td><td>58.2       </td><td>0.533      </td><td>-0.9436750 </td><td>15         </td><td>0.29266    </td><td>        NA </td><td>  11891872 </td><td>32.37302   </td><td>0.0079     </td></tr>\n",
       "\t<tr><td>Myanmar    </td><td>2011       </td><td> 5.591482  </td><td> 3469.139  </td><td>63.98300   </td><td> 4.3       </td><td> 0.98000   </td><td>-1.586770  </td><td>  0.099465 </td><td>67.12      </td><td>...        </td><td>  1.11     </td><td>60.7       </td><td>0.526      </td><td>-1.1110980 </td><td>NA         </td><td>0.29075    </td><td>        NA </td><td>  15067867 </td><td>31.29165   </td><td>0.0079     </td></tr>\n",
       "\t<tr><td>Myanmar    </td><td>2010       </td><td> 9.634439  </td><td> 3243.000  </td><td>63.52500   </td><td> 4.1       </td><td> 0.25000   </td><td>-1.673340  </td><td> 19.588650 </td><td>67.42      </td><td>...        </td><td>  1.90     </td><td>63.4       </td><td>0.515      </td><td>-1.2859280 </td><td>NA         </td><td>0.28885    </td><td>        NA </td><td>  13083825 </td><td>26.46806   </td><td>0.0079     </td></tr>\n",
       "\t<tr><td>New Zealand</td><td>2019       </td><td> 1.633933  </td><td>45073.200  </td><td>81.70732   </td><td>12.8       </td><td>      NA   </td><td> 2.170174  </td><td> 26.986900 </td><td>69.60      </td><td>...        </td><td> -0.12     </td><td> 4.7       </td><td>0.931      </td><td> 1.4113020 </td><td>87         </td><td>0.86615    </td><td> 35.769240 </td><td>  36540963 </td><td>      NA   </td><td>0.0407     </td></tr>\n",
       "\t<tr><td>New Zealand</td><td>2018       </td><td> 3.205748  </td><td>43930.880  </td><td>81.85854   </td><td>12.7       </td><td>      NA   </td><td> 2.174655  </td><td> 27.592500 </td><td>70.01      </td><td>...        </td><td> -0.31     </td><td> 4.9       </td><td>0.928      </td><td> 1.5339050 </td><td>87         </td><td>0.86538    </td><td> 36.319000 </td><td>  35080341 </td><td>20.41986   </td><td>0.0430     </td></tr>\n",
       "\t<tr><td>New Zealand</td><td>2013       </td><td> 2.695784  </td><td>36242.620  </td><td>81.40732   </td><td>12.1       </td><td>82.78000   </td><td> 2.341601  </td><td> 28.813580 </td><td>67.57      </td><td>...        </td><td>  1.61     </td><td> 5.8       </td><td>0.914      </td><td> 1.4539270 </td><td>91         </td><td>0.86221    </td><td> 31.530000 </td><td>  35240937 </td><td>20.28755   </td><td>0.0577     </td></tr>\n",
       "\t<tr><td>New Zealand</td><td>2012       </td><td> 2.240641  </td><td>32988.610  </td><td>81.15610   </td><td>12.1       </td><td>81.64447   </td><td> 2.315760  </td><td> 28.859390 </td><td>67.33      </td><td>...        </td><td>  0.70     </td><td> 5.9       </td><td>0.911      </td><td> 1.3613660 </td><td>90         </td><td>0.86161    </td><td> 31.223000 </td><td>  36000433 </td><td>20.92336   </td><td>0.0693     </td></tr>\n",
       "\t<tr><td>New Zealand</td><td>2011       </td><td> 2.256737  </td><td>32701.380  </td><td>80.90488   </td><td>12.0       </td><td>81.23000   </td><td> 2.297591  </td><td> 30.395020 </td><td>67.52      </td><td>...        </td><td>  1.55     </td><td> 6.0       </td><td>0.909      </td><td> 1.3767310 </td><td>NA         </td><td>0.86100    </td><td> 33.233000 </td><td>  34249571 </td><td>20.99472   </td><td>0.0649     </td></tr>\n",
       "\t<tr><td>New Zealand</td><td>2010       </td><td> 1.527994  </td><td>31239.190  </td><td>80.70244   </td><td>12.0       </td><td>80.46000   </td><td> 2.338579  </td><td> 30.273630 </td><td>67.21      </td><td>...        </td><td>  2.30     </td><td> 6.1       </td><td>0.906      </td><td> 1.2364890 </td><td>NA         </td><td>0.86160    </td><td> 32.285000 </td><td>  34957784 </td><td>21.17565   </td><td>0.0656     </td></tr>\n",
       "\t<tr><td>Pakistan   </td><td>2011       </td><td> 2.748406  </td><td> 3993.559  </td><td>65.56200   </td><td> 4.8       </td><td> 8.00000   </td><td>-1.076280  </td><td> 13.966670 </td><td>51.53      </td><td>...        </td><td> -7.58     </td><td>85.0       </td><td>0.516      </td><td>-2.8100350 </td><td>NA         </td><td>0.35202    </td><td> 29.678000 </td><td> 154658545 </td><td>20.50179   </td><td>0.0080     </td></tr>\n",
       "\t<tr><td>Pakistan   </td><td>2010       </td><td> 1.606689  </td><td> 3890.291  </td><td>65.26400   </td><td> 4.7       </td><td> 8.00000   </td><td>-1.087690  </td><td> 13.516270 </td><td>51.55      </td><td>...        </td><td> -7.26     </td><td>87.1       </td><td>0.512      </td><td>-2.6759330 </td><td>NA         </td><td>0.34997    </td><td> 32.769000 </td><td> 154144709 </td><td>19.71948   </td><td>0.0065     </td></tr>\n",
       "\t<tr><td>Philippines</td><td>2018       </td><td> 6.341486  </td><td> 8720.607  </td><td>71.09500   </td><td> 9.4       </td><td>      NA   </td><td>-0.542230  </td><td> 30.213610 </td><td>59.58      </td><td>...        </td><td>-11.74     </td><td>28.0       </td><td>0.711      </td><td>-1.0920620 </td><td>36         </td><td>0.46907    </td><td> 22.660000 </td><td> 138924391 </td><td>30.56374   </td><td>0.0234     </td></tr>\n",
       "\t<tr><td>Philippines</td><td>2017       </td><td> 6.930988  </td><td> 8120.869  </td><td>70.95200   </td><td> 9.4       </td><td>      NA   </td><td>-0.476550  </td><td> 29.552290 </td><td>59.67      </td><td>...        </td><td> -9.06     </td><td>28.7       </td><td>0.708      </td><td>-1.1850800 </td><td>34         </td><td>0.46682    </td><td> 23.092000 </td><td> 134518537 </td><td>30.12655   </td><td>0.0255     </td></tr>\n",
       "\t<tr><td>Philippines</td><td>2016       </td><td> 7.149457  </td><td> 7703.762  </td><td>70.80200   </td><td> 9.3       </td><td>      NA   </td><td>-0.488120  </td><td> 26.673000 </td><td>62.23      </td><td>...        </td><td> -8.43     </td><td>29.3       </td><td>0.704      </td><td>-1.3798190 </td><td>35         </td><td>0.46475    </td><td> 21.898000 </td><td> 122236809 </td><td>30.28592   </td><td>0.0269     </td></tr>\n",
       "\t<tr><td>Philippines</td><td>2015       </td><td> 6.348310  </td><td> 7186.769  </td><td>70.64400   </td><td> 9.3       </td><td>      NA   </td><td>-0.453470  </td><td> 27.208060 </td><td>62.21      </td><td>...        </td><td> -4.73     </td><td>29.8       </td><td>0.701      </td><td>-0.8556625 </td><td>35         </td><td>0.46284    </td><td> 20.874000 </td><td> 112142487 </td><td>30.48195   </td><td>0.0307     </td></tr>\n",
       "\t<tr><td>Philippines</td><td>2014       </td><td> 6.347987  </td><td> 6960.901  </td><td>70.48100   </td><td> 9.2       </td><td>      NA   </td><td>-0.437020  </td><td> 27.354500 </td><td>62.81      </td><td>...        </td><td> -2.76     </td><td>30.2       </td><td>0.696      </td><td>-0.7138209 </td><td>38         </td><td>0.46093    </td><td> 19.719000 </td><td> 101182148 </td><td>31.04744   </td><td>0.0360     </td></tr>\n",
       "\t<tr><td>Philippines</td><td>2011       </td><td> 3.858233  </td><td> 5865.344  </td><td>69.98400   </td><td> 9.0       </td><td>29.00000   </td><td>-0.667100  </td><td> 29.105430 </td><td>62.90      </td><td>...        </td><td> -4.13     </td><td>31.3       </td><td>0.676      </td><td>-1.3921820 </td><td>NA         </td><td>0.45522    </td><td> 19.750000 </td><td>  83743662 </td><td>31.33868   </td><td>0.0359     </td></tr>\n",
       "\t<tr><td>Philippines</td><td>2010       </td><td> 7.334500  </td><td> 5626.281  </td><td>69.82300   </td><td> 8.9       </td><td>25.00000   </td><td>-0.760690  </td><td> 32.874830 </td><td>62.19      </td><td>...        </td><td> -5.05     </td><td>31.7       </td><td>0.671      </td><td>-1.6507600 </td><td>NA         </td><td>0.45332    </td><td> 17.744000 </td><td>  82951250 </td><td>32.33956   </td><td>0.0361     </td></tr>\n",
       "\t<tr><td>Singapore  </td><td>2011       </td><td> 6.337871  </td><td>80052.390  </td><td>81.74390   </td><td>11.1       </td><td>71.00000   </td><td> 2.109778  </td><td>203.327700 </td><td>69.12      </td><td>...        </td><td> 26.55     </td><td> 2.8       </td><td>0.913      </td><td> 1.1914220 </td><td>NA         </td><td>1.00000    </td><td>  1.213000 </td><td>  30271968 </td><td>25.26045   </td><td>0.0389     </td></tr>\n",
       "\t<tr><td>Singapore  </td><td>2010       </td><td>14.525640  </td><td>75294.360  </td><td>81.54146   </td><td>11.0       </td><td>71.00000   </td><td> 2.180155  </td><td>197.999000 </td><td>68.83      </td><td>...        </td><td> 18.60     </td><td> 2.8       </td><td>0.909      </td><td> 1.1694150 </td><td>NA         </td><td>1.00000    </td><td>  1.179000 </td><td>  56619792 </td><td>26.63664   </td><td>0.0412     </td></tr>\n",
       "\t<tr><td>Sri Lanka  </td><td>2013       </td><td> 3.395733  </td><td>10852.060  </td><td>75.97400   </td><td>10.9       </td><td>      NA   </td><td>-0.214750  </td><td> 20.320400 </td><td>54.85      </td><td>...        </td><td> -8.62     </td><td>10.0       </td><td>0.769      </td><td>-0.6128954 </td><td>37         </td><td>0.18198    </td><td>  7.130000 </td><td>  14678050 </td><td>29.16276   </td><td>0.0424     </td></tr>\n",
       "\t<tr><td>Sri Lanka  </td><td>2012       </td><td> 9.144572  </td><td>10315.180  </td><td>75.79600   </td><td>10.9       </td><td>      NA   </td><td>-0.236880  </td><td> 19.816480 </td><td>53.44      </td><td>...        </td><td>-11.86     </td><td>10.6       </td><td>0.766      </td><td>-0.7170792 </td><td>40         </td><td>0.18196    </td><td>  3.444000 </td><td>  15797950 </td><td>30.12628   </td><td>0.0388     </td></tr>\n",
       "\t<tr><td>Sri Lanka  </td><td>2011       </td><td> 8.404733  </td><td> 9007.734  </td><td>75.61400   </td><td>10.8       </td><td>      NA   </td><td>-0.393240  </td><td> 20.896840 </td><td>54.25      </td><td>...        </td><td>-11.01     </td><td>11.2       </td><td>0.760      </td><td>-0.7247714 </td><td>NA         </td><td>0.18211    </td><td>  4.714000 </td><td>  14886602 </td><td>27.99567   </td><td>0.0412     </td></tr>\n",
       "\t<tr><td>Sri Lanka  </td><td>2010       </td><td> 8.015967  </td><td> 8194.269  </td><td>75.43900   </td><td>10.8       </td><td>      NA   </td><td>-0.421460  </td><td> 19.552320 </td><td>54.64      </td><td>...        </td><td> -8.21     </td><td>11.6       </td><td>0.754      </td><td>-0.9429469 </td><td>NA         </td><td>0.18226    </td><td>  5.681000 </td><td>  13050301 </td><td>26.64415   </td><td>0.0478     </td></tr>\n",
       "\t<tr><td>Thailand   </td><td>2011       </td><td> 0.840132  </td><td>13519.130  </td><td>74.59300   </td><td> 7.5       </td><td>23.66993   </td><td>-0.323440  </td><td> 70.854910 </td><td>73.24      </td><td>...        </td><td>  0.00     </td><td>13.0       </td><td>0.733      </td><td>-1.1335340 </td><td>NA         </td><td>0.44698    </td><td> 12.473000 </td><td> 253800670 </td><td>37.98140   </td><td>0.0066     </td></tr>\n",
       "\t<tr><td>Thailand   </td><td>2010       </td><td> 7.513391  </td><td>13195.370  </td><td>74.18400   </td><td> 7.3       </td><td>22.40000   </td><td>-0.333950  </td><td> 66.486170 </td><td>71.71      </td><td>...        </td><td>  1.90     </td><td>13.6       </td><td>0.724      </td><td>-1.4427880 </td><td>NA         </td><td>0.43856    </td><td>  8.895000 </td><td> 256422255 </td><td>39.92173   </td><td>0.0062     </td></tr>\n",
       "\t<tr><td>Vietnam    </td><td>2011       </td><td> 6.240303  </td><td> 4523.253  </td><td>74.90400   </td><td> 7.6       </td><td>35.07000   </td><td>-0.607290  </td><td> 79.390870 </td><td>76.52      </td><td>...        </td><td>  8.07     </td><td>22.6       </td><td>0.671      </td><td> 0.1890884 </td><td>NA         </td><td>0.31080    </td><td> 40.664000 </td><td> 145047830 </td><td>32.24441   </td><td>0.0100     </td></tr>\n",
       "\t<tr><td>Vietnam    </td><td>2010       </td><td> 6.423238  </td><td> 4213.296  </td><td>74.83700   </td><td> 7.5       </td><td>30.65000   </td><td>-0.623740  </td><td> 72.002360 </td><td>76.29      </td><td>...        </td><td>  5.72     </td><td>22.9       </td><td>0.661      </td><td> 0.1484079 </td><td>NA         </td><td>0.30417    </td><td> 27.386000 </td><td> 136113090 </td><td>32.13189   </td><td>0.0111     </td></tr>\n",
       "</tbody>\n",
       "</table>\n"
      ],
      "text/latex": [
       "\\begin{tabular}{r|lllllllllllllllllllllll}\n",
       " Countries & Year & GDP\\_Growth & Market\\_Size & Life\\_Exp & Mean\\_Years\\_of\\_Schooling & Internet\\_Penetration & Gov\\_Indicator & Trade\\_Openness & Labour\\_Force & ... & BoT & Child\\_Mortality & HDI & Pol\\_Stability & CPI & Urban\\_pop & Renew\\_Energy & CO2\\_emissions & ind\\_val\\_add & unemployment\\_rate\\\\\n",
       "\\hline\n",
       "\t Australia   & 2019        &  2.160956   & 52203.130   & 82.90000    & 12.7        &       NA    &  1.825413   &  24.110970  & 65.93       & ...         &   2.51      &  3.6        & 0.944       &  0.9117457  & 77          & 0.86124     &  54.399850  &  411015667  & 25.38245    & 0.0516     \\\\\n",
       "\t Australia   & 2018        &  2.949286   & 50252.840   & 82.74878    & 12.7        &       NA    &  1.805214   &  21.821900  & 65.65       & ...         &   0.38      &  3.7        & 0.943       &  0.9896040  & 77          & 0.86012     &  44.443000  &  415953947  & 24.15897    & 0.0530     \\\\\n",
       "\t Australia   & 2011        &  2.462756   & 41965.360   & 81.89512    & 12.7        & 79.48770    &  2.044710   &  21.436420  & 65.63       & ...         &   0.97      &  4.5        & 0.932       &  0.9357101  & NA          & 0.85300     &  26.273000  &  404172757  & 26.43613    & 0.0508     \\\\\n",
       "\t Australia   & 2010        &  2.067417   & 39301.340   & 81.69512    & 12.6        & 76.00000    &  2.032045   &  19.810010  & 65.60       & ...         &  -1.03      &  4.8        & 0.930       &  0.8888599  & NA          & 0.85182     &  21.720000  &  405502799  & 25.15142    & 0.0521     \\\\\n",
       "\t Bangladesh  & 2011        &  6.464379   &  2620.834   & 70.25600    &  5.7        &  4.50000    & -1.087300   &  19.922070  & 56.85       & ...         &  -6.54      & 46.1        & 0.566       & -1.4047370  & NA          & 0.31225     &   0.979676  &   56556344  & 25.04530    & 0.0371     \\\\\n",
       "\t Bangladesh  & 2010        &  5.571788   &  2439.070   & 69.88100    &  5.3        &  3.70000    & -1.057410   &  16.024110  & 56.92       & ...         &  -5.84      & 48.7        & 0.557       & -1.4257890  & NA          & 0.30462     &   0.836591  &   53991553  & 24.95648    & 0.0338     \\\\\n",
       "\t China       & 2011        &  9.550832   & 10299.870   & 74.70800    &  7.4        & 38.30000    & -0.507090   &  26.568190  & 71.06       & ...         &   3.85      & 14.6        & 0.707       & -0.6020548  & NA          & 0.50511     & 766.200000  & 9388199234  & 46.52929    & 0.0450     \\\\\n",
       "\t China       & 2010        & 10.635870   &  9253.765   & 74.40900    &  7.3        & 34.30000    & -0.561790   &  27.185330  & 71.26       & ...         &   5.03      & 15.8        & 0.699       & -0.6570607  & NA          & 0.49226     & 752.445000  & 8500542695  & 46.49783    & 0.0450     \\\\\n",
       "\t India       & 2011        &  5.241315   &  4493.669   & 67.13000    &  5.3        & 10.07000    & -0.536260   &  24.540410  & 53.29       & ...         &  -5.42      & 55.1        & 0.588       & -1.3267950  & NA          & 0.31276     & 174.620800  & 1766065040  & 30.16168    & 0.0565     \\\\\n",
       "\t India       & 2010        &  8.497585   &  4236.744   & 66.69300    &  5.4        &  7.50000    & -0.468240   &  22.400930  & 54.21       & ...         &  -5.75      & 58.2        & 0.579       & -1.2779840  & NA          & 0.30930     & 145.823900  & 1678478677  & 30.72508    & 0.0565     \\\\\n",
       "\t Indonesia   & 2011        &  6.169784   &  9095.742   & 69.54200    &  7.6        & 12.28000    & -0.701850   &  26.327350  & 67.27       & ...         &  -0.54      & 32.6        & 0.673       & -0.7701142  & NA          & 0.50595     &  21.888000  &  508073307  & 43.91342    & 0.0515     \\\\\n",
       "\t Indonesia   & 2010        &  6.223854   &  8505.748   & 69.20500    &  7.4        & 10.92000    & -0.751560   &  24.299030  & 67.19       & ...         &  -0.35      & 33.9        & 0.665       & -0.8539162  & NA          & 0.49914     &  26.738000  &  428174280  & 42.77587    & 0.0561     \\\\\n",
       "\t Japan       & 2019        &  0.270309   & 42197.250   & 84.35634    & 12.8        & 92.73040    &  1.467200   &  17.550110  & 62.36       & ...         &   0.17      &  2.5        & 0.919       &  1.0318470  & 73          & 0.91698     & 225.537700  & 1106664426  &       NA    & 0.0240     \\\\\n",
       "\t Japan       & 2011        & -0.115420   & 35774.700   & 82.59122    & 11.8        & 79.05411    &  1.561326   &  14.925000  & 59.59       & ...         &  -2.58      &  3.2        & 0.892       &  0.9950920  & NA          & 0.91069     & 146.116000  & 1264155127  & 26.88171    & 0.0452     \\\\\n",
       "\t Japan       & 2010        &  4.191739   & 34986.990   & 82.84268    & 11.5        & 78.21000    &  1.560917   &  15.036760  & 60.08       & ...         &  -4.45      &  3.2        & 0.887       &  0.8793532  & NA          & 0.90812     & 142.587000  & 1214068556  & 28.44461    & 0.0510     \\\\\n",
       "\t Malaysia    & 2011        &  5.293913   & 21704.740   & 74.68300    & 10.1        & 61.00000    &  0.029523   &  85.255440  & 61.58       & ...         &  15.57      &  8.0        & 0.778       &  0.0774098  & NA          & 0.71609     &   8.631000  &  217427462  & 39.82427    & 0.0305     \\\\\n",
       "\t Malaysia    & 2010        &  7.424847   & 20508.760   & 74.49300    &  9.8        & 56.30000    &  0.089305   &  86.930300  & 60.37       & ...         &   8.17      &  8.1        & 0.772       &  0.1433521  & NA          & 0.70912     &   7.427000  &  216537318  & 40.49893    & 0.0325     \\\\\n",
       "\t Myanmar     & 2019        &  1.694424   &  5297.442   & 67.13400    &  5.0        &       NA    & -0.614940   &  28.041560  & 60.41       & ...         &   4.04      & 44.7        & 0.583       & -1.3280670  & 29          & 0.30852     &         NA  &   26231575  & 35.89711    & 0.0050     \\\\\n",
       "\t Myanmar     & 2018        &  6.750460   &  5149.938   & 66.86700    &  5.0        &       NA    & -0.580750   &  30.389750  & 62.44       & ...         &   0.09      & 46.4        & 0.579       & -1.2688530  & 29          & 0.30579     &         NA  &   26095603  & 37.96077    & 0.0087     \\\\\n",
       "\t Myanmar     & 2017        &  6.404977   &  4739.915   & 66.55800    &  5.0        & 23.62108    & -0.565290   &  28.359710  & 62.19       & ...         &  -5.73      & 48.1        & 0.572       & -1.0848390  & 30          & 0.30322     &         NA  &   23669759  & 36.74277    & 0.0156     \\\\\n",
       "\t Myanmar     & 2016        &  5.750065   &  4492.021   & 66.20500    &  4.9        &       NA    & -0.621010   &  25.942730  & 63.85       & ...         &  -9.14      & 49.9        & 0.563       & -0.8046199  & 28          & 0.30082     &         NA  &   25468783  & 35.46916    & 0.0114     \\\\\n",
       "\t Myanmar     & 2015        &  6.992840   &  4416.547   & 65.81000    &  4.9        &       NA    & -0.836280   &  22.975170  & 65.55       & ...         &  -7.96      & 51.8        & 0.557       & -1.1650670  & 22          & 0.29858     &         NA  &   22076366  & 33.91247    & 0.0077     \\\\\n",
       "\t Myanmar     & 2014        &  7.990916   &  4245.806   & 65.37800    &  4.8        & 11.52000    & -0.882170   &  20.090400  & 65.93       & ...         &  -2.08      & 53.7        & 0.550       & -1.0875810  & 21          & 0.29650     &         NA  &   16169507  & 34.48971    & 0.0078     \\\\\n",
       "\t Myanmar     & 2013        &  8.426001   &  4016.316   & 64.92100    &  4.7        &  8.00000    & -0.999890   &  19.635100  & 66.34       & ...         &   0.69      & 55.8        & 0.543       & -1.1403720  & 21          & 0.29457     &         NA  &   12936196  & 32.36222    & 0.0080     \\\\\n",
       "\t Myanmar     & 2012        &  7.332670   &  3727.142   & 64.45300    &  4.5        &  4.00000    & -1.063260   &  11.498360  & 66.75       & ...         &   0.61      & 58.2        & 0.533       & -0.9436750  & 15          & 0.29266     &         NA  &   11891872  & 32.37302    & 0.0079     \\\\\n",
       "\t Myanmar     & 2011        &  5.591482   &  3469.139   & 63.98300    &  4.3        &  0.98000    & -1.586770   &   0.099465  & 67.12       & ...         &   1.11      & 60.7        & 0.526       & -1.1110980  & NA          & 0.29075     &         NA  &   15067867  & 31.29165    & 0.0079     \\\\\n",
       "\t Myanmar     & 2010        &  9.634439   &  3243.000   & 63.52500    &  4.1        &  0.25000    & -1.673340   &  19.588650  & 67.42       & ...         &   1.90      & 63.4        & 0.515       & -1.2859280  & NA          & 0.28885     &         NA  &   13083825  & 26.46806    & 0.0079     \\\\\n",
       "\t New Zealand & 2019        &  1.633933   & 45073.200   & 81.70732    & 12.8        &       NA    &  2.170174   &  26.986900  & 69.60       & ...         &  -0.12      &  4.7        & 0.931       &  1.4113020  & 87          & 0.86615     &  35.769240  &   36540963  &       NA    & 0.0407     \\\\\n",
       "\t New Zealand & 2018        &  3.205748   & 43930.880   & 81.85854    & 12.7        &       NA    &  2.174655   &  27.592500  & 70.01       & ...         &  -0.31      &  4.9        & 0.928       &  1.5339050  & 87          & 0.86538     &  36.319000  &   35080341  & 20.41986    & 0.0430     \\\\\n",
       "\t New Zealand & 2013        &  2.695784   & 36242.620   & 81.40732    & 12.1        & 82.78000    &  2.341601   &  28.813580  & 67.57       & ...         &   1.61      &  5.8        & 0.914       &  1.4539270  & 91          & 0.86221     &  31.530000  &   35240937  & 20.28755    & 0.0577     \\\\\n",
       "\t New Zealand & 2012        &  2.240641   & 32988.610   & 81.15610    & 12.1        & 81.64447    &  2.315760   &  28.859390  & 67.33       & ...         &   0.70      &  5.9        & 0.911       &  1.3613660  & 90          & 0.86161     &  31.223000  &   36000433  & 20.92336    & 0.0693     \\\\\n",
       "\t New Zealand & 2011        &  2.256737   & 32701.380   & 80.90488    & 12.0        & 81.23000    &  2.297591   &  30.395020  & 67.52       & ...         &   1.55      &  6.0        & 0.909       &  1.3767310  & NA          & 0.86100     &  33.233000  &   34249571  & 20.99472    & 0.0649     \\\\\n",
       "\t New Zealand & 2010        &  1.527994   & 31239.190   & 80.70244    & 12.0        & 80.46000    &  2.338579   &  30.273630  & 67.21       & ...         &   2.30      &  6.1        & 0.906       &  1.2364890  & NA          & 0.86160     &  32.285000  &   34957784  & 21.17565    & 0.0656     \\\\\n",
       "\t Pakistan    & 2011        &  2.748406   &  3993.559   & 65.56200    &  4.8        &  8.00000    & -1.076280   &  13.966670  & 51.53       & ...         &  -7.58      & 85.0        & 0.516       & -2.8100350  & NA          & 0.35202     &  29.678000  &  154658545  & 20.50179    & 0.0080     \\\\\n",
       "\t Pakistan    & 2010        &  1.606689   &  3890.291   & 65.26400    &  4.7        &  8.00000    & -1.087690   &  13.516270  & 51.55       & ...         &  -7.26      & 87.1        & 0.512       & -2.6759330  & NA          & 0.34997     &  32.769000  &  154144709  & 19.71948    & 0.0065     \\\\\n",
       "\t Philippines & 2018        &  6.341486   &  8720.607   & 71.09500    &  9.4        &       NA    & -0.542230   &  30.213610  & 59.58       & ...         & -11.74      & 28.0        & 0.711       & -1.0920620  & 36          & 0.46907     &  22.660000  &  138924391  & 30.56374    & 0.0234     \\\\\n",
       "\t Philippines & 2017        &  6.930988   &  8120.869   & 70.95200    &  9.4        &       NA    & -0.476550   &  29.552290  & 59.67       & ...         &  -9.06      & 28.7        & 0.708       & -1.1850800  & 34          & 0.46682     &  23.092000  &  134518537  & 30.12655    & 0.0255     \\\\\n",
       "\t Philippines & 2016        &  7.149457   &  7703.762   & 70.80200    &  9.3        &       NA    & -0.488120   &  26.673000  & 62.23       & ...         &  -8.43      & 29.3        & 0.704       & -1.3798190  & 35          & 0.46475     &  21.898000  &  122236809  & 30.28592    & 0.0269     \\\\\n",
       "\t Philippines & 2015        &  6.348310   &  7186.769   & 70.64400    &  9.3        &       NA    & -0.453470   &  27.208060  & 62.21       & ...         &  -4.73      & 29.8        & 0.701       & -0.8556625  & 35          & 0.46284     &  20.874000  &  112142487  & 30.48195    & 0.0307     \\\\\n",
       "\t Philippines & 2014        &  6.347987   &  6960.901   & 70.48100    &  9.2        &       NA    & -0.437020   &  27.354500  & 62.81       & ...         &  -2.76      & 30.2        & 0.696       & -0.7138209  & 38          & 0.46093     &  19.719000  &  101182148  & 31.04744    & 0.0360     \\\\\n",
       "\t Philippines & 2011        &  3.858233   &  5865.344   & 69.98400    &  9.0        & 29.00000    & -0.667100   &  29.105430  & 62.90       & ...         &  -4.13      & 31.3        & 0.676       & -1.3921820  & NA          & 0.45522     &  19.750000  &   83743662  & 31.33868    & 0.0359     \\\\\n",
       "\t Philippines & 2010        &  7.334500   &  5626.281   & 69.82300    &  8.9        & 25.00000    & -0.760690   &  32.874830  & 62.19       & ...         &  -5.05      & 31.7        & 0.671       & -1.6507600  & NA          & 0.45332     &  17.744000  &   82951250  & 32.33956    & 0.0361     \\\\\n",
       "\t Singapore   & 2011        &  6.337871   & 80052.390   & 81.74390    & 11.1        & 71.00000    &  2.109778   & 203.327700  & 69.12       & ...         &  26.55      &  2.8        & 0.913       &  1.1914220  & NA          & 1.00000     &   1.213000  &   30271968  & 25.26045    & 0.0389     \\\\\n",
       "\t Singapore   & 2010        & 14.525640   & 75294.360   & 81.54146    & 11.0        & 71.00000    &  2.180155   & 197.999000  & 68.83       & ...         &  18.60      &  2.8        & 0.909       &  1.1694150  & NA          & 1.00000     &   1.179000  &   56619792  & 26.63664    & 0.0412     \\\\\n",
       "\t Sri Lanka   & 2013        &  3.395733   & 10852.060   & 75.97400    & 10.9        &       NA    & -0.214750   &  20.320400  & 54.85       & ...         &  -8.62      & 10.0        & 0.769       & -0.6128954  & 37          & 0.18198     &   7.130000  &   14678050  & 29.16276    & 0.0424     \\\\\n",
       "\t Sri Lanka   & 2012        &  9.144572   & 10315.180   & 75.79600    & 10.9        &       NA    & -0.236880   &  19.816480  & 53.44       & ...         & -11.86      & 10.6        & 0.766       & -0.7170792  & 40          & 0.18196     &   3.444000  &   15797950  & 30.12628    & 0.0388     \\\\\n",
       "\t Sri Lanka   & 2011        &  8.404733   &  9007.734   & 75.61400    & 10.8        &       NA    & -0.393240   &  20.896840  & 54.25       & ...         & -11.01      & 11.2        & 0.760       & -0.7247714  & NA          & 0.18211     &   4.714000  &   14886602  & 27.99567    & 0.0412     \\\\\n",
       "\t Sri Lanka   & 2010        &  8.015967   &  8194.269   & 75.43900    & 10.8        &       NA    & -0.421460   &  19.552320  & 54.64       & ...         &  -8.21      & 11.6        & 0.754       & -0.9429469  & NA          & 0.18226     &   5.681000  &   13050301  & 26.64415    & 0.0478     \\\\\n",
       "\t Thailand    & 2011        &  0.840132   & 13519.130   & 74.59300    &  7.5        & 23.66993    & -0.323440   &  70.854910  & 73.24       & ...         &   0.00      & 13.0        & 0.733       & -1.1335340  & NA          & 0.44698     &  12.473000  &  253800670  & 37.98140    & 0.0066     \\\\\n",
       "\t Thailand    & 2010        &  7.513391   & 13195.370   & 74.18400    &  7.3        & 22.40000    & -0.333950   &  66.486170  & 71.71       & ...         &   1.90      & 13.6        & 0.724       & -1.4427880  & NA          & 0.43856     &   8.895000  &  256422255  & 39.92173    & 0.0062     \\\\\n",
       "\t Vietnam     & 2011        &  6.240303   &  4523.253   & 74.90400    &  7.6        & 35.07000    & -0.607290   &  79.390870  & 76.52       & ...         &   8.07      & 22.6        & 0.671       &  0.1890884  & NA          & 0.31080     &  40.664000  &  145047830  & 32.24441    & 0.0100     \\\\\n",
       "\t Vietnam     & 2010        &  6.423238   &  4213.296   & 74.83700    &  7.5        & 30.65000    & -0.623740   &  72.002360  & 76.29       & ...         &   5.72      & 22.9        & 0.661       &  0.1484079  & NA          & 0.30417     &  27.386000  &  136113090  & 32.13189    & 0.0111     \\\\\n",
       "\\end{tabular}\n"
      ],
      "text/markdown": [
       "\n",
       "| Countries | Year | GDP_Growth | Market_Size | Life_Exp | Mean_Years_of_Schooling | Internet_Penetration | Gov_Indicator | Trade_Openness | Labour_Force | ... | BoT | Child_Mortality | HDI | Pol_Stability | CPI | Urban_pop | Renew_Energy | CO2_emissions | ind_val_add | unemployment_rate |\n",
       "|---|---|---|---|---|---|---|---|---|---|---|---|---|---|---|---|---|---|---|---|---|\n",
       "| Australia   | 2019        |  2.160956   | 52203.130   | 82.90000    | 12.7        |       NA    |  1.825413   |  24.110970  | 65.93       | ...         |   2.51      |  3.6        | 0.944       |  0.9117457  | 77          | 0.86124     |  54.399850  |  411015667  | 25.38245    | 0.0516      |\n",
       "| Australia   | 2018        |  2.949286   | 50252.840   | 82.74878    | 12.7        |       NA    |  1.805214   |  21.821900  | 65.65       | ...         |   0.38      |  3.7        | 0.943       |  0.9896040  | 77          | 0.86012     |  44.443000  |  415953947  | 24.15897    | 0.0530      |\n",
       "| Australia   | 2011        |  2.462756   | 41965.360   | 81.89512    | 12.7        | 79.48770    |  2.044710   |  21.436420  | 65.63       | ...         |   0.97      |  4.5        | 0.932       |  0.9357101  | NA          | 0.85300     |  26.273000  |  404172757  | 26.43613    | 0.0508      |\n",
       "| Australia   | 2010        |  2.067417   | 39301.340   | 81.69512    | 12.6        | 76.00000    |  2.032045   |  19.810010  | 65.60       | ...         |  -1.03      |  4.8        | 0.930       |  0.8888599  | NA          | 0.85182     |  21.720000  |  405502799  | 25.15142    | 0.0521      |\n",
       "| Bangladesh  | 2011        |  6.464379   |  2620.834   | 70.25600    |  5.7        |  4.50000    | -1.087300   |  19.922070  | 56.85       | ...         |  -6.54      | 46.1        | 0.566       | -1.4047370  | NA          | 0.31225     |   0.979676  |   56556344  | 25.04530    | 0.0371      |\n",
       "| Bangladesh  | 2010        |  5.571788   |  2439.070   | 69.88100    |  5.3        |  3.70000    | -1.057410   |  16.024110  | 56.92       | ...         |  -5.84      | 48.7        | 0.557       | -1.4257890  | NA          | 0.30462     |   0.836591  |   53991553  | 24.95648    | 0.0338      |\n",
       "| China       | 2011        |  9.550832   | 10299.870   | 74.70800    |  7.4        | 38.30000    | -0.507090   |  26.568190  | 71.06       | ...         |   3.85      | 14.6        | 0.707       | -0.6020548  | NA          | 0.50511     | 766.200000  | 9388199234  | 46.52929    | 0.0450      |\n",
       "| China       | 2010        | 10.635870   |  9253.765   | 74.40900    |  7.3        | 34.30000    | -0.561790   |  27.185330  | 71.26       | ...         |   5.03      | 15.8        | 0.699       | -0.6570607  | NA          | 0.49226     | 752.445000  | 8500542695  | 46.49783    | 0.0450      |\n",
       "| India       | 2011        |  5.241315   |  4493.669   | 67.13000    |  5.3        | 10.07000    | -0.536260   |  24.540410  | 53.29       | ...         |  -5.42      | 55.1        | 0.588       | -1.3267950  | NA          | 0.31276     | 174.620800  | 1766065040  | 30.16168    | 0.0565      |\n",
       "| India       | 2010        |  8.497585   |  4236.744   | 66.69300    |  5.4        |  7.50000    | -0.468240   |  22.400930  | 54.21       | ...         |  -5.75      | 58.2        | 0.579       | -1.2779840  | NA          | 0.30930     | 145.823900  | 1678478677  | 30.72508    | 0.0565      |\n",
       "| Indonesia   | 2011        |  6.169784   |  9095.742   | 69.54200    |  7.6        | 12.28000    | -0.701850   |  26.327350  | 67.27       | ...         |  -0.54      | 32.6        | 0.673       | -0.7701142  | NA          | 0.50595     |  21.888000  |  508073307  | 43.91342    | 0.0515      |\n",
       "| Indonesia   | 2010        |  6.223854   |  8505.748   | 69.20500    |  7.4        | 10.92000    | -0.751560   |  24.299030  | 67.19       | ...         |  -0.35      | 33.9        | 0.665       | -0.8539162  | NA          | 0.49914     |  26.738000  |  428174280  | 42.77587    | 0.0561      |\n",
       "| Japan       | 2019        |  0.270309   | 42197.250   | 84.35634    | 12.8        | 92.73040    |  1.467200   |  17.550110  | 62.36       | ...         |   0.17      |  2.5        | 0.919       |  1.0318470  | 73          | 0.91698     | 225.537700  | 1106664426  |       NA    | 0.0240      |\n",
       "| Japan       | 2011        | -0.115420   | 35774.700   | 82.59122    | 11.8        | 79.05411    |  1.561326   |  14.925000  | 59.59       | ...         |  -2.58      |  3.2        | 0.892       |  0.9950920  | NA          | 0.91069     | 146.116000  | 1264155127  | 26.88171    | 0.0452      |\n",
       "| Japan       | 2010        |  4.191739   | 34986.990   | 82.84268    | 11.5        | 78.21000    |  1.560917   |  15.036760  | 60.08       | ...         |  -4.45      |  3.2        | 0.887       |  0.8793532  | NA          | 0.90812     | 142.587000  | 1214068556  | 28.44461    | 0.0510      |\n",
       "| Malaysia    | 2011        |  5.293913   | 21704.740   | 74.68300    | 10.1        | 61.00000    |  0.029523   |  85.255440  | 61.58       | ...         |  15.57      |  8.0        | 0.778       |  0.0774098  | NA          | 0.71609     |   8.631000  |  217427462  | 39.82427    | 0.0305      |\n",
       "| Malaysia    | 2010        |  7.424847   | 20508.760   | 74.49300    |  9.8        | 56.30000    |  0.089305   |  86.930300  | 60.37       | ...         |   8.17      |  8.1        | 0.772       |  0.1433521  | NA          | 0.70912     |   7.427000  |  216537318  | 40.49893    | 0.0325      |\n",
       "| Myanmar     | 2019        |  1.694424   |  5297.442   | 67.13400    |  5.0        |       NA    | -0.614940   |  28.041560  | 60.41       | ...         |   4.04      | 44.7        | 0.583       | -1.3280670  | 29          | 0.30852     |         NA  |   26231575  | 35.89711    | 0.0050      |\n",
       "| Myanmar     | 2018        |  6.750460   |  5149.938   | 66.86700    |  5.0        |       NA    | -0.580750   |  30.389750  | 62.44       | ...         |   0.09      | 46.4        | 0.579       | -1.2688530  | 29          | 0.30579     |         NA  |   26095603  | 37.96077    | 0.0087      |\n",
       "| Myanmar     | 2017        |  6.404977   |  4739.915   | 66.55800    |  5.0        | 23.62108    | -0.565290   |  28.359710  | 62.19       | ...         |  -5.73      | 48.1        | 0.572       | -1.0848390  | 30          | 0.30322     |         NA  |   23669759  | 36.74277    | 0.0156      |\n",
       "| Myanmar     | 2016        |  5.750065   |  4492.021   | 66.20500    |  4.9        |       NA    | -0.621010   |  25.942730  | 63.85       | ...         |  -9.14      | 49.9        | 0.563       | -0.8046199  | 28          | 0.30082     |         NA  |   25468783  | 35.46916    | 0.0114      |\n",
       "| Myanmar     | 2015        |  6.992840   |  4416.547   | 65.81000    |  4.9        |       NA    | -0.836280   |  22.975170  | 65.55       | ...         |  -7.96      | 51.8        | 0.557       | -1.1650670  | 22          | 0.29858     |         NA  |   22076366  | 33.91247    | 0.0077      |\n",
       "| Myanmar     | 2014        |  7.990916   |  4245.806   | 65.37800    |  4.8        | 11.52000    | -0.882170   |  20.090400  | 65.93       | ...         |  -2.08      | 53.7        | 0.550       | -1.0875810  | 21          | 0.29650     |         NA  |   16169507  | 34.48971    | 0.0078      |\n",
       "| Myanmar     | 2013        |  8.426001   |  4016.316   | 64.92100    |  4.7        |  8.00000    | -0.999890   |  19.635100  | 66.34       | ...         |   0.69      | 55.8        | 0.543       | -1.1403720  | 21          | 0.29457     |         NA  |   12936196  | 32.36222    | 0.0080      |\n",
       "| Myanmar     | 2012        |  7.332670   |  3727.142   | 64.45300    |  4.5        |  4.00000    | -1.063260   |  11.498360  | 66.75       | ...         |   0.61      | 58.2        | 0.533       | -0.9436750  | 15          | 0.29266     |         NA  |   11891872  | 32.37302    | 0.0079      |\n",
       "| Myanmar     | 2011        |  5.591482   |  3469.139   | 63.98300    |  4.3        |  0.98000    | -1.586770   |   0.099465  | 67.12       | ...         |   1.11      | 60.7        | 0.526       | -1.1110980  | NA          | 0.29075     |         NA  |   15067867  | 31.29165    | 0.0079      |\n",
       "| Myanmar     | 2010        |  9.634439   |  3243.000   | 63.52500    |  4.1        |  0.25000    | -1.673340   |  19.588650  | 67.42       | ...         |   1.90      | 63.4        | 0.515       | -1.2859280  | NA          | 0.28885     |         NA  |   13083825  | 26.46806    | 0.0079      |\n",
       "| New Zealand | 2019        |  1.633933   | 45073.200   | 81.70732    | 12.8        |       NA    |  2.170174   |  26.986900  | 69.60       | ...         |  -0.12      |  4.7        | 0.931       |  1.4113020  | 87          | 0.86615     |  35.769240  |   36540963  |       NA    | 0.0407      |\n",
       "| New Zealand | 2018        |  3.205748   | 43930.880   | 81.85854    | 12.7        |       NA    |  2.174655   |  27.592500  | 70.01       | ...         |  -0.31      |  4.9        | 0.928       |  1.5339050  | 87          | 0.86538     |  36.319000  |   35080341  | 20.41986    | 0.0430      |\n",
       "| New Zealand | 2013        |  2.695784   | 36242.620   | 81.40732    | 12.1        | 82.78000    |  2.341601   |  28.813580  | 67.57       | ...         |   1.61      |  5.8        | 0.914       |  1.4539270  | 91          | 0.86221     |  31.530000  |   35240937  | 20.28755    | 0.0577      |\n",
       "| New Zealand | 2012        |  2.240641   | 32988.610   | 81.15610    | 12.1        | 81.64447    |  2.315760   |  28.859390  | 67.33       | ...         |   0.70      |  5.9        | 0.911       |  1.3613660  | 90          | 0.86161     |  31.223000  |   36000433  | 20.92336    | 0.0693      |\n",
       "| New Zealand | 2011        |  2.256737   | 32701.380   | 80.90488    | 12.0        | 81.23000    |  2.297591   |  30.395020  | 67.52       | ...         |   1.55      |  6.0        | 0.909       |  1.3767310  | NA          | 0.86100     |  33.233000  |   34249571  | 20.99472    | 0.0649      |\n",
       "| New Zealand | 2010        |  1.527994   | 31239.190   | 80.70244    | 12.0        | 80.46000    |  2.338579   |  30.273630  | 67.21       | ...         |   2.30      |  6.1        | 0.906       |  1.2364890  | NA          | 0.86160     |  32.285000  |   34957784  | 21.17565    | 0.0656      |\n",
       "| Pakistan    | 2011        |  2.748406   |  3993.559   | 65.56200    |  4.8        |  8.00000    | -1.076280   |  13.966670  | 51.53       | ...         |  -7.58      | 85.0        | 0.516       | -2.8100350  | NA          | 0.35202     |  29.678000  |  154658545  | 20.50179    | 0.0080      |\n",
       "| Pakistan    | 2010        |  1.606689   |  3890.291   | 65.26400    |  4.7        |  8.00000    | -1.087690   |  13.516270  | 51.55       | ...         |  -7.26      | 87.1        | 0.512       | -2.6759330  | NA          | 0.34997     |  32.769000  |  154144709  | 19.71948    | 0.0065      |\n",
       "| Philippines | 2018        |  6.341486   |  8720.607   | 71.09500    |  9.4        |       NA    | -0.542230   |  30.213610  | 59.58       | ...         | -11.74      | 28.0        | 0.711       | -1.0920620  | 36          | 0.46907     |  22.660000  |  138924391  | 30.56374    | 0.0234      |\n",
       "| Philippines | 2017        |  6.930988   |  8120.869   | 70.95200    |  9.4        |       NA    | -0.476550   |  29.552290  | 59.67       | ...         |  -9.06      | 28.7        | 0.708       | -1.1850800  | 34          | 0.46682     |  23.092000  |  134518537  | 30.12655    | 0.0255      |\n",
       "| Philippines | 2016        |  7.149457   |  7703.762   | 70.80200    |  9.3        |       NA    | -0.488120   |  26.673000  | 62.23       | ...         |  -8.43      | 29.3        | 0.704       | -1.3798190  | 35          | 0.46475     |  21.898000  |  122236809  | 30.28592    | 0.0269      |\n",
       "| Philippines | 2015        |  6.348310   |  7186.769   | 70.64400    |  9.3        |       NA    | -0.453470   |  27.208060  | 62.21       | ...         |  -4.73      | 29.8        | 0.701       | -0.8556625  | 35          | 0.46284     |  20.874000  |  112142487  | 30.48195    | 0.0307      |\n",
       "| Philippines | 2014        |  6.347987   |  6960.901   | 70.48100    |  9.2        |       NA    | -0.437020   |  27.354500  | 62.81       | ...         |  -2.76      | 30.2        | 0.696       | -0.7138209  | 38          | 0.46093     |  19.719000  |  101182148  | 31.04744    | 0.0360      |\n",
       "| Philippines | 2011        |  3.858233   |  5865.344   | 69.98400    |  9.0        | 29.00000    | -0.667100   |  29.105430  | 62.90       | ...         |  -4.13      | 31.3        | 0.676       | -1.3921820  | NA          | 0.45522     |  19.750000  |   83743662  | 31.33868    | 0.0359      |\n",
       "| Philippines | 2010        |  7.334500   |  5626.281   | 69.82300    |  8.9        | 25.00000    | -0.760690   |  32.874830  | 62.19       | ...         |  -5.05      | 31.7        | 0.671       | -1.6507600  | NA          | 0.45332     |  17.744000  |   82951250  | 32.33956    | 0.0361      |\n",
       "| Singapore   | 2011        |  6.337871   | 80052.390   | 81.74390    | 11.1        | 71.00000    |  2.109778   | 203.327700  | 69.12       | ...         |  26.55      |  2.8        | 0.913       |  1.1914220  | NA          | 1.00000     |   1.213000  |   30271968  | 25.26045    | 0.0389      |\n",
       "| Singapore   | 2010        | 14.525640   | 75294.360   | 81.54146    | 11.0        | 71.00000    |  2.180155   | 197.999000  | 68.83       | ...         |  18.60      |  2.8        | 0.909       |  1.1694150  | NA          | 1.00000     |   1.179000  |   56619792  | 26.63664    | 0.0412      |\n",
       "| Sri Lanka   | 2013        |  3.395733   | 10852.060   | 75.97400    | 10.9        |       NA    | -0.214750   |  20.320400  | 54.85       | ...         |  -8.62      | 10.0        | 0.769       | -0.6128954  | 37          | 0.18198     |   7.130000  |   14678050  | 29.16276    | 0.0424      |\n",
       "| Sri Lanka   | 2012        |  9.144572   | 10315.180   | 75.79600    | 10.9        |       NA    | -0.236880   |  19.816480  | 53.44       | ...         | -11.86      | 10.6        | 0.766       | -0.7170792  | 40          | 0.18196     |   3.444000  |   15797950  | 30.12628    | 0.0388      |\n",
       "| Sri Lanka   | 2011        |  8.404733   |  9007.734   | 75.61400    | 10.8        |       NA    | -0.393240   |  20.896840  | 54.25       | ...         | -11.01      | 11.2        | 0.760       | -0.7247714  | NA          | 0.18211     |   4.714000  |   14886602  | 27.99567    | 0.0412      |\n",
       "| Sri Lanka   | 2010        |  8.015967   |  8194.269   | 75.43900    | 10.8        |       NA    | -0.421460   |  19.552320  | 54.64       | ...         |  -8.21      | 11.6        | 0.754       | -0.9429469  | NA          | 0.18226     |   5.681000  |   13050301  | 26.64415    | 0.0478      |\n",
       "| Thailand    | 2011        |  0.840132   | 13519.130   | 74.59300    |  7.5        | 23.66993    | -0.323440   |  70.854910  | 73.24       | ...         |   0.00      | 13.0        | 0.733       | -1.1335340  | NA          | 0.44698     |  12.473000  |  253800670  | 37.98140    | 0.0066      |\n",
       "| Thailand    | 2010        |  7.513391   | 13195.370   | 74.18400    |  7.3        | 22.40000    | -0.333950   |  66.486170  | 71.71       | ...         |   1.90      | 13.6        | 0.724       | -1.4427880  | NA          | 0.43856     |   8.895000  |  256422255  | 39.92173    | 0.0062      |\n",
       "| Vietnam     | 2011        |  6.240303   |  4523.253   | 74.90400    |  7.6        | 35.07000    | -0.607290   |  79.390870  | 76.52       | ...         |   8.07      | 22.6        | 0.671       |  0.1890884  | NA          | 0.31080     |  40.664000  |  145047830  | 32.24441    | 0.0100      |\n",
       "| Vietnam     | 2010        |  6.423238   |  4213.296   | 74.83700    |  7.5        | 30.65000    | -0.623740   |  72.002360  | 76.29       | ...         |   5.72      | 22.9        | 0.661       |  0.1484079  | NA          | 0.30417     |  27.386000  |  136113090  | 32.13189    | 0.0111      |\n",
       "\n"
      ],
      "text/plain": [
       "   Countries   Year GDP_Growth Market_Size Life_Exp Mean_Years_of_Schooling\n",
       "1  Australia   2019  2.160956  52203.130   82.90000 12.7                   \n",
       "2  Australia   2018  2.949286  50252.840   82.74878 12.7                   \n",
       "3  Australia   2011  2.462756  41965.360   81.89512 12.7                   \n",
       "4  Australia   2010  2.067417  39301.340   81.69512 12.6                   \n",
       "5  Bangladesh  2011  6.464379   2620.834   70.25600  5.7                   \n",
       "6  Bangladesh  2010  5.571788   2439.070   69.88100  5.3                   \n",
       "7  China       2011  9.550832  10299.870   74.70800  7.4                   \n",
       "8  China       2010 10.635870   9253.765   74.40900  7.3                   \n",
       "9  India       2011  5.241315   4493.669   67.13000  5.3                   \n",
       "10 India       2010  8.497585   4236.744   66.69300  5.4                   \n",
       "11 Indonesia   2011  6.169784   9095.742   69.54200  7.6                   \n",
       "12 Indonesia   2010  6.223854   8505.748   69.20500  7.4                   \n",
       "13 Japan       2019  0.270309  42197.250   84.35634 12.8                   \n",
       "14 Japan       2011 -0.115420  35774.700   82.59122 11.8                   \n",
       "15 Japan       2010  4.191739  34986.990   82.84268 11.5                   \n",
       "16 Malaysia    2011  5.293913  21704.740   74.68300 10.1                   \n",
       "17 Malaysia    2010  7.424847  20508.760   74.49300  9.8                   \n",
       "18 Myanmar     2019  1.694424   5297.442   67.13400  5.0                   \n",
       "19 Myanmar     2018  6.750460   5149.938   66.86700  5.0                   \n",
       "20 Myanmar     2017  6.404977   4739.915   66.55800  5.0                   \n",
       "21 Myanmar     2016  5.750065   4492.021   66.20500  4.9                   \n",
       "22 Myanmar     2015  6.992840   4416.547   65.81000  4.9                   \n",
       "23 Myanmar     2014  7.990916   4245.806   65.37800  4.8                   \n",
       "24 Myanmar     2013  8.426001   4016.316   64.92100  4.7                   \n",
       "25 Myanmar     2012  7.332670   3727.142   64.45300  4.5                   \n",
       "26 Myanmar     2011  5.591482   3469.139   63.98300  4.3                   \n",
       "27 Myanmar     2010  9.634439   3243.000   63.52500  4.1                   \n",
       "28 New Zealand 2019  1.633933  45073.200   81.70732 12.8                   \n",
       "29 New Zealand 2018  3.205748  43930.880   81.85854 12.7                   \n",
       "30 New Zealand 2013  2.695784  36242.620   81.40732 12.1                   \n",
       "31 New Zealand 2012  2.240641  32988.610   81.15610 12.1                   \n",
       "32 New Zealand 2011  2.256737  32701.380   80.90488 12.0                   \n",
       "33 New Zealand 2010  1.527994  31239.190   80.70244 12.0                   \n",
       "34 Pakistan    2011  2.748406   3993.559   65.56200  4.8                   \n",
       "35 Pakistan    2010  1.606689   3890.291   65.26400  4.7                   \n",
       "36 Philippines 2018  6.341486   8720.607   71.09500  9.4                   \n",
       "37 Philippines 2017  6.930988   8120.869   70.95200  9.4                   \n",
       "38 Philippines 2016  7.149457   7703.762   70.80200  9.3                   \n",
       "39 Philippines 2015  6.348310   7186.769   70.64400  9.3                   \n",
       "40 Philippines 2014  6.347987   6960.901   70.48100  9.2                   \n",
       "41 Philippines 2011  3.858233   5865.344   69.98400  9.0                   \n",
       "42 Philippines 2010  7.334500   5626.281   69.82300  8.9                   \n",
       "43 Singapore   2011  6.337871  80052.390   81.74390 11.1                   \n",
       "44 Singapore   2010 14.525640  75294.360   81.54146 11.0                   \n",
       "45 Sri Lanka   2013  3.395733  10852.060   75.97400 10.9                   \n",
       "46 Sri Lanka   2012  9.144572  10315.180   75.79600 10.9                   \n",
       "47 Sri Lanka   2011  8.404733   9007.734   75.61400 10.8                   \n",
       "48 Sri Lanka   2010  8.015967   8194.269   75.43900 10.8                   \n",
       "49 Thailand    2011  0.840132  13519.130   74.59300  7.5                   \n",
       "50 Thailand    2010  7.513391  13195.370   74.18400  7.3                   \n",
       "51 Vietnam     2011  6.240303   4523.253   74.90400  7.6                   \n",
       "52 Vietnam     2010  6.423238   4213.296   74.83700  7.5                   \n",
       "   Internet_Penetration Gov_Indicator Trade_Openness Labour_Force ... BoT   \n",
       "1        NA              1.825413      24.110970     65.93        ...   2.51\n",
       "2        NA              1.805214      21.821900     65.65        ...   0.38\n",
       "3  79.48770              2.044710      21.436420     65.63        ...   0.97\n",
       "4  76.00000              2.032045      19.810010     65.60        ...  -1.03\n",
       "5   4.50000             -1.087300      19.922070     56.85        ...  -6.54\n",
       "6   3.70000             -1.057410      16.024110     56.92        ...  -5.84\n",
       "7  38.30000             -0.507090      26.568190     71.06        ...   3.85\n",
       "8  34.30000             -0.561790      27.185330     71.26        ...   5.03\n",
       "9  10.07000             -0.536260      24.540410     53.29        ...  -5.42\n",
       "10  7.50000             -0.468240      22.400930     54.21        ...  -5.75\n",
       "11 12.28000             -0.701850      26.327350     67.27        ...  -0.54\n",
       "12 10.92000             -0.751560      24.299030     67.19        ...  -0.35\n",
       "13 92.73040              1.467200      17.550110     62.36        ...   0.17\n",
       "14 79.05411              1.561326      14.925000     59.59        ...  -2.58\n",
       "15 78.21000              1.560917      15.036760     60.08        ...  -4.45\n",
       "16 61.00000              0.029523      85.255440     61.58        ...  15.57\n",
       "17 56.30000              0.089305      86.930300     60.37        ...   8.17\n",
       "18       NA             -0.614940      28.041560     60.41        ...   4.04\n",
       "19       NA             -0.580750      30.389750     62.44        ...   0.09\n",
       "20 23.62108             -0.565290      28.359710     62.19        ...  -5.73\n",
       "21       NA             -0.621010      25.942730     63.85        ...  -9.14\n",
       "22       NA             -0.836280      22.975170     65.55        ...  -7.96\n",
       "23 11.52000             -0.882170      20.090400     65.93        ...  -2.08\n",
       "24  8.00000             -0.999890      19.635100     66.34        ...   0.69\n",
       "25  4.00000             -1.063260      11.498360     66.75        ...   0.61\n",
       "26  0.98000             -1.586770       0.099465     67.12        ...   1.11\n",
       "27  0.25000             -1.673340      19.588650     67.42        ...   1.90\n",
       "28       NA              2.170174      26.986900     69.60        ...  -0.12\n",
       "29       NA              2.174655      27.592500     70.01        ...  -0.31\n",
       "30 82.78000              2.341601      28.813580     67.57        ...   1.61\n",
       "31 81.64447              2.315760      28.859390     67.33        ...   0.70\n",
       "32 81.23000              2.297591      30.395020     67.52        ...   1.55\n",
       "33 80.46000              2.338579      30.273630     67.21        ...   2.30\n",
       "34  8.00000             -1.076280      13.966670     51.53        ...  -7.58\n",
       "35  8.00000             -1.087690      13.516270     51.55        ...  -7.26\n",
       "36       NA             -0.542230      30.213610     59.58        ... -11.74\n",
       "37       NA             -0.476550      29.552290     59.67        ...  -9.06\n",
       "38       NA             -0.488120      26.673000     62.23        ...  -8.43\n",
       "39       NA             -0.453470      27.208060     62.21        ...  -4.73\n",
       "40       NA             -0.437020      27.354500     62.81        ...  -2.76\n",
       "41 29.00000             -0.667100      29.105430     62.90        ...  -4.13\n",
       "42 25.00000             -0.760690      32.874830     62.19        ...  -5.05\n",
       "43 71.00000              2.109778     203.327700     69.12        ...  26.55\n",
       "44 71.00000              2.180155     197.999000     68.83        ...  18.60\n",
       "45       NA             -0.214750      20.320400     54.85        ...  -8.62\n",
       "46       NA             -0.236880      19.816480     53.44        ... -11.86\n",
       "47       NA             -0.393240      20.896840     54.25        ... -11.01\n",
       "48       NA             -0.421460      19.552320     54.64        ...  -8.21\n",
       "49 23.66993             -0.323440      70.854910     73.24        ...   0.00\n",
       "50 22.40000             -0.333950      66.486170     71.71        ...   1.90\n",
       "51 35.07000             -0.607290      79.390870     76.52        ...   8.07\n",
       "52 30.65000             -0.623740      72.002360     76.29        ...   5.72\n",
       "   Child_Mortality HDI   Pol_Stability CPI Urban_pop Renew_Energy CO2_emissions\n",
       "1   3.6            0.944  0.9117457    77  0.86124    54.399850    411015667   \n",
       "2   3.7            0.943  0.9896040    77  0.86012    44.443000    415953947   \n",
       "3   4.5            0.932  0.9357101    NA  0.85300    26.273000    404172757   \n",
       "4   4.8            0.930  0.8888599    NA  0.85182    21.720000    405502799   \n",
       "5  46.1            0.566 -1.4047370    NA  0.31225     0.979676     56556344   \n",
       "6  48.7            0.557 -1.4257890    NA  0.30462     0.836591     53991553   \n",
       "7  14.6            0.707 -0.6020548    NA  0.50511   766.200000   9388199234   \n",
       "8  15.8            0.699 -0.6570607    NA  0.49226   752.445000   8500542695   \n",
       "9  55.1            0.588 -1.3267950    NA  0.31276   174.620800   1766065040   \n",
       "10 58.2            0.579 -1.2779840    NA  0.30930   145.823900   1678478677   \n",
       "11 32.6            0.673 -0.7701142    NA  0.50595    21.888000    508073307   \n",
       "12 33.9            0.665 -0.8539162    NA  0.49914    26.738000    428174280   \n",
       "13  2.5            0.919  1.0318470    73  0.91698   225.537700   1106664426   \n",
       "14  3.2            0.892  0.9950920    NA  0.91069   146.116000   1264155127   \n",
       "15  3.2            0.887  0.8793532    NA  0.90812   142.587000   1214068556   \n",
       "16  8.0            0.778  0.0774098    NA  0.71609     8.631000    217427462   \n",
       "17  8.1            0.772  0.1433521    NA  0.70912     7.427000    216537318   \n",
       "18 44.7            0.583 -1.3280670    29  0.30852           NA     26231575   \n",
       "19 46.4            0.579 -1.2688530    29  0.30579           NA     26095603   \n",
       "20 48.1            0.572 -1.0848390    30  0.30322           NA     23669759   \n",
       "21 49.9            0.563 -0.8046199    28  0.30082           NA     25468783   \n",
       "22 51.8            0.557 -1.1650670    22  0.29858           NA     22076366   \n",
       "23 53.7            0.550 -1.0875810    21  0.29650           NA     16169507   \n",
       "24 55.8            0.543 -1.1403720    21  0.29457           NA     12936196   \n",
       "25 58.2            0.533 -0.9436750    15  0.29266           NA     11891872   \n",
       "26 60.7            0.526 -1.1110980    NA  0.29075           NA     15067867   \n",
       "27 63.4            0.515 -1.2859280    NA  0.28885           NA     13083825   \n",
       "28  4.7            0.931  1.4113020    87  0.86615    35.769240     36540963   \n",
       "29  4.9            0.928  1.5339050    87  0.86538    36.319000     35080341   \n",
       "30  5.8            0.914  1.4539270    91  0.86221    31.530000     35240937   \n",
       "31  5.9            0.911  1.3613660    90  0.86161    31.223000     36000433   \n",
       "32  6.0            0.909  1.3767310    NA  0.86100    33.233000     34249571   \n",
       "33  6.1            0.906  1.2364890    NA  0.86160    32.285000     34957784   \n",
       "34 85.0            0.516 -2.8100350    NA  0.35202    29.678000    154658545   \n",
       "35 87.1            0.512 -2.6759330    NA  0.34997    32.769000    154144709   \n",
       "36 28.0            0.711 -1.0920620    36  0.46907    22.660000    138924391   \n",
       "37 28.7            0.708 -1.1850800    34  0.46682    23.092000    134518537   \n",
       "38 29.3            0.704 -1.3798190    35  0.46475    21.898000    122236809   \n",
       "39 29.8            0.701 -0.8556625    35  0.46284    20.874000    112142487   \n",
       "40 30.2            0.696 -0.7138209    38  0.46093    19.719000    101182148   \n",
       "41 31.3            0.676 -1.3921820    NA  0.45522    19.750000     83743662   \n",
       "42 31.7            0.671 -1.6507600    NA  0.45332    17.744000     82951250   \n",
       "43  2.8            0.913  1.1914220    NA  1.00000     1.213000     30271968   \n",
       "44  2.8            0.909  1.1694150    NA  1.00000     1.179000     56619792   \n",
       "45 10.0            0.769 -0.6128954    37  0.18198     7.130000     14678050   \n",
       "46 10.6            0.766 -0.7170792    40  0.18196     3.444000     15797950   \n",
       "47 11.2            0.760 -0.7247714    NA  0.18211     4.714000     14886602   \n",
       "48 11.6            0.754 -0.9429469    NA  0.18226     5.681000     13050301   \n",
       "49 13.0            0.733 -1.1335340    NA  0.44698    12.473000    253800670   \n",
       "50 13.6            0.724 -1.4427880    NA  0.43856     8.895000    256422255   \n",
       "51 22.6            0.671  0.1890884    NA  0.31080    40.664000    145047830   \n",
       "52 22.9            0.661  0.1484079    NA  0.30417    27.386000    136113090   \n",
       "   ind_val_add unemployment_rate\n",
       "1  25.38245    0.0516           \n",
       "2  24.15897    0.0530           \n",
       "3  26.43613    0.0508           \n",
       "4  25.15142    0.0521           \n",
       "5  25.04530    0.0371           \n",
       "6  24.95648    0.0338           \n",
       "7  46.52929    0.0450           \n",
       "8  46.49783    0.0450           \n",
       "9  30.16168    0.0565           \n",
       "10 30.72508    0.0565           \n",
       "11 43.91342    0.0515           \n",
       "12 42.77587    0.0561           \n",
       "13       NA    0.0240           \n",
       "14 26.88171    0.0452           \n",
       "15 28.44461    0.0510           \n",
       "16 39.82427    0.0305           \n",
       "17 40.49893    0.0325           \n",
       "18 35.89711    0.0050           \n",
       "19 37.96077    0.0087           \n",
       "20 36.74277    0.0156           \n",
       "21 35.46916    0.0114           \n",
       "22 33.91247    0.0077           \n",
       "23 34.48971    0.0078           \n",
       "24 32.36222    0.0080           \n",
       "25 32.37302    0.0079           \n",
       "26 31.29165    0.0079           \n",
       "27 26.46806    0.0079           \n",
       "28       NA    0.0407           \n",
       "29 20.41986    0.0430           \n",
       "30 20.28755    0.0577           \n",
       "31 20.92336    0.0693           \n",
       "32 20.99472    0.0649           \n",
       "33 21.17565    0.0656           \n",
       "34 20.50179    0.0080           \n",
       "35 19.71948    0.0065           \n",
       "36 30.56374    0.0234           \n",
       "37 30.12655    0.0255           \n",
       "38 30.28592    0.0269           \n",
       "39 30.48195    0.0307           \n",
       "40 31.04744    0.0360           \n",
       "41 31.33868    0.0359           \n",
       "42 32.33956    0.0361           \n",
       "43 25.26045    0.0389           \n",
       "44 26.63664    0.0412           \n",
       "45 29.16276    0.0424           \n",
       "46 30.12628    0.0388           \n",
       "47 27.99567    0.0412           \n",
       "48 26.64415    0.0478           \n",
       "49 37.98140    0.0066           \n",
       "50 39.92173    0.0062           \n",
       "51 32.24441    0.0100           \n",
       "52 32.13189    0.0111           "
      ]
     },
     "metadata": {},
     "output_type": "display_data"
    },
    {
     "data": {
      "text/html": [
       "<table>\n",
       "<thead><tr><th scope=col>Countries</th><th scope=col>Year</th><th scope=col>GDP_Growth</th><th scope=col>Market_Size</th><th scope=col>Life_Exp</th><th scope=col>Mean_Years_of_Schooling</th><th scope=col>Internet_Penetration</th><th scope=col>Gov_Indicator</th><th scope=col>Trade_Openness</th><th scope=col>Labour_Force</th><th scope=col>...</th><th scope=col>BoT</th><th scope=col>Child_Mortality</th><th scope=col>HDI</th><th scope=col>Pol_Stability</th><th scope=col>CPI</th><th scope=col>Urban_pop</th><th scope=col>Renew_Energy</th><th scope=col>CO2_emissions</th><th scope=col>ind_val_add</th><th scope=col>unemployment_rate</th></tr></thead>\n",
       "<tbody>\n",
       "\t<tr><td>Australia  </td><td>2011       </td><td> 2.462756  </td><td>41965.360  </td><td>81.89512   </td><td>12.7       </td><td>79.48770   </td><td> 2.044710  </td><td> 21.436420 </td><td>65.63      </td><td>...        </td><td>  0.97     </td><td> 4.5       </td><td>0.932      </td><td> 0.9357101 </td><td>NA         </td><td>0.85300    </td><td> 26.273000 </td><td> 404172757 </td><td>26.43613   </td><td>0.0508     </td></tr>\n",
       "\t<tr><td>Australia  </td><td>2010       </td><td> 2.067417  </td><td>39301.340  </td><td>81.69512   </td><td>12.6       </td><td>76.00000   </td><td> 2.032045  </td><td> 19.810010 </td><td>65.60      </td><td>...        </td><td> -1.03     </td><td> 4.8       </td><td>0.930      </td><td> 0.8888599 </td><td>NA         </td><td>0.85182    </td><td> 21.720000 </td><td> 405502799 </td><td>25.15142   </td><td>0.0521     </td></tr>\n",
       "\t<tr><td>Bangladesh </td><td>2011       </td><td> 6.464379  </td><td> 2620.834  </td><td>70.25600   </td><td> 5.7       </td><td> 4.50000   </td><td>-1.087300  </td><td> 19.922070 </td><td>56.85      </td><td>...        </td><td> -6.54     </td><td>46.1       </td><td>0.566      </td><td>-1.4047370 </td><td>NA         </td><td>0.31225    </td><td>  0.979676 </td><td>  56556344 </td><td>25.04530   </td><td>0.0371     </td></tr>\n",
       "\t<tr><td>Bangladesh </td><td>2010       </td><td> 5.571788  </td><td> 2439.070  </td><td>69.88100   </td><td> 5.3       </td><td> 3.70000   </td><td>-1.057410  </td><td> 16.024110 </td><td>56.92      </td><td>...        </td><td> -5.84     </td><td>48.7       </td><td>0.557      </td><td>-1.4257890 </td><td>NA         </td><td>0.30462    </td><td>  0.836591 </td><td>  53991553 </td><td>24.95648   </td><td>0.0338     </td></tr>\n",
       "\t<tr><td>China      </td><td>2011       </td><td> 9.550832  </td><td>10299.870  </td><td>74.70800   </td><td> 7.4       </td><td>38.30000   </td><td>-0.507090  </td><td> 26.568190 </td><td>71.06      </td><td>...        </td><td>  3.85     </td><td>14.6       </td><td>0.707      </td><td>-0.6020548 </td><td>NA         </td><td>0.50511    </td><td>766.200000 </td><td>9388199234 </td><td>46.52929   </td><td>0.0450     </td></tr>\n",
       "\t<tr><td>China      </td><td>2010       </td><td>10.635870  </td><td> 9253.765  </td><td>74.40900   </td><td> 7.3       </td><td>34.30000   </td><td>-0.561790  </td><td> 27.185330 </td><td>71.26      </td><td>...        </td><td>  5.03     </td><td>15.8       </td><td>0.699      </td><td>-0.6570607 </td><td>NA         </td><td>0.49226    </td><td>752.445000 </td><td>8500542695 </td><td>46.49783   </td><td>0.0450     </td></tr>\n",
       "\t<tr><td>India      </td><td>2011       </td><td> 5.241315  </td><td> 4493.669  </td><td>67.13000   </td><td> 5.3       </td><td>10.07000   </td><td>-0.536260  </td><td> 24.540410 </td><td>53.29      </td><td>...        </td><td> -5.42     </td><td>55.1       </td><td>0.588      </td><td>-1.3267950 </td><td>NA         </td><td>0.31276    </td><td>174.620800 </td><td>1766065040 </td><td>30.16168   </td><td>0.0565     </td></tr>\n",
       "\t<tr><td>India      </td><td>2010       </td><td> 8.497585  </td><td> 4236.744  </td><td>66.69300   </td><td> 5.4       </td><td> 7.50000   </td><td>-0.468240  </td><td> 22.400930 </td><td>54.21      </td><td>...        </td><td> -5.75     </td><td>58.2       </td><td>0.579      </td><td>-1.2779840 </td><td>NA         </td><td>0.30930    </td><td>145.823900 </td><td>1678478677 </td><td>30.72508   </td><td>0.0565     </td></tr>\n",
       "\t<tr><td>Indonesia  </td><td>2011       </td><td> 6.169784  </td><td> 9095.742  </td><td>69.54200   </td><td> 7.6       </td><td>12.28000   </td><td>-0.701850  </td><td> 26.327350 </td><td>67.27      </td><td>...        </td><td> -0.54     </td><td>32.6       </td><td>0.673      </td><td>-0.7701142 </td><td>NA         </td><td>0.50595    </td><td> 21.888000 </td><td> 508073307 </td><td>43.91342   </td><td>0.0515     </td></tr>\n",
       "\t<tr><td>Indonesia  </td><td>2010       </td><td> 6.223854  </td><td> 8505.748  </td><td>69.20500   </td><td> 7.4       </td><td>10.92000   </td><td>-0.751560  </td><td> 24.299030 </td><td>67.19      </td><td>...        </td><td> -0.35     </td><td>33.9       </td><td>0.665      </td><td>-0.8539162 </td><td>NA         </td><td>0.49914    </td><td> 26.738000 </td><td> 428174280 </td><td>42.77587   </td><td>0.0561     </td></tr>\n",
       "\t<tr><td>Japan      </td><td>2011       </td><td>-0.115420  </td><td>35774.700  </td><td>82.59122   </td><td>11.8       </td><td>79.05411   </td><td> 1.561326  </td><td> 14.925000 </td><td>59.59      </td><td>...        </td><td> -2.58     </td><td> 3.2       </td><td>0.892      </td><td> 0.9950920 </td><td>NA         </td><td>0.91069    </td><td>146.116000 </td><td>1264155127 </td><td>26.88171   </td><td>0.0452     </td></tr>\n",
       "\t<tr><td>Japan      </td><td>2010       </td><td> 4.191739  </td><td>34986.990  </td><td>82.84268   </td><td>11.5       </td><td>78.21000   </td><td> 1.560917  </td><td> 15.036760 </td><td>60.08      </td><td>...        </td><td> -4.45     </td><td> 3.2       </td><td>0.887      </td><td> 0.8793532 </td><td>NA         </td><td>0.90812    </td><td>142.587000 </td><td>1214068556 </td><td>28.44461   </td><td>0.0510     </td></tr>\n",
       "\t<tr><td>Malaysia   </td><td>2011       </td><td> 5.293913  </td><td>21704.740  </td><td>74.68300   </td><td>10.1       </td><td>61.00000   </td><td> 0.029523  </td><td> 85.255440 </td><td>61.58      </td><td>...        </td><td> 15.57     </td><td> 8.0       </td><td>0.778      </td><td> 0.0774098 </td><td>NA         </td><td>0.71609    </td><td>  8.631000 </td><td> 217427462 </td><td>39.82427   </td><td>0.0305     </td></tr>\n",
       "\t<tr><td>Malaysia   </td><td>2010       </td><td> 7.424847  </td><td>20508.760  </td><td>74.49300   </td><td> 9.8       </td><td>56.30000   </td><td> 0.089305  </td><td> 86.930300 </td><td>60.37      </td><td>...        </td><td>  8.17     </td><td> 8.1       </td><td>0.772      </td><td> 0.1433521 </td><td>NA         </td><td>0.70912    </td><td>  7.427000 </td><td> 216537318 </td><td>40.49893   </td><td>0.0325     </td></tr>\n",
       "\t<tr><td>Myanmar    </td><td>2011       </td><td> 5.591482  </td><td> 3469.139  </td><td>63.98300   </td><td> 4.3       </td><td> 0.98000   </td><td>-1.586770  </td><td>  0.099465 </td><td>67.12      </td><td>...        </td><td>  1.11     </td><td>60.7       </td><td>0.526      </td><td>-1.1110980 </td><td>NA         </td><td>0.29075    </td><td>        NA </td><td>  15067867 </td><td>31.29165   </td><td>0.0079     </td></tr>\n",
       "\t<tr><td>Myanmar    </td><td>2010       </td><td> 9.634439  </td><td> 3243.000  </td><td>63.52500   </td><td> 4.1       </td><td> 0.25000   </td><td>-1.673340  </td><td> 19.588650 </td><td>67.42      </td><td>...        </td><td>  1.90     </td><td>63.4       </td><td>0.515      </td><td>-1.2859280 </td><td>NA         </td><td>0.28885    </td><td>        NA </td><td>  13083825 </td><td>26.46806   </td><td>0.0079     </td></tr>\n",
       "\t<tr><td>New Zealand</td><td>2011       </td><td> 2.256737  </td><td>32701.380  </td><td>80.90488   </td><td>12.0       </td><td>81.23000   </td><td> 2.297591  </td><td> 30.395020 </td><td>67.52      </td><td>...        </td><td>  1.55     </td><td> 6.0       </td><td>0.909      </td><td> 1.3767310 </td><td>NA         </td><td>0.86100    </td><td> 33.233000 </td><td>  34249571 </td><td>20.99472   </td><td>0.0649     </td></tr>\n",
       "\t<tr><td>New Zealand</td><td>2010       </td><td> 1.527994  </td><td>31239.190  </td><td>80.70244   </td><td>12.0       </td><td>80.46000   </td><td> 2.338579  </td><td> 30.273630 </td><td>67.21      </td><td>...        </td><td>  2.30     </td><td> 6.1       </td><td>0.906      </td><td> 1.2364890 </td><td>NA         </td><td>0.86160    </td><td> 32.285000 </td><td>  34957784 </td><td>21.17565   </td><td>0.0656     </td></tr>\n",
       "\t<tr><td>Pakistan   </td><td>2011       </td><td> 2.748406  </td><td> 3993.559  </td><td>65.56200   </td><td> 4.8       </td><td> 8.00000   </td><td>-1.076280  </td><td> 13.966670 </td><td>51.53      </td><td>...        </td><td> -7.58     </td><td>85.0       </td><td>0.516      </td><td>-2.8100350 </td><td>NA         </td><td>0.35202    </td><td> 29.678000 </td><td> 154658545 </td><td>20.50179   </td><td>0.0080     </td></tr>\n",
       "\t<tr><td>Pakistan   </td><td>2010       </td><td> 1.606689  </td><td> 3890.291  </td><td>65.26400   </td><td> 4.7       </td><td> 8.00000   </td><td>-1.087690  </td><td> 13.516270 </td><td>51.55      </td><td>...        </td><td> -7.26     </td><td>87.1       </td><td>0.512      </td><td>-2.6759330 </td><td>NA         </td><td>0.34997    </td><td> 32.769000 </td><td> 154144709 </td><td>19.71948   </td><td>0.0065     </td></tr>\n",
       "\t<tr><td>Philippines</td><td>2011       </td><td> 3.858233  </td><td> 5865.344  </td><td>69.98400   </td><td> 9.0       </td><td>29.00000   </td><td>-0.667100  </td><td> 29.105430 </td><td>62.90      </td><td>...        </td><td> -4.13     </td><td>31.3       </td><td>0.676      </td><td>-1.3921820 </td><td>NA         </td><td>0.45522    </td><td> 19.750000 </td><td>  83743662 </td><td>31.33868   </td><td>0.0359     </td></tr>\n",
       "\t<tr><td>Philippines</td><td>2010       </td><td> 7.334500  </td><td> 5626.281  </td><td>69.82300   </td><td> 8.9       </td><td>25.00000   </td><td>-0.760690  </td><td> 32.874830 </td><td>62.19      </td><td>...        </td><td> -5.05     </td><td>31.7       </td><td>0.671      </td><td>-1.6507600 </td><td>NA         </td><td>0.45332    </td><td> 17.744000 </td><td>  82951250 </td><td>32.33956   </td><td>0.0361     </td></tr>\n",
       "\t<tr><td>Singapore  </td><td>2011       </td><td> 6.337871  </td><td>80052.390  </td><td>81.74390   </td><td>11.1       </td><td>71.00000   </td><td> 2.109778  </td><td>203.327700 </td><td>69.12      </td><td>...        </td><td> 26.55     </td><td> 2.8       </td><td>0.913      </td><td> 1.1914220 </td><td>NA         </td><td>1.00000    </td><td>  1.213000 </td><td>  30271968 </td><td>25.26045   </td><td>0.0389     </td></tr>\n",
       "\t<tr><td>Singapore  </td><td>2010       </td><td>14.525640  </td><td>75294.360  </td><td>81.54146   </td><td>11.0       </td><td>71.00000   </td><td> 2.180155  </td><td>197.999000 </td><td>68.83      </td><td>...        </td><td> 18.60     </td><td> 2.8       </td><td>0.909      </td><td> 1.1694150 </td><td>NA         </td><td>1.00000    </td><td>  1.179000 </td><td>  56619792 </td><td>26.63664   </td><td>0.0412     </td></tr>\n",
       "\t<tr><td>Sri Lanka  </td><td>2011       </td><td> 8.404733  </td><td> 9007.734  </td><td>75.61400   </td><td>10.8       </td><td>      NA   </td><td>-0.393240  </td><td> 20.896840 </td><td>54.25      </td><td>...        </td><td>-11.01     </td><td>11.2       </td><td>0.760      </td><td>-0.7247714 </td><td>NA         </td><td>0.18211    </td><td>  4.714000 </td><td>  14886602 </td><td>27.99567   </td><td>0.0412     </td></tr>\n",
       "\t<tr><td>Sri Lanka  </td><td>2010       </td><td> 8.015967  </td><td> 8194.269  </td><td>75.43900   </td><td>10.8       </td><td>      NA   </td><td>-0.421460  </td><td> 19.552320 </td><td>54.64      </td><td>...        </td><td> -8.21     </td><td>11.6       </td><td>0.754      </td><td>-0.9429469 </td><td>NA         </td><td>0.18226    </td><td>  5.681000 </td><td>  13050301 </td><td>26.64415   </td><td>0.0478     </td></tr>\n",
       "\t<tr><td>Thailand   </td><td>2011       </td><td> 0.840132  </td><td>13519.130  </td><td>74.59300   </td><td> 7.5       </td><td>23.66993   </td><td>-0.323440  </td><td> 70.854910 </td><td>73.24      </td><td>...        </td><td>  0.00     </td><td>13.0       </td><td>0.733      </td><td>-1.1335340 </td><td>NA         </td><td>0.44698    </td><td> 12.473000 </td><td> 253800670 </td><td>37.98140   </td><td>0.0066     </td></tr>\n",
       "\t<tr><td>Thailand   </td><td>2010       </td><td> 7.513391  </td><td>13195.370  </td><td>74.18400   </td><td> 7.3       </td><td>22.40000   </td><td>-0.333950  </td><td> 66.486170 </td><td>71.71      </td><td>...        </td><td>  1.90     </td><td>13.6       </td><td>0.724      </td><td>-1.4427880 </td><td>NA         </td><td>0.43856    </td><td>  8.895000 </td><td> 256422255 </td><td>39.92173   </td><td>0.0062     </td></tr>\n",
       "\t<tr><td>Vietnam    </td><td>2011       </td><td> 6.240303  </td><td> 4523.253  </td><td>74.90400   </td><td> 7.6       </td><td>35.07000   </td><td>-0.607290  </td><td> 79.390870 </td><td>76.52      </td><td>...        </td><td>  8.07     </td><td>22.6       </td><td>0.671      </td><td> 0.1890884 </td><td>NA         </td><td>0.31080    </td><td> 40.664000 </td><td> 145047830 </td><td>32.24441   </td><td>0.0100     </td></tr>\n",
       "\t<tr><td>Vietnam    </td><td>2010       </td><td> 6.423238  </td><td> 4213.296  </td><td>74.83700   </td><td> 7.5       </td><td>30.65000   </td><td>-0.623740  </td><td> 72.002360 </td><td>76.29      </td><td>...        </td><td>  5.72     </td><td>22.9       </td><td>0.661      </td><td> 0.1484079 </td><td>NA         </td><td>0.30417    </td><td> 27.386000 </td><td> 136113090 </td><td>32.13189   </td><td>0.0111     </td></tr>\n",
       "</tbody>\n",
       "</table>\n"
      ],
      "text/latex": [
       "\\begin{tabular}{r|lllllllllllllllllllllll}\n",
       " Countries & Year & GDP\\_Growth & Market\\_Size & Life\\_Exp & Mean\\_Years\\_of\\_Schooling & Internet\\_Penetration & Gov\\_Indicator & Trade\\_Openness & Labour\\_Force & ... & BoT & Child\\_Mortality & HDI & Pol\\_Stability & CPI & Urban\\_pop & Renew\\_Energy & CO2\\_emissions & ind\\_val\\_add & unemployment\\_rate\\\\\n",
       "\\hline\n",
       "\t Australia   & 2011        &  2.462756   & 41965.360   & 81.89512    & 12.7        & 79.48770    &  2.044710   &  21.436420  & 65.63       & ...         &   0.97      &  4.5        & 0.932       &  0.9357101  & NA          & 0.85300     &  26.273000  &  404172757  & 26.43613    & 0.0508     \\\\\n",
       "\t Australia   & 2010        &  2.067417   & 39301.340   & 81.69512    & 12.6        & 76.00000    &  2.032045   &  19.810010  & 65.60       & ...         &  -1.03      &  4.8        & 0.930       &  0.8888599  & NA          & 0.85182     &  21.720000  &  405502799  & 25.15142    & 0.0521     \\\\\n",
       "\t Bangladesh  & 2011        &  6.464379   &  2620.834   & 70.25600    &  5.7        &  4.50000    & -1.087300   &  19.922070  & 56.85       & ...         &  -6.54      & 46.1        & 0.566       & -1.4047370  & NA          & 0.31225     &   0.979676  &   56556344  & 25.04530    & 0.0371     \\\\\n",
       "\t Bangladesh  & 2010        &  5.571788   &  2439.070   & 69.88100    &  5.3        &  3.70000    & -1.057410   &  16.024110  & 56.92       & ...         &  -5.84      & 48.7        & 0.557       & -1.4257890  & NA          & 0.30462     &   0.836591  &   53991553  & 24.95648    & 0.0338     \\\\\n",
       "\t China       & 2011        &  9.550832   & 10299.870   & 74.70800    &  7.4        & 38.30000    & -0.507090   &  26.568190  & 71.06       & ...         &   3.85      & 14.6        & 0.707       & -0.6020548  & NA          & 0.50511     & 766.200000  & 9388199234  & 46.52929    & 0.0450     \\\\\n",
       "\t China       & 2010        & 10.635870   &  9253.765   & 74.40900    &  7.3        & 34.30000    & -0.561790   &  27.185330  & 71.26       & ...         &   5.03      & 15.8        & 0.699       & -0.6570607  & NA          & 0.49226     & 752.445000  & 8500542695  & 46.49783    & 0.0450     \\\\\n",
       "\t India       & 2011        &  5.241315   &  4493.669   & 67.13000    &  5.3        & 10.07000    & -0.536260   &  24.540410  & 53.29       & ...         &  -5.42      & 55.1        & 0.588       & -1.3267950  & NA          & 0.31276     & 174.620800  & 1766065040  & 30.16168    & 0.0565     \\\\\n",
       "\t India       & 2010        &  8.497585   &  4236.744   & 66.69300    &  5.4        &  7.50000    & -0.468240   &  22.400930  & 54.21       & ...         &  -5.75      & 58.2        & 0.579       & -1.2779840  & NA          & 0.30930     & 145.823900  & 1678478677  & 30.72508    & 0.0565     \\\\\n",
       "\t Indonesia   & 2011        &  6.169784   &  9095.742   & 69.54200    &  7.6        & 12.28000    & -0.701850   &  26.327350  & 67.27       & ...         &  -0.54      & 32.6        & 0.673       & -0.7701142  & NA          & 0.50595     &  21.888000  &  508073307  & 43.91342    & 0.0515     \\\\\n",
       "\t Indonesia   & 2010        &  6.223854   &  8505.748   & 69.20500    &  7.4        & 10.92000    & -0.751560   &  24.299030  & 67.19       & ...         &  -0.35      & 33.9        & 0.665       & -0.8539162  & NA          & 0.49914     &  26.738000  &  428174280  & 42.77587    & 0.0561     \\\\\n",
       "\t Japan       & 2011        & -0.115420   & 35774.700   & 82.59122    & 11.8        & 79.05411    &  1.561326   &  14.925000  & 59.59       & ...         &  -2.58      &  3.2        & 0.892       &  0.9950920  & NA          & 0.91069     & 146.116000  & 1264155127  & 26.88171    & 0.0452     \\\\\n",
       "\t Japan       & 2010        &  4.191739   & 34986.990   & 82.84268    & 11.5        & 78.21000    &  1.560917   &  15.036760  & 60.08       & ...         &  -4.45      &  3.2        & 0.887       &  0.8793532  & NA          & 0.90812     & 142.587000  & 1214068556  & 28.44461    & 0.0510     \\\\\n",
       "\t Malaysia    & 2011        &  5.293913   & 21704.740   & 74.68300    & 10.1        & 61.00000    &  0.029523   &  85.255440  & 61.58       & ...         &  15.57      &  8.0        & 0.778       &  0.0774098  & NA          & 0.71609     &   8.631000  &  217427462  & 39.82427    & 0.0305     \\\\\n",
       "\t Malaysia    & 2010        &  7.424847   & 20508.760   & 74.49300    &  9.8        & 56.30000    &  0.089305   &  86.930300  & 60.37       & ...         &   8.17      &  8.1        & 0.772       &  0.1433521  & NA          & 0.70912     &   7.427000  &  216537318  & 40.49893    & 0.0325     \\\\\n",
       "\t Myanmar     & 2011        &  5.591482   &  3469.139   & 63.98300    &  4.3        &  0.98000    & -1.586770   &   0.099465  & 67.12       & ...         &   1.11      & 60.7        & 0.526       & -1.1110980  & NA          & 0.29075     &         NA  &   15067867  & 31.29165    & 0.0079     \\\\\n",
       "\t Myanmar     & 2010        &  9.634439   &  3243.000   & 63.52500    &  4.1        &  0.25000    & -1.673340   &  19.588650  & 67.42       & ...         &   1.90      & 63.4        & 0.515       & -1.2859280  & NA          & 0.28885     &         NA  &   13083825  & 26.46806    & 0.0079     \\\\\n",
       "\t New Zealand & 2011        &  2.256737   & 32701.380   & 80.90488    & 12.0        & 81.23000    &  2.297591   &  30.395020  & 67.52       & ...         &   1.55      &  6.0        & 0.909       &  1.3767310  & NA          & 0.86100     &  33.233000  &   34249571  & 20.99472    & 0.0649     \\\\\n",
       "\t New Zealand & 2010        &  1.527994   & 31239.190   & 80.70244    & 12.0        & 80.46000    &  2.338579   &  30.273630  & 67.21       & ...         &   2.30      &  6.1        & 0.906       &  1.2364890  & NA          & 0.86160     &  32.285000  &   34957784  & 21.17565    & 0.0656     \\\\\n",
       "\t Pakistan    & 2011        &  2.748406   &  3993.559   & 65.56200    &  4.8        &  8.00000    & -1.076280   &  13.966670  & 51.53       & ...         &  -7.58      & 85.0        & 0.516       & -2.8100350  & NA          & 0.35202     &  29.678000  &  154658545  & 20.50179    & 0.0080     \\\\\n",
       "\t Pakistan    & 2010        &  1.606689   &  3890.291   & 65.26400    &  4.7        &  8.00000    & -1.087690   &  13.516270  & 51.55       & ...         &  -7.26      & 87.1        & 0.512       & -2.6759330  & NA          & 0.34997     &  32.769000  &  154144709  & 19.71948    & 0.0065     \\\\\n",
       "\t Philippines & 2011        &  3.858233   &  5865.344   & 69.98400    &  9.0        & 29.00000    & -0.667100   &  29.105430  & 62.90       & ...         &  -4.13      & 31.3        & 0.676       & -1.3921820  & NA          & 0.45522     &  19.750000  &   83743662  & 31.33868    & 0.0359     \\\\\n",
       "\t Philippines & 2010        &  7.334500   &  5626.281   & 69.82300    &  8.9        & 25.00000    & -0.760690   &  32.874830  & 62.19       & ...         &  -5.05      & 31.7        & 0.671       & -1.6507600  & NA          & 0.45332     &  17.744000  &   82951250  & 32.33956    & 0.0361     \\\\\n",
       "\t Singapore   & 2011        &  6.337871   & 80052.390   & 81.74390    & 11.1        & 71.00000    &  2.109778   & 203.327700  & 69.12       & ...         &  26.55      &  2.8        & 0.913       &  1.1914220  & NA          & 1.00000     &   1.213000  &   30271968  & 25.26045    & 0.0389     \\\\\n",
       "\t Singapore   & 2010        & 14.525640   & 75294.360   & 81.54146    & 11.0        & 71.00000    &  2.180155   & 197.999000  & 68.83       & ...         &  18.60      &  2.8        & 0.909       &  1.1694150  & NA          & 1.00000     &   1.179000  &   56619792  & 26.63664    & 0.0412     \\\\\n",
       "\t Sri Lanka   & 2011        &  8.404733   &  9007.734   & 75.61400    & 10.8        &       NA    & -0.393240   &  20.896840  & 54.25       & ...         & -11.01      & 11.2        & 0.760       & -0.7247714  & NA          & 0.18211     &   4.714000  &   14886602  & 27.99567    & 0.0412     \\\\\n",
       "\t Sri Lanka   & 2010        &  8.015967   &  8194.269   & 75.43900    & 10.8        &       NA    & -0.421460   &  19.552320  & 54.64       & ...         &  -8.21      & 11.6        & 0.754       & -0.9429469  & NA          & 0.18226     &   5.681000  &   13050301  & 26.64415    & 0.0478     \\\\\n",
       "\t Thailand    & 2011        &  0.840132   & 13519.130   & 74.59300    &  7.5        & 23.66993    & -0.323440   &  70.854910  & 73.24       & ...         &   0.00      & 13.0        & 0.733       & -1.1335340  & NA          & 0.44698     &  12.473000  &  253800670  & 37.98140    & 0.0066     \\\\\n",
       "\t Thailand    & 2010        &  7.513391   & 13195.370   & 74.18400    &  7.3        & 22.40000    & -0.333950   &  66.486170  & 71.71       & ...         &   1.90      & 13.6        & 0.724       & -1.4427880  & NA          & 0.43856     &   8.895000  &  256422255  & 39.92173    & 0.0062     \\\\\n",
       "\t Vietnam     & 2011        &  6.240303   &  4523.253   & 74.90400    &  7.6        & 35.07000    & -0.607290   &  79.390870  & 76.52       & ...         &   8.07      & 22.6        & 0.671       &  0.1890884  & NA          & 0.31080     &  40.664000  &  145047830  & 32.24441    & 0.0100     \\\\\n",
       "\t Vietnam     & 2010        &  6.423238   &  4213.296   & 74.83700    &  7.5        & 30.65000    & -0.623740   &  72.002360  & 76.29       & ...         &   5.72      & 22.9        & 0.661       &  0.1484079  & NA          & 0.30417     &  27.386000  &  136113090  & 32.13189    & 0.0111     \\\\\n",
       "\\end{tabular}\n"
      ],
      "text/markdown": [
       "\n",
       "| Countries | Year | GDP_Growth | Market_Size | Life_Exp | Mean_Years_of_Schooling | Internet_Penetration | Gov_Indicator | Trade_Openness | Labour_Force | ... | BoT | Child_Mortality | HDI | Pol_Stability | CPI | Urban_pop | Renew_Energy | CO2_emissions | ind_val_add | unemployment_rate |\n",
       "|---|---|---|---|---|---|---|---|---|---|---|---|---|---|---|---|---|---|---|---|---|\n",
       "| Australia   | 2011        |  2.462756   | 41965.360   | 81.89512    | 12.7        | 79.48770    |  2.044710   |  21.436420  | 65.63       | ...         |   0.97      |  4.5        | 0.932       |  0.9357101  | NA          | 0.85300     |  26.273000  |  404172757  | 26.43613    | 0.0508      |\n",
       "| Australia   | 2010        |  2.067417   | 39301.340   | 81.69512    | 12.6        | 76.00000    |  2.032045   |  19.810010  | 65.60       | ...         |  -1.03      |  4.8        | 0.930       |  0.8888599  | NA          | 0.85182     |  21.720000  |  405502799  | 25.15142    | 0.0521      |\n",
       "| Bangladesh  | 2011        |  6.464379   |  2620.834   | 70.25600    |  5.7        |  4.50000    | -1.087300   |  19.922070  | 56.85       | ...         |  -6.54      | 46.1        | 0.566       | -1.4047370  | NA          | 0.31225     |   0.979676  |   56556344  | 25.04530    | 0.0371      |\n",
       "| Bangladesh  | 2010        |  5.571788   |  2439.070   | 69.88100    |  5.3        |  3.70000    | -1.057410   |  16.024110  | 56.92       | ...         |  -5.84      | 48.7        | 0.557       | -1.4257890  | NA          | 0.30462     |   0.836591  |   53991553  | 24.95648    | 0.0338      |\n",
       "| China       | 2011        |  9.550832   | 10299.870   | 74.70800    |  7.4        | 38.30000    | -0.507090   |  26.568190  | 71.06       | ...         |   3.85      | 14.6        | 0.707       | -0.6020548  | NA          | 0.50511     | 766.200000  | 9388199234  | 46.52929    | 0.0450      |\n",
       "| China       | 2010        | 10.635870   |  9253.765   | 74.40900    |  7.3        | 34.30000    | -0.561790   |  27.185330  | 71.26       | ...         |   5.03      | 15.8        | 0.699       | -0.6570607  | NA          | 0.49226     | 752.445000  | 8500542695  | 46.49783    | 0.0450      |\n",
       "| India       | 2011        |  5.241315   |  4493.669   | 67.13000    |  5.3        | 10.07000    | -0.536260   |  24.540410  | 53.29       | ...         |  -5.42      | 55.1        | 0.588       | -1.3267950  | NA          | 0.31276     | 174.620800  | 1766065040  | 30.16168    | 0.0565      |\n",
       "| India       | 2010        |  8.497585   |  4236.744   | 66.69300    |  5.4        |  7.50000    | -0.468240   |  22.400930  | 54.21       | ...         |  -5.75      | 58.2        | 0.579       | -1.2779840  | NA          | 0.30930     | 145.823900  | 1678478677  | 30.72508    | 0.0565      |\n",
       "| Indonesia   | 2011        |  6.169784   |  9095.742   | 69.54200    |  7.6        | 12.28000    | -0.701850   |  26.327350  | 67.27       | ...         |  -0.54      | 32.6        | 0.673       | -0.7701142  | NA          | 0.50595     |  21.888000  |  508073307  | 43.91342    | 0.0515      |\n",
       "| Indonesia   | 2010        |  6.223854   |  8505.748   | 69.20500    |  7.4        | 10.92000    | -0.751560   |  24.299030  | 67.19       | ...         |  -0.35      | 33.9        | 0.665       | -0.8539162  | NA          | 0.49914     |  26.738000  |  428174280  | 42.77587    | 0.0561      |\n",
       "| Japan       | 2011        | -0.115420   | 35774.700   | 82.59122    | 11.8        | 79.05411    |  1.561326   |  14.925000  | 59.59       | ...         |  -2.58      |  3.2        | 0.892       |  0.9950920  | NA          | 0.91069     | 146.116000  | 1264155127  | 26.88171    | 0.0452      |\n",
       "| Japan       | 2010        |  4.191739   | 34986.990   | 82.84268    | 11.5        | 78.21000    |  1.560917   |  15.036760  | 60.08       | ...         |  -4.45      |  3.2        | 0.887       |  0.8793532  | NA          | 0.90812     | 142.587000  | 1214068556  | 28.44461    | 0.0510      |\n",
       "| Malaysia    | 2011        |  5.293913   | 21704.740   | 74.68300    | 10.1        | 61.00000    |  0.029523   |  85.255440  | 61.58       | ...         |  15.57      |  8.0        | 0.778       |  0.0774098  | NA          | 0.71609     |   8.631000  |  217427462  | 39.82427    | 0.0305      |\n",
       "| Malaysia    | 2010        |  7.424847   | 20508.760   | 74.49300    |  9.8        | 56.30000    |  0.089305   |  86.930300  | 60.37       | ...         |   8.17      |  8.1        | 0.772       |  0.1433521  | NA          | 0.70912     |   7.427000  |  216537318  | 40.49893    | 0.0325      |\n",
       "| Myanmar     | 2011        |  5.591482   |  3469.139   | 63.98300    |  4.3        |  0.98000    | -1.586770   |   0.099465  | 67.12       | ...         |   1.11      | 60.7        | 0.526       | -1.1110980  | NA          | 0.29075     |         NA  |   15067867  | 31.29165    | 0.0079      |\n",
       "| Myanmar     | 2010        |  9.634439   |  3243.000   | 63.52500    |  4.1        |  0.25000    | -1.673340   |  19.588650  | 67.42       | ...         |   1.90      | 63.4        | 0.515       | -1.2859280  | NA          | 0.28885     |         NA  |   13083825  | 26.46806    | 0.0079      |\n",
       "| New Zealand | 2011        |  2.256737   | 32701.380   | 80.90488    | 12.0        | 81.23000    |  2.297591   |  30.395020  | 67.52       | ...         |   1.55      |  6.0        | 0.909       |  1.3767310  | NA          | 0.86100     |  33.233000  |   34249571  | 20.99472    | 0.0649      |\n",
       "| New Zealand | 2010        |  1.527994   | 31239.190   | 80.70244    | 12.0        | 80.46000    |  2.338579   |  30.273630  | 67.21       | ...         |   2.30      |  6.1        | 0.906       |  1.2364890  | NA          | 0.86160     |  32.285000  |   34957784  | 21.17565    | 0.0656      |\n",
       "| Pakistan    | 2011        |  2.748406   |  3993.559   | 65.56200    |  4.8        |  8.00000    | -1.076280   |  13.966670  | 51.53       | ...         |  -7.58      | 85.0        | 0.516       | -2.8100350  | NA          | 0.35202     |  29.678000  |  154658545  | 20.50179    | 0.0080      |\n",
       "| Pakistan    | 2010        |  1.606689   |  3890.291   | 65.26400    |  4.7        |  8.00000    | -1.087690   |  13.516270  | 51.55       | ...         |  -7.26      | 87.1        | 0.512       | -2.6759330  | NA          | 0.34997     |  32.769000  |  154144709  | 19.71948    | 0.0065      |\n",
       "| Philippines | 2011        |  3.858233   |  5865.344   | 69.98400    |  9.0        | 29.00000    | -0.667100   |  29.105430  | 62.90       | ...         |  -4.13      | 31.3        | 0.676       | -1.3921820  | NA          | 0.45522     |  19.750000  |   83743662  | 31.33868    | 0.0359      |\n",
       "| Philippines | 2010        |  7.334500   |  5626.281   | 69.82300    |  8.9        | 25.00000    | -0.760690   |  32.874830  | 62.19       | ...         |  -5.05      | 31.7        | 0.671       | -1.6507600  | NA          | 0.45332     |  17.744000  |   82951250  | 32.33956    | 0.0361      |\n",
       "| Singapore   | 2011        |  6.337871   | 80052.390   | 81.74390    | 11.1        | 71.00000    |  2.109778   | 203.327700  | 69.12       | ...         |  26.55      |  2.8        | 0.913       |  1.1914220  | NA          | 1.00000     |   1.213000  |   30271968  | 25.26045    | 0.0389      |\n",
       "| Singapore   | 2010        | 14.525640   | 75294.360   | 81.54146    | 11.0        | 71.00000    |  2.180155   | 197.999000  | 68.83       | ...         |  18.60      |  2.8        | 0.909       |  1.1694150  | NA          | 1.00000     |   1.179000  |   56619792  | 26.63664    | 0.0412      |\n",
       "| Sri Lanka   | 2011        |  8.404733   |  9007.734   | 75.61400    | 10.8        |       NA    | -0.393240   |  20.896840  | 54.25       | ...         | -11.01      | 11.2        | 0.760       | -0.7247714  | NA          | 0.18211     |   4.714000  |   14886602  | 27.99567    | 0.0412      |\n",
       "| Sri Lanka   | 2010        |  8.015967   |  8194.269   | 75.43900    | 10.8        |       NA    | -0.421460   |  19.552320  | 54.64       | ...         |  -8.21      | 11.6        | 0.754       | -0.9429469  | NA          | 0.18226     |   5.681000  |   13050301  | 26.64415    | 0.0478      |\n",
       "| Thailand    | 2011        |  0.840132   | 13519.130   | 74.59300    |  7.5        | 23.66993    | -0.323440   |  70.854910  | 73.24       | ...         |   0.00      | 13.0        | 0.733       | -1.1335340  | NA          | 0.44698     |  12.473000  |  253800670  | 37.98140    | 0.0066      |\n",
       "| Thailand    | 2010        |  7.513391   | 13195.370   | 74.18400    |  7.3        | 22.40000    | -0.333950   |  66.486170  | 71.71       | ...         |   1.90      | 13.6        | 0.724       | -1.4427880  | NA          | 0.43856     |   8.895000  |  256422255  | 39.92173    | 0.0062      |\n",
       "| Vietnam     | 2011        |  6.240303   |  4523.253   | 74.90400    |  7.6        | 35.07000    | -0.607290   |  79.390870  | 76.52       | ...         |   8.07      | 22.6        | 0.671       |  0.1890884  | NA          | 0.31080     |  40.664000  |  145047830  | 32.24441    | 0.0100      |\n",
       "| Vietnam     | 2010        |  6.423238   |  4213.296   | 74.83700    |  7.5        | 30.65000    | -0.623740   |  72.002360  | 76.29       | ...         |   5.72      | 22.9        | 0.661       |  0.1484079  | NA          | 0.30417     |  27.386000  |  136113090  | 32.13189    | 0.0111      |\n",
       "\n"
      ],
      "text/plain": [
       "   Countries   Year GDP_Growth Market_Size Life_Exp Mean_Years_of_Schooling\n",
       "1  Australia   2011  2.462756  41965.360   81.89512 12.7                   \n",
       "2  Australia   2010  2.067417  39301.340   81.69512 12.6                   \n",
       "3  Bangladesh  2011  6.464379   2620.834   70.25600  5.7                   \n",
       "4  Bangladesh  2010  5.571788   2439.070   69.88100  5.3                   \n",
       "5  China       2011  9.550832  10299.870   74.70800  7.4                   \n",
       "6  China       2010 10.635870   9253.765   74.40900  7.3                   \n",
       "7  India       2011  5.241315   4493.669   67.13000  5.3                   \n",
       "8  India       2010  8.497585   4236.744   66.69300  5.4                   \n",
       "9  Indonesia   2011  6.169784   9095.742   69.54200  7.6                   \n",
       "10 Indonesia   2010  6.223854   8505.748   69.20500  7.4                   \n",
       "11 Japan       2011 -0.115420  35774.700   82.59122 11.8                   \n",
       "12 Japan       2010  4.191739  34986.990   82.84268 11.5                   \n",
       "13 Malaysia    2011  5.293913  21704.740   74.68300 10.1                   \n",
       "14 Malaysia    2010  7.424847  20508.760   74.49300  9.8                   \n",
       "15 Myanmar     2011  5.591482   3469.139   63.98300  4.3                   \n",
       "16 Myanmar     2010  9.634439   3243.000   63.52500  4.1                   \n",
       "17 New Zealand 2011  2.256737  32701.380   80.90488 12.0                   \n",
       "18 New Zealand 2010  1.527994  31239.190   80.70244 12.0                   \n",
       "19 Pakistan    2011  2.748406   3993.559   65.56200  4.8                   \n",
       "20 Pakistan    2010  1.606689   3890.291   65.26400  4.7                   \n",
       "21 Philippines 2011  3.858233   5865.344   69.98400  9.0                   \n",
       "22 Philippines 2010  7.334500   5626.281   69.82300  8.9                   \n",
       "23 Singapore   2011  6.337871  80052.390   81.74390 11.1                   \n",
       "24 Singapore   2010 14.525640  75294.360   81.54146 11.0                   \n",
       "25 Sri Lanka   2011  8.404733   9007.734   75.61400 10.8                   \n",
       "26 Sri Lanka   2010  8.015967   8194.269   75.43900 10.8                   \n",
       "27 Thailand    2011  0.840132  13519.130   74.59300  7.5                   \n",
       "28 Thailand    2010  7.513391  13195.370   74.18400  7.3                   \n",
       "29 Vietnam     2011  6.240303   4523.253   74.90400  7.6                   \n",
       "30 Vietnam     2010  6.423238   4213.296   74.83700  7.5                   \n",
       "   Internet_Penetration Gov_Indicator Trade_Openness Labour_Force ... BoT   \n",
       "1  79.48770              2.044710      21.436420     65.63        ...   0.97\n",
       "2  76.00000              2.032045      19.810010     65.60        ...  -1.03\n",
       "3   4.50000             -1.087300      19.922070     56.85        ...  -6.54\n",
       "4   3.70000             -1.057410      16.024110     56.92        ...  -5.84\n",
       "5  38.30000             -0.507090      26.568190     71.06        ...   3.85\n",
       "6  34.30000             -0.561790      27.185330     71.26        ...   5.03\n",
       "7  10.07000             -0.536260      24.540410     53.29        ...  -5.42\n",
       "8   7.50000             -0.468240      22.400930     54.21        ...  -5.75\n",
       "9  12.28000             -0.701850      26.327350     67.27        ...  -0.54\n",
       "10 10.92000             -0.751560      24.299030     67.19        ...  -0.35\n",
       "11 79.05411              1.561326      14.925000     59.59        ...  -2.58\n",
       "12 78.21000              1.560917      15.036760     60.08        ...  -4.45\n",
       "13 61.00000              0.029523      85.255440     61.58        ...  15.57\n",
       "14 56.30000              0.089305      86.930300     60.37        ...   8.17\n",
       "15  0.98000             -1.586770       0.099465     67.12        ...   1.11\n",
       "16  0.25000             -1.673340      19.588650     67.42        ...   1.90\n",
       "17 81.23000              2.297591      30.395020     67.52        ...   1.55\n",
       "18 80.46000              2.338579      30.273630     67.21        ...   2.30\n",
       "19  8.00000             -1.076280      13.966670     51.53        ...  -7.58\n",
       "20  8.00000             -1.087690      13.516270     51.55        ...  -7.26\n",
       "21 29.00000             -0.667100      29.105430     62.90        ...  -4.13\n",
       "22 25.00000             -0.760690      32.874830     62.19        ...  -5.05\n",
       "23 71.00000              2.109778     203.327700     69.12        ...  26.55\n",
       "24 71.00000              2.180155     197.999000     68.83        ...  18.60\n",
       "25       NA             -0.393240      20.896840     54.25        ... -11.01\n",
       "26       NA             -0.421460      19.552320     54.64        ...  -8.21\n",
       "27 23.66993             -0.323440      70.854910     73.24        ...   0.00\n",
       "28 22.40000             -0.333950      66.486170     71.71        ...   1.90\n",
       "29 35.07000             -0.607290      79.390870     76.52        ...   8.07\n",
       "30 30.65000             -0.623740      72.002360     76.29        ...   5.72\n",
       "   Child_Mortality HDI   Pol_Stability CPI Urban_pop Renew_Energy CO2_emissions\n",
       "1   4.5            0.932  0.9357101    NA  0.85300    26.273000    404172757   \n",
       "2   4.8            0.930  0.8888599    NA  0.85182    21.720000    405502799   \n",
       "3  46.1            0.566 -1.4047370    NA  0.31225     0.979676     56556344   \n",
       "4  48.7            0.557 -1.4257890    NA  0.30462     0.836591     53991553   \n",
       "5  14.6            0.707 -0.6020548    NA  0.50511   766.200000   9388199234   \n",
       "6  15.8            0.699 -0.6570607    NA  0.49226   752.445000   8500542695   \n",
       "7  55.1            0.588 -1.3267950    NA  0.31276   174.620800   1766065040   \n",
       "8  58.2            0.579 -1.2779840    NA  0.30930   145.823900   1678478677   \n",
       "9  32.6            0.673 -0.7701142    NA  0.50595    21.888000    508073307   \n",
       "10 33.9            0.665 -0.8539162    NA  0.49914    26.738000    428174280   \n",
       "11  3.2            0.892  0.9950920    NA  0.91069   146.116000   1264155127   \n",
       "12  3.2            0.887  0.8793532    NA  0.90812   142.587000   1214068556   \n",
       "13  8.0            0.778  0.0774098    NA  0.71609     8.631000    217427462   \n",
       "14  8.1            0.772  0.1433521    NA  0.70912     7.427000    216537318   \n",
       "15 60.7            0.526 -1.1110980    NA  0.29075           NA     15067867   \n",
       "16 63.4            0.515 -1.2859280    NA  0.28885           NA     13083825   \n",
       "17  6.0            0.909  1.3767310    NA  0.86100    33.233000     34249571   \n",
       "18  6.1            0.906  1.2364890    NA  0.86160    32.285000     34957784   \n",
       "19 85.0            0.516 -2.8100350    NA  0.35202    29.678000    154658545   \n",
       "20 87.1            0.512 -2.6759330    NA  0.34997    32.769000    154144709   \n",
       "21 31.3            0.676 -1.3921820    NA  0.45522    19.750000     83743662   \n",
       "22 31.7            0.671 -1.6507600    NA  0.45332    17.744000     82951250   \n",
       "23  2.8            0.913  1.1914220    NA  1.00000     1.213000     30271968   \n",
       "24  2.8            0.909  1.1694150    NA  1.00000     1.179000     56619792   \n",
       "25 11.2            0.760 -0.7247714    NA  0.18211     4.714000     14886602   \n",
       "26 11.6            0.754 -0.9429469    NA  0.18226     5.681000     13050301   \n",
       "27 13.0            0.733 -1.1335340    NA  0.44698    12.473000    253800670   \n",
       "28 13.6            0.724 -1.4427880    NA  0.43856     8.895000    256422255   \n",
       "29 22.6            0.671  0.1890884    NA  0.31080    40.664000    145047830   \n",
       "30 22.9            0.661  0.1484079    NA  0.30417    27.386000    136113090   \n",
       "   ind_val_add unemployment_rate\n",
       "1  26.43613    0.0508           \n",
       "2  25.15142    0.0521           \n",
       "3  25.04530    0.0371           \n",
       "4  24.95648    0.0338           \n",
       "5  46.52929    0.0450           \n",
       "6  46.49783    0.0450           \n",
       "7  30.16168    0.0565           \n",
       "8  30.72508    0.0565           \n",
       "9  43.91342    0.0515           \n",
       "10 42.77587    0.0561           \n",
       "11 26.88171    0.0452           \n",
       "12 28.44461    0.0510           \n",
       "13 39.82427    0.0305           \n",
       "14 40.49893    0.0325           \n",
       "15 31.29165    0.0079           \n",
       "16 26.46806    0.0079           \n",
       "17 20.99472    0.0649           \n",
       "18 21.17565    0.0656           \n",
       "19 20.50179    0.0080           \n",
       "20 19.71948    0.0065           \n",
       "21 31.33868    0.0359           \n",
       "22 32.33956    0.0361           \n",
       "23 25.26045    0.0389           \n",
       "24 26.63664    0.0412           \n",
       "25 27.99567    0.0412           \n",
       "26 26.64415    0.0478           \n",
       "27 37.98140    0.0066           \n",
       "28 39.92173    0.0062           \n",
       "29 32.24441    0.0100           \n",
       "30 32.13189    0.0111           "
      ]
     },
     "metadata": {},
     "output_type": "display_data"
    },
    {
     "data": {
      "text/html": [
       "<table>\n",
       "<thead><tr><th scope=col>Countries</th><th scope=col>Year</th><th scope=col>GDP_Growth</th><th scope=col>Market_Size</th><th scope=col>Life_Exp</th><th scope=col>Mean_Years_of_Schooling</th><th scope=col>Internet_Penetration</th><th scope=col>Gov_Indicator</th><th scope=col>Trade_Openness</th><th scope=col>Labour_Force</th><th scope=col>...</th><th scope=col>GNI</th><th scope=col>BoT</th><th scope=col>Child_Mortality</th><th scope=col>HDI</th><th scope=col>Pol_Stability</th><th scope=col>Urban_pop</th><th scope=col>Renew_Energy</th><th scope=col>CO2_emissions</th><th scope=col>ind_val_add</th><th scope=col>unemployment_rate</th></tr></thead>\n",
       "<tbody>\n",
       "\t<tr><td>Australia  </td><td>2019       </td><td>2.160956   </td><td>52203.130  </td><td>82.90000   </td><td>12.7       </td><td>NA         </td><td> 1.825413  </td><td>24.11097   </td><td>65.93      </td><td>...        </td><td>50540      </td><td>  2.51     </td><td> 3.6       </td><td>0.944      </td><td> 0.9117457 </td><td>0.86124    </td><td>54.39985   </td><td>411015667  </td><td>25.38245   </td><td>0.0516     </td></tr>\n",
       "\t<tr><td>Australia  </td><td>2018       </td><td>2.949286   </td><td>50252.840  </td><td>82.74878   </td><td>12.7       </td><td>NA         </td><td> 1.805214  </td><td>21.82190   </td><td>65.65      </td><td>...        </td><td>48660      </td><td>  0.38     </td><td> 3.7       </td><td>0.943      </td><td> 0.9896040 </td><td>0.86012    </td><td>44.44300   </td><td>415953947  </td><td>24.15897   </td><td>0.0530     </td></tr>\n",
       "\t<tr><td>Myanmar    </td><td>2019       </td><td>1.694424   </td><td> 5297.442  </td><td>67.13400   </td><td> 5.0       </td><td>NA         </td><td>-0.614940  </td><td>28.04156   </td><td>60.41      </td><td>...        </td><td> 5150      </td><td>  4.04     </td><td>44.7       </td><td>0.583      </td><td>-1.3280670 </td><td>0.30852    </td><td>      NA   </td><td> 26231575  </td><td>35.89711   </td><td>0.0050     </td></tr>\n",
       "\t<tr><td>Myanmar    </td><td>2018       </td><td>6.750460   </td><td> 5149.938  </td><td>66.86700   </td><td> 5.0       </td><td>NA         </td><td>-0.580750  </td><td>30.38975   </td><td>62.44      </td><td>...        </td><td> 5000      </td><td>  0.09     </td><td>46.4       </td><td>0.579      </td><td>-1.2688530 </td><td>0.30579    </td><td>      NA   </td><td> 26095603  </td><td>37.96077   </td><td>0.0087     </td></tr>\n",
       "\t<tr><td>Myanmar    </td><td>2016       </td><td>5.750065   </td><td> 4492.021  </td><td>66.20500   </td><td> 4.9       </td><td>NA         </td><td>-0.621010  </td><td>25.94273   </td><td>63.85      </td><td>...        </td><td> 4370      </td><td> -9.14     </td><td>49.9       </td><td>0.563      </td><td>-0.8046199 </td><td>0.30082    </td><td>      NA   </td><td> 25468783  </td><td>35.46916   </td><td>0.0114     </td></tr>\n",
       "\t<tr><td>Myanmar    </td><td>2015       </td><td>6.992840   </td><td> 4416.547  </td><td>65.81000   </td><td> 4.9       </td><td>NA         </td><td>-0.836280  </td><td>22.97517   </td><td>65.55      </td><td>...        </td><td> 4280      </td><td> -7.96     </td><td>51.8       </td><td>0.557      </td><td>-1.1650670 </td><td>0.29858    </td><td>      NA   </td><td> 22076366  </td><td>33.91247   </td><td>0.0077     </td></tr>\n",
       "\t<tr><td>New Zealand</td><td>2019       </td><td>1.633933   </td><td>45073.200  </td><td>81.70732   </td><td>12.8       </td><td>NA         </td><td> 2.170174  </td><td>26.98690   </td><td>69.60      </td><td>...        </td><td>43950      </td><td> -0.12     </td><td> 4.7       </td><td>0.931      </td><td> 1.4113020 </td><td>0.86615    </td><td>35.76924   </td><td> 36540963  </td><td>      NA   </td><td>0.0407     </td></tr>\n",
       "\t<tr><td>New Zealand</td><td>2018       </td><td>3.205748   </td><td>43930.880  </td><td>81.85854   </td><td>12.7       </td><td>NA         </td><td> 2.174655  </td><td>27.59250   </td><td>70.01      </td><td>...        </td><td>42360      </td><td> -0.31     </td><td> 4.9       </td><td>0.928      </td><td> 1.5339050 </td><td>0.86538    </td><td>36.31900   </td><td> 35080341  </td><td>20.41986   </td><td>0.0430     </td></tr>\n",
       "\t<tr><td>Philippines</td><td>2018       </td><td>6.341486   </td><td> 8720.607  </td><td>71.09500   </td><td> 9.4       </td><td>NA         </td><td>-0.542230  </td><td>30.21361   </td><td>59.58      </td><td>...        </td><td> 9650      </td><td>-11.74     </td><td>28.0       </td><td>0.711      </td><td>-1.0920620 </td><td>0.46907    </td><td>22.66000   </td><td>138924391  </td><td>30.56374   </td><td>0.0234     </td></tr>\n",
       "\t<tr><td>Philippines</td><td>2017       </td><td>6.930988   </td><td> 8120.869  </td><td>70.95200   </td><td> 9.4       </td><td>NA         </td><td>-0.476550  </td><td>29.55229   </td><td>59.67      </td><td>...        </td><td> 9020      </td><td> -9.06     </td><td>28.7       </td><td>0.708      </td><td>-1.1850800 </td><td>0.46682    </td><td>23.09200   </td><td>134518537  </td><td>30.12655   </td><td>0.0255     </td></tr>\n",
       "\t<tr><td>Philippines</td><td>2016       </td><td>7.149457   </td><td> 7703.762  </td><td>70.80200   </td><td> 9.3       </td><td>NA         </td><td>-0.488120  </td><td>26.67300   </td><td>62.23      </td><td>...        </td><td> 8560      </td><td> -8.43     </td><td>29.3       </td><td>0.704      </td><td>-1.3798190 </td><td>0.46475    </td><td>21.89800   </td><td>122236809  </td><td>30.28592   </td><td>0.0269     </td></tr>\n",
       "\t<tr><td>Philippines</td><td>2015       </td><td>6.348310   </td><td> 7186.769  </td><td>70.64400   </td><td> 9.3       </td><td>NA         </td><td>-0.453470  </td><td>27.20806   </td><td>62.21      </td><td>...        </td><td> 8010      </td><td> -4.73     </td><td>29.8       </td><td>0.701      </td><td>-0.8556625 </td><td>0.46284    </td><td>20.87400   </td><td>112142487  </td><td>30.48195   </td><td>0.0307     </td></tr>\n",
       "\t<tr><td>Philippines</td><td>2014       </td><td>6.347987   </td><td> 6960.901  </td><td>70.48100   </td><td> 9.2       </td><td>NA         </td><td>-0.437020  </td><td>27.35450   </td><td>62.81      </td><td>...        </td><td> 7760      </td><td> -2.76     </td><td>30.2       </td><td>0.696      </td><td>-0.7138209 </td><td>0.46093    </td><td>19.71900   </td><td>101182148  </td><td>31.04744   </td><td>0.0360     </td></tr>\n",
       "\t<tr><td>Sri Lanka  </td><td>2013       </td><td>3.395733   </td><td>10852.060  </td><td>75.97400   </td><td>10.9       </td><td>NA         </td><td>-0.214750  </td><td>20.32040   </td><td>54.85      </td><td>...        </td><td>10600      </td><td> -8.62     </td><td>10.0       </td><td>0.769      </td><td>-0.6128954 </td><td>0.18198    </td><td> 7.13000   </td><td> 14678050  </td><td>29.16276   </td><td>0.0424     </td></tr>\n",
       "\t<tr><td>Sri Lanka  </td><td>2012       </td><td>9.144572   </td><td>10315.180  </td><td>75.79600   </td><td>10.9       </td><td>NA         </td><td>-0.236880  </td><td>19.81648   </td><td>53.44      </td><td>...        </td><td>10130      </td><td>-11.86     </td><td>10.6       </td><td>0.766      </td><td>-0.7170792 </td><td>0.18196    </td><td> 3.44400   </td><td> 15797950  </td><td>30.12628   </td><td>0.0388     </td></tr>\n",
       "\t<tr><td>Sri Lanka  </td><td>2011       </td><td>8.404733   </td><td> 9007.734  </td><td>75.61400   </td><td>10.8       </td><td>NA         </td><td>-0.393240  </td><td>20.89684   </td><td>54.25      </td><td>...        </td><td> 8920      </td><td>-11.01     </td><td>11.2       </td><td>0.760      </td><td>-0.7247714 </td><td>0.18211    </td><td> 4.71400   </td><td> 14886602  </td><td>27.99567   </td><td>0.0412     </td></tr>\n",
       "\t<tr><td>Sri Lanka  </td><td>2010       </td><td>8.015967   </td><td> 8194.269  </td><td>75.43900   </td><td>10.8       </td><td>NA         </td><td>-0.421460  </td><td>19.55232   </td><td>54.64      </td><td>...        </td><td> 8110      </td><td> -8.21     </td><td>11.6       </td><td>0.754      </td><td>-0.9429469 </td><td>0.18226    </td><td> 5.68100   </td><td> 13050301  </td><td>26.64415   </td><td>0.0478     </td></tr>\n",
       "</tbody>\n",
       "</table>\n"
      ],
      "text/latex": [
       "\\begin{tabular}{r|llllllllllllllllllllll}\n",
       " Countries & Year & GDP\\_Growth & Market\\_Size & Life\\_Exp & Mean\\_Years\\_of\\_Schooling & Internet\\_Penetration & Gov\\_Indicator & Trade\\_Openness & Labour\\_Force & ... & GNI & BoT & Child\\_Mortality & HDI & Pol\\_Stability & Urban\\_pop & Renew\\_Energy & CO2\\_emissions & ind\\_val\\_add & unemployment\\_rate\\\\\n",
       "\\hline\n",
       "\t Australia   & 2019        & 2.160956    & 52203.130   & 82.90000    & 12.7        & NA          &  1.825413   & 24.11097    & 65.93       & ...         & 50540       &   2.51      &  3.6        & 0.944       &  0.9117457  & 0.86124     & 54.39985    & 411015667   & 25.38245    & 0.0516     \\\\\n",
       "\t Australia   & 2018        & 2.949286    & 50252.840   & 82.74878    & 12.7        & NA          &  1.805214   & 21.82190    & 65.65       & ...         & 48660       &   0.38      &  3.7        & 0.943       &  0.9896040  & 0.86012     & 44.44300    & 415953947   & 24.15897    & 0.0530     \\\\\n",
       "\t Myanmar     & 2019        & 1.694424    &  5297.442   & 67.13400    &  5.0        & NA          & -0.614940   & 28.04156    & 60.41       & ...         &  5150       &   4.04      & 44.7        & 0.583       & -1.3280670  & 0.30852     &       NA    &  26231575   & 35.89711    & 0.0050     \\\\\n",
       "\t Myanmar     & 2018        & 6.750460    &  5149.938   & 66.86700    &  5.0        & NA          & -0.580750   & 30.38975    & 62.44       & ...         &  5000       &   0.09      & 46.4        & 0.579       & -1.2688530  & 0.30579     &       NA    &  26095603   & 37.96077    & 0.0087     \\\\\n",
       "\t Myanmar     & 2016        & 5.750065    &  4492.021   & 66.20500    &  4.9        & NA          & -0.621010   & 25.94273    & 63.85       & ...         &  4370       &  -9.14      & 49.9        & 0.563       & -0.8046199  & 0.30082     &       NA    &  25468783   & 35.46916    & 0.0114     \\\\\n",
       "\t Myanmar     & 2015        & 6.992840    &  4416.547   & 65.81000    &  4.9        & NA          & -0.836280   & 22.97517    & 65.55       & ...         &  4280       &  -7.96      & 51.8        & 0.557       & -1.1650670  & 0.29858     &       NA    &  22076366   & 33.91247    & 0.0077     \\\\\n",
       "\t New Zealand & 2019        & 1.633933    & 45073.200   & 81.70732    & 12.8        & NA          &  2.170174   & 26.98690    & 69.60       & ...         & 43950       &  -0.12      &  4.7        & 0.931       &  1.4113020  & 0.86615     & 35.76924    &  36540963   &       NA    & 0.0407     \\\\\n",
       "\t New Zealand & 2018        & 3.205748    & 43930.880   & 81.85854    & 12.7        & NA          &  2.174655   & 27.59250    & 70.01       & ...         & 42360       &  -0.31      &  4.9        & 0.928       &  1.5339050  & 0.86538     & 36.31900    &  35080341   & 20.41986    & 0.0430     \\\\\n",
       "\t Philippines & 2018        & 6.341486    &  8720.607   & 71.09500    &  9.4        & NA          & -0.542230   & 30.21361    & 59.58       & ...         &  9650       & -11.74      & 28.0        & 0.711       & -1.0920620  & 0.46907     & 22.66000    & 138924391   & 30.56374    & 0.0234     \\\\\n",
       "\t Philippines & 2017        & 6.930988    &  8120.869   & 70.95200    &  9.4        & NA          & -0.476550   & 29.55229    & 59.67       & ...         &  9020       &  -9.06      & 28.7        & 0.708       & -1.1850800  & 0.46682     & 23.09200    & 134518537   & 30.12655    & 0.0255     \\\\\n",
       "\t Philippines & 2016        & 7.149457    &  7703.762   & 70.80200    &  9.3        & NA          & -0.488120   & 26.67300    & 62.23       & ...         &  8560       &  -8.43      & 29.3        & 0.704       & -1.3798190  & 0.46475     & 21.89800    & 122236809   & 30.28592    & 0.0269     \\\\\n",
       "\t Philippines & 2015        & 6.348310    &  7186.769   & 70.64400    &  9.3        & NA          & -0.453470   & 27.20806    & 62.21       & ...         &  8010       &  -4.73      & 29.8        & 0.701       & -0.8556625  & 0.46284     & 20.87400    & 112142487   & 30.48195    & 0.0307     \\\\\n",
       "\t Philippines & 2014        & 6.347987    &  6960.901   & 70.48100    &  9.2        & NA          & -0.437020   & 27.35450    & 62.81       & ...         &  7760       &  -2.76      & 30.2        & 0.696       & -0.7138209  & 0.46093     & 19.71900    & 101182148   & 31.04744    & 0.0360     \\\\\n",
       "\t Sri Lanka   & 2013        & 3.395733    & 10852.060   & 75.97400    & 10.9        & NA          & -0.214750   & 20.32040    & 54.85       & ...         & 10600       &  -8.62      & 10.0        & 0.769       & -0.6128954  & 0.18198     &  7.13000    &  14678050   & 29.16276    & 0.0424     \\\\\n",
       "\t Sri Lanka   & 2012        & 9.144572    & 10315.180   & 75.79600    & 10.9        & NA          & -0.236880   & 19.81648    & 53.44       & ...         & 10130       & -11.86      & 10.6        & 0.766       & -0.7170792  & 0.18196     &  3.44400    &  15797950   & 30.12628    & 0.0388     \\\\\n",
       "\t Sri Lanka   & 2011        & 8.404733    &  9007.734   & 75.61400    & 10.8        & NA          & -0.393240   & 20.89684    & 54.25       & ...         &  8920       & -11.01      & 11.2        & 0.760       & -0.7247714  & 0.18211     &  4.71400    &  14886602   & 27.99567    & 0.0412     \\\\\n",
       "\t Sri Lanka   & 2010        & 8.015967    &  8194.269   & 75.43900    & 10.8        & NA          & -0.421460   & 19.55232    & 54.64       & ...         &  8110       &  -8.21      & 11.6        & 0.754       & -0.9429469  & 0.18226     &  5.68100    &  13050301   & 26.64415    & 0.0478     \\\\\n",
       "\\end{tabular}\n"
      ],
      "text/markdown": [
       "\n",
       "| Countries | Year | GDP_Growth | Market_Size | Life_Exp | Mean_Years_of_Schooling | Internet_Penetration | Gov_Indicator | Trade_Openness | Labour_Force | ... | GNI | BoT | Child_Mortality | HDI | Pol_Stability | Urban_pop | Renew_Energy | CO2_emissions | ind_val_add | unemployment_rate |\n",
       "|---|---|---|---|---|---|---|---|---|---|---|---|---|---|---|---|---|---|---|---|---|\n",
       "| Australia   | 2019        | 2.160956    | 52203.130   | 82.90000    | 12.7        | NA          |  1.825413   | 24.11097    | 65.93       | ...         | 50540       |   2.51      |  3.6        | 0.944       |  0.9117457  | 0.86124     | 54.39985    | 411015667   | 25.38245    | 0.0516      |\n",
       "| Australia   | 2018        | 2.949286    | 50252.840   | 82.74878    | 12.7        | NA          |  1.805214   | 21.82190    | 65.65       | ...         | 48660       |   0.38      |  3.7        | 0.943       |  0.9896040  | 0.86012     | 44.44300    | 415953947   | 24.15897    | 0.0530      |\n",
       "| Myanmar     | 2019        | 1.694424    |  5297.442   | 67.13400    |  5.0        | NA          | -0.614940   | 28.04156    | 60.41       | ...         |  5150       |   4.04      | 44.7        | 0.583       | -1.3280670  | 0.30852     |       NA    |  26231575   | 35.89711    | 0.0050      |\n",
       "| Myanmar     | 2018        | 6.750460    |  5149.938   | 66.86700    |  5.0        | NA          | -0.580750   | 30.38975    | 62.44       | ...         |  5000       |   0.09      | 46.4        | 0.579       | -1.2688530  | 0.30579     |       NA    |  26095603   | 37.96077    | 0.0087      |\n",
       "| Myanmar     | 2016        | 5.750065    |  4492.021   | 66.20500    |  4.9        | NA          | -0.621010   | 25.94273    | 63.85       | ...         |  4370       |  -9.14      | 49.9        | 0.563       | -0.8046199  | 0.30082     |       NA    |  25468783   | 35.46916    | 0.0114      |\n",
       "| Myanmar     | 2015        | 6.992840    |  4416.547   | 65.81000    |  4.9        | NA          | -0.836280   | 22.97517    | 65.55       | ...         |  4280       |  -7.96      | 51.8        | 0.557       | -1.1650670  | 0.29858     |       NA    |  22076366   | 33.91247    | 0.0077      |\n",
       "| New Zealand | 2019        | 1.633933    | 45073.200   | 81.70732    | 12.8        | NA          |  2.170174   | 26.98690    | 69.60       | ...         | 43950       |  -0.12      |  4.7        | 0.931       |  1.4113020  | 0.86615     | 35.76924    |  36540963   |       NA    | 0.0407      |\n",
       "| New Zealand | 2018        | 3.205748    | 43930.880   | 81.85854    | 12.7        | NA          |  2.174655   | 27.59250    | 70.01       | ...         | 42360       |  -0.31      |  4.9        | 0.928       |  1.5339050  | 0.86538     | 36.31900    |  35080341   | 20.41986    | 0.0430      |\n",
       "| Philippines | 2018        | 6.341486    |  8720.607   | 71.09500    |  9.4        | NA          | -0.542230   | 30.21361    | 59.58       | ...         |  9650       | -11.74      | 28.0        | 0.711       | -1.0920620  | 0.46907     | 22.66000    | 138924391   | 30.56374    | 0.0234      |\n",
       "| Philippines | 2017        | 6.930988    |  8120.869   | 70.95200    |  9.4        | NA          | -0.476550   | 29.55229    | 59.67       | ...         |  9020       |  -9.06      | 28.7        | 0.708       | -1.1850800  | 0.46682     | 23.09200    | 134518537   | 30.12655    | 0.0255      |\n",
       "| Philippines | 2016        | 7.149457    |  7703.762   | 70.80200    |  9.3        | NA          | -0.488120   | 26.67300    | 62.23       | ...         |  8560       |  -8.43      | 29.3        | 0.704       | -1.3798190  | 0.46475     | 21.89800    | 122236809   | 30.28592    | 0.0269      |\n",
       "| Philippines | 2015        | 6.348310    |  7186.769   | 70.64400    |  9.3        | NA          | -0.453470   | 27.20806    | 62.21       | ...         |  8010       |  -4.73      | 29.8        | 0.701       | -0.8556625  | 0.46284     | 20.87400    | 112142487   | 30.48195    | 0.0307      |\n",
       "| Philippines | 2014        | 6.347987    |  6960.901   | 70.48100    |  9.2        | NA          | -0.437020   | 27.35450    | 62.81       | ...         |  7760       |  -2.76      | 30.2        | 0.696       | -0.7138209  | 0.46093     | 19.71900    | 101182148   | 31.04744    | 0.0360      |\n",
       "| Sri Lanka   | 2013        | 3.395733    | 10852.060   | 75.97400    | 10.9        | NA          | -0.214750   | 20.32040    | 54.85       | ...         | 10600       |  -8.62      | 10.0        | 0.769       | -0.6128954  | 0.18198     |  7.13000    |  14678050   | 29.16276    | 0.0424      |\n",
       "| Sri Lanka   | 2012        | 9.144572    | 10315.180   | 75.79600    | 10.9        | NA          | -0.236880   | 19.81648    | 53.44       | ...         | 10130       | -11.86      | 10.6        | 0.766       | -0.7170792  | 0.18196     |  3.44400    |  15797950   | 30.12628    | 0.0388      |\n",
       "| Sri Lanka   | 2011        | 8.404733    |  9007.734   | 75.61400    | 10.8        | NA          | -0.393240   | 20.89684    | 54.25       | ...         |  8920       | -11.01      | 11.2        | 0.760       | -0.7247714  | 0.18211     |  4.71400    |  14886602   | 27.99567    | 0.0412      |\n",
       "| Sri Lanka   | 2010        | 8.015967    |  8194.269   | 75.43900    | 10.8        | NA          | -0.421460   | 19.55232    | 54.64       | ...         |  8110       |  -8.21      | 11.6        | 0.754       | -0.9429469  | 0.18226     |  5.68100    |  13050301   | 26.64415    | 0.0478      |\n",
       "\n"
      ],
      "text/plain": [
       "   Countries   Year GDP_Growth Market_Size Life_Exp Mean_Years_of_Schooling\n",
       "1  Australia   2019 2.160956   52203.130   82.90000 12.7                   \n",
       "2  Australia   2018 2.949286   50252.840   82.74878 12.7                   \n",
       "3  Myanmar     2019 1.694424    5297.442   67.13400  5.0                   \n",
       "4  Myanmar     2018 6.750460    5149.938   66.86700  5.0                   \n",
       "5  Myanmar     2016 5.750065    4492.021   66.20500  4.9                   \n",
       "6  Myanmar     2015 6.992840    4416.547   65.81000  4.9                   \n",
       "7  New Zealand 2019 1.633933   45073.200   81.70732 12.8                   \n",
       "8  New Zealand 2018 3.205748   43930.880   81.85854 12.7                   \n",
       "9  Philippines 2018 6.341486    8720.607   71.09500  9.4                   \n",
       "10 Philippines 2017 6.930988    8120.869   70.95200  9.4                   \n",
       "11 Philippines 2016 7.149457    7703.762   70.80200  9.3                   \n",
       "12 Philippines 2015 6.348310    7186.769   70.64400  9.3                   \n",
       "13 Philippines 2014 6.347987    6960.901   70.48100  9.2                   \n",
       "14 Sri Lanka   2013 3.395733   10852.060   75.97400 10.9                   \n",
       "15 Sri Lanka   2012 9.144572   10315.180   75.79600 10.9                   \n",
       "16 Sri Lanka   2011 8.404733    9007.734   75.61400 10.8                   \n",
       "17 Sri Lanka   2010 8.015967    8194.269   75.43900 10.8                   \n",
       "   Internet_Penetration Gov_Indicator Trade_Openness Labour_Force ... GNI  \n",
       "1  NA                    1.825413     24.11097       65.93        ... 50540\n",
       "2  NA                    1.805214     21.82190       65.65        ... 48660\n",
       "3  NA                   -0.614940     28.04156       60.41        ...  5150\n",
       "4  NA                   -0.580750     30.38975       62.44        ...  5000\n",
       "5  NA                   -0.621010     25.94273       63.85        ...  4370\n",
       "6  NA                   -0.836280     22.97517       65.55        ...  4280\n",
       "7  NA                    2.170174     26.98690       69.60        ... 43950\n",
       "8  NA                    2.174655     27.59250       70.01        ... 42360\n",
       "9  NA                   -0.542230     30.21361       59.58        ...  9650\n",
       "10 NA                   -0.476550     29.55229       59.67        ...  9020\n",
       "11 NA                   -0.488120     26.67300       62.23        ...  8560\n",
       "12 NA                   -0.453470     27.20806       62.21        ...  8010\n",
       "13 NA                   -0.437020     27.35450       62.81        ...  7760\n",
       "14 NA                   -0.214750     20.32040       54.85        ... 10600\n",
       "15 NA                   -0.236880     19.81648       53.44        ... 10130\n",
       "16 NA                   -0.393240     20.89684       54.25        ...  8920\n",
       "17 NA                   -0.421460     19.55232       54.64        ...  8110\n",
       "   BoT    Child_Mortality HDI   Pol_Stability Urban_pop Renew_Energy\n",
       "1    2.51  3.6            0.944  0.9117457    0.86124   54.39985    \n",
       "2    0.38  3.7            0.943  0.9896040    0.86012   44.44300    \n",
       "3    4.04 44.7            0.583 -1.3280670    0.30852         NA    \n",
       "4    0.09 46.4            0.579 -1.2688530    0.30579         NA    \n",
       "5   -9.14 49.9            0.563 -0.8046199    0.30082         NA    \n",
       "6   -7.96 51.8            0.557 -1.1650670    0.29858         NA    \n",
       "7   -0.12  4.7            0.931  1.4113020    0.86615   35.76924    \n",
       "8   -0.31  4.9            0.928  1.5339050    0.86538   36.31900    \n",
       "9  -11.74 28.0            0.711 -1.0920620    0.46907   22.66000    \n",
       "10  -9.06 28.7            0.708 -1.1850800    0.46682   23.09200    \n",
       "11  -8.43 29.3            0.704 -1.3798190    0.46475   21.89800    \n",
       "12  -4.73 29.8            0.701 -0.8556625    0.46284   20.87400    \n",
       "13  -2.76 30.2            0.696 -0.7138209    0.46093   19.71900    \n",
       "14  -8.62 10.0            0.769 -0.6128954    0.18198    7.13000    \n",
       "15 -11.86 10.6            0.766 -0.7170792    0.18196    3.44400    \n",
       "16 -11.01 11.2            0.760 -0.7247714    0.18211    4.71400    \n",
       "17  -8.21 11.6            0.754 -0.9429469    0.18226    5.68100    \n",
       "   CO2_emissions ind_val_add unemployment_rate\n",
       "1  411015667     25.38245    0.0516           \n",
       "2  415953947     24.15897    0.0530           \n",
       "3   26231575     35.89711    0.0050           \n",
       "4   26095603     37.96077    0.0087           \n",
       "5   25468783     35.46916    0.0114           \n",
       "6   22076366     33.91247    0.0077           \n",
       "7   36540963           NA    0.0407           \n",
       "8   35080341     20.41986    0.0430           \n",
       "9  138924391     30.56374    0.0234           \n",
       "10 134518537     30.12655    0.0255           \n",
       "11 122236809     30.28592    0.0269           \n",
       "12 112142487     30.48195    0.0307           \n",
       "13 101182148     31.04744    0.0360           \n",
       "14  14678050     29.16276    0.0424           \n",
       "15  15797950     30.12628    0.0388           \n",
       "16  14886602     27.99567    0.0412           \n",
       "17  13050301     26.64415    0.0478           "
      ]
     },
     "metadata": {},
     "output_type": "display_data"
    }
   ],
   "source": [
    "#data exploration for NA values---------------\n",
    "\n",
    "asia_dataset_cleaned10[rowSums(is.na(asia_dataset_cleaned10)) > 0,]\n",
    "asia_dataset_cleaned10[is.na(asia_dataset_cleaned10$CPI)]\n",
    "asia_dataset_cleaned10 <- subset(asia_dataset_cleaned10, select = -c(CPI))\n",
    "#drop CPI col as it has 30 NAs\n",
    "\n",
    "\n",
    "asia_dataset_cleaned10[is.na(asia_dataset_cleaned10$Internet_Penetration)]\n",
    "asia_dataset_cleaned10 <- asia_dataset_cleaned10[!is.na(asia_dataset_cleaned10$Internet_Penetration)]\n",
    "#drop rows with NA in Internet_Penetration as it has 17"
   ]
  },
  {
   "cell_type": "code",
   "execution_count": 119,
   "id": "603cab66",
   "metadata": {},
   "outputs": [
    {
     "data": {
      "text/plain": [
       "  Countries              Year        GDP_Growth       Market_Size    \n",
       " Length:133         Min.   :2010   Min.   :-0.1154   Min.   :  2439  \n",
       " Class :character   1st Qu.:2012   1st Qu.: 3.4352   1st Qu.:  5234  \n",
       " Mode  :character   Median :2014   Median : 5.0915   Median : 12224  \n",
       "                    Mean   :2014   Mean   : 4.9938   Mean   : 21704  \n",
       "                    3rd Qu.:2017   3rd Qu.: 6.5526   3rd Qu.: 32989  \n",
       "                    Max.   :2019   Max.   :14.5256   Max.   :102573  \n",
       "                                                                     \n",
       "    Life_Exp     Mean_Years_of_Schooling Internet_Penetration Gov_Indicator    \n",
       " Min.   :63.52   Min.   : 4.100          Min.   : 0.25        Min.   :-1.6733  \n",
       " 1st Qu.:70.18   1st Qu.: 6.500          1st Qu.:14.90        1st Qu.:-0.5843  \n",
       " Median :75.11   Median : 7.900          Median :41.00        Median :-0.3520  \n",
       " Mean   :74.85   Mean   : 8.662          Mean   :45.26        Mean   : 0.1575  \n",
       " 3rd Qu.:81.16   3rd Qu.:11.100          3rd Qu.:79.00        3rd Qu.: 1.5250  \n",
       " Max.   :84.36   Max.   :12.800          Max.   :93.18        Max.   : 2.3416  \n",
       "                                                                               \n",
       " Trade_Openness       Labour_Force   Domestic_credit_to_private_sector\n",
       " Min.   :  0.09946   Min.   :49.34   Min.   :  4.767                  \n",
       " 1st Qu.: 19.08899   1st Qu.:58.86   1st Qu.: 41.599                  \n",
       " Median : 23.51006   Median :65.23   Median :108.426                  \n",
       " Mean   : 45.43449   Mean   :63.84   Mean   : 90.129                  \n",
       " 3rd Qu.: 67.07088   3rd Qu.:69.12   3rd Qu.:134.319                  \n",
       " Max.   :203.32770   Max.   :77.95   Max.   :176.828                  \n",
       "                                     NA's   :4                        \n",
       "   inflation            GNI             BoT          Child_Mortality\n",
       " Min.   :-0.9004   Min.   : 2640   Min.   :-12.080   Min.   : 2.5   \n",
       " 1st Qu.: 1.6229   1st Qu.: 5170   1st Qu.: -4.130   1st Qu.: 5.9   \n",
       " Median : 3.1745   Median :11900   Median :  0.380   Median :12.5   \n",
       " Mean   : 3.8050   Mean   :21060   Mean   :  1.486   Mean   :23.3   \n",
       " 3rd Qu.: 5.2478   3rd Qu.:31620   3rd Qu.:  3.240   3rd Qu.:33.9   \n",
       " Max.   :18.6777   Max.   :90320   Max.   : 28.780   Max.   :87.1   \n",
       "                                                                    \n",
       "      HDI        Pol_Stability       Urban_pop       Renew_Energy      \n",
       " Min.   :0.512   Min.   :-2.8100   Min.   :0.1822   Min.   :   0.7958  \n",
       " 1st Qu.:0.640   1st Qu.:-1.0843   1st Qu.:0.3447   1st Qu.:  13.3380  \n",
       " Median :0.731   Median :-0.4168   Median :0.4991   Median :  31.2230  \n",
       " Mean   :0.740   Mean   :-0.2713   Mean   :0.5604   Mean   : 153.9568  \n",
       " 3rd Qu.:0.897   3rd Qu.: 0.8889   3rd Qu.:0.8540   3rd Qu.:  79.0595  \n",
       " Max.   :0.941   Max.   : 1.6157   Max.   :1.0000   Max.   :2043.2580  \n",
       "                                                    NA's   :6          \n",
       " CO2_emissions          ind_val_add    unemployment_rate\n",
       " Min.   :   11891872   Min.   :17.80   Min.   :0.00210  \n",
       " 1st Qu.:   62130448   1st Qu.:25.23   1st Qu.:0.02800  \n",
       " Median :  234418816   Median :29.05   Median :0.03980  \n",
       " Mean   : 1125204908   Mean   :30.59   Mean   :0.03598  \n",
       " 3rd Qu.:  531011978   3rd Qu.:37.01   3rd Qu.:0.04600  \n",
       " Max.   :10200000000   Max.   :46.53   Max.   :0.06930  \n",
       "                       NA's   :1                        "
      ]
     },
     "metadata": {},
     "output_type": "display_data"
    }
   ],
   "source": [
    "summary(asia_dataset_cleaned10)"
   ]
  },
  {
   "cell_type": "code",
   "execution_count": 120,
   "id": "cb974897",
   "metadata": {},
   "outputs": [],
   "source": [
    "# Train-Test split \n",
    "set.seed(2014)\n",
    "\n",
    "trainasia10 <- sample.split(Y = asia_dataset_cleaned10$GDP_Growth, SplitRatio = 0.7)\n",
    "\n",
    "trainsetasia10 <- subset(asia_dataset_cleaned10, trainasia10 == T)\n",
    "testsetasia10 <- subset(asia_dataset_cleaned10, trainasia10 == F)"
   ]
  },
  {
   "cell_type": "code",
   "execution_count": 121,
   "id": "df6d18fb",
   "metadata": {},
   "outputs": [
    {
     "data": {
      "image/png": "[encoded data removed]",
      "text/plain": [
       "plot without title"
      ]
     },
     "metadata": {},
     "output_type": "display_data"
    }
   ],
   "source": [
    "cartmaxasia10 <- rpart(GDP_Growth ~ .-Countries - Year, data = trainsetasia10, method = 'anova',\n",
    "                     control = rpart.control(minsplit = 2, cp = 0))\n",
    "plotcp(cartmaxasia10)"
   ]
  },
  {
   "cell_type": "code",
   "execution_count": 122,
   "id": "eca36896",
   "metadata": {},
   "outputs": [
    {
     "name": "stderr",
     "output_type": "stream",
     "text": [
      "Warning message:\n",
      "\"labs do not fit even at cex 0.15, there may be some overplotting\""
     ]
    },
    {
     "data": {
      "image/png": "[encoded data removed]",
      "text/plain": [
       "Plot with title \"Maximal Tree\""
      ]
     },
     "metadata": {},
     "output_type": "display_data"
    }
   ],
   "source": [
    "#Grow to max tree\n",
    "rpart.plot(cartmaxasia10, nn= T, main = \"Maximal Tree\")"
   ]
  },
  {
   "cell_type": "code",
   "execution_count": 123,
   "id": "a41714dd",
   "metadata": {},
   "outputs": [
    {
     "data": {
      "text/html": [
       "0.0345768677746588"
      ],
      "text/latex": [
       "0.0345768677746588"
      ],
      "text/markdown": [
       "0.0345768677746588"
      ],
      "text/plain": [
       "[1] 0.03457687"
      ]
     },
     "metadata": {},
     "output_type": "display_data"
    }
   ],
   "source": [
    "# Automatic method to find optimal CP \n",
    "CVerror.cap10 <- cartmaxasia10$cptable[which.min(cartmaxasia10$cptable[,\"xerror\"]), \"xerror\"] + cartmaxasia10$cptable[which.min(cartmaxasia10$cptable[,\"xerror\"]), \"xstd\"]\n",
    "\n",
    "# Find the optimal CP region whose CV error is just below CVerror.cap in maximal tree m1.\n",
    "i <- 1; j<- 4\n",
    "while (cartmaxasia10$cptable[i,j] > CVerror.cap10) {\n",
    "  i <- i + 1\n",
    "}\n",
    "\n",
    "# Get geometric mean of the two identified CP values in the optimal region if optimal tree has at least one split.\n",
    "cp.opt10 = ifelse(i > 1, sqrt(cartmaxasia10$cptable[i,1] * cartmaxasia10$cptable[i-1,1]), 1)\n",
    "cp.opt10"
   ]
  },
  {
   "cell_type": "code",
   "execution_count": 124,
   "id": "9fedc007",
   "metadata": {},
   "outputs": [
    {
     "data": {
      "image/png": "[encoded data removed]",
      "text/plain": [
       "Plot with title \"Optimal Tree\""
      ]
     },
     "metadata": {},
     "output_type": "display_data"
    }
   ],
   "source": [
    "# Prune to Optimal\n",
    "optcartasia10 <- prune(cartmaxasia10, cp = cp.opt10)\n",
    "rpart.plot(optcartasia10, nn= T, main = \"Optimal Tree\")"
   ]
  },
  {
   "cell_type": "code",
   "execution_count": 125,
   "id": "0762f503",
   "metadata": {},
   "outputs": [
    {
     "data": {
      "text/html": [
       "<dl class=dl-horizontal>\n",
       "\t<dt>Child_Mortality</dt>\n",
       "\t\t<dd>299.568149940737</dd>\n",
       "\t<dt>GNI</dt>\n",
       "\t\t<dd>240.025551789228</dd>\n",
       "\t<dt>Market_Size</dt>\n",
       "\t\t<dd>240.025551789228</dd>\n",
       "\t<dt>Mean_Years_of_Schooling</dt>\n",
       "\t\t<dd>236.639403955771</dd>\n",
       "\t<dt>Life_Exp</dt>\n",
       "\t\t<dd>233.733059107142</dd>\n",
       "\t<dt>Gov_Indicator</dt>\n",
       "\t\t<dd>201.400774422183</dd>\n",
       "\t<dt>ind_val_add</dt>\n",
       "\t\t<dd>62.2432161363495</dd>\n",
       "\t<dt>HDI</dt>\n",
       "\t\t<dd>53.9782730101292</dd>\n",
       "\t<dt>Pol_Stability</dt>\n",
       "\t\t<dd>52.1795153439322</dd>\n",
       "\t<dt>Trade_Openness</dt>\n",
       "\t\t<dd>42.080285694511</dd>\n",
       "\t<dt>Internet_Penetration</dt>\n",
       "\t\t<dd>31.6064902145847</dd>\n",
       "\t<dt>BoT</dt>\n",
       "\t\t<dd>28.0907471760328</dd>\n",
       "\t<dt>inflation</dt>\n",
       "\t\t<dd>28.0907471760328</dd>\n",
       "\t<dt>Renew_Energy</dt>\n",
       "\t\t<dd>21.5072605651635</dd>\n",
       "\t<dt>unemployment_rate</dt>\n",
       "\t\t<dd>20.8528599320029</dd>\n",
       "\t<dt>Urban_pop</dt>\n",
       "\t\t<dd>20.8528599320029</dd>\n",
       "\t<dt>Labour_Force</dt>\n",
       "\t\t<dd>17.9009459496739</dd>\n",
       "\t<dt>CO2_emissions</dt>\n",
       "\t\t<dd>10.7536302825818</dd>\n",
       "</dl>\n"
      ],
      "text/latex": [
       "\\begin{description*}\n",
       "\\item[Child\\textbackslash{}\\_Mortality] 299.568149940737\n",
       "\\item[GNI] 240.025551789228\n",
       "\\item[Market\\textbackslash{}\\_Size] 240.025551789228\n",
       "\\item[Mean\\textbackslash{}\\_Years\\textbackslash{}\\_of\\textbackslash{}\\_Schooling] 236.639403955771\n",
       "\\item[Life\\textbackslash{}\\_Exp] 233.733059107142\n",
       "\\item[Gov\\textbackslash{}\\_Indicator] 201.400774422183\n",
       "\\item[ind\\textbackslash{}\\_val\\textbackslash{}\\_add] 62.2432161363495\n",
       "\\item[HDI] 53.9782730101292\n",
       "\\item[Pol\\textbackslash{}\\_Stability] 52.1795153439322\n",
       "\\item[Trade\\textbackslash{}\\_Openness] 42.080285694511\n",
       "\\item[Internet\\textbackslash{}\\_Penetration] 31.6064902145847\n",
       "\\item[BoT] 28.0907471760328\n",
       "\\item[inflation] 28.0907471760328\n",
       "\\item[Renew\\textbackslash{}\\_Energy] 21.5072605651635\n",
       "\\item[unemployment\\textbackslash{}\\_rate] 20.8528599320029\n",
       "\\item[Urban\\textbackslash{}\\_pop] 20.8528599320029\n",
       "\\item[Labour\\textbackslash{}\\_Force] 17.9009459496739\n",
       "\\item[CO2\\textbackslash{}\\_emissions] 10.7536302825818\n",
       "\\end{description*}\n"
      ],
      "text/markdown": [
       "Child_Mortality\n",
       ":   299.568149940737GNI\n",
       ":   240.025551789228Market_Size\n",
       ":   240.025551789228Mean_Years_of_Schooling\n",
       ":   236.639403955771Life_Exp\n",
       ":   233.733059107142Gov_Indicator\n",
       ":   201.400774422183ind_val_add\n",
       ":   62.2432161363495HDI\n",
       ":   53.9782730101292Pol_Stability\n",
       ":   52.1795153439322Trade_Openness\n",
       ":   42.080285694511Internet_Penetration\n",
       ":   31.6064902145847BoT\n",
       ":   28.0907471760328inflation\n",
       ":   28.0907471760328Renew_Energy\n",
       ":   21.5072605651635unemployment_rate\n",
       ":   20.8528599320029Urban_pop\n",
       ":   20.8528599320029Labour_Force\n",
       ":   17.9009459496739CO2_emissions\n",
       ":   10.7536302825818\n",
       "\n"
      ],
      "text/plain": [
       "        Child_Mortality                     GNI             Market_Size \n",
       "              299.56815               240.02555               240.02555 \n",
       "Mean_Years_of_Schooling                Life_Exp           Gov_Indicator \n",
       "              236.63940               233.73306               201.40077 \n",
       "            ind_val_add                     HDI           Pol_Stability \n",
       "               62.24322                53.97827                52.17952 \n",
       "         Trade_Openness    Internet_Penetration                     BoT \n",
       "               42.08029                31.60649                28.09075 \n",
       "              inflation            Renew_Energy       unemployment_rate \n",
       "               28.09075                21.50726                20.85286 \n",
       "              Urban_pop            Labour_Force           CO2_emissions \n",
       "               20.85286                17.90095                10.75363 "
      ]
     },
     "metadata": {},
     "output_type": "display_data"
    },
    {
     "data": {
      "text/html": [
       "<dl class=dl-horizontal>\n",
       "\t<dt>Child_Mortality</dt>\n",
       "\t\t<dd>16</dd>\n",
       "\t<dt>GNI</dt>\n",
       "\t\t<dd>13</dd>\n",
       "\t<dt>Market_Size</dt>\n",
       "\t\t<dd>13</dd>\n",
       "\t<dt>Mean_Years_of_Schooling</dt>\n",
       "\t\t<dd>13</dd>\n",
       "\t<dt>Life_Exp</dt>\n",
       "\t\t<dd>13</dd>\n",
       "\t<dt>Gov_Indicator</dt>\n",
       "\t\t<dd>11</dd>\n",
       "\t<dt>ind_val_add</dt>\n",
       "\t\t<dd>3</dd>\n",
       "\t<dt>HDI</dt>\n",
       "\t\t<dd>3</dd>\n",
       "\t<dt>Pol_Stability</dt>\n",
       "\t\t<dd>3</dd>\n",
       "\t<dt>Trade_Openness</dt>\n",
       "\t\t<dd>2</dd>\n",
       "\t<dt>Internet_Penetration</dt>\n",
       "\t\t<dd>2</dd>\n",
       "\t<dt>BoT</dt>\n",
       "\t\t<dd>2</dd>\n",
       "\t<dt>inflation</dt>\n",
       "\t\t<dd>2</dd>\n",
       "\t<dt>Renew_Energy</dt>\n",
       "\t\t<dd>1</dd>\n",
       "\t<dt>unemployment_rate</dt>\n",
       "\t\t<dd>1</dd>\n",
       "\t<dt>Urban_pop</dt>\n",
       "\t\t<dd>1</dd>\n",
       "\t<dt>Labour_Force</dt>\n",
       "\t\t<dd>1</dd>\n",
       "\t<dt>CO2_emissions</dt>\n",
       "\t\t<dd>1</dd>\n",
       "</dl>\n"
      ],
      "text/latex": [
       "\\begin{description*}\n",
       "\\item[Child\\textbackslash{}\\_Mortality] 16\n",
       "\\item[GNI] 13\n",
       "\\item[Market\\textbackslash{}\\_Size] 13\n",
       "\\item[Mean\\textbackslash{}\\_Years\\textbackslash{}\\_of\\textbackslash{}\\_Schooling] 13\n",
       "\\item[Life\\textbackslash{}\\_Exp] 13\n",
       "\\item[Gov\\textbackslash{}\\_Indicator] 11\n",
       "\\item[ind\\textbackslash{}\\_val\\textbackslash{}\\_add] 3\n",
       "\\item[HDI] 3\n",
       "\\item[Pol\\textbackslash{}\\_Stability] 3\n",
       "\\item[Trade\\textbackslash{}\\_Openness] 2\n",
       "\\item[Internet\\textbackslash{}\\_Penetration] 2\n",
       "\\item[BoT] 2\n",
       "\\item[inflation] 2\n",
       "\\item[Renew\\textbackslash{}\\_Energy] 1\n",
       "\\item[unemployment\\textbackslash{}\\_rate] 1\n",
       "\\item[Urban\\textbackslash{}\\_pop] 1\n",
       "\\item[Labour\\textbackslash{}\\_Force] 1\n",
       "\\item[CO2\\textbackslash{}\\_emissions] 1\n",
       "\\end{description*}\n"
      ],
      "text/markdown": [
       "Child_Mortality\n",
       ":   16GNI\n",
       ":   13Market_Size\n",
       ":   13Mean_Years_of_Schooling\n",
       ":   13Life_Exp\n",
       ":   13Gov_Indicator\n",
       ":   11ind_val_add\n",
       ":   3HDI\n",
       ":   3Pol_Stability\n",
       ":   3Trade_Openness\n",
       ":   2Internet_Penetration\n",
       ":   2BoT\n",
       ":   2inflation\n",
       ":   2Renew_Energy\n",
       ":   1unemployment_rate\n",
       ":   1Urban_pop\n",
       ":   1Labour_Force\n",
       ":   1CO2_emissions\n",
       ":   1\n",
       "\n"
      ],
      "text/plain": [
       "        Child_Mortality                     GNI             Market_Size \n",
       "                     16                      13                      13 \n",
       "Mean_Years_of_Schooling                Life_Exp           Gov_Indicator \n",
       "                     13                      13                      11 \n",
       "            ind_val_add                     HDI           Pol_Stability \n",
       "                      3                       3                       3 \n",
       "         Trade_Openness    Internet_Penetration                     BoT \n",
       "                      2                       2                       2 \n",
       "              inflation            Renew_Energy       unemployment_rate \n",
       "                      2                       1                       1 \n",
       "              Urban_pop            Labour_Force           CO2_emissions \n",
       "                      1                       1                       1 "
      ]
     },
     "metadata": {},
     "output_type": "display_data"
    }
   ],
   "source": [
    "# Variable Importance\n",
    "optcartasia10$variable.importance\n",
    "scaled_variable_importance = round((100*optcartasia10$variable.importance/sum(optcartasia10$variable.importance)))\n",
    "scaled_variable_importance"
   ]
  },
  {
   "cell_type": "code",
   "execution_count": 126,
   "id": "4eae5fcf",
   "metadata": {},
   "outputs": [
    {
     "data": {
      "text/html": [
       "1.06874711601034"
      ],
      "text/latex": [
       "1.06874711601034"
      ],
      "text/markdown": [
       "1.06874711601034"
      ],
      "text/plain": [
       "[1] 1.068747"
      ]
     },
     "metadata": {},
     "output_type": "display_data"
    },
    {
     "data": {
      "text/html": [
       "2.58897665208635"
      ],
      "text/latex": [
       "2.58897665208635"
      ],
      "text/markdown": [
       "2.58897665208635"
      ],
      "text/plain": [
       "[1] 2.588977"
      ]
     },
     "metadata": {},
     "output_type": "display_data"
    }
   ],
   "source": [
    "# Checking Accuracy \n",
    "cart.predicttest10 <- predict(optcartasia10, newdata = testsetasia10)\n",
    "cart.predicttrain10 <- predict(optcartasia10, newdata=trainsetasia10)\n",
    "\n",
    "rmse(cart.predicttrain10, trainsetasia10$GDP_Growth) #1.068747\n",
    "rmse(cart.predicttest10, testsetasia10$GDP_Growth)#2.588977 \n"
   ]
  },
  {
   "cell_type": "markdown",
   "id": "c5935509",
   "metadata": {},
   "source": [
    "# CART with NAs replaced with mean"
   ]
  },
  {
   "cell_type": "code",
   "execution_count": 127,
   "id": "249cdfb0",
   "metadata": {},
   "outputs": [
    {
     "data": {
      "text/plain": [
       "  Countries              Year        GDP_Growth       Market_Size    \n",
       " Length:140         Min.   :2010   Min.   :-0.1154   Min.   :  2439  \n",
       " Class :character   1st Qu.:2012   1st Qu.: 3.2554   1st Qu.:  6163  \n",
       " Mode  :character   Median :2014   Median : 5.0514   Median : 12268  \n",
       "                    Mean   :2014   Mean   : 4.9345   Mean   : 22369  \n",
       "                    3rd Qu.:2017   3rd Qu.: 6.5379   3rd Qu.: 35892  \n",
       "                    Max.   :2019   Max.   :14.5256   Max.   :102573  \n",
       "    Life_Exp     Mean_Years_of_Schooling Internet_Penetration Gov_Indicator    \n",
       " Min.   :65.26   Min.   : 4.70           Min.   : 3.70        Min.   :-1.0877  \n",
       " 1st Qu.:70.79   1st Qu.: 7.50           1st Qu.:17.12        1st Qu.:-0.5301  \n",
       " Median :75.32   Median : 8.60           Median :41.65        Median :-0.3436  \n",
       " Mean   :75.37   Mean   : 9.04           Mean   :46.80        Mean   : 0.2288  \n",
       " 3rd Qu.:81.42   3rd Qu.:11.32           3rd Qu.:79.04        3rd Qu.: 1.5610  \n",
       " Max.   :84.36   Max.   :12.80           Max.   :93.18        Max.   : 2.3416  \n",
       " Trade_Openness     Labour_Force   Domestic_credit_to_private_sector\n",
       " Min.   :  8.257   Min.   :49.34   Min.   : 15.39                   \n",
       " 1st Qu.: 19.466   1st Qu.:56.84   1st Qu.: 42.77                   \n",
       " Median : 24.205   Median :64.82   Median :113.55                   \n",
       " Mean   : 44.754   Mean   :63.50   Mean   : 93.52                   \n",
       " 3rd Qu.: 66.698   3rd Qu.:69.14   3rd Qu.:139.70                   \n",
       " Max.   :203.328   Max.   :77.95   Max.   :176.83                   \n",
       "   inflation            GNI             BoT           Child_Mortality \n",
       " Min.   :-0.9004   Min.   : 2640   Min.   :-12.0800   Min.   : 2.500  \n",
       " 1st Qu.: 1.6077   1st Qu.: 6290   1st Qu.: -5.2775   1st Qu.: 5.575  \n",
       " Median : 3.0288   Median :11920   Median : -0.1850   Median :11.450  \n",
       " Mean   : 3.7458   Mean   :21746   Mean   :  0.9086   Mean   :21.179  \n",
       " 3rd Qu.: 5.2749   3rd Qu.:35815   3rd Qu.:  2.8975   3rd Qu.:30.850  \n",
       " Max.   :18.6777   Max.   :90320   Max.   : 28.7800   Max.   :87.100  \n",
       "      HDI         Pol_Stability          CPI          Urban_pop     \n",
       " Min.   :0.5120   Min.   :-2.8100   Min.   :25.00   Min.   :0.1820  \n",
       " 1st Qu.:0.6753   1st Qu.:-0.9900   1st Qu.:35.00   1st Qu.:0.3517  \n",
       " Median :0.7405   Median :-0.3949   Median :38.00   Median :0.4993  \n",
       " Mean   :0.7535   Mean   :-0.2343   Mean   :49.26   Mean   :0.5663  \n",
       " 3rd Qu.:0.9060   3rd Qu.: 0.9177   3rd Qu.:73.75   3rd Qu.:0.8563  \n",
       " Max.   :0.9440   Max.   : 1.6157   Max.   :91.00   Max.   :1.0000  \n",
       "  Renew_Energy       CO2_emissions          ind_val_add    unemployment_rate\n",
       " Min.   :   0.7958   Min.   :   13050301   Min.   :17.80   Min.   :0.00210  \n",
       " 1st Qu.:  12.8458   1st Qu.:   72834625   1st Qu.:25.15   1st Qu.:0.03065  \n",
       " Median :  30.4842   Median :  232424792   Median :28.76   Median :0.04055  \n",
       " Mean   : 141.8047   Mean   : 1079467443   Mean   :30.21   Mean   :0.03736  \n",
       " 3rd Qu.:  57.4513   3rd Qu.:  508073307   3rd Qu.:36.33   3rd Qu.:0.04600  \n",
       " Max.   :2043.2580   Max.   :10200000000   Max.   :46.53   Max.   :0.06930  "
      ]
     },
     "metadata": {},
     "output_type": "display_data"
    }
   ],
   "source": [
    "asia_dataset_cleaned_mean <- fread('final_asia_dataset_cleaned_mean.csv')\n",
    "\n",
    "summary(asia_dataset_cleaned_mean)"
   ]
  },
  {
   "cell_type": "code",
   "execution_count": 128,
   "id": "1bc49a2a",
   "metadata": {},
   "outputs": [],
   "source": [
    "# Train-Test split-----------------------------\n",
    "set.seed(2014)\n",
    "\n",
    "trainasiamean <- sample.split(Y = asia_dataset_cleaned_mean$GDP_Growth, SplitRatio = 0.70)\n",
    "\n",
    "trainsetasiamean <- subset(asia_dataset_cleaned_mean, trainasiamean == T)\n",
    "\n",
    "testsetasiamean <- subset(asia_dataset_cleaned_mean, trainasiamean == F)"
   ]
  },
  {
   "cell_type": "code",
   "execution_count": 129,
   "id": "cb8c9582",
   "metadata": {},
   "outputs": [
    {
     "data": {
      "image/png": "[encoded data removed]",
      "text/plain": [
       "plot without title"
      ]
     },
     "metadata": {},
     "output_type": "display_data"
    }
   ],
   "source": [
    "cartmaxasiamean <- rpart(GDP_Growth ~ .-Countries - Year, data = trainsetasiamean, method = 'anova',\n",
    "                     control = rpart.control(minsplit = 2, cp = 0))\n",
    "\n",
    "plotcp(cartmaxasiamean)"
   ]
  },
  {
   "cell_type": "code",
   "execution_count": 130,
   "id": "7a66f550",
   "metadata": {},
   "outputs": [
    {
     "name": "stderr",
     "output_type": "stream",
     "text": [
      "Warning message:\n",
      "\"labs do not fit even at cex 0.15, there may be some overplotting\""
     ]
    },
    {
     "data": {
      "image/png": "[encoded data removed]",
      "text/plain": [
       "Plot with title \"Maximal Tree\""
      ]
     },
     "metadata": {},
     "output_type": "display_data"
    }
   ],
   "source": [
    "#Grow to max tree\n",
    "rpart.plot(cartmaxasiamean, nn= T, main = \"Maximal Tree\")"
   ]
  },
  {
   "cell_type": "code",
   "execution_count": 131,
   "id": "d344a753",
   "metadata": {},
   "outputs": [
    {
     "data": {
      "text/html": [
       "0.109139438158812"
      ],
      "text/latex": [
       "0.109139438158812"
      ],
      "text/markdown": [
       "0.109139438158812"
      ],
      "text/plain": [
       "[1] 0.1091394"
      ]
     },
     "metadata": {},
     "output_type": "display_data"
    }
   ],
   "source": [
    "# Automatic method to find optimal CP \n",
    "CVerror.capmean <- cartmaxasiamean$cptable[which.min(cartmaxasiamean$cptable[,\"xerror\"]), \"xerror\"] + cartmaxasiamean$cptable[which.min(cartmaxasiamean$cptable[,\"xerror\"]), \"xstd\"]\n",
    "\n",
    "# Find the optimal CP region whose CV error is just below CVerror.cap in maximal tree m1.\n",
    "i <- 1; j<- 4\n",
    "while (cartmaxasiamean$cptable[i,j] > CVerror.capmean) {\n",
    "  i <- i + 1\n",
    "}\n",
    "\n",
    "# Get geometric mean of the two identified CP values in the optimal region if optimal tree has at least one split.\n",
    "cp.optmean = ifelse(i > 1, sqrt(cartmaxasiamean$cptable[i,1] * cartmaxasiamean$cptable[i-1,1]), 1)\n",
    "cp.optmean"
   ]
  },
  {
   "cell_type": "code",
   "execution_count": 132,
   "id": "ea73760d",
   "metadata": {},
   "outputs": [
    {
     "data": {
      "image/png": "[encoded data removed]",
      "text/plain": [
       "Plot with title \"Optimal Tree\""
      ]
     },
     "metadata": {},
     "output_type": "display_data"
    }
   ],
   "source": [
    "# Prune the tree to optimal\n",
    "optcartasiamean <- prune(cartmaxasiamean, cp = cp.optmean)\n",
    "rpart.plot(optcartasiamean, nn= T, main = \"Optimal Tree\")"
   ]
  },
  {
   "cell_type": "code",
   "execution_count": 133,
   "id": "1b814453",
   "metadata": {},
   "outputs": [
    {
     "data": {
      "text/html": [
       "<dl class=dl-horizontal>\n",
       "\t<dt>Mean_Years_of_Schooling</dt>\n",
       "\t\t<dd>224.39538868971</dd>\n",
       "\t<dt>HDI</dt>\n",
       "\t\t<dd>195.847035738051</dd>\n",
       "\t<dt>Life_Exp</dt>\n",
       "\t\t<dd>186.81333067943</dd>\n",
       "\t<dt>Pol_Stability</dt>\n",
       "\t\t<dd>180.674101172407</dd>\n",
       "\t<dt>Internet_Penetration</dt>\n",
       "\t\t<dd>171.640396113787</dd>\n",
       "\t<dt>Market_Size</dt>\n",
       "\t\t<dd>171.640396113787</dd>\n",
       "\t<dt>unemployment_rate</dt>\n",
       "\t\t<dd>68.2782055453968</dd>\n",
       "\t<dt>Child_Mortality</dt>\n",
       "\t\t<dd>15.1729345656437</dd>\n",
       "\t<dt>Gov_Indicator</dt>\n",
       "\t\t<dd>15.1729345656437</dd>\n",
       "</dl>\n"
      ],
      "text/latex": [
       "\\begin{description*}\n",
       "\\item[Mean\\textbackslash{}\\_Years\\textbackslash{}\\_of\\textbackslash{}\\_Schooling] 224.39538868971\n",
       "\\item[HDI] 195.847035738051\n",
       "\\item[Life\\textbackslash{}\\_Exp] 186.81333067943\n",
       "\\item[Pol\\textbackslash{}\\_Stability] 180.674101172407\n",
       "\\item[Internet\\textbackslash{}\\_Penetration] 171.640396113787\n",
       "\\item[Market\\textbackslash{}\\_Size] 171.640396113787\n",
       "\\item[unemployment\\textbackslash{}\\_rate] 68.2782055453968\n",
       "\\item[Child\\textbackslash{}\\_Mortality] 15.1729345656437\n",
       "\\item[Gov\\textbackslash{}\\_Indicator] 15.1729345656437\n",
       "\\end{description*}\n"
      ],
      "text/markdown": [
       "Mean_Years_of_Schooling\n",
       ":   224.39538868971HDI\n",
       ":   195.847035738051Life_Exp\n",
       ":   186.81333067943Pol_Stability\n",
       ":   180.674101172407Internet_Penetration\n",
       ":   171.640396113787Market_Size\n",
       ":   171.640396113787unemployment_rate\n",
       ":   68.2782055453968Child_Mortality\n",
       ":   15.1729345656437Gov_Indicator\n",
       ":   15.1729345656437\n",
       "\n"
      ],
      "text/plain": [
       "Mean_Years_of_Schooling                     HDI                Life_Exp \n",
       "              224.39539               195.84704               186.81333 \n",
       "          Pol_Stability    Internet_Penetration             Market_Size \n",
       "              180.67410               171.64040               171.64040 \n",
       "      unemployment_rate         Child_Mortality           Gov_Indicator \n",
       "               68.27821                15.17293                15.17293 "
      ]
     },
     "metadata": {},
     "output_type": "display_data"
    },
    {
     "data": {
      "text/html": [
       "<dl class=dl-horizontal>\n",
       "\t<dt>Mean_Years_of_Schooling</dt>\n",
       "\t\t<dd>18</dd>\n",
       "\t<dt>HDI</dt>\n",
       "\t\t<dd>16</dd>\n",
       "\t<dt>Life_Exp</dt>\n",
       "\t\t<dd>15</dd>\n",
       "\t<dt>Pol_Stability</dt>\n",
       "\t\t<dd>15</dd>\n",
       "\t<dt>Internet_Penetration</dt>\n",
       "\t\t<dd>14</dd>\n",
       "\t<dt>Market_Size</dt>\n",
       "\t\t<dd>14</dd>\n",
       "\t<dt>unemployment_rate</dt>\n",
       "\t\t<dd>6</dd>\n",
       "\t<dt>Child_Mortality</dt>\n",
       "\t\t<dd>1</dd>\n",
       "\t<dt>Gov_Indicator</dt>\n",
       "\t\t<dd>1</dd>\n",
       "</dl>\n"
      ],
      "text/latex": [
       "\\begin{description*}\n",
       "\\item[Mean\\textbackslash{}\\_Years\\textbackslash{}\\_of\\textbackslash{}\\_Schooling] 18\n",
       "\\item[HDI] 16\n",
       "\\item[Life\\textbackslash{}\\_Exp] 15\n",
       "\\item[Pol\\textbackslash{}\\_Stability] 15\n",
       "\\item[Internet\\textbackslash{}\\_Penetration] 14\n",
       "\\item[Market\\textbackslash{}\\_Size] 14\n",
       "\\item[unemployment\\textbackslash{}\\_rate] 6\n",
       "\\item[Child\\textbackslash{}\\_Mortality] 1\n",
       "\\item[Gov\\textbackslash{}\\_Indicator] 1\n",
       "\\end{description*}\n"
      ],
      "text/markdown": [
       "Mean_Years_of_Schooling\n",
       ":   18HDI\n",
       ":   16Life_Exp\n",
       ":   15Pol_Stability\n",
       ":   15Internet_Penetration\n",
       ":   14Market_Size\n",
       ":   14unemployment_rate\n",
       ":   6Child_Mortality\n",
       ":   1Gov_Indicator\n",
       ":   1\n",
       "\n"
      ],
      "text/plain": [
       "Mean_Years_of_Schooling                     HDI                Life_Exp \n",
       "                     18                      16                      15 \n",
       "          Pol_Stability    Internet_Penetration             Market_Size \n",
       "                     15                      14                      14 \n",
       "      unemployment_rate         Child_Mortality           Gov_Indicator \n",
       "                      6                       1                       1 "
      ]
     },
     "metadata": {},
     "output_type": "display_data"
    }
   ],
   "source": [
    "# Variable Importance\n",
    "optcartasiamean$variable.importance\n",
    "scaled_variable_importance = round((100*optcartasiamean$variable.importance/sum(optcartasiamean$variable.importance)))\n",
    "scaled_variable_importance"
   ]
  },
  {
   "cell_type": "code",
   "execution_count": 134,
   "id": "257e6699",
   "metadata": {},
   "outputs": [
    {
     "data": {
      "text/html": [
       "1.39954231767598"
      ],
      "text/latex": [
       "1.39954231767598"
      ],
      "text/markdown": [
       "1.39954231767598"
      ],
      "text/plain": [
       "[1] 1.399542"
      ]
     },
     "metadata": {},
     "output_type": "display_data"
    },
    {
     "data": {
      "text/html": [
       "2.15696617049856"
      ],
      "text/latex": [
       "2.15696617049856"
      ],
      "text/markdown": [
       "2.15696617049856"
      ],
      "text/plain": [
       "[1] 2.156966"
      ]
     },
     "metadata": {},
     "output_type": "display_data"
    }
   ],
   "source": [
    "# Checking Accuracy \n",
    "cart.predicttestmean <- predict(optcartasiamean, newdata = testsetasiamean)\n",
    "cart.predicttrainmean <- predict(optcartasiamean, newdata = trainsetasiamean)\n",
    "\n",
    "\n",
    "rmse(cart.predicttrainmean, trainsetasiamean$GDP_Growth) #1.399542\n",
    "rmse(cart.predicttestmean, testsetasiamean$GDP_Growth) #2.156966"
   ]
  },
  {
   "cell_type": "markdown",
   "id": "dcf0ae8b",
   "metadata": {},
   "source": [
    "# EIU Baseline Model"
   ]
  },
  {
   "cell_type": "code",
   "execution_count": 135,
   "id": "cef68157",
   "metadata": {},
   "outputs": [
    {
     "data": {
      "text/plain": [
       "  Countries              Year        GDP_Growth       Market_Size    \n",
       " Length:150         Min.   :2010   Min.   :-0.1154   Min.   :  2439  \n",
       " Class :character   1st Qu.:2012   1st Qu.: 3.3457   1st Qu.:  5313  \n",
       " Mode  :character   Median :2014   Median : 5.2443   Median : 11227  \n",
       "                    Mean   :2014   Mean   : 5.0493   Mean   : 21163  \n",
       "                    3rd Qu.:2017   3rd Qu.: 6.7503   3rd Qu.: 32917  \n",
       "                    Max.   :2019   Max.   :14.5256   Max.   :102573  \n",
       "                                                                     \n",
       "    Life_Exp     Mean_Years_of_Schooling Internet_Penetration Gov_Indicator    \n",
       " Min.   :63.52   Min.   : 4.100          Min.   : 0.25        Min.   :-1.6733  \n",
       " 1st Qu.:70.20   1st Qu.: 6.500          1st Qu.:14.90        1st Qu.:-0.5788  \n",
       " Median :75.09   Median : 8.100          Median :41.00        Median :-0.3735  \n",
       " Mean   :74.71   Mean   : 8.752          Mean   :45.26        Mean   : 0.1507  \n",
       " 3rd Qu.:81.09   3rd Qu.:11.100          3rd Qu.:79.00        3rd Qu.: 1.5105  \n",
       " Max.   :84.36   Max.   :12.800          Max.   :93.18        Max.   : 2.3416  \n",
       "                                         NA's   :17                            \n",
       " Trade_Openness       Labour_Force   Domestic_credit_to_private_sector\n",
       " Min.   :  0.09946   Min.   :49.34   Min.   :  4.767                  \n",
       " 1st Qu.: 19.54148   1st Qu.:58.90   1st Qu.: 38.751                  \n",
       " Median : 24.01728   Median :64.92   Median : 98.552                  \n",
       " Mean   : 43.14824   Mean   :63.59   Mean   : 86.606                  \n",
       " 3rd Qu.: 65.12959   3rd Qu.:68.80   3rd Qu.:134.023                  \n",
       " Max.   :203.32770   Max.   :77.95   Max.   :176.828                  \n",
       "                                     NA's   :4                        "
      ]
     },
     "metadata": {},
     "output_type": "display_data"
    }
   ],
   "source": [
    "asia_dataset_cleaned_EIU <- fread('final_asia_dataset_cleaned.csv')\n",
    "asia_dataset_cleaned_EIU <- asia_dataset_cleaned_EIU[, c(1:11)]\n",
    "\n",
    "summary(asia_dataset_cleaned_EIU)"
   ]
  },
  {
   "cell_type": "code",
   "execution_count": 136,
   "id": "bb444a18",
   "metadata": {},
   "outputs": [],
   "source": [
    "# Train-Test split-----------------------------\n",
    "set.seed(2014)\n",
    "\n",
    "trainasiaEIU <- sample.split(Y = asia_dataset_cleaned_EIU$GDP_Growth, SplitRatio = 0.70)\n",
    "\n",
    "trainsetasiaEIU <- subset(asia_dataset_cleaned_EIU, trainasiaEIU == T)\n",
    "\n",
    "testsetasiaEIU <- subset(asia_dataset_cleaned_EIU, trainasiaEIU == F)"
   ]
  },
  {
   "cell_type": "code",
   "execution_count": 137,
   "id": "802aa2cf",
   "metadata": {},
   "outputs": [
    {
     "data": {
      "image/png": "[encoded data removed]",
      "text/plain": [
       "plot without title"
      ]
     },
     "metadata": {},
     "output_type": "display_data"
    }
   ],
   "source": [
    "cartmaxasiaEIU <- rpart(GDP_Growth ~ .-Countries - Year, data = trainsetasiaEIU, method = 'anova',\n",
    "                     control = rpart.control(minsplit = 2, cp = 0))\n",
    "\n",
    "plotcp(cartmaxasiaEIU)"
   ]
  },
  {
   "cell_type": "code",
   "execution_count": 138,
   "id": "d6d7312f",
   "metadata": {},
   "outputs": [
    {
     "name": "stderr",
     "output_type": "stream",
     "text": [
      "Warning message:\n",
      "\"labs do not fit even at cex 0.15, there may be some overplotting\""
     ]
    },
    {
     "data": {
      "image/png": "[encoded data removed]",
      "text/plain": [
       "Plot with title \"Maximal Tree\""
      ]
     },
     "metadata": {},
     "output_type": "display_data"
    }
   ],
   "source": [
    "#Grow to max tree\n",
    "rpart.plot(cartmaxasiaEIU, nn= T, main = \"Maximal Tree\")"
   ]
  },
  {
   "cell_type": "code",
   "execution_count": 139,
   "id": "a215ef82",
   "metadata": {},
   "outputs": [
    {
     "data": {
      "text/html": [
       "0.0114316723255524"
      ],
      "text/latex": [
       "0.0114316723255524"
      ],
      "text/markdown": [
       "0.0114316723255524"
      ],
      "text/plain": [
       "[1] 0.01143167"
      ]
     },
     "metadata": {},
     "output_type": "display_data"
    }
   ],
   "source": [
    "# Automatic method to find optimal CP \n",
    "CVerror.capEIU <- cartmaxasiaEIU$cptable[which.min(cartmaxasiaEIU$cptable[,\"xerror\"]), \"xerror\"] + cartmaxasiaEIU$cptable[which.min(cartmaxasiaEIU$cptable[,\"xerror\"]), \"xstd\"]\n",
    "\n",
    "# Find the optimal CP region whose CV error is just below CVerror.cap in maximal tree m1.\n",
    "i <- 1; j<- 4\n",
    "while (cartmaxasiaEIU$cptable[i,j] > CVerror.capEIU) {\n",
    "  i <- i + 1\n",
    "}\n",
    "\n",
    "# Get geometric mean of the two identified CP values in the optimal region if optimal tree has at least one split.\n",
    "cp.optEIU = ifelse(i > 1, sqrt(cartmaxasiaEIU$cptable[i,1] * cartmaxasiaEIU$cptable[i-1,1]), 1)\n",
    "cp.optEIU"
   ]
  },
  {
   "cell_type": "code",
   "execution_count": 140,
   "id": "505d39a0",
   "metadata": {},
   "outputs": [
    {
     "data": {
      "image/png": "[encoded data removed]",
      "text/plain": [
       "Plot with title \"Optimal Tree\""
      ]
     },
     "metadata": {},
     "output_type": "display_data"
    }
   ],
   "source": [
    "# Prune the tree to optimal\n",
    "optcartasiaEIU <- prune(cartmaxasiaEIU, cp = cp.optEIU)\n",
    "rpart.plot(optcartasiaEIU, nn= T, main = \"Optimal Tree\")"
   ]
  },
  {
   "cell_type": "code",
   "execution_count": 141,
   "id": "ef510472",
   "metadata": {},
   "outputs": [
    {
     "data": {
      "text/html": [
       "<dl class=dl-horizontal>\n",
       "\t<dt>Gov_Indicator</dt>\n",
       "\t\t<dd>334.981551229514</dd>\n",
       "\t<dt>Mean_Years_of_Schooling</dt>\n",
       "\t\t<dd>293.977122515347</dd>\n",
       "\t<dt>Life_Exp</dt>\n",
       "\t\t<dd>268.636222211523</dd>\n",
       "\t<dt>Market_Size</dt>\n",
       "\t\t<dd>240.303485027762</dd>\n",
       "\t<dt>Domestic_credit_to_private_sector</dt>\n",
       "\t\t<dd>177.788527895077</dd>\n",
       "\t<dt>Trade_Openness</dt>\n",
       "\t\t<dd>123.980750165293</dd>\n",
       "\t<dt>Internet_Penetration</dt>\n",
       "\t\t<dd>116.380743303335</dd>\n",
       "\t<dt>Labour_Force</dt>\n",
       "\t\t<dd>86.7502735538438</dd>\n",
       "</dl>\n"
      ],
      "text/latex": [
       "\\begin{description*}\n",
       "\\item[Gov\\textbackslash{}\\_Indicator] 334.981551229514\n",
       "\\item[Mean\\textbackslash{}\\_Years\\textbackslash{}\\_of\\textbackslash{}\\_Schooling] 293.977122515347\n",
       "\\item[Life\\textbackslash{}\\_Exp] 268.636222211523\n",
       "\\item[Market\\textbackslash{}\\_Size] 240.303485027762\n",
       "\\item[Domestic\\textbackslash{}\\_credit\\textbackslash{}\\_to\\textbackslash{}\\_private\\textbackslash{}\\_sector] 177.788527895077\n",
       "\\item[Trade\\textbackslash{}\\_Openness] 123.980750165293\n",
       "\\item[Internet\\textbackslash{}\\_Penetration] 116.380743303335\n",
       "\\item[Labour\\textbackslash{}\\_Force] 86.7502735538438\n",
       "\\end{description*}\n"
      ],
      "text/markdown": [
       "Gov_Indicator\n",
       ":   334.981551229514Mean_Years_of_Schooling\n",
       ":   293.977122515347Life_Exp\n",
       ":   268.636222211523Market_Size\n",
       ":   240.303485027762Domestic_credit_to_private_sector\n",
       ":   177.788527895077Trade_Openness\n",
       ":   123.980750165293Internet_Penetration\n",
       ":   116.380743303335Labour_Force\n",
       ":   86.7502735538438\n",
       "\n"
      ],
      "text/plain": [
       "                    Gov_Indicator           Mean_Years_of_Schooling \n",
       "                        334.98155                         293.97712 \n",
       "                         Life_Exp                       Market_Size \n",
       "                        268.63622                         240.30349 \n",
       "Domestic_credit_to_private_sector                    Trade_Openness \n",
       "                        177.78853                         123.98075 \n",
       "             Internet_Penetration                      Labour_Force \n",
       "                        116.38074                          86.75027 "
      ]
     },
     "metadata": {},
     "output_type": "display_data"
    },
    {
     "data": {
      "text/html": [
       "<dl class=dl-horizontal>\n",
       "\t<dt>Gov_Indicator</dt>\n",
       "\t\t<dd>20</dd>\n",
       "\t<dt>Mean_Years_of_Schooling</dt>\n",
       "\t\t<dd>18</dd>\n",
       "\t<dt>Life_Exp</dt>\n",
       "\t\t<dd>16</dd>\n",
       "\t<dt>Market_Size</dt>\n",
       "\t\t<dd>15</dd>\n",
       "\t<dt>Domestic_credit_to_private_sector</dt>\n",
       "\t\t<dd>11</dd>\n",
       "\t<dt>Trade_Openness</dt>\n",
       "\t\t<dd>8</dd>\n",
       "\t<dt>Internet_Penetration</dt>\n",
       "\t\t<dd>7</dd>\n",
       "\t<dt>Labour_Force</dt>\n",
       "\t\t<dd>5</dd>\n",
       "</dl>\n"
      ],
      "text/latex": [
       "\\begin{description*}\n",
       "\\item[Gov\\textbackslash{}\\_Indicator] 20\n",
       "\\item[Mean\\textbackslash{}\\_Years\\textbackslash{}\\_of\\textbackslash{}\\_Schooling] 18\n",
       "\\item[Life\\textbackslash{}\\_Exp] 16\n",
       "\\item[Market\\textbackslash{}\\_Size] 15\n",
       "\\item[Domestic\\textbackslash{}\\_credit\\textbackslash{}\\_to\\textbackslash{}\\_private\\textbackslash{}\\_sector] 11\n",
       "\\item[Trade\\textbackslash{}\\_Openness] 8\n",
       "\\item[Internet\\textbackslash{}\\_Penetration] 7\n",
       "\\item[Labour\\textbackslash{}\\_Force] 5\n",
       "\\end{description*}\n"
      ],
      "text/markdown": [
       "Gov_Indicator\n",
       ":   20Mean_Years_of_Schooling\n",
       ":   18Life_Exp\n",
       ":   16Market_Size\n",
       ":   15Domestic_credit_to_private_sector\n",
       ":   11Trade_Openness\n",
       ":   8Internet_Penetration\n",
       ":   7Labour_Force\n",
       ":   5\n",
       "\n"
      ],
      "text/plain": [
       "                    Gov_Indicator           Mean_Years_of_Schooling \n",
       "                               20                                18 \n",
       "                         Life_Exp                       Market_Size \n",
       "                               16                                15 \n",
       "Domestic_credit_to_private_sector                    Trade_Openness \n",
       "                               11                                 8 \n",
       "             Internet_Penetration                      Labour_Force \n",
       "                                7                                 5 "
      ]
     },
     "metadata": {},
     "output_type": "display_data"
    }
   ],
   "source": [
    "# Variable Importance\n",
    "optcartasiaEIU$variable.importance\n",
    "scaled_variable_importance = round((100*optcartasiaEIU$variable.importance/sum(optcartasiaEIU$variable.importance)))\n",
    "scaled_variable_importance"
   ]
  },
  {
   "cell_type": "code",
   "execution_count": 142,
   "id": "3278e762",
   "metadata": {},
   "outputs": [
    {
     "data": {
      "text/html": [
       "0.806781166274518"
      ],
      "text/latex": [
       "0.806781166274518"
      ],
      "text/markdown": [
       "0.806781166274518"
      ],
      "text/plain": [
       "[1] 0.8067812"
      ]
     },
     "metadata": {},
     "output_type": "display_data"
    },
    {
     "data": {
      "text/html": [
       "2.23621357595645"
      ],
      "text/latex": [
       "2.23621357595645"
      ],
      "text/markdown": [
       "2.23621357595645"
      ],
      "text/plain": [
       "[1] 2.236214"
      ]
     },
     "metadata": {},
     "output_type": "display_data"
    }
   ],
   "source": [
    "# Checking Accuracy \n",
    "cart.predicttestEIU <- predict(optcartasiaEIU, newdata = testsetasiaEIU)\n",
    "cart.predicttrainEIU <- predict(optcartasiaEIU, newdata = trainsetasiaEIU)\n",
    "\n",
    "\n",
    "rmse(cart.predicttrainEIU, trainsetasiaEIU$GDP_Growth) #0.8067812\n",
    "rmse(cart.predicttestEIU, testsetasiaEIU$GDP_Growth) #2.236214"
   ]
  }
 ],
 "metadata": {
  "kernelspec": {
   "display_name": "R",
   "language": "R",
   "name": "ir"
  },
  "language_info": {
   "codemirror_mode": "r",
   "file_extension": ".r",
   "mimetype": "text/x-r-source",
   "name": "R",
   "pygments_lexer": "r",
   "version": "3.6.1"
  }
 },
 "nbformat": 4,
 "nbformat_minor": 5
}
